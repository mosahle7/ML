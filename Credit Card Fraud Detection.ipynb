{
 "cells": [
  {
   "cell_type": "markdown",
   "id": "3ee581e9",
   "metadata": {
    "papermill": {
     "duration": 0.00595,
     "end_time": "2025-02-26T07:17:15.015403",
     "exception": false,
     "start_time": "2025-02-26T07:17:15.009453",
     "status": "completed"
    },
    "tags": []
   },
   "source": [
    "**Dataset Initialization and Preparation**"
   ]
  },
  {
   "cell_type": "code",
   "execution_count": 1,
   "id": "658180ec",
   "metadata": {
    "_cell_guid": "b1076dfc-b9ad-4769-8c92-a6c4dae69d19",
    "_uuid": "8f2839f25d086af736a60e9eeb907d3b93b6e0e5",
    "execution": {
     "iopub.execute_input": "2025-02-26T07:17:15.027071Z",
     "iopub.status.busy": "2025-02-26T07:17:15.026512Z",
     "iopub.status.idle": "2025-02-26T07:17:16.099036Z",
     "shell.execute_reply": "2025-02-26T07:17:16.097184Z"
    },
    "papermill": {
     "duration": 1.080661,
     "end_time": "2025-02-26T07:17:16.101021",
     "exception": false,
     "start_time": "2025-02-26T07:17:15.020360",
     "status": "completed"
    },
    "tags": []
   },
   "outputs": [
    {
     "name": "stdout",
     "output_type": "stream",
     "text": [
      "/kaggle/input/creditcardfraud/creditcard.csv\n"
     ]
    }
   ],
   "source": [
    "# This Python 3 environment comes with many helpful analytics libraries installed\n",
    "# It is defined by the kaggle/python Docker image: https://github.com/kaggle/docker-python\n",
    "# For example, here's several helpful packages to load\n",
    "\n",
    "import numpy as np # linear algebra\n",
    "import pandas as pd # data processing, CSV file I/O (e.g. pd.read_csv)\n",
    "\n",
    "# Input data files are available in the read-only \"../input/\" directory\n",
    "# For example, running this (by clicking run or pressing Shift+Enter) will list all files under the input directory\n",
    "\n",
    "import os\n",
    "for dirname, _, filenames in os.walk('/kaggle/input'):\n",
    "    for filename in filenames:\n",
    "        print(os.path.join(dirname, filename))\n",
    "\n",
    "# You can write up to 20GB to the current directory (/kaggle/working/) that gets preserved as output when you create a version using \"Save & Run All\" \n",
    "# You can also write temporary files to /kaggle/temp/, but they won't be saved outside of the current session"
   ]
  },
  {
   "cell_type": "code",
   "execution_count": 2,
   "id": "c366fe70",
   "metadata": {
    "execution": {
     "iopub.execute_input": "2025-02-26T07:17:16.112887Z",
     "iopub.status.busy": "2025-02-26T07:17:16.112286Z",
     "iopub.status.idle": "2025-02-26T07:17:17.934833Z",
     "shell.execute_reply": "2025-02-26T07:17:17.933597Z"
    },
    "papermill": {
     "duration": 1.830926,
     "end_time": "2025-02-26T07:17:17.937164",
     "exception": false,
     "start_time": "2025-02-26T07:17:16.106238",
     "status": "completed"
    },
    "tags": []
   },
   "outputs": [],
   "source": [
    "import matplotlib.pyplot as plt\n",
    "from sklearn.model_selection import train_test_split"
   ]
  },
  {
   "cell_type": "code",
   "execution_count": 3,
   "id": "dcbc50fc",
   "metadata": {
    "execution": {
     "iopub.execute_input": "2025-02-26T07:17:17.948628Z",
     "iopub.status.busy": "2025-02-26T07:17:17.948094Z",
     "iopub.status.idle": "2025-02-26T07:17:17.952746Z",
     "shell.execute_reply": "2025-02-26T07:17:17.951819Z"
    },
    "papermill": {
     "duration": 0.012185,
     "end_time": "2025-02-26T07:17:17.954458",
     "exception": false,
     "start_time": "2025-02-26T07:17:17.942273",
     "status": "completed"
    },
    "tags": []
   },
   "outputs": [],
   "source": [
    "RANDOM_STATE = 55"
   ]
  },
  {
   "cell_type": "code",
   "execution_count": 4,
   "id": "55a38bee",
   "metadata": {
    "execution": {
     "iopub.execute_input": "2025-02-26T07:17:17.965465Z",
     "iopub.status.busy": "2025-02-26T07:17:17.965131Z",
     "iopub.status.idle": "2025-02-26T07:17:22.350110Z",
     "shell.execute_reply": "2025-02-26T07:17:22.348961Z"
    },
    "papermill": {
     "duration": 4.392733,
     "end_time": "2025-02-26T07:17:22.352166",
     "exception": false,
     "start_time": "2025-02-26T07:17:17.959433",
     "status": "completed"
    },
    "tags": []
   },
   "outputs": [],
   "source": [
    "df = pd.read_csv(\"/kaggle/input/creditcardfraud/creditcard.csv\")"
   ]
  },
  {
   "cell_type": "code",
   "execution_count": 5,
   "id": "573427e8",
   "metadata": {
    "execution": {
     "iopub.execute_input": "2025-02-26T07:17:22.363375Z",
     "iopub.status.busy": "2025-02-26T07:17:22.363027Z",
     "iopub.status.idle": "2025-02-26T07:17:22.404213Z",
     "shell.execute_reply": "2025-02-26T07:17:22.403093Z"
    },
    "papermill": {
     "duration": 0.048947,
     "end_time": "2025-02-26T07:17:22.406193",
     "exception": false,
     "start_time": "2025-02-26T07:17:22.357246",
     "status": "completed"
    },
    "tags": []
   },
   "outputs": [
    {
     "data": {
      "text/html": [
       "<div>\n",
       "<style scoped>\n",
       "    .dataframe tbody tr th:only-of-type {\n",
       "        vertical-align: middle;\n",
       "    }\n",
       "\n",
       "    .dataframe tbody tr th {\n",
       "        vertical-align: top;\n",
       "    }\n",
       "\n",
       "    .dataframe thead th {\n",
       "        text-align: right;\n",
       "    }\n",
       "</style>\n",
       "<table border=\"1\" class=\"dataframe\">\n",
       "  <thead>\n",
       "    <tr style=\"text-align: right;\">\n",
       "      <th></th>\n",
       "      <th>Time</th>\n",
       "      <th>V1</th>\n",
       "      <th>V2</th>\n",
       "      <th>V3</th>\n",
       "      <th>V4</th>\n",
       "      <th>V5</th>\n",
       "      <th>V6</th>\n",
       "      <th>V7</th>\n",
       "      <th>V8</th>\n",
       "      <th>V9</th>\n",
       "      <th>...</th>\n",
       "      <th>V21</th>\n",
       "      <th>V22</th>\n",
       "      <th>V23</th>\n",
       "      <th>V24</th>\n",
       "      <th>V25</th>\n",
       "      <th>V26</th>\n",
       "      <th>V27</th>\n",
       "      <th>V28</th>\n",
       "      <th>Amount</th>\n",
       "      <th>Class</th>\n",
       "    </tr>\n",
       "  </thead>\n",
       "  <tbody>\n",
       "    <tr>\n",
       "      <th>0</th>\n",
       "      <td>0.0</td>\n",
       "      <td>-1.359807</td>\n",
       "      <td>-0.072781</td>\n",
       "      <td>2.536347</td>\n",
       "      <td>1.378155</td>\n",
       "      <td>-0.338321</td>\n",
       "      <td>0.462388</td>\n",
       "      <td>0.239599</td>\n",
       "      <td>0.098698</td>\n",
       "      <td>0.363787</td>\n",
       "      <td>...</td>\n",
       "      <td>-0.018307</td>\n",
       "      <td>0.277838</td>\n",
       "      <td>-0.110474</td>\n",
       "      <td>0.066928</td>\n",
       "      <td>0.128539</td>\n",
       "      <td>-0.189115</td>\n",
       "      <td>0.133558</td>\n",
       "      <td>-0.021053</td>\n",
       "      <td>149.62</td>\n",
       "      <td>0</td>\n",
       "    </tr>\n",
       "    <tr>\n",
       "      <th>1</th>\n",
       "      <td>0.0</td>\n",
       "      <td>1.191857</td>\n",
       "      <td>0.266151</td>\n",
       "      <td>0.166480</td>\n",
       "      <td>0.448154</td>\n",
       "      <td>0.060018</td>\n",
       "      <td>-0.082361</td>\n",
       "      <td>-0.078803</td>\n",
       "      <td>0.085102</td>\n",
       "      <td>-0.255425</td>\n",
       "      <td>...</td>\n",
       "      <td>-0.225775</td>\n",
       "      <td>-0.638672</td>\n",
       "      <td>0.101288</td>\n",
       "      <td>-0.339846</td>\n",
       "      <td>0.167170</td>\n",
       "      <td>0.125895</td>\n",
       "      <td>-0.008983</td>\n",
       "      <td>0.014724</td>\n",
       "      <td>2.69</td>\n",
       "      <td>0</td>\n",
       "    </tr>\n",
       "    <tr>\n",
       "      <th>2</th>\n",
       "      <td>1.0</td>\n",
       "      <td>-1.358354</td>\n",
       "      <td>-1.340163</td>\n",
       "      <td>1.773209</td>\n",
       "      <td>0.379780</td>\n",
       "      <td>-0.503198</td>\n",
       "      <td>1.800499</td>\n",
       "      <td>0.791461</td>\n",
       "      <td>0.247676</td>\n",
       "      <td>-1.514654</td>\n",
       "      <td>...</td>\n",
       "      <td>0.247998</td>\n",
       "      <td>0.771679</td>\n",
       "      <td>0.909412</td>\n",
       "      <td>-0.689281</td>\n",
       "      <td>-0.327642</td>\n",
       "      <td>-0.139097</td>\n",
       "      <td>-0.055353</td>\n",
       "      <td>-0.059752</td>\n",
       "      <td>378.66</td>\n",
       "      <td>0</td>\n",
       "    </tr>\n",
       "    <tr>\n",
       "      <th>3</th>\n",
       "      <td>1.0</td>\n",
       "      <td>-0.966272</td>\n",
       "      <td>-0.185226</td>\n",
       "      <td>1.792993</td>\n",
       "      <td>-0.863291</td>\n",
       "      <td>-0.010309</td>\n",
       "      <td>1.247203</td>\n",
       "      <td>0.237609</td>\n",
       "      <td>0.377436</td>\n",
       "      <td>-1.387024</td>\n",
       "      <td>...</td>\n",
       "      <td>-0.108300</td>\n",
       "      <td>0.005274</td>\n",
       "      <td>-0.190321</td>\n",
       "      <td>-1.175575</td>\n",
       "      <td>0.647376</td>\n",
       "      <td>-0.221929</td>\n",
       "      <td>0.062723</td>\n",
       "      <td>0.061458</td>\n",
       "      <td>123.50</td>\n",
       "      <td>0</td>\n",
       "    </tr>\n",
       "    <tr>\n",
       "      <th>4</th>\n",
       "      <td>2.0</td>\n",
       "      <td>-1.158233</td>\n",
       "      <td>0.877737</td>\n",
       "      <td>1.548718</td>\n",
       "      <td>0.403034</td>\n",
       "      <td>-0.407193</td>\n",
       "      <td>0.095921</td>\n",
       "      <td>0.592941</td>\n",
       "      <td>-0.270533</td>\n",
       "      <td>0.817739</td>\n",
       "      <td>...</td>\n",
       "      <td>-0.009431</td>\n",
       "      <td>0.798278</td>\n",
       "      <td>-0.137458</td>\n",
       "      <td>0.141267</td>\n",
       "      <td>-0.206010</td>\n",
       "      <td>0.502292</td>\n",
       "      <td>0.219422</td>\n",
       "      <td>0.215153</td>\n",
       "      <td>69.99</td>\n",
       "      <td>0</td>\n",
       "    </tr>\n",
       "  </tbody>\n",
       "</table>\n",
       "<p>5 rows × 31 columns</p>\n",
       "</div>"
      ],
      "text/plain": [
       "   Time        V1        V2        V3        V4        V5        V6        V7  \\\n",
       "0   0.0 -1.359807 -0.072781  2.536347  1.378155 -0.338321  0.462388  0.239599   \n",
       "1   0.0  1.191857  0.266151  0.166480  0.448154  0.060018 -0.082361 -0.078803   \n",
       "2   1.0 -1.358354 -1.340163  1.773209  0.379780 -0.503198  1.800499  0.791461   \n",
       "3   1.0 -0.966272 -0.185226  1.792993 -0.863291 -0.010309  1.247203  0.237609   \n",
       "4   2.0 -1.158233  0.877737  1.548718  0.403034 -0.407193  0.095921  0.592941   \n",
       "\n",
       "         V8        V9  ...       V21       V22       V23       V24       V25  \\\n",
       "0  0.098698  0.363787  ... -0.018307  0.277838 -0.110474  0.066928  0.128539   \n",
       "1  0.085102 -0.255425  ... -0.225775 -0.638672  0.101288 -0.339846  0.167170   \n",
       "2  0.247676 -1.514654  ...  0.247998  0.771679  0.909412 -0.689281 -0.327642   \n",
       "3  0.377436 -1.387024  ... -0.108300  0.005274 -0.190321 -1.175575  0.647376   \n",
       "4 -0.270533  0.817739  ... -0.009431  0.798278 -0.137458  0.141267 -0.206010   \n",
       "\n",
       "        V26       V27       V28  Amount  Class  \n",
       "0 -0.189115  0.133558 -0.021053  149.62      0  \n",
       "1  0.125895 -0.008983  0.014724    2.69      0  \n",
       "2 -0.139097 -0.055353 -0.059752  378.66      0  \n",
       "3 -0.221929  0.062723  0.061458  123.50      0  \n",
       "4  0.502292  0.219422  0.215153   69.99      0  \n",
       "\n",
       "[5 rows x 31 columns]"
      ]
     },
     "execution_count": 5,
     "metadata": {},
     "output_type": "execute_result"
    }
   ],
   "source": [
    "df.head()"
   ]
  },
  {
   "cell_type": "code",
   "execution_count": 6,
   "id": "eab1de2e",
   "metadata": {
    "execution": {
     "iopub.execute_input": "2025-02-26T07:17:22.417811Z",
     "iopub.status.busy": "2025-02-26T07:17:22.417391Z",
     "iopub.status.idle": "2025-02-26T07:17:22.434710Z",
     "shell.execute_reply": "2025-02-26T07:17:22.433477Z"
    },
    "papermill": {
     "duration": 0.024977,
     "end_time": "2025-02-26T07:17:22.436394",
     "exception": false,
     "start_time": "2025-02-26T07:17:22.411417",
     "status": "completed"
    },
    "tags": []
   },
   "outputs": [
    {
     "data": {
      "text/plain": [
       "Class\n",
       "0    284315\n",
       "1       492\n",
       "Name: count, dtype: int64"
      ]
     },
     "execution_count": 6,
     "metadata": {},
     "output_type": "execute_result"
    }
   ],
   "source": [
    "df['Class'].value_counts()"
   ]
  },
  {
   "cell_type": "code",
   "execution_count": 7,
   "id": "d3f8b942",
   "metadata": {
    "execution": {
     "iopub.execute_input": "2025-02-26T07:17:22.449184Z",
     "iopub.status.busy": "2025-02-26T07:17:22.448756Z",
     "iopub.status.idle": "2025-02-26T07:17:22.454683Z",
     "shell.execute_reply": "2025-02-26T07:17:22.453639Z"
    },
    "papermill": {
     "duration": 0.014233,
     "end_time": "2025-02-26T07:17:22.456363",
     "exception": false,
     "start_time": "2025-02-26T07:17:22.442130",
     "status": "completed"
    },
    "tags": []
   },
   "outputs": [
    {
     "data": {
      "text/plain": [
       "(284807, 31)"
      ]
     },
     "execution_count": 7,
     "metadata": {},
     "output_type": "execute_result"
    }
   ],
   "source": [
    "df.shape"
   ]
  },
  {
   "cell_type": "code",
   "execution_count": 8,
   "id": "932bf28c",
   "metadata": {
    "execution": {
     "iopub.execute_input": "2025-02-26T07:17:22.468454Z",
     "iopub.status.busy": "2025-02-26T07:17:22.468075Z",
     "iopub.status.idle": "2025-02-26T07:17:22.536504Z",
     "shell.execute_reply": "2025-02-26T07:17:22.535264Z"
    },
    "papermill": {
     "duration": 0.076505,
     "end_time": "2025-02-26T07:17:22.538388",
     "exception": false,
     "start_time": "2025-02-26T07:17:22.461883",
     "status": "completed"
    },
    "tags": []
   },
   "outputs": [
    {
     "name": "stdout",
     "output_type": "stream",
     "text": [
      "<class 'pandas.core.frame.DataFrame'>\n",
      "RangeIndex: 284807 entries, 0 to 284806\n",
      "Data columns (total 31 columns):\n",
      " #   Column  Non-Null Count   Dtype  \n",
      "---  ------  --------------   -----  \n",
      " 0   Time    284807 non-null  float64\n",
      " 1   V1      284807 non-null  float64\n",
      " 2   V2      284807 non-null  float64\n",
      " 3   V3      284807 non-null  float64\n",
      " 4   V4      284807 non-null  float64\n",
      " 5   V5      284807 non-null  float64\n",
      " 6   V6      284807 non-null  float64\n",
      " 7   V7      284807 non-null  float64\n",
      " 8   V8      284807 non-null  float64\n",
      " 9   V9      284807 non-null  float64\n",
      " 10  V10     284807 non-null  float64\n",
      " 11  V11     284807 non-null  float64\n",
      " 12  V12     284807 non-null  float64\n",
      " 13  V13     284807 non-null  float64\n",
      " 14  V14     284807 non-null  float64\n",
      " 15  V15     284807 non-null  float64\n",
      " 16  V16     284807 non-null  float64\n",
      " 17  V17     284807 non-null  float64\n",
      " 18  V18     284807 non-null  float64\n",
      " 19  V19     284807 non-null  float64\n",
      " 20  V20     284807 non-null  float64\n",
      " 21  V21     284807 non-null  float64\n",
      " 22  V22     284807 non-null  float64\n",
      " 23  V23     284807 non-null  float64\n",
      " 24  V24     284807 non-null  float64\n",
      " 25  V25     284807 non-null  float64\n",
      " 26  V26     284807 non-null  float64\n",
      " 27  V27     284807 non-null  float64\n",
      " 28  V28     284807 non-null  float64\n",
      " 29  Amount  284807 non-null  float64\n",
      " 30  Class   284807 non-null  int64  \n",
      "dtypes: float64(30), int64(1)\n",
      "memory usage: 67.4 MB\n"
     ]
    }
   ],
   "source": [
    "df.info()"
   ]
  },
  {
   "cell_type": "code",
   "execution_count": 9,
   "id": "63a41e38",
   "metadata": {
    "execution": {
     "iopub.execute_input": "2025-02-26T07:17:22.551168Z",
     "iopub.status.busy": "2025-02-26T07:17:22.550789Z",
     "iopub.status.idle": "2025-02-26T07:17:22.557613Z",
     "shell.execute_reply": "2025-02-26T07:17:22.556505Z"
    },
    "papermill": {
     "duration": 0.015166,
     "end_time": "2025-02-26T07:17:22.559398",
     "exception": false,
     "start_time": "2025-02-26T07:17:22.544232",
     "status": "completed"
    },
    "tags": []
   },
   "outputs": [
    {
     "data": {
      "text/plain": [
       "Index(['Time', 'V1', 'V2', 'V3', 'V4', 'V5', 'V6', 'V7', 'V8', 'V9', 'V10',\n",
       "       'V11', 'V12', 'V13', 'V14', 'V15', 'V16', 'V17', 'V18', 'V19', 'V20',\n",
       "       'V21', 'V22', 'V23', 'V24', 'V25', 'V26', 'V27', 'V28', 'Amount'],\n",
       "      dtype='object')"
      ]
     },
     "execution_count": 9,
     "metadata": {},
     "output_type": "execute_result"
    }
   ],
   "source": [
    "features = df.columns.drop('Class')\n",
    "features"
   ]
  },
  {
   "cell_type": "code",
   "execution_count": 10,
   "id": "d2084112",
   "metadata": {
    "execution": {
     "iopub.execute_input": "2025-02-26T07:17:22.571642Z",
     "iopub.status.busy": "2025-02-26T07:17:22.571274Z",
     "iopub.status.idle": "2025-02-26T07:17:22.637709Z",
     "shell.execute_reply": "2025-02-26T07:17:22.636234Z"
    },
    "papermill": {
     "duration": 0.074413,
     "end_time": "2025-02-26T07:17:22.639373",
     "exception": false,
     "start_time": "2025-02-26T07:17:22.564960",
     "status": "completed"
    },
    "tags": []
   },
   "outputs": [
    {
     "name": "stdout",
     "output_type": "stream",
     "text": [
      "Genuine:\n",
      "    Time        V1        V2        V3        V4        V5        V6        V7  \\\n",
      "0   0.0 -1.359807 -0.072781  2.536347  1.378155 -0.338321  0.462388  0.239599   \n",
      "1   0.0  1.191857  0.266151  0.166480  0.448154  0.060018 -0.082361 -0.078803   \n",
      "2   1.0 -1.358354 -1.340163  1.773209  0.379780 -0.503198  1.800499  0.791461   \n",
      "3   1.0 -0.966272 -0.185226  1.792993 -0.863291 -0.010309  1.247203  0.237609   \n",
      "4   2.0 -1.158233  0.877737  1.548718  0.403034 -0.407193  0.095921  0.592941   \n",
      "\n",
      "         V8        V9  ...       V21       V22       V23       V24       V25  \\\n",
      "0  0.098698  0.363787  ... -0.018307  0.277838 -0.110474  0.066928  0.128539   \n",
      "1  0.085102 -0.255425  ... -0.225775 -0.638672  0.101288 -0.339846  0.167170   \n",
      "2  0.247676 -1.514654  ...  0.247998  0.771679  0.909412 -0.689281 -0.327642   \n",
      "3  0.377436 -1.387024  ... -0.108300  0.005274 -0.190321 -1.175575  0.647376   \n",
      "4 -0.270533  0.817739  ... -0.009431  0.798278 -0.137458  0.141267 -0.206010   \n",
      "\n",
      "        V26       V27       V28  Amount  Class  \n",
      "0 -0.189115  0.133558 -0.021053  149.62      0  \n",
      "1  0.125895 -0.008983  0.014724    2.69      0  \n",
      "2 -0.139097 -0.055353 -0.059752  378.66      0  \n",
      "3 -0.221929  0.062723  0.061458  123.50      0  \n",
      "4  0.502292  0.219422  0.215153   69.99      0  \n",
      "\n",
      "[5 rows x 31 columns]\n",
      "Fraud:\n",
      "         Time        V1        V2        V3        V4        V5        V6  \\\n",
      "541    406.0 -2.312227  1.951992 -1.609851  3.997906 -0.522188 -1.426545   \n",
      "623    472.0 -3.043541 -3.157307  1.088463  2.288644  1.359805 -1.064823   \n",
      "4920  4462.0 -2.303350  1.759247 -0.359745  2.330243 -0.821628 -0.075788   \n",
      "6108  6986.0 -4.397974  1.358367 -2.592844  2.679787 -1.128131 -1.706536   \n",
      "6329  7519.0  1.234235  3.019740 -4.304597  4.732795  3.624201 -1.357746   \n",
      "\n",
      "            V7        V8        V9  ...       V21       V22       V23  \\\n",
      "541  -2.537387  1.391657 -2.770089  ...  0.517232 -0.035049 -0.465211   \n",
      "623   0.325574 -0.067794 -0.270953  ...  0.661696  0.435477  1.375966   \n",
      "4920  0.562320 -0.399147 -0.238253  ... -0.294166 -0.932391  0.172726   \n",
      "6108 -3.496197 -0.248778 -0.247768  ...  0.573574  0.176968 -0.436207   \n",
      "6329  1.713445 -0.496358 -1.282858  ... -0.379068 -0.704181 -0.656805   \n",
      "\n",
      "           V24       V25       V26       V27       V28  Amount  Class  \n",
      "541   0.320198  0.044519  0.177840  0.261145 -0.143276    0.00      1  \n",
      "623  -0.293803  0.279798 -0.145362 -0.252773  0.035764  529.00      1  \n",
      "4920 -0.087330 -0.156114 -0.542628  0.039566 -0.153029  239.93      1  \n",
      "6108 -0.053502  0.252405 -0.657488 -0.827136  0.849573   59.00      1  \n",
      "6329 -1.632653  1.488901  0.566797 -0.010016  0.146793    1.00      1  \n",
      "\n",
      "[5 rows x 31 columns]\n"
     ]
    }
   ],
   "source": [
    "gen_trans = df[df['Class'] == 0]\n",
    "fr_trans =df[df['Class'] == 1]\n",
    "print(\"Genuine:\\n\", gen_trans.head())\n",
    "print(\"Fraud:\\n\", fr_trans.head())"
   ]
  },
  {
   "cell_type": "code",
   "execution_count": 11,
   "id": "49d7763d",
   "metadata": {
    "execution": {
     "iopub.execute_input": "2025-02-26T07:17:22.651966Z",
     "iopub.status.busy": "2025-02-26T07:17:22.651531Z",
     "iopub.status.idle": "2025-02-26T07:17:22.755884Z",
     "shell.execute_reply": "2025-02-26T07:17:22.754855Z"
    },
    "papermill": {
     "duration": 0.112823,
     "end_time": "2025-02-26T07:17:22.757842",
     "exception": false,
     "start_time": "2025-02-26T07:17:22.645019",
     "status": "completed"
    },
    "tags": []
   },
   "outputs": [],
   "source": [
    "gen_train, gen_vt = train_test_split(gen_trans, train_size=0.7, random_state=RANDOM_STATE)"
   ]
  },
  {
   "cell_type": "code",
   "execution_count": 12,
   "id": "8d38613c",
   "metadata": {
    "execution": {
     "iopub.execute_input": "2025-02-26T07:17:22.771003Z",
     "iopub.status.busy": "2025-02-26T07:17:22.770632Z",
     "iopub.status.idle": "2025-02-26T07:17:22.799834Z",
     "shell.execute_reply": "2025-02-26T07:17:22.798479Z"
    },
    "papermill": {
     "duration": 0.038025,
     "end_time": "2025-02-26T07:17:22.801990",
     "exception": false,
     "start_time": "2025-02-26T07:17:22.763965",
     "status": "completed"
    },
    "tags": []
   },
   "outputs": [
    {
     "data": {
      "text/plain": [
       "(199020, 30)"
      ]
     },
     "execution_count": 12,
     "metadata": {},
     "output_type": "execute_result"
    }
   ],
   "source": [
    "X_train = gen_train[features]\n",
    "X_train.shape"
   ]
  },
  {
   "cell_type": "code",
   "execution_count": 13,
   "id": "ffd1974f",
   "metadata": {
    "execution": {
     "iopub.execute_input": "2025-02-26T07:17:22.814748Z",
     "iopub.status.busy": "2025-02-26T07:17:22.814334Z",
     "iopub.status.idle": "2025-02-26T07:17:22.850421Z",
     "shell.execute_reply": "2025-02-26T07:17:22.849131Z"
    },
    "papermill": {
     "duration": 0.044512,
     "end_time": "2025-02-26T07:17:22.852260",
     "exception": false,
     "start_time": "2025-02-26T07:17:22.807748",
     "status": "completed"
    },
    "tags": []
   },
   "outputs": [
    {
     "name": "stdout",
     "output_type": "stream",
     "text": [
      "Genuine Val:  (42647, 31)\n",
      "Genuine Test:  (42648, 31)\n"
     ]
    }
   ],
   "source": [
    "gen_val, gen_test = train_test_split(gen_vt, test_size=0.5, random_state=RANDOM_STATE)\n",
    "print(\"Genuine Val: \",gen_val.shape)\n",
    "print(\"Genuine Test: \",gen_test.shape)"
   ]
  },
  {
   "cell_type": "code",
   "execution_count": 14,
   "id": "1ef9c883",
   "metadata": {
    "execution": {
     "iopub.execute_input": "2025-02-26T07:17:22.865448Z",
     "iopub.status.busy": "2025-02-26T07:17:22.864972Z",
     "iopub.status.idle": "2025-02-26T07:17:22.872440Z",
     "shell.execute_reply": "2025-02-26T07:17:22.871197Z"
    },
    "papermill": {
     "duration": 0.016097,
     "end_time": "2025-02-26T07:17:22.874206",
     "exception": false,
     "start_time": "2025-02-26T07:17:22.858109",
     "status": "completed"
    },
    "tags": []
   },
   "outputs": [
    {
     "name": "stdout",
     "output_type": "stream",
     "text": [
      "Fraud Val:  (246, 31)\n",
      "Fraud Test:  (246, 31)\n"
     ]
    }
   ],
   "source": [
    "fr_val, fr_test =  train_test_split(fr_trans, test_size=0.5, random_state=RANDOM_STATE)\n",
    "print(\"Fraud Val: \",fr_val.shape)\n",
    "print(\"Fraud Test: \",fr_test.shape)"
   ]
  },
  {
   "cell_type": "code",
   "execution_count": 15,
   "id": "fad7f3f1",
   "metadata": {
    "execution": {
     "iopub.execute_input": "2025-02-26T07:17:22.887586Z",
     "iopub.status.busy": "2025-02-26T07:17:22.887214Z",
     "iopub.status.idle": "2025-02-26T07:17:22.916829Z",
     "shell.execute_reply": "2025-02-26T07:17:22.915646Z"
    },
    "papermill": {
     "duration": 0.038603,
     "end_time": "2025-02-26T07:17:22.918864",
     "exception": false,
     "start_time": "2025-02-26T07:17:22.880261",
     "status": "completed"
    },
    "tags": []
   },
   "outputs": [],
   "source": [
    "X_val = pd.concat([gen_val[features], fr_val[features]])\n",
    "y_val = pd.concat([gen_val['Class'], fr_val['Class']])\n",
    "\n",
    "X_test = pd.concat([gen_test[features], fr_test[features]])\n",
    "y_test = pd.concat([gen_test['Class'], fr_test['Class']])"
   ]
  },
  {
   "cell_type": "code",
   "execution_count": 16,
   "id": "4dd0ca87",
   "metadata": {
    "execution": {
     "iopub.execute_input": "2025-02-26T07:17:22.932466Z",
     "iopub.status.busy": "2025-02-26T07:17:22.932131Z",
     "iopub.status.idle": "2025-02-26T07:17:23.192290Z",
     "shell.execute_reply": "2025-02-26T07:17:23.191109Z"
    },
    "papermill": {
     "duration": 0.269016,
     "end_time": "2025-02-26T07:17:23.194171",
     "exception": false,
     "start_time": "2025-02-26T07:17:22.925155",
     "status": "completed"
    },
    "tags": []
   },
   "outputs": [
    {
     "data": {
      "image/png": "[encoded data removed]",
      "text/plain": [
       "<Figure size 800x600 with 1 Axes>"
      ]
     },
     "metadata": {},
     "output_type": "display_data"
    }
   ],
   "source": [
    "cats = ['Genuine', 'Fraudulent']\n",
    "vals = [len(gen_trans), len(fr_trans)]\n",
    "\n",
    "plt.figure(figsize = (8,6))\n",
    "plt.bar(cats, vals, color=['skyblue', 'salmon'])\n",
    "\n",
    "# Add titles and labels\n",
    "plt.title('Number of Genuine vs. Fraudulent Transactions')\n",
    "plt.xlabel('Transaction Type')\n",
    "plt.ylabel('Number of Transactions')\n",
    "\n",
    "# Show the plot\n",
    "plt.show()"
   ]
  },
  {
   "cell_type": "code",
   "execution_count": null,
   "id": "55adaa0d",
   "metadata": {
    "execution": {
     "iopub.execute_input": "2025-02-26T06:54:31.419809Z",
     "iopub.status.busy": "2025-02-26T06:54:31.419469Z",
     "iopub.status.idle": "2025-02-26T06:54:31.427879Z",
     "shell.execute_reply": "2025-02-26T06:54:31.426684Z",
     "shell.execute_reply.started": "2025-02-26T06:54:31.419777Z"
    },
    "papermill": {
     "duration": 0.006226,
     "end_time": "2025-02-26T07:17:23.207018",
     "exception": false,
     "start_time": "2025-02-26T07:17:23.200792",
     "status": "completed"
    },
    "tags": []
   },
   "outputs": [],
   "source": []
  },
  {
   "cell_type": "code",
   "execution_count": null,
   "id": "ea9d2611",
   "metadata": {
    "papermill": {
     "duration": 0.007441,
     "end_time": "2025-02-26T07:17:23.221349",
     "exception": false,
     "start_time": "2025-02-26T07:17:23.213908",
     "status": "completed"
    },
    "tags": []
   },
   "outputs": [],
   "source": []
  },
  {
   "cell_type": "code",
   "execution_count": null,
   "id": "e4107394",
   "metadata": {
    "papermill": {
     "duration": 0.006144,
     "end_time": "2025-02-26T07:17:23.234032",
     "exception": false,
     "start_time": "2025-02-26T07:17:23.227888",
     "status": "completed"
    },
    "tags": []
   },
   "outputs": [],
   "source": []
  },
  {
   "cell_type": "code",
   "execution_count": null,
   "id": "a695388b",
   "metadata": {
    "papermill": {
     "duration": 0.006332,
     "end_time": "2025-02-26T07:17:23.246757",
     "exception": false,
     "start_time": "2025-02-26T07:17:23.240425",
     "status": "completed"
    },
    "tags": []
   },
   "outputs": [],
   "source": []
  },
  {
   "cell_type": "code",
   "execution_count": null,
   "id": "40ef0bd6",
   "metadata": {
    "papermill": {
     "duration": 0.006084,
     "end_time": "2025-02-26T07:17:23.261341",
     "exception": false,
     "start_time": "2025-02-26T07:17:23.255257",
     "status": "completed"
    },
    "tags": []
   },
   "outputs": [],
   "source": []
  },
  {
   "cell_type": "code",
   "execution_count": null,
   "id": "ad52fe9f",
   "metadata": {
    "papermill": {
     "duration": 0.005894,
     "end_time": "2025-02-26T07:17:23.273838",
     "exception": false,
     "start_time": "2025-02-26T07:17:23.267944",
     "status": "completed"
    },
    "tags": []
   },
   "outputs": [],
   "source": []
  }
 ],
 "metadata": {
  "kaggle": {
   "accelerator": "none",
   "dataSources": [
    {
     "datasetId": 310,
     "sourceId": 23498,
     "sourceType": "datasetVersion"
    }
   ],
   "dockerImageVersionId": 30918,
   "isGpuEnabled": false,
   "isInternetEnabled": false,
   "language": "python",
   "sourceType": "notebook"
  },
  "kernelspec": {
   "display_name": "Python 3",
   "language": "python",
   "name": "python3"
  },
  "language_info": {
   "codemirror_mode": {
    "name": "ipython",
    "version": 3
   },
   "file_extension": ".py",
   "mimetype": "text/x-python",
   "name": "python",
   "nbconvert_exporter": "python",
   "pygments_lexer": "ipython3",
   "version": "3.10.12"
  },
  "papermill": {
   "default_parameters": {},
   "duration": 12.093716,
   "end_time": "2025-02-26T07:17:24.001609",
   "environment_variables": {},
   "exception": null,
   "input_path": "__notebook__.ipynb",
   "output_path": "__notebook__.ipynb",
   "parameters": {},
   "start_time": "2025-02-26T07:17:11.907893",
   "version": "2.6.0"
  }
 },
 "nbformat": 4,
 "nbformat_minor": 5
}
