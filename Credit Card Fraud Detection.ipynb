{
 "cells": [
  {
   "cell_type": "markdown",
   "id": "65cd093f",
   "metadata": {
    "papermill": {
     "duration": 0.009502,
     "end_time": "2025-02-28T18:35:26.249096",
     "exception": false,
     "start_time": "2025-02-28T18:35:26.239594",
     "status": "completed"
    },
    "tags": []
   },
   "source": [
    "**Dataset Initialization and Preparation**"
   ]
  },
  {
   "cell_type": "code",
   "execution_count": 1,
   "id": "1a9f0a76",
   "metadata": {
    "_cell_guid": "b1076dfc-b9ad-4769-8c92-a6c4dae69d19",
    "_uuid": "8f2839f25d086af736a60e9eeb907d3b93b6e0e5",
    "execution": {
     "iopub.execute_input": "2025-02-28T18:35:26.267320Z",
     "iopub.status.busy": "2025-02-28T18:35:26.266942Z",
     "iopub.status.idle": "2025-02-28T18:35:27.419649Z",
     "shell.execute_reply": "2025-02-28T18:35:27.418265Z"
    },
    "papermill": {
     "duration": 1.163887,
     "end_time": "2025-02-28T18:35:27.421380",
     "exception": false,
     "start_time": "2025-02-28T18:35:26.257493",
     "status": "completed"
    },
    "tags": []
   },
   "outputs": [
    {
     "name": "stdout",
     "output_type": "stream",
     "text": [
      "/kaggle/input/creditcardfraud/creditcard.csv\n"
     ]
    }
   ],
   "source": [
    "# This Python 3 environment comes with many helpful analytics libraries installed\n",
    "# It is defined by the kaggle/python Docker image: https://github.com/kaggle/docker-python\n",
    "# For example, here's several helpful packages to load\n",
    "\n",
    "import numpy as np # linear algebra\n",
    "import pandas as pd # data processing, CSV file I/O (e.g. pd.read_csv)\n",
    "\n",
    "# Input data files are available in the read-only \"../input/\" directory\n",
    "# For example, running this (by clicking run or pressing Shift+Enter) will list all files under the input directory\n",
    "\n",
    "import os\n",
    "for dirname, _, filenames in os.walk('/kaggle/input'):\n",
    "    for filename in filenames:\n",
    "        print(os.path.join(dirname, filename))\n",
    "\n",
    "# You can write up to 20GB to the current directory (/kaggle/working/) that gets preserved as output when you create a version using \"Save & Run All\" \n",
    "# You can also write temporary files to /kaggle/temp/, but they won't be saved outside of the current session"
   ]
  },
  {
   "cell_type": "code",
   "execution_count": 2,
   "id": "051bfc28",
   "metadata": {
    "execution": {
     "iopub.execute_input": "2025-02-28T18:35:27.439959Z",
     "iopub.status.busy": "2025-02-28T18:35:27.439403Z",
     "iopub.status.idle": "2025-02-28T18:35:29.852534Z",
     "shell.execute_reply": "2025-02-28T18:35:29.851258Z"
    },
    "papermill": {
     "duration": 2.424324,
     "end_time": "2025-02-28T18:35:29.854318",
     "exception": false,
     "start_time": "2025-02-28T18:35:27.429994",
     "status": "completed"
    },
    "tags": []
   },
   "outputs": [],
   "source": [
    "import matplotlib.pyplot as plt\n",
    "from sklearn.model_selection import train_test_split\n",
    "from sklearn.metrics import f1_score\n",
    "from sklearn.preprocessing import StandardScaler\n",
    "from scipy.stats import norm\n",
    "import seaborn as sns\n",
    "import matplotlib.gridspec as gridspec"
   ]
  },
  {
   "cell_type": "code",
   "execution_count": 3,
   "id": "f4087122",
   "metadata": {
    "execution": {
     "iopub.execute_input": "2025-02-28T18:35:29.873444Z",
     "iopub.status.busy": "2025-02-28T18:35:29.872945Z",
     "iopub.status.idle": "2025-02-28T18:35:29.877333Z",
     "shell.execute_reply": "2025-02-28T18:35:29.876293Z"
    },
    "papermill": {
     "duration": 0.016093,
     "end_time": "2025-02-28T18:35:29.879041",
     "exception": false,
     "start_time": "2025-02-28T18:35:29.862948",
     "status": "completed"
    },
    "tags": []
   },
   "outputs": [],
   "source": [
    "RANDOM_STATE = 55"
   ]
  },
  {
   "cell_type": "code",
   "execution_count": 4,
   "id": "19fca124",
   "metadata": {
    "execution": {
     "iopub.execute_input": "2025-02-28T18:35:29.897690Z",
     "iopub.status.busy": "2025-02-28T18:35:29.897232Z",
     "iopub.status.idle": "2025-02-28T18:35:34.654377Z",
     "shell.execute_reply": "2025-02-28T18:35:34.653148Z"
    },
    "papermill": {
     "duration": 4.768905,
     "end_time": "2025-02-28T18:35:34.656461",
     "exception": false,
     "start_time": "2025-02-28T18:35:29.887556",
     "status": "completed"
    },
    "tags": []
   },
   "outputs": [],
   "source": [
    "df = pd.read_csv(\"/kaggle/input/creditcardfraud/creditcard.csv\")"
   ]
  },
  {
   "cell_type": "code",
   "execution_count": 5,
   "id": "f38dd52e",
   "metadata": {
    "execution": {
     "iopub.execute_input": "2025-02-28T18:35:34.674566Z",
     "iopub.status.busy": "2025-02-28T18:35:34.674053Z",
     "iopub.status.idle": "2025-02-28T18:35:34.720710Z",
     "shell.execute_reply": "2025-02-28T18:35:34.719565Z"
    },
    "papermill": {
     "duration": 0.0578,
     "end_time": "2025-02-28T18:35:34.722646",
     "exception": false,
     "start_time": "2025-02-28T18:35:34.664846",
     "status": "completed"
    },
    "tags": []
   },
   "outputs": [
    {
     "data": {
      "text/html": [
       "<div>\n",
       "<style scoped>\n",
       "    .dataframe tbody tr th:only-of-type {\n",
       "        vertical-align: middle;\n",
       "    }\n",
       "\n",
       "    .dataframe tbody tr th {\n",
       "        vertical-align: top;\n",
       "    }\n",
       "\n",
       "    .dataframe thead th {\n",
       "        text-align: right;\n",
       "    }\n",
       "</style>\n",
       "<table border=\"1\" class=\"dataframe\">\n",
       "  <thead>\n",
       "    <tr style=\"text-align: right;\">\n",
       "      <th></th>\n",
       "      <th>Time</th>\n",
       "      <th>V1</th>\n",
       "      <th>V2</th>\n",
       "      <th>V3</th>\n",
       "      <th>V4</th>\n",
       "      <th>V5</th>\n",
       "      <th>V6</th>\n",
       "      <th>V7</th>\n",
       "      <th>V8</th>\n",
       "      <th>V9</th>\n",
       "      <th>...</th>\n",
       "      <th>V21</th>\n",
       "      <th>V22</th>\n",
       "      <th>V23</th>\n",
       "      <th>V24</th>\n",
       "      <th>V25</th>\n",
       "      <th>V26</th>\n",
       "      <th>V27</th>\n",
       "      <th>V28</th>\n",
       "      <th>Amount</th>\n",
       "      <th>Class</th>\n",
       "    </tr>\n",
       "  </thead>\n",
       "  <tbody>\n",
       "    <tr>\n",
       "      <th>0</th>\n",
       "      <td>0.0</td>\n",
       "      <td>-1.359807</td>\n",
       "      <td>-0.072781</td>\n",
       "      <td>2.536347</td>\n",
       "      <td>1.378155</td>\n",
       "      <td>-0.338321</td>\n",
       "      <td>0.462388</td>\n",
       "      <td>0.239599</td>\n",
       "      <td>0.098698</td>\n",
       "      <td>0.363787</td>\n",
       "      <td>...</td>\n",
       "      <td>-0.018307</td>\n",
       "      <td>0.277838</td>\n",
       "      <td>-0.110474</td>\n",
       "      <td>0.066928</td>\n",
       "      <td>0.128539</td>\n",
       "      <td>-0.189115</td>\n",
       "      <td>0.133558</td>\n",
       "      <td>-0.021053</td>\n",
       "      <td>149.62</td>\n",
       "      <td>0</td>\n",
       "    </tr>\n",
       "    <tr>\n",
       "      <th>1</th>\n",
       "      <td>0.0</td>\n",
       "      <td>1.191857</td>\n",
       "      <td>0.266151</td>\n",
       "      <td>0.166480</td>\n",
       "      <td>0.448154</td>\n",
       "      <td>0.060018</td>\n",
       "      <td>-0.082361</td>\n",
       "      <td>-0.078803</td>\n",
       "      <td>0.085102</td>\n",
       "      <td>-0.255425</td>\n",
       "      <td>...</td>\n",
       "      <td>-0.225775</td>\n",
       "      <td>-0.638672</td>\n",
       "      <td>0.101288</td>\n",
       "      <td>-0.339846</td>\n",
       "      <td>0.167170</td>\n",
       "      <td>0.125895</td>\n",
       "      <td>-0.008983</td>\n",
       "      <td>0.014724</td>\n",
       "      <td>2.69</td>\n",
       "      <td>0</td>\n",
       "    </tr>\n",
       "    <tr>\n",
       "      <th>2</th>\n",
       "      <td>1.0</td>\n",
       "      <td>-1.358354</td>\n",
       "      <td>-1.340163</td>\n",
       "      <td>1.773209</td>\n",
       "      <td>0.379780</td>\n",
       "      <td>-0.503198</td>\n",
       "      <td>1.800499</td>\n",
       "      <td>0.791461</td>\n",
       "      <td>0.247676</td>\n",
       "      <td>-1.514654</td>\n",
       "      <td>...</td>\n",
       "      <td>0.247998</td>\n",
       "      <td>0.771679</td>\n",
       "      <td>0.909412</td>\n",
       "      <td>-0.689281</td>\n",
       "      <td>-0.327642</td>\n",
       "      <td>-0.139097</td>\n",
       "      <td>-0.055353</td>\n",
       "      <td>-0.059752</td>\n",
       "      <td>378.66</td>\n",
       "      <td>0</td>\n",
       "    </tr>\n",
       "    <tr>\n",
       "      <th>3</th>\n",
       "      <td>1.0</td>\n",
       "      <td>-0.966272</td>\n",
       "      <td>-0.185226</td>\n",
       "      <td>1.792993</td>\n",
       "      <td>-0.863291</td>\n",
       "      <td>-0.010309</td>\n",
       "      <td>1.247203</td>\n",
       "      <td>0.237609</td>\n",
       "      <td>0.377436</td>\n",
       "      <td>-1.387024</td>\n",
       "      <td>...</td>\n",
       "      <td>-0.108300</td>\n",
       "      <td>0.005274</td>\n",
       "      <td>-0.190321</td>\n",
       "      <td>-1.175575</td>\n",
       "      <td>0.647376</td>\n",
       "      <td>-0.221929</td>\n",
       "      <td>0.062723</td>\n",
       "      <td>0.061458</td>\n",
       "      <td>123.50</td>\n",
       "      <td>0</td>\n",
       "    </tr>\n",
       "    <tr>\n",
       "      <th>4</th>\n",
       "      <td>2.0</td>\n",
       "      <td>-1.158233</td>\n",
       "      <td>0.877737</td>\n",
       "      <td>1.548718</td>\n",
       "      <td>0.403034</td>\n",
       "      <td>-0.407193</td>\n",
       "      <td>0.095921</td>\n",
       "      <td>0.592941</td>\n",
       "      <td>-0.270533</td>\n",
       "      <td>0.817739</td>\n",
       "      <td>...</td>\n",
       "      <td>-0.009431</td>\n",
       "      <td>0.798278</td>\n",
       "      <td>-0.137458</td>\n",
       "      <td>0.141267</td>\n",
       "      <td>-0.206010</td>\n",
       "      <td>0.502292</td>\n",
       "      <td>0.219422</td>\n",
       "      <td>0.215153</td>\n",
       "      <td>69.99</td>\n",
       "      <td>0</td>\n",
       "    </tr>\n",
       "  </tbody>\n",
       "</table>\n",
       "<p>5 rows × 31 columns</p>\n",
       "</div>"
      ],
      "text/plain": [
       "   Time        V1        V2        V3        V4        V5        V6        V7  \\\n",
       "0   0.0 -1.359807 -0.072781  2.536347  1.378155 -0.338321  0.462388  0.239599   \n",
       "1   0.0  1.191857  0.266151  0.166480  0.448154  0.060018 -0.082361 -0.078803   \n",
       "2   1.0 -1.358354 -1.340163  1.773209  0.379780 -0.503198  1.800499  0.791461   \n",
       "3   1.0 -0.966272 -0.185226  1.792993 -0.863291 -0.010309  1.247203  0.237609   \n",
       "4   2.0 -1.158233  0.877737  1.548718  0.403034 -0.407193  0.095921  0.592941   \n",
       "\n",
       "         V8        V9  ...       V21       V22       V23       V24       V25  \\\n",
       "0  0.098698  0.363787  ... -0.018307  0.277838 -0.110474  0.066928  0.128539   \n",
       "1  0.085102 -0.255425  ... -0.225775 -0.638672  0.101288 -0.339846  0.167170   \n",
       "2  0.247676 -1.514654  ...  0.247998  0.771679  0.909412 -0.689281 -0.327642   \n",
       "3  0.377436 -1.387024  ... -0.108300  0.005274 -0.190321 -1.175575  0.647376   \n",
       "4 -0.270533  0.817739  ... -0.009431  0.798278 -0.137458  0.141267 -0.206010   \n",
       "\n",
       "        V26       V27       V28  Amount  Class  \n",
       "0 -0.189115  0.133558 -0.021053  149.62      0  \n",
       "1  0.125895 -0.008983  0.014724    2.69      0  \n",
       "2 -0.139097 -0.055353 -0.059752  378.66      0  \n",
       "3 -0.221929  0.062723  0.061458  123.50      0  \n",
       "4  0.502292  0.219422  0.215153   69.99      0  \n",
       "\n",
       "[5 rows x 31 columns]"
      ]
     },
     "execution_count": 5,
     "metadata": {},
     "output_type": "execute_result"
    }
   ],
   "source": [
    "df.head()"
   ]
  },
  {
   "cell_type": "code",
   "execution_count": 6,
   "id": "d1bceb5f",
   "metadata": {
    "execution": {
     "iopub.execute_input": "2025-02-28T18:35:34.743274Z",
     "iopub.status.busy": "2025-02-28T18:35:34.742849Z",
     "iopub.status.idle": "2025-02-28T18:35:34.761079Z",
     "shell.execute_reply": "2025-02-28T18:35:34.759602Z"
    },
    "papermill": {
     "duration": 0.031421,
     "end_time": "2025-02-28T18:35:34.763190",
     "exception": false,
     "start_time": "2025-02-28T18:35:34.731769",
     "status": "completed"
    },
    "tags": []
   },
   "outputs": [
    {
     "data": {
      "text/plain": [
       "Class\n",
       "0    284315\n",
       "1       492\n",
       "Name: count, dtype: int64"
      ]
     },
     "execution_count": 6,
     "metadata": {},
     "output_type": "execute_result"
    }
   ],
   "source": [
    "df['Class'].value_counts()"
   ]
  },
  {
   "cell_type": "code",
   "execution_count": 7,
   "id": "472d0323",
   "metadata": {
    "execution": {
     "iopub.execute_input": "2025-02-28T18:35:34.783078Z",
     "iopub.status.busy": "2025-02-28T18:35:34.782645Z",
     "iopub.status.idle": "2025-02-28T18:35:34.789633Z",
     "shell.execute_reply": "2025-02-28T18:35:34.788338Z"
    },
    "papermill": {
     "duration": 0.019633,
     "end_time": "2025-02-28T18:35:34.791831",
     "exception": false,
     "start_time": "2025-02-28T18:35:34.772198",
     "status": "completed"
    },
    "tags": []
   },
   "outputs": [
    {
     "data": {
      "text/plain": [
       "(284807, 31)"
      ]
     },
     "execution_count": 7,
     "metadata": {},
     "output_type": "execute_result"
    }
   ],
   "source": [
    "df.shape"
   ]
  },
  {
   "cell_type": "code",
   "execution_count": 8,
   "id": "338aef5e",
   "metadata": {
    "execution": {
     "iopub.execute_input": "2025-02-28T18:35:34.812341Z",
     "iopub.status.busy": "2025-02-28T18:35:34.811815Z",
     "iopub.status.idle": "2025-02-28T18:35:34.869923Z",
     "shell.execute_reply": "2025-02-28T18:35:34.868467Z"
    },
    "papermill": {
     "duration": 0.070478,
     "end_time": "2025-02-28T18:35:34.871780",
     "exception": false,
     "start_time": "2025-02-28T18:35:34.801302",
     "status": "completed"
    },
    "tags": []
   },
   "outputs": [
    {
     "name": "stdout",
     "output_type": "stream",
     "text": [
      "<class 'pandas.core.frame.DataFrame'>\n",
      "RangeIndex: 284807 entries, 0 to 284806\n",
      "Data columns (total 31 columns):\n",
      " #   Column  Non-Null Count   Dtype  \n",
      "---  ------  --------------   -----  \n",
      " 0   Time    284807 non-null  float64\n",
      " 1   V1      284807 non-null  float64\n",
      " 2   V2      284807 non-null  float64\n",
      " 3   V3      284807 non-null  float64\n",
      " 4   V4      284807 non-null  float64\n",
      " 5   V5      284807 non-null  float64\n",
      " 6   V6      284807 non-null  float64\n",
      " 7   V7      284807 non-null  float64\n",
      " 8   V8      284807 non-null  float64\n",
      " 9   V9      284807 non-null  float64\n",
      " 10  V10     284807 non-null  float64\n",
      " 11  V11     284807 non-null  float64\n",
      " 12  V12     284807 non-null  float64\n",
      " 13  V13     284807 non-null  float64\n",
      " 14  V14     284807 non-null  float64\n",
      " 15  V15     284807 non-null  float64\n",
      " 16  V16     284807 non-null  float64\n",
      " 17  V17     284807 non-null  float64\n",
      " 18  V18     284807 non-null  float64\n",
      " 19  V19     284807 non-null  float64\n",
      " 20  V20     284807 non-null  float64\n",
      " 21  V21     284807 non-null  float64\n",
      " 22  V22     284807 non-null  float64\n",
      " 23  V23     284807 non-null  float64\n",
      " 24  V24     284807 non-null  float64\n",
      " 25  V25     284807 non-null  float64\n",
      " 26  V26     284807 non-null  float64\n",
      " 27  V27     284807 non-null  float64\n",
      " 28  V28     284807 non-null  float64\n",
      " 29  Amount  284807 non-null  float64\n",
      " 30  Class   284807 non-null  int64  \n",
      "dtypes: float64(30), int64(1)\n",
      "memory usage: 67.4 MB\n"
     ]
    }
   ],
   "source": [
    "df.info()"
   ]
  },
  {
   "cell_type": "code",
   "execution_count": 9,
   "id": "547edd02",
   "metadata": {
    "execution": {
     "iopub.execute_input": "2025-02-28T18:35:34.891307Z",
     "iopub.status.busy": "2025-02-28T18:35:34.890926Z",
     "iopub.status.idle": "2025-02-28T18:35:35.392326Z",
     "shell.execute_reply": "2025-02-28T18:35:35.391149Z"
    },
    "papermill": {
     "duration": 0.513376,
     "end_time": "2025-02-28T18:35:35.394372",
     "exception": false,
     "start_time": "2025-02-28T18:35:34.880996",
     "status": "completed"
    },
    "tags": []
   },
   "outputs": [
    {
     "data": {
      "text/html": [
       "<div>\n",
       "<style scoped>\n",
       "    .dataframe tbody tr th:only-of-type {\n",
       "        vertical-align: middle;\n",
       "    }\n",
       "\n",
       "    .dataframe tbody tr th {\n",
       "        vertical-align: top;\n",
       "    }\n",
       "\n",
       "    .dataframe thead th {\n",
       "        text-align: right;\n",
       "    }\n",
       "</style>\n",
       "<table border=\"1\" class=\"dataframe\">\n",
       "  <thead>\n",
       "    <tr style=\"text-align: right;\">\n",
       "      <th></th>\n",
       "      <th>Time</th>\n",
       "      <th>V1</th>\n",
       "      <th>V2</th>\n",
       "      <th>V3</th>\n",
       "      <th>V4</th>\n",
       "      <th>V5</th>\n",
       "      <th>V6</th>\n",
       "      <th>V7</th>\n",
       "      <th>V8</th>\n",
       "      <th>V9</th>\n",
       "      <th>...</th>\n",
       "      <th>V21</th>\n",
       "      <th>V22</th>\n",
       "      <th>V23</th>\n",
       "      <th>V24</th>\n",
       "      <th>V25</th>\n",
       "      <th>V26</th>\n",
       "      <th>V27</th>\n",
       "      <th>V28</th>\n",
       "      <th>Amount</th>\n",
       "      <th>Class</th>\n",
       "    </tr>\n",
       "  </thead>\n",
       "  <tbody>\n",
       "    <tr>\n",
       "      <th>count</th>\n",
       "      <td>284807.000000</td>\n",
       "      <td>2.848070e+05</td>\n",
       "      <td>2.848070e+05</td>\n",
       "      <td>2.848070e+05</td>\n",
       "      <td>2.848070e+05</td>\n",
       "      <td>2.848070e+05</td>\n",
       "      <td>2.848070e+05</td>\n",
       "      <td>2.848070e+05</td>\n",
       "      <td>2.848070e+05</td>\n",
       "      <td>2.848070e+05</td>\n",
       "      <td>...</td>\n",
       "      <td>2.848070e+05</td>\n",
       "      <td>2.848070e+05</td>\n",
       "      <td>2.848070e+05</td>\n",
       "      <td>2.848070e+05</td>\n",
       "      <td>2.848070e+05</td>\n",
       "      <td>2.848070e+05</td>\n",
       "      <td>2.848070e+05</td>\n",
       "      <td>2.848070e+05</td>\n",
       "      <td>284807.000000</td>\n",
       "      <td>284807.000000</td>\n",
       "    </tr>\n",
       "    <tr>\n",
       "      <th>mean</th>\n",
       "      <td>94813.859575</td>\n",
       "      <td>1.175161e-15</td>\n",
       "      <td>3.369007e-16</td>\n",
       "      <td>-1.379537e-15</td>\n",
       "      <td>2.094852e-15</td>\n",
       "      <td>1.021879e-15</td>\n",
       "      <td>1.500885e-15</td>\n",
       "      <td>-5.620335e-16</td>\n",
       "      <td>1.149614e-16</td>\n",
       "      <td>-2.426963e-15</td>\n",
       "      <td>...</td>\n",
       "      <td>1.596686e-16</td>\n",
       "      <td>-3.576577e-16</td>\n",
       "      <td>2.650499e-16</td>\n",
       "      <td>4.472317e-15</td>\n",
       "      <td>5.109395e-16</td>\n",
       "      <td>1.686100e-15</td>\n",
       "      <td>-3.662399e-16</td>\n",
       "      <td>-1.225457e-16</td>\n",
       "      <td>88.349619</td>\n",
       "      <td>0.001727</td>\n",
       "    </tr>\n",
       "    <tr>\n",
       "      <th>std</th>\n",
       "      <td>47488.145955</td>\n",
       "      <td>1.958696e+00</td>\n",
       "      <td>1.651309e+00</td>\n",
       "      <td>1.516255e+00</td>\n",
       "      <td>1.415869e+00</td>\n",
       "      <td>1.380247e+00</td>\n",
       "      <td>1.332271e+00</td>\n",
       "      <td>1.237094e+00</td>\n",
       "      <td>1.194353e+00</td>\n",
       "      <td>1.098632e+00</td>\n",
       "      <td>...</td>\n",
       "      <td>7.345240e-01</td>\n",
       "      <td>7.257016e-01</td>\n",
       "      <td>6.244603e-01</td>\n",
       "      <td>6.056471e-01</td>\n",
       "      <td>5.212781e-01</td>\n",
       "      <td>4.822270e-01</td>\n",
       "      <td>4.036325e-01</td>\n",
       "      <td>3.300833e-01</td>\n",
       "      <td>250.120109</td>\n",
       "      <td>0.041527</td>\n",
       "    </tr>\n",
       "    <tr>\n",
       "      <th>min</th>\n",
       "      <td>0.000000</td>\n",
       "      <td>-5.640751e+01</td>\n",
       "      <td>-7.271573e+01</td>\n",
       "      <td>-4.832559e+01</td>\n",
       "      <td>-5.683171e+00</td>\n",
       "      <td>-1.137433e+02</td>\n",
       "      <td>-2.616051e+01</td>\n",
       "      <td>-4.355724e+01</td>\n",
       "      <td>-7.321672e+01</td>\n",
       "      <td>-1.343407e+01</td>\n",
       "      <td>...</td>\n",
       "      <td>-3.483038e+01</td>\n",
       "      <td>-1.093314e+01</td>\n",
       "      <td>-4.480774e+01</td>\n",
       "      <td>-2.836627e+00</td>\n",
       "      <td>-1.029540e+01</td>\n",
       "      <td>-2.604551e+00</td>\n",
       "      <td>-2.256568e+01</td>\n",
       "      <td>-1.543008e+01</td>\n",
       "      <td>0.000000</td>\n",
       "      <td>0.000000</td>\n",
       "    </tr>\n",
       "    <tr>\n",
       "      <th>25%</th>\n",
       "      <td>54201.500000</td>\n",
       "      <td>-9.203734e-01</td>\n",
       "      <td>-5.985499e-01</td>\n",
       "      <td>-8.903648e-01</td>\n",
       "      <td>-8.486401e-01</td>\n",
       "      <td>-6.915971e-01</td>\n",
       "      <td>-7.682956e-01</td>\n",
       "      <td>-5.540759e-01</td>\n",
       "      <td>-2.086297e-01</td>\n",
       "      <td>-6.430976e-01</td>\n",
       "      <td>...</td>\n",
       "      <td>-2.283949e-01</td>\n",
       "      <td>-5.423504e-01</td>\n",
       "      <td>-1.618463e-01</td>\n",
       "      <td>-3.545861e-01</td>\n",
       "      <td>-3.171451e-01</td>\n",
       "      <td>-3.269839e-01</td>\n",
       "      <td>-7.083953e-02</td>\n",
       "      <td>-5.295979e-02</td>\n",
       "      <td>5.600000</td>\n",
       "      <td>0.000000</td>\n",
       "    </tr>\n",
       "    <tr>\n",
       "      <th>50%</th>\n",
       "      <td>84692.000000</td>\n",
       "      <td>1.810880e-02</td>\n",
       "      <td>6.548556e-02</td>\n",
       "      <td>1.798463e-01</td>\n",
       "      <td>-1.984653e-02</td>\n",
       "      <td>-5.433583e-02</td>\n",
       "      <td>-2.741871e-01</td>\n",
       "      <td>4.010308e-02</td>\n",
       "      <td>2.235804e-02</td>\n",
       "      <td>-5.142873e-02</td>\n",
       "      <td>...</td>\n",
       "      <td>-2.945017e-02</td>\n",
       "      <td>6.781943e-03</td>\n",
       "      <td>-1.119293e-02</td>\n",
       "      <td>4.097606e-02</td>\n",
       "      <td>1.659350e-02</td>\n",
       "      <td>-5.213911e-02</td>\n",
       "      <td>1.342146e-03</td>\n",
       "      <td>1.124383e-02</td>\n",
       "      <td>22.000000</td>\n",
       "      <td>0.000000</td>\n",
       "    </tr>\n",
       "    <tr>\n",
       "      <th>75%</th>\n",
       "      <td>139320.500000</td>\n",
       "      <td>1.315642e+00</td>\n",
       "      <td>8.037239e-01</td>\n",
       "      <td>1.027196e+00</td>\n",
       "      <td>7.433413e-01</td>\n",
       "      <td>6.119264e-01</td>\n",
       "      <td>3.985649e-01</td>\n",
       "      <td>5.704361e-01</td>\n",
       "      <td>3.273459e-01</td>\n",
       "      <td>5.971390e-01</td>\n",
       "      <td>...</td>\n",
       "      <td>1.863772e-01</td>\n",
       "      <td>5.285536e-01</td>\n",
       "      <td>1.476421e-01</td>\n",
       "      <td>4.395266e-01</td>\n",
       "      <td>3.507156e-01</td>\n",
       "      <td>2.409522e-01</td>\n",
       "      <td>9.104512e-02</td>\n",
       "      <td>7.827995e-02</td>\n",
       "      <td>77.165000</td>\n",
       "      <td>0.000000</td>\n",
       "    </tr>\n",
       "    <tr>\n",
       "      <th>max</th>\n",
       "      <td>172792.000000</td>\n",
       "      <td>2.454930e+00</td>\n",
       "      <td>2.205773e+01</td>\n",
       "      <td>9.382558e+00</td>\n",
       "      <td>1.687534e+01</td>\n",
       "      <td>3.480167e+01</td>\n",
       "      <td>7.330163e+01</td>\n",
       "      <td>1.205895e+02</td>\n",
       "      <td>2.000721e+01</td>\n",
       "      <td>1.559499e+01</td>\n",
       "      <td>...</td>\n",
       "      <td>2.720284e+01</td>\n",
       "      <td>1.050309e+01</td>\n",
       "      <td>2.252841e+01</td>\n",
       "      <td>4.584549e+00</td>\n",
       "      <td>7.519589e+00</td>\n",
       "      <td>3.517346e+00</td>\n",
       "      <td>3.161220e+01</td>\n",
       "      <td>3.384781e+01</td>\n",
       "      <td>25691.160000</td>\n",
       "      <td>1.000000</td>\n",
       "    </tr>\n",
       "  </tbody>\n",
       "</table>\n",
       "<p>8 rows × 31 columns</p>\n",
       "</div>"
      ],
      "text/plain": [
       "                Time            V1            V2            V3            V4  \\\n",
       "count  284807.000000  2.848070e+05  2.848070e+05  2.848070e+05  2.848070e+05   \n",
       "mean    94813.859575  1.175161e-15  3.369007e-16 -1.379537e-15  2.094852e-15   \n",
       "std     47488.145955  1.958696e+00  1.651309e+00  1.516255e+00  1.415869e+00   \n",
       "min         0.000000 -5.640751e+01 -7.271573e+01 -4.832559e+01 -5.683171e+00   \n",
       "25%     54201.500000 -9.203734e-01 -5.985499e-01 -8.903648e-01 -8.486401e-01   \n",
       "50%     84692.000000  1.810880e-02  6.548556e-02  1.798463e-01 -1.984653e-02   \n",
       "75%    139320.500000  1.315642e+00  8.037239e-01  1.027196e+00  7.433413e-01   \n",
       "max    172792.000000  2.454930e+00  2.205773e+01  9.382558e+00  1.687534e+01   \n",
       "\n",
       "                 V5            V6            V7            V8            V9  \\\n",
       "count  2.848070e+05  2.848070e+05  2.848070e+05  2.848070e+05  2.848070e+05   \n",
       "mean   1.021879e-15  1.500885e-15 -5.620335e-16  1.149614e-16 -2.426963e-15   \n",
       "std    1.380247e+00  1.332271e+00  1.237094e+00  1.194353e+00  1.098632e+00   \n",
       "min   -1.137433e+02 -2.616051e+01 -4.355724e+01 -7.321672e+01 -1.343407e+01   \n",
       "25%   -6.915971e-01 -7.682956e-01 -5.540759e-01 -2.086297e-01 -6.430976e-01   \n",
       "50%   -5.433583e-02 -2.741871e-01  4.010308e-02  2.235804e-02 -5.142873e-02   \n",
       "75%    6.119264e-01  3.985649e-01  5.704361e-01  3.273459e-01  5.971390e-01   \n",
       "max    3.480167e+01  7.330163e+01  1.205895e+02  2.000721e+01  1.559499e+01   \n",
       "\n",
       "       ...           V21           V22           V23           V24  \\\n",
       "count  ...  2.848070e+05  2.848070e+05  2.848070e+05  2.848070e+05   \n",
       "mean   ...  1.596686e-16 -3.576577e-16  2.650499e-16  4.472317e-15   \n",
       "std    ...  7.345240e-01  7.257016e-01  6.244603e-01  6.056471e-01   \n",
       "min    ... -3.483038e+01 -1.093314e+01 -4.480774e+01 -2.836627e+00   \n",
       "25%    ... -2.283949e-01 -5.423504e-01 -1.618463e-01 -3.545861e-01   \n",
       "50%    ... -2.945017e-02  6.781943e-03 -1.119293e-02  4.097606e-02   \n",
       "75%    ...  1.863772e-01  5.285536e-01  1.476421e-01  4.395266e-01   \n",
       "max    ...  2.720284e+01  1.050309e+01  2.252841e+01  4.584549e+00   \n",
       "\n",
       "                V25           V26           V27           V28         Amount  \\\n",
       "count  2.848070e+05  2.848070e+05  2.848070e+05  2.848070e+05  284807.000000   \n",
       "mean   5.109395e-16  1.686100e-15 -3.662399e-16 -1.225457e-16      88.349619   \n",
       "std    5.212781e-01  4.822270e-01  4.036325e-01  3.300833e-01     250.120109   \n",
       "min   -1.029540e+01 -2.604551e+00 -2.256568e+01 -1.543008e+01       0.000000   \n",
       "25%   -3.171451e-01 -3.269839e-01 -7.083953e-02 -5.295979e-02       5.600000   \n",
       "50%    1.659350e-02 -5.213911e-02  1.342146e-03  1.124383e-02      22.000000   \n",
       "75%    3.507156e-01  2.409522e-01  9.104512e-02  7.827995e-02      77.165000   \n",
       "max    7.519589e+00  3.517346e+00  3.161220e+01  3.384781e+01   25691.160000   \n",
       "\n",
       "               Class  \n",
       "count  284807.000000  \n",
       "mean        0.001727  \n",
       "std         0.041527  \n",
       "min         0.000000  \n",
       "25%         0.000000  \n",
       "50%         0.000000  \n",
       "75%         0.000000  \n",
       "max         1.000000  \n",
       "\n",
       "[8 rows x 31 columns]"
      ]
     },
     "execution_count": 9,
     "metadata": {},
     "output_type": "execute_result"
    }
   ],
   "source": [
    "df.describe()"
   ]
  },
  {
   "cell_type": "code",
   "execution_count": 10,
   "id": "3507e10f",
   "metadata": {
    "execution": {
     "iopub.execute_input": "2025-02-28T18:35:35.414944Z",
     "iopub.status.busy": "2025-02-28T18:35:35.414509Z",
     "iopub.status.idle": "2025-02-28T18:35:35.418971Z",
     "shell.execute_reply": "2025-02-28T18:35:35.417680Z"
    },
    "papermill": {
     "duration": 0.016577,
     "end_time": "2025-02-28T18:35:35.420890",
     "exception": false,
     "start_time": "2025-02-28T18:35:35.404313",
     "status": "completed"
    },
    "tags": []
   },
   "outputs": [],
   "source": [
    "# plt.figure(figsize=(12,31*4))\n",
    "# gs = gridspec.GridSpec(31,1)\n",
    "# for i, col in enumerate(df.columns):\n",
    "#     ax = plt.subplot(gs[i])\n",
    "#     sns.histplot(df[col][df['Class']==0],color='g',label='Genuine Class', kde=True, ax=ax)\n",
    "#     sns.histplot(df[col][df['Class']==1],color='r',label='Fraud Class', kde=True, ax=ax)\n",
    "#     ax.legend()\n",
    "#     ax.set_title(f'Distribution of {col}')\n",
    "# plt.show()"
   ]
  },
  {
   "cell_type": "code",
   "execution_count": 11,
   "id": "393ca4d3",
   "metadata": {
    "execution": {
     "iopub.execute_input": "2025-02-28T18:35:35.441623Z",
     "iopub.status.busy": "2025-02-28T18:35:35.441233Z",
     "iopub.status.idle": "2025-02-28T18:40:01.160505Z",
     "shell.execute_reply": "2025-02-28T18:40:01.159251Z"
    },
    "papermill": {
     "duration": 265.732546,
     "end_time": "2025-02-28T18:40:01.162830",
     "exception": false,
     "start_time": "2025-02-28T18:35:35.430284",
     "status": "completed"
    },
    "tags": []
   },
   "outputs": [
    {
     "name": "stderr",
     "output_type": "stream",
     "text": [
      "[Parallel(n_jobs=1)]: Done  49 tasks      | elapsed:  2.1min\n"
     ]
    }
   ],
   "source": [
    "#Selecting features that add value in calculating gaussian distribution based on Feature Importance score and plotting the feature score  \n",
    "from sklearn.ensemble import RandomForestClassifier\n",
    "from sklearn.feature_selection import SelectFromModel\n",
    "\n",
    "model_rf = RandomForestClassifier(n_estimators = 100, criterion = 'entropy', random_state = RANDOM_STATE, verbose=1)\n",
    "model_rf.fit(df.iloc[:,1:29], df.iloc[:,30]);\n",
    "feature_imp = model_rf.feature_importances_"
   ]
  },
  {
   "cell_type": "code",
   "execution_count": 12,
   "id": "da02b4fb",
   "metadata": {
    "execution": {
     "iopub.execute_input": "2025-02-28T18:40:01.184685Z",
     "iopub.status.busy": "2025-02-28T18:40:01.184322Z",
     "iopub.status.idle": "2025-02-28T18:40:01.191646Z",
     "shell.execute_reply": "2025-02-28T18:40:01.190649Z"
    },
    "papermill": {
     "duration": 0.019583,
     "end_time": "2025-02-28T18:40:01.193293",
     "exception": false,
     "start_time": "2025-02-28T18:40:01.173710",
     "status": "completed"
    },
    "tags": []
   },
   "outputs": [
    {
     "data": {
      "text/plain": [
       "array([0.00993135, 0.01151423, 0.03094147, 0.05859777, 0.01111938,\n",
       "       0.01184509, 0.02349397, 0.01134673, 0.01835727, 0.12512437,\n",
       "       0.04353889, 0.11843144, 0.00926438, 0.16374813, 0.00902838,\n",
       "       0.09483194, 0.12955986, 0.01846311, 0.0126338 , 0.01136201,\n",
       "       0.01416469, 0.00793817, 0.00682334, 0.00768428, 0.00701942,\n",
       "       0.01320974, 0.00989504, 0.0101317 ])"
      ]
     },
     "execution_count": 12,
     "metadata": {},
     "output_type": "execute_result"
    }
   ],
   "source": [
    "feature_imp"
   ]
  },
  {
   "cell_type": "code",
   "execution_count": 13,
   "id": "71687dec",
   "metadata": {
    "execution": {
     "iopub.execute_input": "2025-02-28T18:40:01.215102Z",
     "iopub.status.busy": "2025-02-28T18:40:01.214690Z",
     "iopub.status.idle": "2025-02-28T18:40:01.840545Z",
     "shell.execute_reply": "2025-02-28T18:40:01.839428Z"
    },
    "papermill": {
     "duration": 0.639468,
     "end_time": "2025-02-28T18:40:01.842368",
     "exception": false,
     "start_time": "2025-02-28T18:40:01.202900",
     "status": "completed"
    },
    "tags": []
   },
   "outputs": [
    {
     "data": {
      "image/png": "[encoded data removed]",
      "text/plain": [
       "<Figure size 1600x600 with 1 Axes>"
      ]
     },
     "metadata": {},
     "output_type": "display_data"
    }
   ],
   "source": [
    "y, x = [list(x) for x in zip(*sorted(zip(feature_imp, df.iloc[:,1:29].columns), reverse = True))]\n",
    "plt.figure(figsize=(16,6))\n",
    "plt.bar(range(len(feature_imp)), y, align='center')\n",
    "plt.xticks(range(len(feature_imp)), x, rotation='vertical')\n",
    "plt.title('Feature Importance')\n",
    "plt.ylabel('Feature Importance Score')\n",
    "plt.xlabel('Features')\n",
    "plt.show()"
   ]
  },
  {
   "cell_type": "code",
   "execution_count": 14,
   "id": "01de4172",
   "metadata": {
    "execution": {
     "iopub.execute_input": "2025-02-28T18:40:01.864103Z",
     "iopub.status.busy": "2025-02-28T18:40:01.863704Z",
     "iopub.status.idle": "2025-02-28T18:40:01.897930Z",
     "shell.execute_reply": "2025-02-28T18:40:01.896871Z"
    },
    "papermill": {
     "duration": 0.047043,
     "end_time": "2025-02-28T18:40:01.899839",
     "exception": false,
     "start_time": "2025-02-28T18:40:01.852796",
     "status": "completed"
    },
    "tags": []
   },
   "outputs": [
    {
     "data": {
      "text/html": [
       "<div>\n",
       "<style scoped>\n",
       "    .dataframe tbody tr th:only-of-type {\n",
       "        vertical-align: middle;\n",
       "    }\n",
       "\n",
       "    .dataframe tbody tr th {\n",
       "        vertical-align: top;\n",
       "    }\n",
       "\n",
       "    .dataframe thead th {\n",
       "        text-align: right;\n",
       "    }\n",
       "</style>\n",
       "<table border=\"1\" class=\"dataframe\">\n",
       "  <thead>\n",
       "    <tr style=\"text-align: right;\">\n",
       "      <th></th>\n",
       "      <th>V3</th>\n",
       "      <th>V4</th>\n",
       "      <th>V7</th>\n",
       "      <th>V10</th>\n",
       "      <th>V11</th>\n",
       "      <th>V12</th>\n",
       "      <th>V14</th>\n",
       "      <th>V16</th>\n",
       "      <th>V17</th>\n",
       "      <th>Class</th>\n",
       "    </tr>\n",
       "  </thead>\n",
       "  <tbody>\n",
       "    <tr>\n",
       "      <th>0</th>\n",
       "      <td>2.536347</td>\n",
       "      <td>1.378155</td>\n",
       "      <td>0.239599</td>\n",
       "      <td>0.090794</td>\n",
       "      <td>-0.551600</td>\n",
       "      <td>-0.617801</td>\n",
       "      <td>-0.311169</td>\n",
       "      <td>-0.470401</td>\n",
       "      <td>0.207971</td>\n",
       "      <td>0</td>\n",
       "    </tr>\n",
       "    <tr>\n",
       "      <th>1</th>\n",
       "      <td>0.166480</td>\n",
       "      <td>0.448154</td>\n",
       "      <td>-0.078803</td>\n",
       "      <td>-0.166974</td>\n",
       "      <td>1.612727</td>\n",
       "      <td>1.065235</td>\n",
       "      <td>-0.143772</td>\n",
       "      <td>0.463917</td>\n",
       "      <td>-0.114805</td>\n",
       "      <td>0</td>\n",
       "    </tr>\n",
       "    <tr>\n",
       "      <th>2</th>\n",
       "      <td>1.773209</td>\n",
       "      <td>0.379780</td>\n",
       "      <td>0.791461</td>\n",
       "      <td>0.207643</td>\n",
       "      <td>0.624501</td>\n",
       "      <td>0.066084</td>\n",
       "      <td>-0.165946</td>\n",
       "      <td>-2.890083</td>\n",
       "      <td>1.109969</td>\n",
       "      <td>0</td>\n",
       "    </tr>\n",
       "    <tr>\n",
       "      <th>3</th>\n",
       "      <td>1.792993</td>\n",
       "      <td>-0.863291</td>\n",
       "      <td>0.237609</td>\n",
       "      <td>-0.054952</td>\n",
       "      <td>-0.226487</td>\n",
       "      <td>0.178228</td>\n",
       "      <td>-0.287924</td>\n",
       "      <td>-1.059647</td>\n",
       "      <td>-0.684093</td>\n",
       "      <td>0</td>\n",
       "    </tr>\n",
       "    <tr>\n",
       "      <th>4</th>\n",
       "      <td>1.548718</td>\n",
       "      <td>0.403034</td>\n",
       "      <td>0.592941</td>\n",
       "      <td>0.753074</td>\n",
       "      <td>-0.822843</td>\n",
       "      <td>0.538196</td>\n",
       "      <td>-1.119670</td>\n",
       "      <td>-0.451449</td>\n",
       "      <td>-0.237033</td>\n",
       "      <td>0</td>\n",
       "    </tr>\n",
       "    <tr>\n",
       "      <th>...</th>\n",
       "      <td>...</td>\n",
       "      <td>...</td>\n",
       "      <td>...</td>\n",
       "      <td>...</td>\n",
       "      <td>...</td>\n",
       "      <td>...</td>\n",
       "      <td>...</td>\n",
       "      <td>...</td>\n",
       "      <td>...</td>\n",
       "      <td>...</td>\n",
       "    </tr>\n",
       "    <tr>\n",
       "      <th>284802</th>\n",
       "      <td>-9.834783</td>\n",
       "      <td>-2.066656</td>\n",
       "      <td>-4.918215</td>\n",
       "      <td>4.356170</td>\n",
       "      <td>-1.593105</td>\n",
       "      <td>2.711941</td>\n",
       "      <td>4.626942</td>\n",
       "      <td>1.107641</td>\n",
       "      <td>1.991691</td>\n",
       "      <td>0</td>\n",
       "    </tr>\n",
       "    <tr>\n",
       "      <th>284803</th>\n",
       "      <td>2.035030</td>\n",
       "      <td>-0.738589</td>\n",
       "      <td>0.024330</td>\n",
       "      <td>-0.975926</td>\n",
       "      <td>-0.150189</td>\n",
       "      <td>0.915802</td>\n",
       "      <td>-0.675143</td>\n",
       "      <td>-0.711757</td>\n",
       "      <td>-0.025693</td>\n",
       "      <td>0</td>\n",
       "    </tr>\n",
       "    <tr>\n",
       "      <th>284804</th>\n",
       "      <td>-3.249640</td>\n",
       "      <td>-0.557828</td>\n",
       "      <td>-0.296827</td>\n",
       "      <td>-0.484782</td>\n",
       "      <td>0.411614</td>\n",
       "      <td>0.063119</td>\n",
       "      <td>-0.510602</td>\n",
       "      <td>0.140716</td>\n",
       "      <td>0.313502</td>\n",
       "      <td>0</td>\n",
       "    </tr>\n",
       "    <tr>\n",
       "      <th>284805</th>\n",
       "      <td>0.702510</td>\n",
       "      <td>0.689799</td>\n",
       "      <td>-0.686180</td>\n",
       "      <td>-0.399126</td>\n",
       "      <td>-1.933849</td>\n",
       "      <td>-0.962886</td>\n",
       "      <td>0.449624</td>\n",
       "      <td>-0.608577</td>\n",
       "      <td>0.509928</td>\n",
       "      <td>0</td>\n",
       "    </tr>\n",
       "    <tr>\n",
       "      <th>284806</th>\n",
       "      <td>0.703337</td>\n",
       "      <td>-0.506271</td>\n",
       "      <td>1.577006</td>\n",
       "      <td>-0.915427</td>\n",
       "      <td>-1.040458</td>\n",
       "      <td>-0.031513</td>\n",
       "      <td>-0.084316</td>\n",
       "      <td>-0.302620</td>\n",
       "      <td>-0.660377</td>\n",
       "      <td>0</td>\n",
       "    </tr>\n",
       "  </tbody>\n",
       "</table>\n",
       "<p>284807 rows × 10 columns</p>\n",
       "</div>"
      ],
      "text/plain": [
       "              V3        V4        V7       V10       V11       V12       V14  \\\n",
       "0       2.536347  1.378155  0.239599  0.090794 -0.551600 -0.617801 -0.311169   \n",
       "1       0.166480  0.448154 -0.078803 -0.166974  1.612727  1.065235 -0.143772   \n",
       "2       1.773209  0.379780  0.791461  0.207643  0.624501  0.066084 -0.165946   \n",
       "3       1.792993 -0.863291  0.237609 -0.054952 -0.226487  0.178228 -0.287924   \n",
       "4       1.548718  0.403034  0.592941  0.753074 -0.822843  0.538196 -1.119670   \n",
       "...          ...       ...       ...       ...       ...       ...       ...   \n",
       "284802 -9.834783 -2.066656 -4.918215  4.356170 -1.593105  2.711941  4.626942   \n",
       "284803  2.035030 -0.738589  0.024330 -0.975926 -0.150189  0.915802 -0.675143   \n",
       "284804 -3.249640 -0.557828 -0.296827 -0.484782  0.411614  0.063119 -0.510602   \n",
       "284805  0.702510  0.689799 -0.686180 -0.399126 -1.933849 -0.962886  0.449624   \n",
       "284806  0.703337 -0.506271  1.577006 -0.915427 -1.040458 -0.031513 -0.084316   \n",
       "\n",
       "             V16       V17  Class  \n",
       "0      -0.470401  0.207971      0  \n",
       "1       0.463917 -0.114805      0  \n",
       "2      -2.890083  1.109969      0  \n",
       "3      -1.059647 -0.684093      0  \n",
       "4      -0.451449 -0.237033      0  \n",
       "...          ...       ...    ...  \n",
       "284802  1.107641  1.991691      0  \n",
       "284803 -0.711757 -0.025693      0  \n",
       "284804  0.140716  0.313502      0  \n",
       "284805 -0.608577  0.509928      0  \n",
       "284806 -0.302620 -0.660377      0  \n",
       "\n",
       "[284807 rows x 10 columns]"
      ]
     },
     "execution_count": 14,
     "metadata": {},
     "output_type": "execute_result"
    }
   ],
   "source": [
    "unimportant_features=[i for i,j in zip(x,y) if j<0.020] #features below threshold value -> ['V19','V8','V21','V26','V20','V1','V27','V2','V6','V28','V15','V5','V13','V22','V25','V23','V24']\n",
    "df.drop(unimportant_features, axis=1, inplace=True)\n",
    "df.drop(labels = [\"Amount\", \"Time\"], axis=1, inplace = True)\n",
    "df"
   ]
  },
  {
   "cell_type": "code",
   "execution_count": 15,
   "id": "c6069ba8",
   "metadata": {
    "execution": {
     "iopub.execute_input": "2025-02-28T18:40:01.922242Z",
     "iopub.status.busy": "2025-02-28T18:40:01.921874Z",
     "iopub.status.idle": "2025-02-28T18:40:01.928775Z",
     "shell.execute_reply": "2025-02-28T18:40:01.927670Z"
    },
    "papermill": {
     "duration": 0.020061,
     "end_time": "2025-02-28T18:40:01.930580",
     "exception": false,
     "start_time": "2025-02-28T18:40:01.910519",
     "status": "completed"
    },
    "tags": []
   },
   "outputs": [
    {
     "data": {
      "text/plain": [
       "Index(['V3', 'V4', 'V7', 'V10', 'V11', 'V12', 'V14', 'V16', 'V17'], dtype='object')"
      ]
     },
     "execution_count": 15,
     "metadata": {},
     "output_type": "execute_result"
    }
   ],
   "source": [
    "features = df.columns.drop('Class')\n",
    "features"
   ]
  },
  {
   "cell_type": "code",
   "execution_count": 16,
   "id": "74ae0269",
   "metadata": {
    "execution": {
     "iopub.execute_input": "2025-02-28T18:40:01.955225Z",
     "iopub.status.busy": "2025-02-28T18:40:01.954680Z",
     "iopub.status.idle": "2025-02-28T18:40:01.982149Z",
     "shell.execute_reply": "2025-02-28T18:40:01.980285Z"
    },
    "papermill": {
     "duration": 0.042354,
     "end_time": "2025-02-28T18:40:01.984125",
     "exception": false,
     "start_time": "2025-02-28T18:40:01.941771",
     "status": "completed"
    },
    "tags": []
   },
   "outputs": [
    {
     "name": "stdout",
     "output_type": "stream",
     "text": [
      "Genuine:\n",
      "          V3        V4        V7       V10       V11       V12       V14  \\\n",
      "0  2.536347  1.378155  0.239599  0.090794 -0.551600 -0.617801 -0.311169   \n",
      "1  0.166480  0.448154 -0.078803 -0.166974  1.612727  1.065235 -0.143772   \n",
      "2  1.773209  0.379780  0.791461  0.207643  0.624501  0.066084 -0.165946   \n",
      "3  1.792993 -0.863291  0.237609 -0.054952 -0.226487  0.178228 -0.287924   \n",
      "4  1.548718  0.403034  0.592941  0.753074 -0.822843  0.538196 -1.119670   \n",
      "\n",
      "        V16       V17  Class  \n",
      "0 -0.470401  0.207971      0  \n",
      "1  0.463917 -0.114805      0  \n",
      "2 -2.890083  1.109969      0  \n",
      "3 -1.059647 -0.684093      0  \n",
      "4 -0.451449 -0.237033      0  \n",
      "Fraud:\n",
      "             V3        V4        V7       V10       V11        V12       V14  \\\n",
      "541  -1.609851  3.997906 -2.537387 -2.772272  3.202033  -2.899907 -4.289254   \n",
      "623   1.088463  2.288644  0.325574 -0.838587 -0.414575  -0.503141 -1.692029   \n",
      "4920 -0.359745  2.330243  0.562320 -1.525412  2.032912  -6.560124 -1.470102   \n",
      "6108 -2.592844  2.679787 -3.496197 -4.801637  4.895844 -10.912819 -6.771097   \n",
      "6329 -4.304597  4.732795  1.713445 -2.447469  2.101344  -4.609628 -6.079337   \n",
      "\n",
      "           V16        V17  Class  \n",
      "541  -1.140747  -2.830056      1  \n",
      "623   0.666780   0.599717      1  \n",
      "4920 -2.282194  -4.781831      1  \n",
      "6108 -7.358083 -12.598419      1  \n",
      "6329  2.581851   6.739384      1  \n"
     ]
    }
   ],
   "source": [
    "gen_trans = df[df['Class'] == 0]\n",
    "fr_trans =df[df['Class'] == 1]\n",
    "\n",
    "print(\"Genuine:\\n\", gen_trans.head())\n",
    "print(\"Fraud:\\n\", fr_trans.head())"
   ]
  },
  {
   "cell_type": "code",
   "execution_count": 17,
   "id": "89e0983c",
   "metadata": {
    "execution": {
     "iopub.execute_input": "2025-02-28T18:40:02.006908Z",
     "iopub.status.busy": "2025-02-28T18:40:02.006413Z",
     "iopub.status.idle": "2025-02-28T18:40:02.011220Z",
     "shell.execute_reply": "2025-02-28T18:40:02.010037Z"
    },
    "papermill": {
     "duration": 0.018372,
     "end_time": "2025-02-28T18:40:02.013050",
     "exception": false,
     "start_time": "2025-02-28T18:40:01.994678",
     "status": "completed"
    },
    "tags": []
   },
   "outputs": [],
   "source": [
    "scaler = StandardScaler()"
   ]
  },
  {
   "cell_type": "code",
   "execution_count": 18,
   "id": "09d4373f",
   "metadata": {
    "execution": {
     "iopub.execute_input": "2025-02-28T18:40:02.036295Z",
     "iopub.status.busy": "2025-02-28T18:40:02.035930Z",
     "iopub.status.idle": "2025-02-28T18:40:02.084370Z",
     "shell.execute_reply": "2025-02-28T18:40:02.083189Z"
    },
    "papermill": {
     "duration": 0.062298,
     "end_time": "2025-02-28T18:40:02.086508",
     "exception": false,
     "start_time": "2025-02-28T18:40:02.024210",
     "status": "completed"
    },
    "tags": []
   },
   "outputs": [],
   "source": [
    "gen_train, gen_vt = train_test_split(gen_trans, train_size=0.7, random_state=RANDOM_STATE)"
   ]
  },
  {
   "cell_type": "code",
   "execution_count": 19,
   "id": "bfc8a5b9",
   "metadata": {
    "execution": {
     "iopub.execute_input": "2025-02-28T18:40:02.109598Z",
     "iopub.status.busy": "2025-02-28T18:40:02.109231Z",
     "iopub.status.idle": "2025-02-28T18:40:02.113547Z",
     "shell.execute_reply": "2025-02-28T18:40:02.112233Z"
    },
    "papermill": {
     "duration": 0.01799,
     "end_time": "2025-02-28T18:40:02.115395",
     "exception": false,
     "start_time": "2025-02-28T18:40:02.097405",
     "status": "completed"
    },
    "tags": []
   },
   "outputs": [],
   "source": [
    "# gen_train_scaled = scaler.fit_transform(gen_train[features])\n",
    "# gen_vt_scaled = scaler.transform(gen_vt[features])\n",
    "# gen_train_scaled"
   ]
  },
  {
   "cell_type": "code",
   "execution_count": 20,
   "id": "d8709ca8",
   "metadata": {
    "execution": {
     "iopub.execute_input": "2025-02-28T18:40:02.138639Z",
     "iopub.status.busy": "2025-02-28T18:40:02.138178Z",
     "iopub.status.idle": "2025-02-28T18:40:02.151623Z",
     "shell.execute_reply": "2025-02-28T18:40:02.150331Z"
    },
    "papermill": {
     "duration": 0.02755,
     "end_time": "2025-02-28T18:40:02.153762",
     "exception": false,
     "start_time": "2025-02-28T18:40:02.126212",
     "status": "completed"
    },
    "tags": []
   },
   "outputs": [
    {
     "data": {
      "text/plain": [
       "(199020, 9)"
      ]
     },
     "execution_count": 20,
     "metadata": {},
     "output_type": "execute_result"
    }
   ],
   "source": [
    "# X_train = gen_train_scaled\n",
    "X_train = gen_train[features]\n",
    "X_train.shape"
   ]
  },
  {
   "cell_type": "code",
   "execution_count": 21,
   "id": "921d0016",
   "metadata": {
    "execution": {
     "iopub.execute_input": "2025-02-28T18:40:02.177347Z",
     "iopub.status.busy": "2025-02-28T18:40:02.176969Z",
     "iopub.status.idle": "2025-02-28T18:40:02.199905Z",
     "shell.execute_reply": "2025-02-28T18:40:02.198417Z"
    },
    "papermill": {
     "duration": 0.037018,
     "end_time": "2025-02-28T18:40:02.202009",
     "exception": false,
     "start_time": "2025-02-28T18:40:02.164991",
     "status": "completed"
    },
    "tags": []
   },
   "outputs": [
    {
     "name": "stdout",
     "output_type": "stream",
     "text": [
      "Genuine Val:  (42647, 9)\n",
      "Genuine Test:  (42648, 9)\n"
     ]
    }
   ],
   "source": [
    "# gen_val, gen_test = train_test_split(gen_vt_scaled, test_size=0.5, random_state=RANDOM_STATE)\n",
    "gen_val, gen_test = train_test_split(gen_vt[features], test_size=0.5, random_state=RANDOM_STATE)\n",
    "\n",
    "print(\"Genuine Val: \",gen_val.shape)\n",
    "print(\"Genuine Test: \",gen_test.shape)"
   ]
  },
  {
   "cell_type": "code",
   "execution_count": 22,
   "id": "eb9ae20a",
   "metadata": {
    "execution": {
     "iopub.execute_input": "2025-02-28T18:40:02.225550Z",
     "iopub.status.busy": "2025-02-28T18:40:02.225173Z",
     "iopub.status.idle": "2025-02-28T18:40:02.234570Z",
     "shell.execute_reply": "2025-02-28T18:40:02.233245Z"
    },
    "papermill": {
     "duration": 0.023575,
     "end_time": "2025-02-28T18:40:02.236601",
     "exception": false,
     "start_time": "2025-02-28T18:40:02.213026",
     "status": "completed"
    },
    "tags": []
   },
   "outputs": [
    {
     "name": "stdout",
     "output_type": "stream",
     "text": [
      "Fraud Val:  (246, 9)\n",
      "Fraud Test:  (246, 9)\n"
     ]
    }
   ],
   "source": [
    "fr_val, fr_test =  train_test_split(fr_trans[features], test_size=0.5, random_state=RANDOM_STATE)\n",
    "print(\"Fraud Val: \",fr_val.shape)\n",
    "print(\"Fraud Test: \",fr_test.shape)"
   ]
  },
  {
   "cell_type": "code",
   "execution_count": 23,
   "id": "3b0cd6f2",
   "metadata": {
    "execution": {
     "iopub.execute_input": "2025-02-28T18:40:02.261106Z",
     "iopub.status.busy": "2025-02-28T18:40:02.260685Z",
     "iopub.status.idle": "2025-02-28T18:40:02.265277Z",
     "shell.execute_reply": "2025-02-28T18:40:02.263950Z"
    },
    "papermill": {
     "duration": 0.018602,
     "end_time": "2025-02-28T18:40:02.267218",
     "exception": false,
     "start_time": "2025-02-28T18:40:02.248616",
     "status": "completed"
    },
    "tags": []
   },
   "outputs": [],
   "source": [
    "# fr_val_scaled = scaler.transform(fr_val[features])\n",
    "# fr_test_scaled = scaler.transform(fr_test[features])"
   ]
  },
  {
   "cell_type": "code",
   "execution_count": 24,
   "id": "e5e66878",
   "metadata": {
    "execution": {
     "iopub.execute_input": "2025-02-28T18:40:02.290624Z",
     "iopub.status.busy": "2025-02-28T18:40:02.290085Z",
     "iopub.status.idle": "2025-02-28T18:40:02.303530Z",
     "shell.execute_reply": "2025-02-28T18:40:02.302360Z"
    },
    "papermill": {
     "duration": 0.027397,
     "end_time": "2025-02-28T18:40:02.305617",
     "exception": false,
     "start_time": "2025-02-28T18:40:02.278220",
     "status": "completed"
    },
    "tags": []
   },
   "outputs": [],
   "source": [
    "# X_val = np.concatenate([gen_val, fr_val_scaled])\n",
    "# y_val = np.concatenate([np.zeros(len(gen_val)), np.ones(len(fr_val_scaled))])\n",
    "\n",
    "# X_test = np.concatenate([gen_test, fr_test_scaled])\n",
    "# y_test = np.concatenate([np.zeros(len(gen_test)), np.ones(len(fr_test_scaled))])\n",
    "\n",
    "X_val = np.concatenate([gen_val, fr_val])\n",
    "y_val = np.concatenate([np.zeros(len(gen_val)), np.ones(len(fr_val))])\n",
    "\n",
    "X_test = np.concatenate([gen_test, fr_test])\n",
    "y_test = np.concatenate([np.zeros(len(gen_test)), np.ones(len(fr_test))])"
   ]
  },
  {
   "cell_type": "markdown",
   "id": "61fb0efb",
   "metadata": {
    "papermill": {
     "duration": 0.010585,
     "end_time": "2025-02-28T18:40:02.327369",
     "exception": false,
     "start_time": "2025-02-28T18:40:02.316784",
     "status": "completed"
    },
    "tags": []
   },
   "source": [
    "**Visualization**"
   ]
  },
  {
   "cell_type": "code",
   "execution_count": 25,
   "id": "be2fd1ca",
   "metadata": {
    "execution": {
     "iopub.execute_input": "2025-02-28T18:40:02.350944Z",
     "iopub.status.busy": "2025-02-28T18:40:02.350556Z",
     "iopub.status.idle": "2025-02-28T18:40:02.523057Z",
     "shell.execute_reply": "2025-02-28T18:40:02.521795Z"
    },
    "papermill": {
     "duration": 0.186558,
     "end_time": "2025-02-28T18:40:02.525063",
     "exception": false,
     "start_time": "2025-02-28T18:40:02.338505",
     "status": "completed"
    },
    "tags": []
   },
   "outputs": [
    {
     "data": {
      "image/png": "[encoded data removed]",
      "text/plain": [
       "<Figure size 800x600 with 1 Axes>"
      ]
     },
     "metadata": {},
     "output_type": "display_data"
    }
   ],
   "source": [
    "cats = ['Genuine', 'Fraudulent']\n",
    "vals = [len(gen_trans), len(fr_trans)]\n",
    "\n",
    "plt.figure(figsize = (8,6))\n",
    "plt.bar(cats, vals, color=['skyblue', 'salmon'])\n",
    "\n",
    "# Add titles and labels\n",
    "plt.title('Number of Genuine vs. Fraudulent Transactions')\n",
    "plt.xlabel('Transaction Type')\n",
    "plt.ylabel('Number of Transactions')\n",
    "\n",
    "# Show the plot\n",
    "plt.show()"
   ]
  },
  {
   "cell_type": "code",
   "execution_count": 26,
   "id": "adb50de7",
   "metadata": {
    "execution": {
     "iopub.execute_input": "2025-02-28T18:40:02.550937Z",
     "iopub.status.busy": "2025-02-28T18:40:02.550525Z",
     "iopub.status.idle": "2025-02-28T18:40:02.555171Z",
     "shell.execute_reply": "2025-02-28T18:40:02.553909Z"
    },
    "papermill": {
     "duration": 0.019601,
     "end_time": "2025-02-28T18:40:02.556968",
     "exception": false,
     "start_time": "2025-02-28T18:40:02.537367",
     "status": "completed"
    },
    "tags": []
   },
   "outputs": [],
   "source": [
    "# plt.figure(figsize=(12, 6))\n",
    "# plt.scatter(gen_trans['Time']/3600, gen_trans['Amount'], alpha=0.5, label='Genuine', color='skyblue')\n",
    "# plt.scatter(fr_trans['Time']/3600, fr_trans['Amount'], alpha=0.5, label='Fraudulent', color='salmon')\n",
    "# plt.title('Transaction Amount vs. Time')\n",
    "# plt.xlabel('Time (Hours)')\n",
    "# plt.ylabel('Transaction Amount')\n",
    "# plt.legend()\n",
    "# plt.show()"
   ]
  },
  {
   "cell_type": "code",
   "execution_count": 27,
   "id": "92164db0",
   "metadata": {
    "execution": {
     "iopub.execute_input": "2025-02-28T18:40:02.583654Z",
     "iopub.status.busy": "2025-02-28T18:40:02.583152Z",
     "iopub.status.idle": "2025-02-28T18:40:02.588936Z",
     "shell.execute_reply": "2025-02-28T18:40:02.587555Z"
    },
    "papermill": {
     "duration": 0.020965,
     "end_time": "2025-02-28T18:40:02.590856",
     "exception": false,
     "start_time": "2025-02-28T18:40:02.569891",
     "status": "completed"
    },
    "tags": []
   },
   "outputs": [],
   "source": [
    "# def estimate_meanvar(X_train):\n",
    "#     m, n = X_train.shape\n",
    "#     means = np.mean(X_train, axis=0)\n",
    "#     variances = np.var(X_train, axis=0)\n",
    "#     return means, variances"
   ]
  },
  {
   "cell_type": "code",
   "execution_count": 28,
   "id": "77a87f70",
   "metadata": {
    "execution": {
     "iopub.execute_input": "2025-02-28T18:40:02.615913Z",
     "iopub.status.busy": "2025-02-28T18:40:02.615439Z",
     "iopub.status.idle": "2025-02-28T18:40:02.619757Z",
     "shell.execute_reply": "2025-02-28T18:40:02.618632Z"
    },
    "papermill": {
     "duration": 0.019427,
     "end_time": "2025-02-28T18:40:02.621900",
     "exception": false,
     "start_time": "2025-02-28T18:40:02.602473",
     "status": "completed"
    },
    "tags": []
   },
   "outputs": [],
   "source": [
    "# def eqn(x, mean, var):\n",
    "#     sd = np.sqrt(var)\n",
    "#     eq = (1/ (np.sqrt(2*np.pi) * sd)) * (np.exp(-np.square(x-mean)/(2*var)))\n",
    "#     return eq\n",
    "\n",
    "# def eqn(x, mean, var):\n",
    "#     sd = np.sqrt(var)\n",
    "#     return norm.pdf(x, mean, sd)"
   ]
  },
  {
   "cell_type": "code",
   "execution_count": 29,
   "id": "0dc22926",
   "metadata": {
    "execution": {
     "iopub.execute_input": "2025-02-28T18:40:02.648171Z",
     "iopub.status.busy": "2025-02-28T18:40:02.647822Z",
     "iopub.status.idle": "2025-02-28T18:40:02.652051Z",
     "shell.execute_reply": "2025-02-28T18:40:02.650823Z"
    },
    "papermill": {
     "duration": 0.018883,
     "end_time": "2025-02-28T18:40:02.653968",
     "exception": false,
     "start_time": "2025-02-28T18:40:02.635085",
     "status": "completed"
    },
    "tags": []
   },
   "outputs": [],
   "source": [
    "# def estimate_gaussian(X_train, means, variances):\n",
    "#     m, n = X_train.shape\n",
    "#     pros = np.prod(eqn(X_train, means, variances), axis=1)\n",
    "#     return pros\n",
    "            "
   ]
  },
  {
   "cell_type": "code",
   "execution_count": 30,
   "id": "c10c7980",
   "metadata": {
    "execution": {
     "iopub.execute_input": "2025-02-28T18:40:02.680608Z",
     "iopub.status.busy": "2025-02-28T18:40:02.680178Z",
     "iopub.status.idle": "2025-02-28T18:40:02.684183Z",
     "shell.execute_reply": "2025-02-28T18:40:02.683051Z"
    },
    "papermill": {
     "duration": 0.019223,
     "end_time": "2025-02-28T18:40:02.686101",
     "exception": false,
     "start_time": "2025-02-28T18:40:02.666878",
     "status": "completed"
    },
    "tags": []
   },
   "outputs": [],
   "source": [
    "# means, variances = estimate_meanvar(X_train)\n",
    "# pros_train = estimate_gaussian(X_train, means, variances)\n",
    "# print(pros_train[:5])"
   ]
  },
  {
   "cell_type": "code",
   "execution_count": 31,
   "id": "63cd7cb8",
   "metadata": {
    "execution": {
     "iopub.execute_input": "2025-02-28T18:40:02.711933Z",
     "iopub.status.busy": "2025-02-28T18:40:02.711495Z",
     "iopub.status.idle": "2025-02-28T18:40:02.758817Z",
     "shell.execute_reply": "2025-02-28T18:40:02.757631Z"
    },
    "papermill": {
     "duration": 0.062825,
     "end_time": "2025-02-28T18:40:02.760683",
     "exception": false,
     "start_time": "2025-02-28T18:40:02.697858",
     "status": "completed"
    },
    "tags": []
   },
   "outputs": [
    {
     "data": {
      "text/plain": [
       "V3     0.015002\n",
       "V4    -0.009196\n",
       "V7     0.008345\n",
       "V10    0.009024\n",
       "V11   -0.007338\n",
       "V12    0.010012\n",
       "V14    0.012683\n",
       "V16    0.006495\n",
       "V17    0.011088\n",
       "dtype: float64"
      ]
     },
     "execution_count": 31,
     "metadata": {},
     "output_type": "execute_result"
    }
   ],
   "source": [
    "from scipy.stats import multivariate_normal\n",
    "\n",
    "mu = np.mean(X_train, axis=0)\n",
    "sigma  = np.cov(X_train.T)\n",
    "mu"
   ]
  },
  {
   "cell_type": "code",
   "execution_count": 32,
   "id": "c82660fa",
   "metadata": {
    "execution": {
     "iopub.execute_input": "2025-02-28T18:40:02.785511Z",
     "iopub.status.busy": "2025-02-28T18:40:02.785101Z",
     "iopub.status.idle": "2025-02-28T18:40:02.875890Z",
     "shell.execute_reply": "2025-02-28T18:40:02.874620Z"
    },
    "papermill": {
     "duration": 0.105219,
     "end_time": "2025-02-28T18:40:02.877875",
     "exception": false,
     "start_time": "2025-02-28T18:40:02.772656",
     "status": "completed"
    },
    "tags": []
   },
   "outputs": [
    {
     "data": {
      "text/plain": [
       "array([1.26093597e-05, 1.72103913e-06, 3.88150646e-05, ...,\n",
       "       0.00000000e+00, 7.10598682e-91, 1.55879748e-11])"
      ]
     },
     "execution_count": 32,
     "metadata": {},
     "output_type": "execute_result"
    }
   ],
   "source": [
    "def multivariateGaussian(X, mu, sigma):\n",
    "    p = multivariate_normal(mean = mu, cov = sigma)\n",
    "    return p.pdf(X)\n",
    "\n",
    "p_train = multivariateGaussian(X_train, mu, sigma)\n",
    "p_val = multivariateGaussian(X_val, mu, sigma)\n",
    "p_test = multivariateGaussian(X_test, mu, sigma)\n",
    "p_val\n"
   ]
  },
  {
   "cell_type": "code",
   "execution_count": 33,
   "id": "4e64bd81",
   "metadata": {
    "execution": {
     "iopub.execute_input": "2025-02-28T18:40:02.907806Z",
     "iopub.status.busy": "2025-02-28T18:40:02.907367Z",
     "iopub.status.idle": "2025-02-28T18:40:02.911971Z",
     "shell.execute_reply": "2025-02-28T18:40:02.910838Z"
    },
    "papermill": {
     "duration": 0.020393,
     "end_time": "2025-02-28T18:40:02.913980",
     "exception": false,
     "start_time": "2025-02-28T18:40:02.893587",
     "status": "completed"
    },
    "tags": []
   },
   "outputs": [],
   "source": [
    "# plt.figure(figsize=(10,6))\n",
    "# plt.hist(pros_train, bins=50, color='skyblue', edgecolor='black')\n",
    "# plt.title('Histogram of Training Probabilities')\n",
    "# plt.xlabel('Probability')\n",
    "# plt.ylabel('Frequency')\n",
    "# plt.plot()\n",
    "    "
   ]
  },
  {
   "cell_type": "code",
   "execution_count": 34,
   "id": "8238c6ef",
   "metadata": {
    "execution": {
     "iopub.execute_input": "2025-02-28T18:40:02.939033Z",
     "iopub.status.busy": "2025-02-28T18:40:02.938634Z",
     "iopub.status.idle": "2025-02-28T18:40:02.942906Z",
     "shell.execute_reply": "2025-02-28T18:40:02.941705Z"
    },
    "papermill": {
     "duration": 0.019088,
     "end_time": "2025-02-28T18:40:02.944896",
     "exception": false,
     "start_time": "2025-02-28T18:40:02.925808",
     "status": "completed"
    },
    "tags": []
   },
   "outputs": [],
   "source": [
    "# # Scatter plot of probabilities\n",
    "# plt.figure(figsize=(10, 6))\n",
    "# plt.scatter(range(len(pros_train)), pros_train, alpha=0.5, color='skyblue')\n",
    "# plt.title('Scatter Plot of Training Probabilities')\n",
    "# plt.xlabel('Sample Index')\n",
    "# plt.ylabel('Probability')\n",
    "# plt.show()"
   ]
  },
  {
   "cell_type": "code",
   "execution_count": 35,
   "id": "da0ab5df",
   "metadata": {
    "execution": {
     "iopub.execute_input": "2025-02-28T18:40:02.972674Z",
     "iopub.status.busy": "2025-02-28T18:40:02.972106Z",
     "iopub.status.idle": "2025-02-28T18:40:02.976785Z",
     "shell.execute_reply": "2025-02-28T18:40:02.975256Z"
    },
    "papermill": {
     "duration": 0.020868,
     "end_time": "2025-02-28T18:40:02.979439",
     "exception": false,
     "start_time": "2025-02-28T18:40:02.958571",
     "status": "completed"
    },
    "tags": []
   },
   "outputs": [],
   "source": [
    "# threshold = 0.05e-19  # Example threshold\n",
    "# outliers = pros_train < threshold\n",
    "\n",
    "# # Plot identified outliers\n",
    "# plt.figure(figsize=(10, 6))\n",
    "# plt.scatter(range(len(pros_train)), pros_train, alpha=0.5, color='skyblue', label='Normal')\n",
    "# plt.scatter(np.where(outliers)[0], pros_train[outliers], color='red', label='Outliers')\n",
    "# plt.title('Scatter Plot of Training Probabilities with Outliers')\n",
    "# plt.xlabel('Sample Index')\n",
    "# plt.ylabel('Probability')\n",
    "# plt.legend()\n",
    "# plt.show()\n"
   ]
  },
  {
   "cell_type": "code",
   "execution_count": 36,
   "id": "e3dd9c73",
   "metadata": {
    "execution": {
     "iopub.execute_input": "2025-02-28T18:40:03.012005Z",
     "iopub.status.busy": "2025-02-28T18:40:03.011087Z",
     "iopub.status.idle": "2025-02-28T18:40:03.018943Z",
     "shell.execute_reply": "2025-02-28T18:40:03.017642Z"
    },
    "papermill": {
     "duration": 0.027774,
     "end_time": "2025-02-28T18:40:03.021192",
     "exception": false,
     "start_time": "2025-02-28T18:40:02.993418",
     "status": "completed"
    },
    "tags": []
   },
   "outputs": [],
   "source": [
    "def select_threshold(y_val, p_val):\n",
    "    best_eps = 0\n",
    "    best_F1 =0\n",
    "    step_size = (np.max(p_val) - np.min(p_val))/1000\n",
    "    n = len(y_val)\n",
    "\n",
    "    for eps in np.arange(min(p_val),1.05828e-41,0.0000000000000000000000000000000000105828e-10):\n",
    "        y_pred = p_val<eps\n",
    "        F1 = f1_score(y_val, y_pred)\n",
    "        if F1>best_F1:\n",
    "            best_F1 = F1\n",
    "            best_eps = eps\n",
    "            y_pred_best = y_pred\n",
    "\n",
    "    return best_eps, best_F1, y_pred_best\n",
    "        \n",
    "    \n",
    "        "
   ]
  },
  {
   "cell_type": "code",
   "execution_count": 37,
   "id": "b5853558",
   "metadata": {
    "execution": {
     "iopub.execute_input": "2025-02-28T18:40:03.127604Z",
     "iopub.status.busy": "2025-02-28T18:40:03.127182Z",
     "iopub.status.idle": "2025-02-28T18:43:11.453568Z",
     "shell.execute_reply": "2025-02-28T18:43:11.451984Z"
    },
    "papermill": {
     "duration": 188.351986,
     "end_time": "2025-02-28T18:43:11.465398",
     "exception": false,
     "start_time": "2025-02-28T18:40:03.113412",
     "status": "completed"
    },
    "tags": []
   },
   "outputs": [
    {
     "name": "stdout",
     "output_type": "stream",
     "text": [
      "Selected Epsilon:  1.05828e-45 with F1 score:  0.7735470941883767\n"
     ]
    }
   ],
   "source": [
    "# p_val = estimate_gaussian(X_val, means, variances)\n",
    "# y_pred = select_threshold(y_val_arr, p_val)\n",
    "# np.unique(y_pred, return_counts = True)\n",
    "\n",
    "best_eps, best_F1, y_pred_best = select_threshold(y_val, p_val)\n",
    "print(\"Selected Epsilon: \", best_eps, \"with F1 score: \", best_F1)\n",
    "# np.unique(y_pred_best, return_counts = True)"
   ]
  },
  {
   "cell_type": "code",
   "execution_count": 38,
   "id": "f88e397a",
   "metadata": {
    "execution": {
     "iopub.execute_input": "2025-02-28T18:43:11.489918Z",
     "iopub.status.busy": "2025-02-28T18:43:11.489506Z",
     "iopub.status.idle": "2025-02-28T18:43:11.499994Z",
     "shell.execute_reply": "2025-02-28T18:43:11.498808Z"
    },
    "papermill": {
     "duration": 0.024985,
     "end_time": "2025-02-28T18:43:11.502004",
     "exception": false,
     "start_time": "2025-02-28T18:43:11.477019",
     "status": "completed"
    },
    "tags": []
   },
   "outputs": [
    {
     "data": {
      "text/plain": [
       "(array([False,  True]), array([42700,   193]))"
      ]
     },
     "execution_count": 38,
     "metadata": {},
     "output_type": "execute_result"
    }
   ],
   "source": [
    "# \n",
    "\n",
    "np.unique(y_val, return_counts = True)\n",
    "np.unique(y_pred_best, return_counts=True)\n",
    "haha = (y_val==1) & (y_pred_best==1)\n",
    "np.unique(haha, return_counts=True)"
   ]
  },
  {
   "cell_type": "code",
   "execution_count": 39,
   "id": "3179351f",
   "metadata": {
    "execution": {
     "iopub.execute_input": "2025-02-28T18:43:11.529570Z",
     "iopub.status.busy": "2025-02-28T18:43:11.529216Z",
     "iopub.status.idle": "2025-02-28T18:43:11.555660Z",
     "shell.execute_reply": "2025-02-28T18:43:11.554541Z"
    },
    "papermill": {
     "duration": 0.043434,
     "end_time": "2025-02-28T18:43:11.557448",
     "exception": false,
     "start_time": "2025-02-28T18:43:11.514014",
     "status": "completed"
    },
    "tags": []
   },
   "outputs": [
    {
     "data": {
      "text/plain": [
       "0.7735470941883767"
      ]
     },
     "execution_count": 39,
     "metadata": {},
     "output_type": "execute_result"
    }
   ],
   "source": [
    "preds_val = (p_val < best_eps)\n",
    "np.unique(preds_val, return_counts=True)\n",
    "F1_val = f1_score(y_val, preds_val)\n",
    "F1_val"
   ]
  },
  {
   "cell_type": "code",
   "execution_count": 40,
   "id": "c2fcc16d",
   "metadata": {
    "execution": {
     "iopub.execute_input": "2025-02-28T18:43:11.582753Z",
     "iopub.status.busy": "2025-02-28T18:43:11.582385Z",
     "iopub.status.idle": "2025-02-28T18:43:11.609185Z",
     "shell.execute_reply": "2025-02-28T18:43:11.608181Z"
    },
    "papermill": {
     "duration": 0.041412,
     "end_time": "2025-02-28T18:43:11.610961",
     "exception": false,
     "start_time": "2025-02-28T18:43:11.569549",
     "status": "completed"
    },
    "tags": []
   },
   "outputs": [
    {
     "data": {
      "text/plain": [
       "0.7983706720977598"
      ]
     },
     "execution_count": 40,
     "metadata": {},
     "output_type": "execute_result"
    }
   ],
   "source": [
    "preds_test = (p_test < best_eps)\n",
    "np.unique(preds_test, return_counts=True)\n",
    "F1_test = f1_score(y_test, preds_test)\n",
    "F1_test"
   ]
  },
  {
   "cell_type": "code",
   "execution_count": 41,
   "id": "11f051da",
   "metadata": {
    "execution": {
     "iopub.execute_input": "2025-02-28T18:43:11.637682Z",
     "iopub.status.busy": "2025-02-28T18:43:11.637320Z",
     "iopub.status.idle": "2025-02-28T18:43:11.641427Z",
     "shell.execute_reply": "2025-02-28T18:43:11.640412Z"
    },
    "papermill": {
     "duration": 0.019904,
     "end_time": "2025-02-28T18:43:11.643260",
     "exception": false,
     "start_time": "2025-02-28T18:43:11.623356",
     "status": "completed"
    },
    "tags": []
   },
   "outputs": [],
   "source": [
    "# for feature in features:\n",
    "#     plt.figure(figsize=(6, 4))\n",
    "#     plt.hist(df[feature], bins=30, color='skyblue', edgecolor='black')\n",
    "#     plt.title(f'Histogram of {feature}')\n",
    "#     plt.xlabel('Value')\n",
    "#     plt.ylabel('Frequency')\n",
    "#     plt.show()\n",
    "# # Q-Q Plots\n",
    "# from scipy.stats import probplot\n",
    "\n",
    "# for feature in features:\n",
    "#     plt.figure(figsize=(6, 4))\n",
    "#     probplot(df[feature], dist=\"norm\", plot=plt)\n",
    "#     plt.title(f'Q-Q Plot of {feature}')\n",
    "#     plt.show()"
   ]
  },
  {
   "cell_type": "code",
   "execution_count": null,
   "id": "91f8509e",
   "metadata": {
    "papermill": {
     "duration": 0.012307,
     "end_time": "2025-02-28T18:43:11.667874",
     "exception": false,
     "start_time": "2025-02-28T18:43:11.655567",
     "status": "completed"
    },
    "tags": []
   },
   "outputs": [],
   "source": []
  }
 ],
 "metadata": {
  "kaggle": {
   "accelerator": "none",
   "dataSources": [
    {
     "datasetId": 310,
     "sourceId": 23498,
     "sourceType": "datasetVersion"
    }
   ],
   "dockerImageVersionId": 30918,
   "isGpuEnabled": false,
   "isInternetEnabled": false,
   "language": "python",
   "sourceType": "notebook"
  },
  "kernelspec": {
   "display_name": "Python 3",
   "language": "python",
   "name": "python3"
  },
  "language_info": {
   "codemirror_mode": {
    "name": "ipython",
    "version": 3
   },
   "file_extension": ".py",
   "mimetype": "text/x-python",
   "name": "python",
   "nbconvert_exporter": "python",
   "pygments_lexer": "ipython3",
   "version": "3.10.12"
  },
  "papermill": {
   "default_parameters": {},
   "duration": 469.312951,
   "end_time": "2025-02-28T18:43:12.502282",
   "environment_variables": {},
   "exception": null,
   "input_path": "__notebook__.ipynb",
   "output_path": "__notebook__.ipynb",
   "parameters": {},
   "start_time": "2025-02-28T18:35:23.189331",
   "version": "2.6.0"
  }
 },
 "nbformat": 4,
 "nbformat_minor": 5
}
