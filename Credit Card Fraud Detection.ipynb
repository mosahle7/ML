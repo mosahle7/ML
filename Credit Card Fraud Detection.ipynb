{
 "cells": [
  {
   "cell_type": "markdown",
   "id": "26fd42aa",
   "metadata": {
    "papermill": {
     "duration": 0.006248,
     "end_time": "2025-02-26T10:36:54.699513",
     "exception": false,
     "start_time": "2025-02-26T10:36:54.693265",
     "status": "completed"
    },
    "tags": []
   },
   "source": [
    "**Dataset Initialization and Preparation**"
   ]
  },
  {
   "cell_type": "code",
   "execution_count": 1,
   "id": "911c3a0b",
   "metadata": {
    "_cell_guid": "b1076dfc-b9ad-4769-8c92-a6c4dae69d19",
    "_uuid": "8f2839f25d086af736a60e9eeb907d3b93b6e0e5",
    "execution": {
     "iopub.execute_input": "2025-02-26T10:36:54.711185Z",
     "iopub.status.busy": "2025-02-26T10:36:54.710827Z",
     "iopub.status.idle": "2025-02-26T10:36:55.677721Z",
     "shell.execute_reply": "2025-02-26T10:36:55.676287Z"
    },
    "papermill": {
     "duration": 0.974789,
     "end_time": "2025-02-26T10:36:55.679568",
     "exception": false,
     "start_time": "2025-02-26T10:36:54.704779",
     "status": "completed"
    },
    "tags": []
   },
   "outputs": [
    {
     "name": "stdout",
     "output_type": "stream",
     "text": [
      "/kaggle/input/creditcardfraud/creditcard.csv\n"
     ]
    }
   ],
   "source": [
    "# This Python 3 environment comes with many helpful analytics libraries installed\n",
    "# It is defined by the kaggle/python Docker image: https://github.com/kaggle/docker-python\n",
    "# For example, here's several helpful packages to load\n",
    "\n",
    "import numpy as np # linear algebra\n",
    "import pandas as pd # data processing, CSV file I/O (e.g. pd.read_csv)\n",
    "\n",
    "# Input data files are available in the read-only \"../input/\" directory\n",
    "# For example, running this (by clicking run or pressing Shift+Enter) will list all files under the input directory\n",
    "\n",
    "import os\n",
    "for dirname, _, filenames in os.walk('/kaggle/input'):\n",
    "    for filename in filenames:\n",
    "        print(os.path.join(dirname, filename))\n",
    "\n",
    "# You can write up to 20GB to the current directory (/kaggle/working/) that gets preserved as output when you create a version using \"Save & Run All\" \n",
    "# You can also write temporary files to /kaggle/temp/, but they won't be saved outside of the current session"
   ]
  },
  {
   "cell_type": "code",
   "execution_count": 2,
   "id": "5addbde2",
   "metadata": {
    "execution": {
     "iopub.execute_input": "2025-02-26T10:36:55.691655Z",
     "iopub.status.busy": "2025-02-26T10:36:55.691140Z",
     "iopub.status.idle": "2025-02-26T10:36:57.220167Z",
     "shell.execute_reply": "2025-02-26T10:36:57.219126Z"
    },
    "papermill": {
     "duration": 1.537336,
     "end_time": "2025-02-26T10:36:57.222282",
     "exception": false,
     "start_time": "2025-02-26T10:36:55.684946",
     "status": "completed"
    },
    "tags": []
   },
   "outputs": [],
   "source": [
    "import matplotlib.pyplot as plt\n",
    "from sklearn.model_selection import train_test_split"
   ]
  },
  {
   "cell_type": "code",
   "execution_count": 3,
   "id": "a4367134",
   "metadata": {
    "execution": {
     "iopub.execute_input": "2025-02-26T10:36:57.234273Z",
     "iopub.status.busy": "2025-02-26T10:36:57.233786Z",
     "iopub.status.idle": "2025-02-26T10:36:57.237890Z",
     "shell.execute_reply": "2025-02-26T10:36:57.236948Z"
    },
    "papermill": {
     "duration": 0.011696,
     "end_time": "2025-02-26T10:36:57.239419",
     "exception": false,
     "start_time": "2025-02-26T10:36:57.227723",
     "status": "completed"
    },
    "tags": []
   },
   "outputs": [],
   "source": [
    "RANDOM_STATE = 55"
   ]
  },
  {
   "cell_type": "code",
   "execution_count": 4,
   "id": "7f15149c",
   "metadata": {
    "execution": {
     "iopub.execute_input": "2025-02-26T10:36:57.251629Z",
     "iopub.status.busy": "2025-02-26T10:36:57.251266Z",
     "iopub.status.idle": "2025-02-26T10:37:01.527613Z",
     "shell.execute_reply": "2025-02-26T10:37:01.526669Z"
    },
    "papermill": {
     "duration": 4.284124,
     "end_time": "2025-02-26T10:37:01.529377",
     "exception": false,
     "start_time": "2025-02-26T10:36:57.245253",
     "status": "completed"
    },
    "tags": []
   },
   "outputs": [],
   "source": [
    "df = pd.read_csv(\"/kaggle/input/creditcardfraud/creditcard.csv\")"
   ]
  },
  {
   "cell_type": "code",
   "execution_count": 5,
   "id": "30b1ccf3",
   "metadata": {
    "execution": {
     "iopub.execute_input": "2025-02-26T10:37:01.541416Z",
     "iopub.status.busy": "2025-02-26T10:37:01.540960Z",
     "iopub.status.idle": "2025-02-26T10:37:01.581680Z",
     "shell.execute_reply": "2025-02-26T10:37:01.580599Z"
    },
    "papermill": {
     "duration": 0.04858,
     "end_time": "2025-02-26T10:37:01.583439",
     "exception": false,
     "start_time": "2025-02-26T10:37:01.534859",
     "status": "completed"
    },
    "tags": []
   },
   "outputs": [
    {
     "data": {
      "text/html": [
       "<div>\n",
       "<style scoped>\n",
       "    .dataframe tbody tr th:only-of-type {\n",
       "        vertical-align: middle;\n",
       "    }\n",
       "\n",
       "    .dataframe tbody tr th {\n",
       "        vertical-align: top;\n",
       "    }\n",
       "\n",
       "    .dataframe thead th {\n",
       "        text-align: right;\n",
       "    }\n",
       "</style>\n",
       "<table border=\"1\" class=\"dataframe\">\n",
       "  <thead>\n",
       "    <tr style=\"text-align: right;\">\n",
       "      <th></th>\n",
       "      <th>Time</th>\n",
       "      <th>V1</th>\n",
       "      <th>V2</th>\n",
       "      <th>V3</th>\n",
       "      <th>V4</th>\n",
       "      <th>V5</th>\n",
       "      <th>V6</th>\n",
       "      <th>V7</th>\n",
       "      <th>V8</th>\n",
       "      <th>V9</th>\n",
       "      <th>...</th>\n",
       "      <th>V21</th>\n",
       "      <th>V22</th>\n",
       "      <th>V23</th>\n",
       "      <th>V24</th>\n",
       "      <th>V25</th>\n",
       "      <th>V26</th>\n",
       "      <th>V27</th>\n",
       "      <th>V28</th>\n",
       "      <th>Amount</th>\n",
       "      <th>Class</th>\n",
       "    </tr>\n",
       "  </thead>\n",
       "  <tbody>\n",
       "    <tr>\n",
       "      <th>0</th>\n",
       "      <td>0.0</td>\n",
       "      <td>-1.359807</td>\n",
       "      <td>-0.072781</td>\n",
       "      <td>2.536347</td>\n",
       "      <td>1.378155</td>\n",
       "      <td>-0.338321</td>\n",
       "      <td>0.462388</td>\n",
       "      <td>0.239599</td>\n",
       "      <td>0.098698</td>\n",
       "      <td>0.363787</td>\n",
       "      <td>...</td>\n",
       "      <td>-0.018307</td>\n",
       "      <td>0.277838</td>\n",
       "      <td>-0.110474</td>\n",
       "      <td>0.066928</td>\n",
       "      <td>0.128539</td>\n",
       "      <td>-0.189115</td>\n",
       "      <td>0.133558</td>\n",
       "      <td>-0.021053</td>\n",
       "      <td>149.62</td>\n",
       "      <td>0</td>\n",
       "    </tr>\n",
       "    <tr>\n",
       "      <th>1</th>\n",
       "      <td>0.0</td>\n",
       "      <td>1.191857</td>\n",
       "      <td>0.266151</td>\n",
       "      <td>0.166480</td>\n",
       "      <td>0.448154</td>\n",
       "      <td>0.060018</td>\n",
       "      <td>-0.082361</td>\n",
       "      <td>-0.078803</td>\n",
       "      <td>0.085102</td>\n",
       "      <td>-0.255425</td>\n",
       "      <td>...</td>\n",
       "      <td>-0.225775</td>\n",
       "      <td>-0.638672</td>\n",
       "      <td>0.101288</td>\n",
       "      <td>-0.339846</td>\n",
       "      <td>0.167170</td>\n",
       "      <td>0.125895</td>\n",
       "      <td>-0.008983</td>\n",
       "      <td>0.014724</td>\n",
       "      <td>2.69</td>\n",
       "      <td>0</td>\n",
       "    </tr>\n",
       "    <tr>\n",
       "      <th>2</th>\n",
       "      <td>1.0</td>\n",
       "      <td>-1.358354</td>\n",
       "      <td>-1.340163</td>\n",
       "      <td>1.773209</td>\n",
       "      <td>0.379780</td>\n",
       "      <td>-0.503198</td>\n",
       "      <td>1.800499</td>\n",
       "      <td>0.791461</td>\n",
       "      <td>0.247676</td>\n",
       "      <td>-1.514654</td>\n",
       "      <td>...</td>\n",
       "      <td>0.247998</td>\n",
       "      <td>0.771679</td>\n",
       "      <td>0.909412</td>\n",
       "      <td>-0.689281</td>\n",
       "      <td>-0.327642</td>\n",
       "      <td>-0.139097</td>\n",
       "      <td>-0.055353</td>\n",
       "      <td>-0.059752</td>\n",
       "      <td>378.66</td>\n",
       "      <td>0</td>\n",
       "    </tr>\n",
       "    <tr>\n",
       "      <th>3</th>\n",
       "      <td>1.0</td>\n",
       "      <td>-0.966272</td>\n",
       "      <td>-0.185226</td>\n",
       "      <td>1.792993</td>\n",
       "      <td>-0.863291</td>\n",
       "      <td>-0.010309</td>\n",
       "      <td>1.247203</td>\n",
       "      <td>0.237609</td>\n",
       "      <td>0.377436</td>\n",
       "      <td>-1.387024</td>\n",
       "      <td>...</td>\n",
       "      <td>-0.108300</td>\n",
       "      <td>0.005274</td>\n",
       "      <td>-0.190321</td>\n",
       "      <td>-1.175575</td>\n",
       "      <td>0.647376</td>\n",
       "      <td>-0.221929</td>\n",
       "      <td>0.062723</td>\n",
       "      <td>0.061458</td>\n",
       "      <td>123.50</td>\n",
       "      <td>0</td>\n",
       "    </tr>\n",
       "    <tr>\n",
       "      <th>4</th>\n",
       "      <td>2.0</td>\n",
       "      <td>-1.158233</td>\n",
       "      <td>0.877737</td>\n",
       "      <td>1.548718</td>\n",
       "      <td>0.403034</td>\n",
       "      <td>-0.407193</td>\n",
       "      <td>0.095921</td>\n",
       "      <td>0.592941</td>\n",
       "      <td>-0.270533</td>\n",
       "      <td>0.817739</td>\n",
       "      <td>...</td>\n",
       "      <td>-0.009431</td>\n",
       "      <td>0.798278</td>\n",
       "      <td>-0.137458</td>\n",
       "      <td>0.141267</td>\n",
       "      <td>-0.206010</td>\n",
       "      <td>0.502292</td>\n",
       "      <td>0.219422</td>\n",
       "      <td>0.215153</td>\n",
       "      <td>69.99</td>\n",
       "      <td>0</td>\n",
       "    </tr>\n",
       "  </tbody>\n",
       "</table>\n",
       "<p>5 rows × 31 columns</p>\n",
       "</div>"
      ],
      "text/plain": [
       "   Time        V1        V2        V3        V4        V5        V6        V7  \\\n",
       "0   0.0 -1.359807 -0.072781  2.536347  1.378155 -0.338321  0.462388  0.239599   \n",
       "1   0.0  1.191857  0.266151  0.166480  0.448154  0.060018 -0.082361 -0.078803   \n",
       "2   1.0 -1.358354 -1.340163  1.773209  0.379780 -0.503198  1.800499  0.791461   \n",
       "3   1.0 -0.966272 -0.185226  1.792993 -0.863291 -0.010309  1.247203  0.237609   \n",
       "4   2.0 -1.158233  0.877737  1.548718  0.403034 -0.407193  0.095921  0.592941   \n",
       "\n",
       "         V8        V9  ...       V21       V22       V23       V24       V25  \\\n",
       "0  0.098698  0.363787  ... -0.018307  0.277838 -0.110474  0.066928  0.128539   \n",
       "1  0.085102 -0.255425  ... -0.225775 -0.638672  0.101288 -0.339846  0.167170   \n",
       "2  0.247676 -1.514654  ...  0.247998  0.771679  0.909412 -0.689281 -0.327642   \n",
       "3  0.377436 -1.387024  ... -0.108300  0.005274 -0.190321 -1.175575  0.647376   \n",
       "4 -0.270533  0.817739  ... -0.009431  0.798278 -0.137458  0.141267 -0.206010   \n",
       "\n",
       "        V26       V27       V28  Amount  Class  \n",
       "0 -0.189115  0.133558 -0.021053  149.62      0  \n",
       "1  0.125895 -0.008983  0.014724    2.69      0  \n",
       "2 -0.139097 -0.055353 -0.059752  378.66      0  \n",
       "3 -0.221929  0.062723  0.061458  123.50      0  \n",
       "4  0.502292  0.219422  0.215153   69.99      0  \n",
       "\n",
       "[5 rows x 31 columns]"
      ]
     },
     "execution_count": 5,
     "metadata": {},
     "output_type": "execute_result"
    }
   ],
   "source": [
    "df.head()"
   ]
  },
  {
   "cell_type": "code",
   "execution_count": 6,
   "id": "1108c33a",
   "metadata": {
    "execution": {
     "iopub.execute_input": "2025-02-26T10:37:01.595753Z",
     "iopub.status.busy": "2025-02-26T10:37:01.595277Z",
     "iopub.status.idle": "2025-02-26T10:37:01.619527Z",
     "shell.execute_reply": "2025-02-26T10:37:01.618473Z"
    },
    "papermill": {
     "duration": 0.032135,
     "end_time": "2025-02-26T10:37:01.621195",
     "exception": false,
     "start_time": "2025-02-26T10:37:01.589060",
     "status": "completed"
    },
    "tags": []
   },
   "outputs": [
    {
     "data": {
      "text/plain": [
       "Class\n",
       "0    284315\n",
       "1       492\n",
       "Name: count, dtype: int64"
      ]
     },
     "execution_count": 6,
     "metadata": {},
     "output_type": "execute_result"
    }
   ],
   "source": [
    "df['Class'].value_counts()"
   ]
  },
  {
   "cell_type": "code",
   "execution_count": 7,
   "id": "4c0f2fb3",
   "metadata": {
    "execution": {
     "iopub.execute_input": "2025-02-26T10:37:01.634221Z",
     "iopub.status.busy": "2025-02-26T10:37:01.633893Z",
     "iopub.status.idle": "2025-02-26T10:37:01.639991Z",
     "shell.execute_reply": "2025-02-26T10:37:01.638904Z"
    },
    "papermill": {
     "duration": 0.014275,
     "end_time": "2025-02-26T10:37:01.641626",
     "exception": false,
     "start_time": "2025-02-26T10:37:01.627351",
     "status": "completed"
    },
    "tags": []
   },
   "outputs": [
    {
     "data": {
      "text/plain": [
       "(284807, 31)"
      ]
     },
     "execution_count": 7,
     "metadata": {},
     "output_type": "execute_result"
    }
   ],
   "source": [
    "df.shape"
   ]
  },
  {
   "cell_type": "code",
   "execution_count": 8,
   "id": "3642799d",
   "metadata": {
    "execution": {
     "iopub.execute_input": "2025-02-26T10:37:01.654592Z",
     "iopub.status.busy": "2025-02-26T10:37:01.654209Z",
     "iopub.status.idle": "2025-02-26T10:37:01.714232Z",
     "shell.execute_reply": "2025-02-26T10:37:01.713050Z"
    },
    "papermill": {
     "duration": 0.068436,
     "end_time": "2025-02-26T10:37:01.716106",
     "exception": false,
     "start_time": "2025-02-26T10:37:01.647670",
     "status": "completed"
    },
    "tags": []
   },
   "outputs": [
    {
     "name": "stdout",
     "output_type": "stream",
     "text": [
      "<class 'pandas.core.frame.DataFrame'>\n",
      "RangeIndex: 284807 entries, 0 to 284806\n",
      "Data columns (total 31 columns):\n",
      " #   Column  Non-Null Count   Dtype  \n",
      "---  ------  --------------   -----  \n",
      " 0   Time    284807 non-null  float64\n",
      " 1   V1      284807 non-null  float64\n",
      " 2   V2      284807 non-null  float64\n",
      " 3   V3      284807 non-null  float64\n",
      " 4   V4      284807 non-null  float64\n",
      " 5   V5      284807 non-null  float64\n",
      " 6   V6      284807 non-null  float64\n",
      " 7   V7      284807 non-null  float64\n",
      " 8   V8      284807 non-null  float64\n",
      " 9   V9      284807 non-null  float64\n",
      " 10  V10     284807 non-null  float64\n",
      " 11  V11     284807 non-null  float64\n",
      " 12  V12     284807 non-null  float64\n",
      " 13  V13     284807 non-null  float64\n",
      " 14  V14     284807 non-null  float64\n",
      " 15  V15     284807 non-null  float64\n",
      " 16  V16     284807 non-null  float64\n",
      " 17  V17     284807 non-null  float64\n",
      " 18  V18     284807 non-null  float64\n",
      " 19  V19     284807 non-null  float64\n",
      " 20  V20     284807 non-null  float64\n",
      " 21  V21     284807 non-null  float64\n",
      " 22  V22     284807 non-null  float64\n",
      " 23  V23     284807 non-null  float64\n",
      " 24  V24     284807 non-null  float64\n",
      " 25  V25     284807 non-null  float64\n",
      " 26  V26     284807 non-null  float64\n",
      " 27  V27     284807 non-null  float64\n",
      " 28  V28     284807 non-null  float64\n",
      " 29  Amount  284807 non-null  float64\n",
      " 30  Class   284807 non-null  int64  \n",
      "dtypes: float64(30), int64(1)\n",
      "memory usage: 67.4 MB\n"
     ]
    }
   ],
   "source": [
    "df.info()"
   ]
  },
  {
   "cell_type": "code",
   "execution_count": 9,
   "id": "b9f75920",
   "metadata": {
    "execution": {
     "iopub.execute_input": "2025-02-26T10:37:01.728813Z",
     "iopub.status.busy": "2025-02-26T10:37:01.728429Z",
     "iopub.status.idle": "2025-02-26T10:37:01.734857Z",
     "shell.execute_reply": "2025-02-26T10:37:01.733859Z"
    },
    "papermill": {
     "duration": 0.014508,
     "end_time": "2025-02-26T10:37:01.736412",
     "exception": false,
     "start_time": "2025-02-26T10:37:01.721904",
     "status": "completed"
    },
    "tags": []
   },
   "outputs": [
    {
     "data": {
      "text/plain": [
       "Index(['Time', 'V1', 'V2', 'V3', 'V4', 'V5', 'V6', 'V7', 'V8', 'V9', 'V10',\n",
       "       'V11', 'V12', 'V13', 'V14', 'V15', 'V16', 'V17', 'V18', 'V19', 'V20',\n",
       "       'V21', 'V22', 'V23', 'V24', 'V25', 'V26', 'V27', 'V28', 'Amount'],\n",
       "      dtype='object')"
      ]
     },
     "execution_count": 9,
     "metadata": {},
     "output_type": "execute_result"
    }
   ],
   "source": [
    "features = df.columns.drop('Class')\n",
    "features"
   ]
  },
  {
   "cell_type": "code",
   "execution_count": 10,
   "id": "5ff1e682",
   "metadata": {
    "execution": {
     "iopub.execute_input": "2025-02-26T10:37:01.749428Z",
     "iopub.status.busy": "2025-02-26T10:37:01.749034Z",
     "iopub.status.idle": "2025-02-26T10:37:01.812959Z",
     "shell.execute_reply": "2025-02-26T10:37:01.811432Z"
    },
    "papermill": {
     "duration": 0.072567,
     "end_time": "2025-02-26T10:37:01.814888",
     "exception": false,
     "start_time": "2025-02-26T10:37:01.742321",
     "status": "completed"
    },
    "tags": []
   },
   "outputs": [
    {
     "name": "stdout",
     "output_type": "stream",
     "text": [
      "Genuine:\n",
      "    Time        V1        V2        V3        V4        V5        V6        V7  \\\n",
      "0   0.0 -1.359807 -0.072781  2.536347  1.378155 -0.338321  0.462388  0.239599   \n",
      "1   0.0  1.191857  0.266151  0.166480  0.448154  0.060018 -0.082361 -0.078803   \n",
      "2   1.0 -1.358354 -1.340163  1.773209  0.379780 -0.503198  1.800499  0.791461   \n",
      "3   1.0 -0.966272 -0.185226  1.792993 -0.863291 -0.010309  1.247203  0.237609   \n",
      "4   2.0 -1.158233  0.877737  1.548718  0.403034 -0.407193  0.095921  0.592941   \n",
      "\n",
      "         V8        V9  ...       V21       V22       V23       V24       V25  \\\n",
      "0  0.098698  0.363787  ... -0.018307  0.277838 -0.110474  0.066928  0.128539   \n",
      "1  0.085102 -0.255425  ... -0.225775 -0.638672  0.101288 -0.339846  0.167170   \n",
      "2  0.247676 -1.514654  ...  0.247998  0.771679  0.909412 -0.689281 -0.327642   \n",
      "3  0.377436 -1.387024  ... -0.108300  0.005274 -0.190321 -1.175575  0.647376   \n",
      "4 -0.270533  0.817739  ... -0.009431  0.798278 -0.137458  0.141267 -0.206010   \n",
      "\n",
      "        V26       V27       V28  Amount  Class  \n",
      "0 -0.189115  0.133558 -0.021053  149.62      0  \n",
      "1  0.125895 -0.008983  0.014724    2.69      0  \n",
      "2 -0.139097 -0.055353 -0.059752  378.66      0  \n",
      "3 -0.221929  0.062723  0.061458  123.50      0  \n",
      "4  0.502292  0.219422  0.215153   69.99      0  \n",
      "\n",
      "[5 rows x 31 columns]\n",
      "Fraud:\n",
      "         Time        V1        V2        V3        V4        V5        V6  \\\n",
      "541    406.0 -2.312227  1.951992 -1.609851  3.997906 -0.522188 -1.426545   \n",
      "623    472.0 -3.043541 -3.157307  1.088463  2.288644  1.359805 -1.064823   \n",
      "4920  4462.0 -2.303350  1.759247 -0.359745  2.330243 -0.821628 -0.075788   \n",
      "6108  6986.0 -4.397974  1.358367 -2.592844  2.679787 -1.128131 -1.706536   \n",
      "6329  7519.0  1.234235  3.019740 -4.304597  4.732795  3.624201 -1.357746   \n",
      "\n",
      "            V7        V8        V9  ...       V21       V22       V23  \\\n",
      "541  -2.537387  1.391657 -2.770089  ...  0.517232 -0.035049 -0.465211   \n",
      "623   0.325574 -0.067794 -0.270953  ...  0.661696  0.435477  1.375966   \n",
      "4920  0.562320 -0.399147 -0.238253  ... -0.294166 -0.932391  0.172726   \n",
      "6108 -3.496197 -0.248778 -0.247768  ...  0.573574  0.176968 -0.436207   \n",
      "6329  1.713445 -0.496358 -1.282858  ... -0.379068 -0.704181 -0.656805   \n",
      "\n",
      "           V24       V25       V26       V27       V28  Amount  Class  \n",
      "541   0.320198  0.044519  0.177840  0.261145 -0.143276    0.00      1  \n",
      "623  -0.293803  0.279798 -0.145362 -0.252773  0.035764  529.00      1  \n",
      "4920 -0.087330 -0.156114 -0.542628  0.039566 -0.153029  239.93      1  \n",
      "6108 -0.053502  0.252405 -0.657488 -0.827136  0.849573   59.00      1  \n",
      "6329 -1.632653  1.488901  0.566797 -0.010016  0.146793    1.00      1  \n",
      "\n",
      "[5 rows x 31 columns]\n"
     ]
    }
   ],
   "source": [
    "gen_trans = df[df['Class'] == 0]\n",
    "fr_trans =df[df['Class'] == 1]\n",
    "print(\"Genuine:\\n\", gen_trans.head())\n",
    "print(\"Fraud:\\n\", fr_trans.head())"
   ]
  },
  {
   "cell_type": "code",
   "execution_count": 11,
   "id": "2cc16541",
   "metadata": {
    "execution": {
     "iopub.execute_input": "2025-02-26T10:37:01.828438Z",
     "iopub.status.busy": "2025-02-26T10:37:01.828086Z",
     "iopub.status.idle": "2025-02-26T10:37:01.926918Z",
     "shell.execute_reply": "2025-02-26T10:37:01.925627Z"
    },
    "papermill": {
     "duration": 0.107882,
     "end_time": "2025-02-26T10:37:01.928817",
     "exception": false,
     "start_time": "2025-02-26T10:37:01.820935",
     "status": "completed"
    },
    "tags": []
   },
   "outputs": [],
   "source": [
    "gen_train, gen_vt = train_test_split(gen_trans, train_size=0.7, random_state=RANDOM_STATE)"
   ]
  },
  {
   "cell_type": "code",
   "execution_count": 12,
   "id": "c6343caa",
   "metadata": {
    "execution": {
     "iopub.execute_input": "2025-02-26T10:37:01.942087Z",
     "iopub.status.busy": "2025-02-26T10:37:01.941734Z",
     "iopub.status.idle": "2025-02-26T10:37:01.969854Z",
     "shell.execute_reply": "2025-02-26T10:37:01.968795Z"
    },
    "papermill": {
     "duration": 0.036694,
     "end_time": "2025-02-26T10:37:01.971569",
     "exception": false,
     "start_time": "2025-02-26T10:37:01.934875",
     "status": "completed"
    },
    "tags": []
   },
   "outputs": [
    {
     "data": {
      "text/plain": [
       "(199020, 30)"
      ]
     },
     "execution_count": 12,
     "metadata": {},
     "output_type": "execute_result"
    }
   ],
   "source": [
    "X_train = gen_train[features]\n",
    "X_train.shape"
   ]
  },
  {
   "cell_type": "code",
   "execution_count": 13,
   "id": "7650823e",
   "metadata": {
    "execution": {
     "iopub.execute_input": "2025-02-26T10:37:01.985417Z",
     "iopub.status.busy": "2025-02-26T10:37:01.985079Z",
     "iopub.status.idle": "2025-02-26T10:37:02.019664Z",
     "shell.execute_reply": "2025-02-26T10:37:02.018494Z"
    },
    "papermill": {
     "duration": 0.043207,
     "end_time": "2025-02-26T10:37:02.021290",
     "exception": false,
     "start_time": "2025-02-26T10:37:01.978083",
     "status": "completed"
    },
    "tags": []
   },
   "outputs": [
    {
     "name": "stdout",
     "output_type": "stream",
     "text": [
      "Genuine Val:  (42647, 31)\n",
      "Genuine Test:  (42648, 31)\n"
     ]
    }
   ],
   "source": [
    "gen_val, gen_test = train_test_split(gen_vt, test_size=0.5, random_state=RANDOM_STATE)\n",
    "print(\"Genuine Val: \",gen_val.shape)\n",
    "print(\"Genuine Test: \",gen_test.shape)"
   ]
  },
  {
   "cell_type": "code",
   "execution_count": 14,
   "id": "1916aa30",
   "metadata": {
    "execution": {
     "iopub.execute_input": "2025-02-26T10:37:02.035151Z",
     "iopub.status.busy": "2025-02-26T10:37:02.034825Z",
     "iopub.status.idle": "2025-02-26T10:37:02.042059Z",
     "shell.execute_reply": "2025-02-26T10:37:02.041182Z"
    },
    "papermill": {
     "duration": 0.015982,
     "end_time": "2025-02-26T10:37:02.043688",
     "exception": false,
     "start_time": "2025-02-26T10:37:02.027706",
     "status": "completed"
    },
    "tags": []
   },
   "outputs": [
    {
     "name": "stdout",
     "output_type": "stream",
     "text": [
      "Fraud Val:  (246, 31)\n",
      "Fraud Test:  (246, 31)\n"
     ]
    }
   ],
   "source": [
    "fr_val, fr_test =  train_test_split(fr_trans, test_size=0.5, random_state=RANDOM_STATE)\n",
    "print(\"Fraud Val: \",fr_val.shape)\n",
    "print(\"Fraud Test: \",fr_test.shape)"
   ]
  },
  {
   "cell_type": "code",
   "execution_count": 15,
   "id": "d0c7cbc3",
   "metadata": {
    "execution": {
     "iopub.execute_input": "2025-02-26T10:37:02.057353Z",
     "iopub.status.busy": "2025-02-26T10:37:02.057027Z",
     "iopub.status.idle": "2025-02-26T10:37:02.086187Z",
     "shell.execute_reply": "2025-02-26T10:37:02.085271Z"
    },
    "papermill": {
     "duration": 0.038316,
     "end_time": "2025-02-26T10:37:02.088262",
     "exception": false,
     "start_time": "2025-02-26T10:37:02.049946",
     "status": "completed"
    },
    "tags": []
   },
   "outputs": [],
   "source": [
    "X_val = pd.concat([gen_val[features], fr_val[features]])\n",
    "y_val = pd.concat([gen_val['Class'], fr_val['Class']])\n",
    "\n",
    "X_test = pd.concat([gen_test[features], fr_test[features]])\n",
    "y_test = pd.concat([gen_test['Class'], fr_test['Class']])"
   ]
  },
  {
   "cell_type": "markdown",
   "id": "7bf99ea7",
   "metadata": {
    "papermill": {
     "duration": 0.006099,
     "end_time": "2025-02-26T10:37:02.100678",
     "exception": false,
     "start_time": "2025-02-26T10:37:02.094579",
     "status": "completed"
    },
    "tags": []
   },
   "source": [
    "**Visualization**"
   ]
  },
  {
   "cell_type": "code",
   "execution_count": 16,
   "id": "2e9be368",
   "metadata": {
    "execution": {
     "iopub.execute_input": "2025-02-26T10:37:02.114614Z",
     "iopub.status.busy": "2025-02-26T10:37:02.114214Z",
     "iopub.status.idle": "2025-02-26T10:37:02.361923Z",
     "shell.execute_reply": "2025-02-26T10:37:02.360834Z"
    },
    "papermill": {
     "duration": 0.256495,
     "end_time": "2025-02-26T10:37:02.363450",
     "exception": false,
     "start_time": "2025-02-26T10:37:02.106955",
     "status": "completed"
    },
    "tags": []
   },
   "outputs": [
    {
     "data": {
      "image/png": "[encoded data removed]",
      "text/plain": [
       "<Figure size 800x600 with 1 Axes>"
      ]
     },
     "metadata": {},
     "output_type": "display_data"
    }
   ],
   "source": [
    "cats = ['Genuine', 'Fraudulent']\n",
    "vals = [len(gen_trans), len(fr_trans)]\n",
    "\n",
    "plt.figure(figsize = (8,6))\n",
    "plt.bar(cats, vals, color=['skyblue', 'salmon'])\n",
    "\n",
    "# Add titles and labels\n",
    "plt.title('Number of Genuine vs. Fraudulent Transactions')\n",
    "plt.xlabel('Transaction Type')\n",
    "plt.ylabel('Number of Transactions')\n",
    "\n",
    "# Show the plot\n",
    "plt.show()"
   ]
  },
  {
   "cell_type": "code",
   "execution_count": 17,
   "id": "dde4f54e",
   "metadata": {
    "execution": {
     "iopub.execute_input": "2025-02-26T10:37:02.378254Z",
     "iopub.status.busy": "2025-02-26T10:37:02.377913Z",
     "iopub.status.idle": "2025-02-26T10:37:05.786844Z",
     "shell.execute_reply": "2025-02-26T10:37:05.785752Z"
    },
    "papermill": {
     "duration": 3.418856,
     "end_time": "2025-02-26T10:37:05.789110",
     "exception": false,
     "start_time": "2025-02-26T10:37:02.370254",
     "status": "completed"
    },
    "tags": []
   },
   "outputs": [
    {
     "data": {
      "image/png": "[encoded data removed]",
      "text/plain": [
       "<Figure size 1200x600 with 1 Axes>"
      ]
     },
     "metadata": {},
     "output_type": "display_data"
    }
   ],
   "source": [
    "plt.figure(figsize=(12, 6))\n",
    "plt.scatter(gen_trans['Time']/3600, gen_trans['Amount'], alpha=0.5, label='Genuine', color='skyblue')\n",
    "plt.scatter(fr_trans['Time']/3600, fr_trans['Amount'], alpha=0.5, label='Fraudulent', color='salmon')\n",
    "plt.title('Transaction Amount vs. Time')\n",
    "plt.xlabel('Time (Hours)')\n",
    "plt.ylabel('Transaction Amount')\n",
    "plt.legend()\n",
    "plt.show()"
   ]
  },
  {
   "cell_type": "code",
   "execution_count": 18,
   "id": "78b279d0",
   "metadata": {
    "execution": {
     "iopub.execute_input": "2025-02-26T10:37:05.808611Z",
     "iopub.status.busy": "2025-02-26T10:37:05.808212Z",
     "iopub.status.idle": "2025-02-26T10:37:05.814618Z",
     "shell.execute_reply": "2025-02-26T10:37:05.813592Z"
    },
    "papermill": {
     "duration": 0.017687,
     "end_time": "2025-02-26T10:37:05.816212",
     "exception": false,
     "start_time": "2025-02-26T10:37:05.798525",
     "status": "completed"
    },
    "tags": []
   },
   "outputs": [
    {
     "data": {
      "text/plain": [
       "array([[ 8.05890000e+04, -6.83511136e-01,  1.29830589e+00, ...,\n",
       "        -3.61233431e-01, -9.02138593e-02,  1.28800000e+02],\n",
       "       [ 3.98520000e+04, -1.67407923e+00, -7.32001127e-01, ...,\n",
       "         3.07037725e-01, -3.71977542e-02,  6.89100000e+01],\n",
       "       [ 3.15210000e+04, -3.65630675e+00,  2.14360490e+00, ...,\n",
       "         2.05063934e-01,  3.92334808e-02,  2.56500000e+01],\n",
       "       ...,\n",
       "       [ 7.92210000e+04,  1.22707139e+00, -4.04909643e-01, ...,\n",
       "         8.96798981e-02,  2.18822890e-02,  1.00000000e+00],\n",
       "       [ 5.96850000e+04,  1.27892216e+00, -6.88399857e-01, ...,\n",
       "         6.01128228e-03,  9.28695221e-03,  4.42000000e+01],\n",
       "       [ 4.21900000e+03, -4.04232379e-01,  8.72817803e-02, ...,\n",
       "         1.74215125e-01,  1.32960537e-01,  1.00000000e+01]])"
      ]
     },
     "execution_count": 18,
     "metadata": {},
     "output_type": "execute_result"
    }
   ],
   "source": [
    "X_train_arr = X_train.values\n",
    "X_train_arr"
   ]
  },
  {
   "cell_type": "code",
   "execution_count": 19,
   "id": "9bc8567d",
   "metadata": {
    "execution": {
     "iopub.execute_input": "2025-02-26T10:37:05.834969Z",
     "iopub.status.busy": "2025-02-26T10:37:05.834642Z",
     "iopub.status.idle": "2025-02-26T10:37:05.838996Z",
     "shell.execute_reply": "2025-02-26T10:37:05.838113Z"
    },
    "papermill": {
     "duration": 0.015463,
     "end_time": "2025-02-26T10:37:05.840516",
     "exception": false,
     "start_time": "2025-02-26T10:37:05.825053",
     "status": "completed"
    },
    "tags": []
   },
   "outputs": [],
   "source": [
    "def estimate_meanvar(X_train_arr):\n",
    "    m, n = X_train_arr.shape\n",
    "    means = np.mean(X_train_arr, axis=0)\n",
    "    variances = np.var(X_train_arr, axis=0)\n",
    "    return means, variances"
   ]
  },
  {
   "cell_type": "code",
   "execution_count": 20,
   "id": "64f4a973",
   "metadata": {
    "execution": {
     "iopub.execute_input": "2025-02-26T10:37:05.859772Z",
     "iopub.status.busy": "2025-02-26T10:37:05.859409Z",
     "iopub.status.idle": "2025-02-26T10:37:05.864135Z",
     "shell.execute_reply": "2025-02-26T10:37:05.863236Z"
    },
    "papermill": {
     "duration": 0.015936,
     "end_time": "2025-02-26T10:37:05.865632",
     "exception": false,
     "start_time": "2025-02-26T10:37:05.849696",
     "status": "completed"
    },
    "tags": []
   },
   "outputs": [],
   "source": [
    "def eqn(x, mean, var):\n",
    "    sd = np.sqrt(var)\n",
    "    eq = (1/ (np.sqrt(2*np.pi) * sd)) * (np.exp(-np.square(x-mean)/(2*var)))\n",
    "    return eq"
   ]
  },
  {
   "cell_type": "code",
   "execution_count": 21,
   "id": "420566ed",
   "metadata": {
    "execution": {
     "iopub.execute_input": "2025-02-26T10:37:05.884413Z",
     "iopub.status.busy": "2025-02-26T10:37:05.884054Z",
     "iopub.status.idle": "2025-02-26T10:37:05.888442Z",
     "shell.execute_reply": "2025-02-26T10:37:05.887590Z"
    },
    "papermill": {
     "duration": 0.015411,
     "end_time": "2025-02-26T10:37:05.889958",
     "exception": false,
     "start_time": "2025-02-26T10:37:05.874547",
     "status": "completed"
    },
    "tags": []
   },
   "outputs": [],
   "source": [
    "def estimate_gaussian(X_train_arr, means, variances):\n",
    "    m, n = X_train_arr.shape\n",
    "    pros = np.prod(eqn(X_train_arr, means, variances), axis=1)\n",
    "    return pros\n",
    "            "
   ]
  },
  {
   "cell_type": "code",
   "execution_count": 22,
   "id": "f9f94387",
   "metadata": {
    "execution": {
     "iopub.execute_input": "2025-02-26T10:37:05.908989Z",
     "iopub.status.busy": "2025-02-26T10:37:05.908643Z",
     "iopub.status.idle": "2025-02-26T10:37:06.068829Z",
     "shell.execute_reply": "2025-02-26T10:37:06.067602Z"
    },
    "papermill": {
     "duration": 0.171572,
     "end_time": "2025-02-26T10:37:06.070502",
     "exception": false,
     "start_time": "2025-02-26T10:37:05.898930",
     "status": "completed"
    },
    "tags": []
   },
   "outputs": [
    {
     "name": "stdout",
     "output_type": "stream",
     "text": [
      "[5.31334764e-20 2.48532057e-25 6.52943297e-28 6.57932768e-30\n",
      " 8.03679149e-25]\n"
     ]
    }
   ],
   "source": [
    "means, variances = estimate_meanvar(X_train_arr)\n",
    "pros = estimate_gaussian(X_train_arr, means, variances)\n",
    "print(pros[:5])"
   ]
  },
  {
   "cell_type": "code",
   "execution_count": null,
   "id": "540ae585",
   "metadata": {
    "execution": {
     "iopub.status.busy": "2025-02-26T10:19:48.550593Z",
     "iopub.status.idle": "2025-02-26T10:19:48.550953Z",
     "shell.execute_reply": "2025-02-26T10:19:48.550815Z"
    },
    "papermill": {
     "duration": 0.009008,
     "end_time": "2025-02-26T10:37:06.088751",
     "exception": false,
     "start_time": "2025-02-26T10:37:06.079743",
     "status": "completed"
    },
    "tags": []
   },
   "outputs": [],
   "source": []
  },
  {
   "cell_type": "code",
   "execution_count": null,
   "id": "49e26f0a",
   "metadata": {
    "papermill": {
     "duration": 0.008445,
     "end_time": "2025-02-26T10:37:06.106240",
     "exception": false,
     "start_time": "2025-02-26T10:37:06.097795",
     "status": "completed"
    },
    "tags": []
   },
   "outputs": [],
   "source": []
  }
 ],
 "metadata": {
  "kaggle": {
   "accelerator": "none",
   "dataSources": [
    {
     "datasetId": 310,
     "sourceId": 23498,
     "sourceType": "datasetVersion"
    }
   ],
   "dockerImageVersionId": 30918,
   "isGpuEnabled": false,
   "isInternetEnabled": false,
   "language": "python",
   "sourceType": "notebook"
  },
  "kernelspec": {
   "display_name": "Python 3",
   "language": "python",
   "name": "python3"
  },
  "language_info": {
   "codemirror_mode": {
    "name": "ipython",
    "version": 3
   },
   "file_extension": ".py",
   "mimetype": "text/x-python",
   "name": "python",
   "nbconvert_exporter": "python",
   "pygments_lexer": "ipython3",
   "version": "3.10.12"
  },
  "papermill": {
   "default_parameters": {},
   "duration": 14.968425,
   "end_time": "2025-02-26T10:37:06.835934",
   "environment_variables": {},
   "exception": null,
   "input_path": "__notebook__.ipynb",
   "output_path": "__notebook__.ipynb",
   "parameters": {},
   "start_time": "2025-02-26T10:36:51.867509",
   "version": "2.6.0"
  }
 },
 "nbformat": 4,
 "nbformat_minor": 5
}
