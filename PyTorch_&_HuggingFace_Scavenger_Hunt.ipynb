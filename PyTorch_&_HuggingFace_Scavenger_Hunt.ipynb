{
  "nbformat": 4,
  "nbformat_minor": 0,
  "metadata": {
    "colab": {
      "provenance": [],
      "authorship_tag": "ABX9TyNsB3oJO3jG48evd61zqDoQ",
      "include_colab_link": true
    },
    "kernelspec": {
      "name": "python3",
      "display_name": "Python 3"
    },
    "language_info": {
      "name": "python"
    }
  },
  "cells": [
    {
      "cell_type": "markdown",
      "metadata": {
        "id": "view-in-github",
        "colab_type": "text"
      },
      "source": [
        "<a href=\"https://colab.research.google.com/github/mosahle7/ML/blob/main/PyTorch_%26_HuggingFace_Scavenger_Hunt.ipynb\" target=\"_parent\"><img src=\"https://colab.research.google.com/assets/colab-badge.svg\" alt=\"Open In Colab\"/></a>"
      ]
    },
    {
      "cell_type": "markdown",
      "source": [
        "**Tensor**"
      ],
      "metadata": {
        "id": "UjU0prcfccz6"
      }
    },
    {
      "cell_type": "code",
      "source": [
        "import torch\n",
        "\n",
        "device = torch.device('cuda' if torch.cuda.is_available() else 'cpu')"
      ],
      "metadata": {
        "id": "z2PeqoznckQ9"
      },
      "execution_count": 1,
      "outputs": []
    },
    {
      "cell_type": "code",
      "source": [
        "my_tensor = torch.tensor([[1,2,3],[4,5,6],[7,8,9]])\n",
        "my_tensor"
      ],
      "metadata": {
        "colab": {
          "base_uri": "https://localhost:8080/"
        },
        "id": "mLtnmfexc_DM",
        "outputId": "84e369f8-7576-42f7-9b09-33e089831fe4"
      },
      "execution_count": 5,
      "outputs": [
        {
          "output_type": "execute_result",
          "data": {
            "text/plain": [
              "tensor([[1, 2, 3],\n",
              "        [4, 5, 6],\n",
              "        [7, 8, 9]])"
            ]
          },
          "metadata": {},
          "execution_count": 5
        }
      ]
    },
    {
      "cell_type": "markdown",
      "source": [
        "**Neural Net Constructor Kit torch.nn**"
      ],
      "metadata": {
        "id": "W7P3r633eNcH"
      }
    },
    {
      "cell_type": "code",
      "source": [
        "import torch.nn as nn"
      ],
      "metadata": {
        "id": "qSWTH1QBdFbA"
      },
      "execution_count": 6,
      "outputs": []
    },
    {
      "cell_type": "code",
      "source": [
        "class MyMLP(nn.Module):\n",
        "\n",
        "  def __init__(self):\n",
        "    super(MyMLP, self).__init__()\n",
        "    self.fc1 = nn.Linear(784, 128)\n",
        "    self.fc2 = nn.Linear(128, 10)\n",
        "    self.relu = nn.ReLU()\n",
        "    self.softmax = nn.Softmax(dim = 1)\n",
        "\n",
        "  def forward(self,x):\n",
        "    x = self.fc1(x)\n",
        "    x = self.relu(x)\n",
        "    x = self.fc2(x)\n",
        "    x = self.softmax(x)\n",
        "    return x"
      ],
      "metadata": {
        "id": "9UmTpaxaeTCW"
      },
      "execution_count": 11,
      "outputs": []
    },
    {
      "cell_type": "code",
      "source": [
        "my_mlp = MyMLP()\n",
        "my_mlp\n"
      ],
      "metadata": {
        "colab": {
          "base_uri": "https://localhost:8080/"
        },
        "id": "7HRspEg-gGEq",
        "outputId": "9c0d801a-17c6-478f-dc9e-eeff0803ed57"
      },
      "execution_count": 12,
      "outputs": [
        {
          "output_type": "execute_result",
          "data": {
            "text/plain": [
              "MyMLP(\n",
              "  (fc1): Linear(in_features=784, out_features=128, bias=True)\n",
              "  (fc2): Linear(in_features=128, out_features=10, bias=True)\n",
              "  (relu): ReLU()\n",
              "  (softmax): Softmax(dim=1)\n",
              ")"
            ]
          },
          "metadata": {},
          "execution_count": 12
        }
      ]
    },
    {
      "cell_type": "markdown",
      "source": [
        "**PyTorch Loss Functions and Optimizers**"
      ],
      "metadata": {
        "id": "bIWp5jIqgnAz"
      }
    },
    {
      "cell_type": "code",
      "source": [
        "import torch.optim as optim"
      ],
      "metadata": {
        "id": "4Bv5C4zBg4mE"
      },
      "execution_count": 14,
      "outputs": []
    },
    {
      "cell_type": "code",
      "source": [
        "loss_fn = nn.CrossEntropyLoss()\n",
        "optimizer = optim.SGD(my_mlp.parameters(), lr=0.01)"
      ],
      "metadata": {
        "id": "duVvmHa1gHmC"
      },
      "execution_count": 18,
      "outputs": []
    },
    {
      "cell_type": "markdown",
      "source": [
        "**PyTorch Training Loops**"
      ],
      "metadata": {
        "id": "TFwaoyetkRs1"
      }
    },
    {
      "cell_type": "code",
      "source": [
        "def fake_training_loaders():\n",
        "  for _ in range(30):\n",
        "    yield torch.randn(64,784), torch.randint(0,10,(64,))\n",
        "\n",
        "for epoch in range(3):\n",
        "  for i, data in enumerate(fake_training_loaders()):\n",
        "    x, y = data\n",
        "    optimizer.zero_grad()\n",
        "    y_pred = my_mlp(x)\n",
        "    loss = loss_fn(y_pred, y)\n",
        "    loss.backward()\n",
        "    optimizer.step()\n",
        "\n",
        "    if i%10 == 0:\n",
        "      print(f\"Epoch {epoch}, batch {i}: {loss.item():.5f}\")\n"
      ],
      "metadata": {
        "colab": {
          "base_uri": "https://localhost:8080/"
        },
        "id": "ua53CWbvg3Ke",
        "outputId": "f2f4ad62-84a7-4f7c-aac6-3bbb3df038b5"
      },
      "execution_count": 20,
      "outputs": [
        {
          "output_type": "stream",
          "name": "stdout",
          "text": [
            "Epoch 0, batch 0: 2.30446\n",
            "Epoch 0, batch 10: 2.29941\n",
            "Epoch 0, batch 20: 2.30185\n",
            "Epoch 1, batch 0: 2.30124\n",
            "Epoch 1, batch 10: 2.30403\n",
            "Epoch 1, batch 20: 2.30389\n",
            "Epoch 2, batch 0: 2.30503\n",
            "Epoch 2, batch 10: 2.30125\n",
            "Epoch 2, batch 20: 2.30700\n"
          ]
        }
      ]
    },
    {
      "cell_type": "code",
      "source": [],
      "metadata": {
        "id": "ujTqJvbEn7oN"
      },
      "execution_count": null,
      "outputs": []
    }
  ]
}