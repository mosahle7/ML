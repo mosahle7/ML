{
 "cells": [
  {
   "cell_type": "code",
   "execution_count": 1,
   "id": "5257f188",
   "metadata": {
    "_cell_guid": "b1076dfc-b9ad-4769-8c92-a6c4dae69d19",
    "_uuid": "8f2839f25d086af736a60e9eeb907d3b93b6e0e5",
    "execution": {
     "iopub.execute_input": "2025-03-08T09:44:50.576041Z",
     "iopub.status.busy": "2025-03-08T09:44:50.575610Z",
     "iopub.status.idle": "2025-03-08T09:44:51.538465Z",
     "shell.execute_reply": "2025-03-08T09:44:51.537120Z"
    },
    "papermill": {
     "duration": 0.971885,
     "end_time": "2025-03-08T09:44:51.540614",
     "exception": false,
     "start_time": "2025-03-08T09:44:50.568729",
     "status": "completed"
    },
    "tags": []
   },
   "outputs": [
    {
     "name": "stdout",
     "output_type": "stream",
     "text": [
      "/kaggle/input/movie-collaborative-filtering-recommender/small_movies_X.csv\n",
      "/kaggle/input/movie-collaborative-filtering-recommender/small_movies_b.csv\n",
      "/kaggle/input/movie-collaborative-filtering-recommender/small_movies_Y.csv\n",
      "/kaggle/input/movie-collaborative-filtering-recommender/small_movie_list.csv\n",
      "/kaggle/input/movie-collaborative-filtering-recommender/small_movies_W.csv\n",
      "/kaggle/input/movie-collaborative-filtering-recommender/small_movies_R.csv\n"
     ]
    }
   ],
   "source": [
    "# This Python 3 environment comes with many helpful analytics libraries installed\n",
    "# It is defined by the kaggle/python Docker image: https://github.com/kaggle/docker-python\n",
    "# For example, here's several helpful packages to load\n",
    "\n",
    "import numpy as np # linear algebra\n",
    "import pandas as pd # data processing, CSV file I/O (e.g. pd.read_csv)\n",
    "\n",
    "# Input data files are available in the read-only \"../input/\" directory\n",
    "# For example, running this (by clicking run or pressing Shift+Enter) will list all files under the input directory\n",
    "\n",
    "import os\n",
    "for dirname, _, filenames in os.walk('/kaggle/input'):\n",
    "    for filename in filenames:\n",
    "        print(os.path.join(dirname, filename))\n",
    "\n",
    "# You can write up to 20GB to the current directory (/kaggle/working/) that gets preserved as output when you create a version using \"Save & Run All\" \n",
    "# You can also write temporary files to /kaggle/temp/, but they won't be saved outside of the current session"
   ]
  },
  {
   "cell_type": "code",
   "execution_count": 2,
   "id": "c9d23e00",
   "metadata": {
    "execution": {
     "iopub.execute_input": "2025-03-08T09:44:51.553125Z",
     "iopub.status.busy": "2025-03-08T09:44:51.552524Z",
     "iopub.status.idle": "2025-03-08T09:45:06.908116Z",
     "shell.execute_reply": "2025-03-08T09:45:06.906926Z"
    },
    "papermill": {
     "duration": 15.364126,
     "end_time": "2025-03-08T09:45:06.910267",
     "exception": false,
     "start_time": "2025-03-08T09:44:51.546141",
     "status": "completed"
    },
    "tags": []
   },
   "outputs": [],
   "source": [
    "from numpy import loadtxt\n",
    "import tensorflow as tf\n",
    "from tensorflow import keras"
   ]
  },
  {
   "cell_type": "code",
   "execution_count": 3,
   "id": "5499a6f0",
   "metadata": {
    "execution": {
     "iopub.execute_input": "2025-03-08T09:45:06.922330Z",
     "iopub.status.busy": "2025-03-08T09:45:06.921640Z",
     "iopub.status.idle": "2025-03-08T09:45:06.956697Z",
     "shell.execute_reply": "2025-03-08T09:45:06.955572Z"
    },
    "papermill": {
     "duration": 0.043159,
     "end_time": "2025-03-08T09:45:06.958726",
     "exception": false,
     "start_time": "2025-03-08T09:45:06.915567",
     "status": "completed"
    },
    "tags": []
   },
   "outputs": [],
   "source": [
    "df = pd.read_csv('/kaggle/input/movie-collaborative-filtering-recommender/small_movies_X.csv')"
   ]
  },
  {
   "cell_type": "code",
   "execution_count": 4,
   "id": "df0df61f",
   "metadata": {
    "execution": {
     "iopub.execute_input": "2025-03-08T09:45:06.971477Z",
     "iopub.status.busy": "2025-03-08T09:45:06.971062Z",
     "iopub.status.idle": "2025-03-08T09:45:07.002711Z",
     "shell.execute_reply": "2025-03-08T09:45:07.001608Z"
    },
    "papermill": {
     "duration": 0.040184,
     "end_time": "2025-03-08T09:45:07.004737",
     "exception": false,
     "start_time": "2025-03-08T09:45:06.964553",
     "status": "completed"
    },
    "tags": []
   },
   "outputs": [
    {
     "data": {
      "text/html": [
       "<div>\n",
       "<style scoped>\n",
       "    .dataframe tbody tr th:only-of-type {\n",
       "        vertical-align: middle;\n",
       "    }\n",
       "\n",
       "    .dataframe tbody tr th {\n",
       "        vertical-align: top;\n",
       "    }\n",
       "\n",
       "    .dataframe thead th {\n",
       "        text-align: right;\n",
       "    }\n",
       "</style>\n",
       "<table border=\"1\" class=\"dataframe\">\n",
       "  <thead>\n",
       "    <tr style=\"text-align: right;\">\n",
       "      <th></th>\n",
       "      <th>-0.033286825</th>\n",
       "      <th>1.1667464</th>\n",
       "      <th>-0.5064895</th>\n",
       "      <th>0.1250965</th>\n",
       "      <th>1.5347596</th>\n",
       "      <th>-0.21013564</th>\n",
       "      <th>0.10417578</th>\n",
       "      <th>-0.349303</th>\n",
       "      <th>0.75385165</th>\n",
       "      <th>-0.20810875</th>\n",
       "    </tr>\n",
       "  </thead>\n",
       "  <tbody>\n",
       "    <tr>\n",
       "      <th>0</th>\n",
       "      <td>0.404058</td>\n",
       "      <td>2.266492</td>\n",
       "      <td>-0.742824</td>\n",
       "      <td>1.374039</td>\n",
       "      <td>1.145788</td>\n",
       "      <td>0.381959</td>\n",
       "      <td>-0.447495</td>\n",
       "      <td>-1.038103</td>\n",
       "      <td>-2.332266</td>\n",
       "      <td>-2.343191</td>\n",
       "    </tr>\n",
       "    <tr>\n",
       "      <th>1</th>\n",
       "      <td>0.023478</td>\n",
       "      <td>0.428102</td>\n",
       "      <td>-0.426381</td>\n",
       "      <td>0.107177</td>\n",
       "      <td>0.484193</td>\n",
       "      <td>-0.969298</td>\n",
       "      <td>-0.748563</td>\n",
       "      <td>-0.293784</td>\n",
       "      <td>0.439730</td>\n",
       "      <td>1.823422</td>\n",
       "    </tr>\n",
       "    <tr>\n",
       "      <th>2</th>\n",
       "      <td>0.511281</td>\n",
       "      <td>1.518797</td>\n",
       "      <td>1.602747</td>\n",
       "      <td>-2.296399</td>\n",
       "      <td>-0.570383</td>\n",
       "      <td>-0.480868</td>\n",
       "      <td>-0.662502</td>\n",
       "      <td>1.965215</td>\n",
       "      <td>0.495176</td>\n",
       "      <td>1.044845</td>\n",
       "    </tr>\n",
       "    <tr>\n",
       "      <th>3</th>\n",
       "      <td>-2.056514</td>\n",
       "      <td>0.458517</td>\n",
       "      <td>0.619371</td>\n",
       "      <td>-0.138456</td>\n",
       "      <td>0.011926</td>\n",
       "      <td>-0.282415</td>\n",
       "      <td>0.027502</td>\n",
       "      <td>-0.535465</td>\n",
       "      <td>0.661082</td>\n",
       "      <td>0.195084</td>\n",
       "    </tr>\n",
       "    <tr>\n",
       "      <th>4</th>\n",
       "      <td>-0.443277</td>\n",
       "      <td>-0.015877</td>\n",
       "      <td>0.239043</td>\n",
       "      <td>-1.300772</td>\n",
       "      <td>0.100523</td>\n",
       "      <td>-1.271912</td>\n",
       "      <td>0.289156</td>\n",
       "      <td>2.173626</td>\n",
       "      <td>0.203151</td>\n",
       "      <td>-0.522043</td>\n",
       "    </tr>\n",
       "  </tbody>\n",
       "</table>\n",
       "</div>"
      ],
      "text/plain": [
       "   -0.033286825  1.1667464  -0.5064895  0.1250965  1.5347596  -0.21013564  \\\n",
       "0      0.404058   2.266492   -0.742824   1.374039   1.145788     0.381959   \n",
       "1      0.023478   0.428102   -0.426381   0.107177   0.484193    -0.969298   \n",
       "2      0.511281   1.518797    1.602747  -2.296399  -0.570383    -0.480868   \n",
       "3     -2.056514   0.458517    0.619371  -0.138456   0.011926    -0.282415   \n",
       "4     -0.443277  -0.015877    0.239043  -1.300772   0.100523    -1.271912   \n",
       "\n",
       "   0.10417578  -0.349303  0.75385165  -0.20810875  \n",
       "0   -0.447495  -1.038103   -2.332266    -2.343191  \n",
       "1   -0.748563  -0.293784    0.439730     1.823422  \n",
       "2   -0.662502   1.965215    0.495176     1.044845  \n",
       "3    0.027502  -0.535465    0.661082     0.195084  \n",
       "4    0.289156   2.173626    0.203151    -0.522043  "
      ]
     },
     "execution_count": 4,
     "metadata": {},
     "output_type": "execute_result"
    }
   ],
   "source": [
    "df.head()"
   ]
  },
  {
   "cell_type": "code",
   "execution_count": 5,
   "id": "fe58c669",
   "metadata": {
    "execution": {
     "iopub.execute_input": "2025-03-08T09:45:07.017198Z",
     "iopub.status.busy": "2025-03-08T09:45:07.016774Z",
     "iopub.status.idle": "2025-03-08T09:45:07.022732Z",
     "shell.execute_reply": "2025-03-08T09:45:07.021438Z"
    },
    "papermill": {
     "duration": 0.014277,
     "end_time": "2025-03-08T09:45:07.024518",
     "exception": false,
     "start_time": "2025-03-08T09:45:07.010241",
     "status": "completed"
    },
    "tags": []
   },
   "outputs": [],
   "source": [
    "def load_params():\n",
    "    file = open('/kaggle/input/movie-collaborative-filtering-recommender/small_movies_X.csv', 'rb')\n",
    "    X=loadtxt(file, delimiter = \",\")\n",
    "\n",
    "    file = open('/kaggle/input/movie-collaborative-filtering-recommender/small_movies_W.csv', 'rb')\n",
    "    W=loadtxt(file, delimiter = \",\")\n",
    "\n",
    "    file = open('/kaggle/input/movie-collaborative-filtering-recommender/small_movies_b.csv', 'rb')\n",
    "    b=loadtxt(file, delimiter = \",\")\n",
    "    b.reshape(1,-1)\n",
    "\n",
    "    nm, n = X.shape\n",
    "    nu = W.shape[0]\n",
    "\n",
    "    return (X, W, b, nm, n, nu)"
   ]
  },
  {
   "cell_type": "code",
   "execution_count": 6,
   "id": "4a96901d",
   "metadata": {
    "execution": {
     "iopub.execute_input": "2025-03-08T09:45:07.036646Z",
     "iopub.status.busy": "2025-03-08T09:45:07.036270Z",
     "iopub.status.idle": "2025-03-08T09:45:07.041391Z",
     "shell.execute_reply": "2025-03-08T09:45:07.040117Z"
    },
    "papermill": {
     "duration": 0.013249,
     "end_time": "2025-03-08T09:45:07.043271",
     "exception": false,
     "start_time": "2025-03-08T09:45:07.030022",
     "status": "completed"
    },
    "tags": []
   },
   "outputs": [],
   "source": [
    "def load_ratings():\n",
    "    file = open('/kaggle/input/movie-collaborative-filtering-recommender/small_movies_Y.csv', 'rb')\n",
    "    Y=loadtxt(file, delimiter = \",\")\n",
    "\n",
    "    file = open('/kaggle/input/movie-collaborative-filtering-recommender/small_movies_R.csv', 'rb')\n",
    "    R=loadtxt(file, delimiter = \",\")\n",
    "\n",
    "    return (Y,R) "
   ]
  },
  {
   "cell_type": "code",
   "execution_count": 7,
   "id": "affb03d2",
   "metadata": {
    "execution": {
     "iopub.execute_input": "2025-03-08T09:45:07.055428Z",
     "iopub.status.busy": "2025-03-08T09:45:07.055006Z",
     "iopub.status.idle": "2025-03-08T09:45:07.376472Z",
     "shell.execute_reply": "2025-03-08T09:45:07.375329Z"
    },
    "papermill": {
     "duration": 0.329836,
     "end_time": "2025-03-08T09:45:07.378596",
     "exception": false,
     "start_time": "2025-03-08T09:45:07.048760",
     "status": "completed"
    },
    "tags": []
   },
   "outputs": [],
   "source": [
    "X, W, b, nm, n, nu = load_params()\n",
    "Y, R = load_ratings()"
   ]
  },
  {
   "cell_type": "code",
   "execution_count": 8,
   "id": "44be6fee",
   "metadata": {
    "execution": {
     "iopub.execute_input": "2025-03-08T09:45:07.391074Z",
     "iopub.status.busy": "2025-03-08T09:45:07.390600Z",
     "iopub.status.idle": "2025-03-08T09:45:07.399617Z",
     "shell.execute_reply": "2025-03-08T09:45:07.398440Z"
    },
    "papermill": {
     "duration": 0.017422,
     "end_time": "2025-03-08T09:45:07.401549",
     "exception": false,
     "start_time": "2025-03-08T09:45:07.384127",
     "status": "completed"
    },
    "tags": []
   },
   "outputs": [
    {
     "name": "stdout",
     "output_type": "stream",
     "text": [
      "Y (4778, 443) R (4778, 443)\n",
      "X (4778, 10)\n",
      "W (443, 10)\n",
      "b (443,)\n",
      "num_features 10\n",
      "num_movies 4778\n",
      "num_users 443\n"
     ]
    }
   ],
   "source": [
    "print(\"Y\", Y.shape, \"R\", R.shape)\n",
    "print(\"X\", X.shape)\n",
    "print(\"W\", W.shape)\n",
    "print(\"b\", b.shape)\n",
    "print(\"num_features\", n)\n",
    "print(\"num_movies\",   nm)\n",
    "print(\"num_users\",    nu)"
   ]
  },
  {
   "cell_type": "code",
   "execution_count": 9,
   "id": "3e50da2f",
   "metadata": {
    "execution": {
     "iopub.execute_input": "2025-03-08T09:45:07.414562Z",
     "iopub.status.busy": "2025-03-08T09:45:07.414158Z",
     "iopub.status.idle": "2025-03-08T09:45:07.420940Z",
     "shell.execute_reply": "2025-03-08T09:45:07.419668Z"
    },
    "papermill": {
     "duration": 0.015383,
     "end_time": "2025-03-08T09:45:07.422873",
     "exception": false,
     "start_time": "2025-03-08T09:45:07.407490",
     "status": "completed"
    },
    "tags": []
   },
   "outputs": [],
   "source": [
    "def cost_fun(X, W, b, Y, R, lambda_):\n",
    "    nm, nu = Y.shape\n",
    "    n = X.shape[1]\n",
    "    J = 0\n",
    "    ### START CODE HERE ###  \n",
    "    for j in range(nu):\n",
    "        for i in range(nm):\n",
    "            J+=R[i][j]*(np.square(np.dot(W[j], X[i]) + b[0][j] - Y[i][j]))\n",
    "    \n",
    "    J/=2\n",
    "    \n",
    "    reg=0\n",
    "    \n",
    "    reg += (np.sum(np.square(W)) + np.sum(np.square(X)))\n",
    "    reg *= (lambda_/2)\n",
    "          \n",
    "    J+=reg\n",
    "    return J\n",
    "    "
   ]
  },
  {
   "cell_type": "code",
   "execution_count": 10,
   "id": "43e26ff1",
   "metadata": {
    "execution": {
     "iopub.execute_input": "2025-03-08T09:45:07.436193Z",
     "iopub.status.busy": "2025-03-08T09:45:07.435769Z",
     "iopub.status.idle": "2025-03-08T09:45:07.440599Z",
     "shell.execute_reply": "2025-03-08T09:45:07.439612Z"
    },
    "papermill": {
     "duration": 0.013609,
     "end_time": "2025-03-08T09:45:07.442230",
     "exception": false,
     "start_time": "2025-03-08T09:45:07.428621",
     "status": "completed"
    },
    "tags": []
   },
   "outputs": [],
   "source": [
    "def load_movies():\n",
    "    df = pd.read_csv(\"/kaggle/input/movie-collaborative-filtering-recommender/small_movie_list.csv\", header=0, index_col=0, delimiter=\",\", quotechar='\"')\n",
    "    mlist = df[\"title\"].to_list()\n",
    "    return (mlist, df)"
   ]
  },
  {
   "cell_type": "code",
   "execution_count": 11,
   "id": "42d3992d",
   "metadata": {
    "execution": {
     "iopub.execute_input": "2025-03-08T09:45:07.455032Z",
     "iopub.status.busy": "2025-03-08T09:45:07.454616Z",
     "iopub.status.idle": "2025-03-08T09:45:07.460253Z",
     "shell.execute_reply": "2025-03-08T09:45:07.459059Z"
    },
    "papermill": {
     "duration": 0.014062,
     "end_time": "2025-03-08T09:45:07.462212",
     "exception": false,
     "start_time": "2025-03-08T09:45:07.448150",
     "status": "completed"
    },
    "tags": []
   },
   "outputs": [],
   "source": [
    "def cost_fun(X, W, b, Y, R, lambda_):\n",
    "    j = (tf.linalg.matmul(X, tf.transpose(W)) + b - Y) * R\n",
    "    J = 0.5 * tf.reduce_sum(j**2) + (lambda_/2) * tf.reduce_sum(X**2) + (lambda_/2) * tf.reduce_sum(W**2) \n",
    "    return J"
   ]
  },
  {
   "cell_type": "code",
   "execution_count": 12,
   "id": "fd7b0deb",
   "metadata": {
    "execution": {
     "iopub.execute_input": "2025-03-08T09:45:07.475203Z",
     "iopub.status.busy": "2025-03-08T09:45:07.474794Z",
     "iopub.status.idle": "2025-03-08T09:45:07.499399Z",
     "shell.execute_reply": "2025-03-08T09:45:07.498241Z"
    },
    "papermill": {
     "duration": 0.033828,
     "end_time": "2025-03-08T09:45:07.501671",
     "exception": false,
     "start_time": "2025-03-08T09:45:07.467843",
     "status": "completed"
    },
    "tags": []
   },
   "outputs": [],
   "source": [
    "movies, movies_df = load_movies()"
   ]
  },
  {
   "cell_type": "code",
   "execution_count": 13,
   "id": "4140b7a0",
   "metadata": {
    "execution": {
     "iopub.execute_input": "2025-03-08T09:45:07.514528Z",
     "iopub.status.busy": "2025-03-08T09:45:07.514138Z",
     "iopub.status.idle": "2025-03-08T09:45:07.525002Z",
     "shell.execute_reply": "2025-03-08T09:45:07.523611Z"
    },
    "papermill": {
     "duration": 0.019655,
     "end_time": "2025-03-08T09:45:07.526891",
     "exception": false,
     "start_time": "2025-03-08T09:45:07.507236",
     "status": "completed"
    },
    "tags": []
   },
   "outputs": [
    {
     "data": {
      "text/html": [
       "<div>\n",
       "<style scoped>\n",
       "    .dataframe tbody tr th:only-of-type {\n",
       "        vertical-align: middle;\n",
       "    }\n",
       "\n",
       "    .dataframe tbody tr th {\n",
       "        vertical-align: top;\n",
       "    }\n",
       "\n",
       "    .dataframe thead th {\n",
       "        text-align: right;\n",
       "    }\n",
       "</style>\n",
       "<table border=\"1\" class=\"dataframe\">\n",
       "  <thead>\n",
       "    <tr style=\"text-align: right;\">\n",
       "      <th></th>\n",
       "      <th>mean rating</th>\n",
       "      <th>number of ratings</th>\n",
       "      <th>title</th>\n",
       "    </tr>\n",
       "  </thead>\n",
       "  <tbody>\n",
       "    <tr>\n",
       "      <th>0</th>\n",
       "      <td>3.400000</td>\n",
       "      <td>5</td>\n",
       "      <td>Yards, The (2000)</td>\n",
       "    </tr>\n",
       "    <tr>\n",
       "      <th>1</th>\n",
       "      <td>3.250000</td>\n",
       "      <td>6</td>\n",
       "      <td>Next Friday (2000)</td>\n",
       "    </tr>\n",
       "    <tr>\n",
       "      <th>2</th>\n",
       "      <td>2.000000</td>\n",
       "      <td>4</td>\n",
       "      <td>Supernova (2000)</td>\n",
       "    </tr>\n",
       "    <tr>\n",
       "      <th>3</th>\n",
       "      <td>2.000000</td>\n",
       "      <td>4</td>\n",
       "      <td>Down to You (2000)</td>\n",
       "    </tr>\n",
       "    <tr>\n",
       "      <th>4</th>\n",
       "      <td>2.672414</td>\n",
       "      <td>29</td>\n",
       "      <td>Scream 3 (2000)</td>\n",
       "    </tr>\n",
       "  </tbody>\n",
       "</table>\n",
       "</div>"
      ],
      "text/plain": [
       "   mean rating  number of ratings               title\n",
       "0     3.400000                  5   Yards, The (2000)\n",
       "1     3.250000                  6  Next Friday (2000)\n",
       "2     2.000000                  4    Supernova (2000)\n",
       "3     2.000000                  4  Down to You (2000)\n",
       "4     2.672414                 29     Scream 3 (2000)"
      ]
     },
     "execution_count": 13,
     "metadata": {},
     "output_type": "execute_result"
    }
   ],
   "source": [
    "movies[:5]\n",
    "movies_df.head()"
   ]
  },
  {
   "cell_type": "code",
   "execution_count": 14,
   "id": "eb8e6ae0",
   "metadata": {
    "execution": {
     "iopub.execute_input": "2025-03-08T09:45:07.540219Z",
     "iopub.status.busy": "2025-03-08T09:45:07.539790Z",
     "iopub.status.idle": "2025-03-08T09:45:07.551332Z",
     "shell.execute_reply": "2025-03-08T09:45:07.549972Z"
    },
    "papermill": {
     "duration": 0.020114,
     "end_time": "2025-03-08T09:45:07.553276",
     "exception": false,
     "start_time": "2025-03-08T09:45:07.533162",
     "status": "completed"
    },
    "tags": []
   },
   "outputs": [
    {
     "name": "stdout",
     "output_type": "stream",
     "text": [
      "New User Ratings: \n",
      "\n",
      "Rated 5.0 for  Gladiator (2000)\n",
      "Rated 4.0 for  Mission: Impossible II (2000)\n",
      "Rated 5.0 for  Harry Potter and the Sorcerer's Stone (a.k.a. Harry Potter and the Philosopher's Stone) (2001)\n",
      "Rated 2.0 for  Amelie (Fabuleux destin d'Amélie Poulain, Le) (2001)\n",
      "Rated 4.5 for  Pirates of the Caribbean: The Curse of the Black Pearl (2003)\n",
      "Rated 3.5 for  Lord of the Rings: The Return of the King, The (2003)\n",
      "Rated 4.5 for  Inception (2010)\n",
      "Rated 1.0 for  Louis Theroux: Law & Disorder (2008)\n"
     ]
    }
   ],
   "source": [
    "my_ratings = np.zeros(nm)\n",
    "\n",
    "my_ratings[51] = 5\n",
    "my_ratings[62] = 4\n",
    "my_ratings[929] = 3.5\n",
    "my_ratings[2716] = 4.5\n",
    "my_ratings[366] = 5\n",
    "my_ratings[2925] = 1\n",
    "my_ratings[793] = 4.5\n",
    "my_ratings[382] = 2\n",
    "\n",
    "rated = [i for i in range(nm) if my_ratings[i]>0]\n",
    "\n",
    "print(\"New User Ratings: \\n\")\n",
    "for i in range(nm):\n",
    "    if my_ratings[i] > 0 :\n",
    "        print(f'Rated {my_ratings[i]} for  {movies[i]}');\n"
   ]
  },
  {
   "cell_type": "code",
   "execution_count": 15,
   "id": "e1857909",
   "metadata": {
    "execution": {
     "iopub.execute_input": "2025-03-08T09:45:07.567163Z",
     "iopub.status.busy": "2025-03-08T09:45:07.566752Z",
     "iopub.status.idle": "2025-03-08T09:45:07.572905Z",
     "shell.execute_reply": "2025-03-08T09:45:07.571756Z"
    },
    "papermill": {
     "duration": 0.015384,
     "end_time": "2025-03-08T09:45:07.574685",
     "exception": false,
     "start_time": "2025-03-08T09:45:07.559301",
     "status": "completed"
    },
    "tags": []
   },
   "outputs": [
    {
     "data": {
      "text/plain": [
       "(4778, 443)"
      ]
     },
     "execution_count": 15,
     "metadata": {},
     "output_type": "execute_result"
    }
   ],
   "source": [
    "Y.shape\n"
   ]
  },
  {
   "cell_type": "code",
   "execution_count": 16,
   "id": "55eb8458",
   "metadata": {
    "execution": {
     "iopub.execute_input": "2025-03-08T09:45:07.587790Z",
     "iopub.status.busy": "2025-03-08T09:45:07.587388Z",
     "iopub.status.idle": "2025-03-08T09:45:07.603602Z",
     "shell.execute_reply": "2025-03-08T09:45:07.602238Z"
    },
    "papermill": {
     "duration": 0.025219,
     "end_time": "2025-03-08T09:45:07.605845",
     "exception": false,
     "start_time": "2025-03-08T09:45:07.580626",
     "status": "completed"
    },
    "tags": []
   },
   "outputs": [
    {
     "data": {
      "text/plain": [
       "(4778, 444)"
      ]
     },
     "execution_count": 16,
     "metadata": {},
     "output_type": "execute_result"
    }
   ],
   "source": [
    "Y = np.c_[my_ratings, Y]\n",
    "Y.shape"
   ]
  },
  {
   "cell_type": "code",
   "execution_count": 17,
   "id": "c2cb55cb",
   "metadata": {
    "execution": {
     "iopub.execute_input": "2025-03-08T09:45:07.619313Z",
     "iopub.status.busy": "2025-03-08T09:45:07.618888Z",
     "iopub.status.idle": "2025-03-08T09:45:07.636312Z",
     "shell.execute_reply": "2025-03-08T09:45:07.634847Z"
    },
    "papermill": {
     "duration": 0.026533,
     "end_time": "2025-03-08T09:45:07.638465",
     "exception": false,
     "start_time": "2025-03-08T09:45:07.611932",
     "status": "completed"
    },
    "tags": []
   },
   "outputs": [
    {
     "data": {
      "text/plain": [
       "(4778, 444)"
      ]
     },
     "execution_count": 17,
     "metadata": {},
     "output_type": "execute_result"
    }
   ],
   "source": [
    "R = np.c_[(my_ratings!=0).astype(int), R]\n",
    "R.shape"
   ]
  },
  {
   "cell_type": "code",
   "execution_count": 18,
   "id": "594a8ba4",
   "metadata": {
    "execution": {
     "iopub.execute_input": "2025-03-08T09:45:07.653468Z",
     "iopub.status.busy": "2025-03-08T09:45:07.653071Z",
     "iopub.status.idle": "2025-03-08T09:45:07.658795Z",
     "shell.execute_reply": "2025-03-08T09:45:07.657357Z"
    },
    "papermill": {
     "duration": 0.016321,
     "end_time": "2025-03-08T09:45:07.661382",
     "exception": false,
     "start_time": "2025-03-08T09:45:07.645061",
     "status": "completed"
    },
    "tags": []
   },
   "outputs": [],
   "source": [
    "def normalize_ratings(Y, R):\n",
    "    Y_mean =(np.sum(Y * R, axis=1)/(np.sum(R, axis=1) +1e-12)).reshape(-1,1)\n",
    "    Y_norm = Y - np.multiply(Y_mean, R)\n",
    "    return Y_norm, Y_mean"
   ]
  },
  {
   "cell_type": "code",
   "execution_count": 19,
   "id": "e3465a60",
   "metadata": {
    "execution": {
     "iopub.execute_input": "2025-03-08T09:45:07.675386Z",
     "iopub.status.busy": "2025-03-08T09:45:07.674912Z",
     "iopub.status.idle": "2025-03-08T09:45:07.715117Z",
     "shell.execute_reply": "2025-03-08T09:45:07.713874Z"
    },
    "papermill": {
     "duration": 0.04968,
     "end_time": "2025-03-08T09:45:07.717156",
     "exception": false,
     "start_time": "2025-03-08T09:45:07.667476",
     "status": "completed"
    },
    "tags": []
   },
   "outputs": [
    {
     "data": {
      "text/plain": [
       "(4778, 444)"
      ]
     },
     "execution_count": 19,
     "metadata": {},
     "output_type": "execute_result"
    }
   ],
   "source": [
    "Y_norm, Y_mean = normalize_ratings(Y, R)\n",
    "Y_norm.shape"
   ]
  },
  {
   "cell_type": "code",
   "execution_count": 20,
   "id": "9da48ae2",
   "metadata": {
    "execution": {
     "iopub.execute_input": "2025-03-08T09:45:07.730719Z",
     "iopub.status.busy": "2025-03-08T09:45:07.730335Z",
     "iopub.status.idle": "2025-03-08T09:45:07.737205Z",
     "shell.execute_reply": "2025-03-08T09:45:07.736158Z"
    },
    "papermill": {
     "duration": 0.015725,
     "end_time": "2025-03-08T09:45:07.739174",
     "exception": false,
     "start_time": "2025-03-08T09:45:07.723449",
     "status": "completed"
    },
    "tags": []
   },
   "outputs": [
    {
     "data": {
      "text/plain": [
       "array([[ 0.47935075,  0.4766997 ,  0.48794055, -0.11980432, -0.32864022,\n",
       "         0.4232462 , -0.3951074 , -0.2383076 , -0.36121953, -0.18090296],\n",
       "       [ 0.03604829, -0.38190877,  0.2958575 , -0.25823373,  0.28605568,\n",
       "        -0.1814661 ,  0.29349202,  0.4640792 ,  0.45832908, -0.23635024],\n",
       "       [ 0.05561632, -0.05899394, -0.2452817 ,  0.10987079,  0.3970989 ,\n",
       "         0.3636213 ,  0.14597559,  0.36375767,  0.01846844,  0.17488128],\n",
       "       [ 0.4550811 ,  0.15987432, -0.4527412 ,  0.23575765,  0.2386728 ,\n",
       "        -0.27724636,  0.3670869 , -0.32793385,  0.28871763,  0.37041497],\n",
       "       [-0.0171572 , -0.43986136, -0.33766657,  0.18368888, -0.45843637,\n",
       "         0.171238  , -0.36026502,  0.11101794,  0.04873836, -0.43986273]])"
      ]
     },
     "execution_count": 20,
     "metadata": {},
     "output_type": "execute_result"
    }
   ],
   "source": [
    "W[:5]"
   ]
  },
  {
   "cell_type": "code",
   "execution_count": 21,
   "id": "27d340d0",
   "metadata": {
    "execution": {
     "iopub.execute_input": "2025-03-08T09:45:07.752792Z",
     "iopub.status.busy": "2025-03-08T09:45:07.752351Z",
     "iopub.status.idle": "2025-03-08T09:45:07.893791Z",
     "shell.execute_reply": "2025-03-08T09:45:07.892603Z"
    },
    "papermill": {
     "duration": 0.150271,
     "end_time": "2025-03-08T09:45:07.895619",
     "exception": false,
     "start_time": "2025-03-08T09:45:07.745348",
     "status": "completed"
    },
    "tags": []
   },
   "outputs": [],
   "source": [
    "tf.random.set_seed(1234)\n",
    "n=10\n",
    "\n",
    "W = tf.Variable(tf.random.normal((nu+1, n), dtype=tf.float64), name='W')\n",
    "X = tf.Variable(tf.random.normal((nm, n), dtype=tf.float64), name='X')\n",
    "b = tf.Variable(tf.random.normal((1, nu+1), dtype=tf.float64), name='b')\n",
    "\n",
    "optimizer = keras.optimizers.Adam(learning_rate = 1e-1)"
   ]
  },
  {
   "cell_type": "code",
   "execution_count": 22,
   "id": "d4010e6e",
   "metadata": {
    "execution": {
     "iopub.execute_input": "2025-03-08T09:45:07.910392Z",
     "iopub.status.busy": "2025-03-08T09:45:07.909911Z",
     "iopub.status.idle": "2025-03-08T09:45:45.478584Z",
     "shell.execute_reply": "2025-03-08T09:45:45.477337Z"
    },
    "papermill": {
     "duration": 37.578562,
     "end_time": "2025-03-08T09:45:45.480681",
     "exception": false,
     "start_time": "2025-03-08T09:45:07.902119",
     "status": "completed"
    },
    "tags": []
   },
   "outputs": [
    {
     "name": "stdout",
     "output_type": "stream",
     "text": [
      "Training loss at iteration 0 : 267428.2\n",
      "Training loss at iteration 20 : 16316.6\n",
      "Training loss at iteration 40 : 9550.8\n",
      "Training loss at iteration 60 : 7243.2\n",
      "Training loss at iteration 80 : 6216.3\n",
      "Training loss at iteration 100 : 5693.1\n",
      "Training loss at iteration 120 : 5414.5\n",
      "Training loss at iteration 140 : 5254.2\n",
      "Training loss at iteration 160 : 5149.2\n",
      "Training loss at iteration 180 : 5073.8\n"
     ]
    }
   ],
   "source": [
    "iters = 200\n",
    "lambda_ = 1\n",
    "for i in range(iters):\n",
    "    with tf.GradientTape() as tape:\n",
    "        cost_value = cost_fun(X, W, b, Y_norm, R, lambda_)\n",
    "\n",
    "    grads = tape.gradient(cost_value, [X,W,b])\n",
    "    optimizer.apply_gradients(zip(grads, [X,W,b]))\n",
    "\n",
    "    if i%20 == 0:\n",
    "        print(f\"Training loss at iteration {i} : {cost_value:0.1f}\")\n",
    "\n",
    "\n",
    "        \n"
   ]
  },
  {
   "cell_type": "code",
   "execution_count": 23,
   "id": "d452c00e",
   "metadata": {
    "execution": {
     "iopub.execute_input": "2025-03-08T09:45:45.495355Z",
     "iopub.status.busy": "2025-03-08T09:45:45.494946Z",
     "iopub.status.idle": "2025-03-08T09:45:45.519621Z",
     "shell.execute_reply": "2025-03-08T09:45:45.518545Z"
    },
    "papermill": {
     "duration": 0.03416,
     "end_time": "2025-03-08T09:45:45.521622",
     "exception": false,
     "start_time": "2025-03-08T09:45:45.487462",
     "status": "completed"
    },
    "tags": []
   },
   "outputs": [],
   "source": [
    "p = np.matmul(X, np.transpose(W)) + b\n"
   ]
  }
 ],
 "metadata": {
  "kaggle": {
   "accelerator": "none",
   "dataSources": [
    {
     "datasetId": 6778730,
     "sourceId": 10906044,
     "sourceType": "datasetVersion"
    }
   ],
   "dockerImageVersionId": 30918,
   "isGpuEnabled": false,
   "isInternetEnabled": false,
   "language": "python",
   "sourceType": "notebook"
  },
  "kernelspec": {
   "display_name": "Python 3",
   "language": "python",
   "name": "python3"
  },
  "language_info": {
   "codemirror_mode": {
    "name": "ipython",
    "version": 3
   },
   "file_extension": ".py",
   "mimetype": "text/x-python",
   "name": "python",
   "nbconvert_exporter": "python",
   "pygments_lexer": "ipython3",
   "version": "3.10.12"
  },
  "papermill": {
   "default_parameters": {},
   "duration": 60.029937,
   "end_time": "2025-03-08T09:45:47.153075",
   "environment_variables": {},
   "exception": null,
   "input_path": "__notebook__.ipynb",
   "output_path": "__notebook__.ipynb",
   "parameters": {},
   "start_time": "2025-03-08T09:44:47.123138",
   "version": "2.6.0"
  }
 },
 "nbformat": 4,
 "nbformat_minor": 5
}
