{
 "cells": [
  {
   "cell_type": "code",
   "execution_count": 1,
   "id": "0832cb35",
   "metadata": {
    "_cell_guid": "b1076dfc-b9ad-4769-8c92-a6c4dae69d19",
    "_uuid": "8f2839f25d086af736a60e9eeb907d3b93b6e0e5",
    "execution": {
     "iopub.execute_input": "2025-03-09T09:10:41.698050Z",
     "iopub.status.busy": "2025-03-09T09:10:41.697535Z",
     "iopub.status.idle": "2025-03-09T09:10:42.683921Z",
     "shell.execute_reply": "2025-03-09T09:10:42.682459Z"
    },
    "papermill": {
     "duration": 0.995555,
     "end_time": "2025-03-09T09:10:42.685683",
     "exception": false,
     "start_time": "2025-03-09T09:10:41.690128",
     "status": "completed"
    },
    "tags": []
   },
   "outputs": [
    {
     "name": "stdout",
     "output_type": "stream",
     "text": [
      "/kaggle/input/movie-collaborative-filtering-recommender/small_movies_X.csv\n",
      "/kaggle/input/movie-collaborative-filtering-recommender/small_movies_b.csv\n",
      "/kaggle/input/movie-collaborative-filtering-recommender/small_movies_Y.csv\n",
      "/kaggle/input/movie-collaborative-filtering-recommender/small_movie_list.csv\n",
      "/kaggle/input/movie-collaborative-filtering-recommender/small_movies_W.csv\n",
      "/kaggle/input/movie-collaborative-filtering-recommender/small_movies_R.csv\n"
     ]
    }
   ],
   "source": [
    "# This Python 3 environment comes with many helpful analytics libraries installed\n",
    "# It is defined by the kaggle/python Docker image: https://github.com/kaggle/docker-python\n",
    "# For example, here's several helpful packages to load\n",
    "\n",
    "import numpy as np # linear algebra\n",
    "import pandas as pd # data processing, CSV file I/O (e.g. pd.read_csv)\n",
    "\n",
    "# Input data files are available in the read-only \"../input/\" directory\n",
    "# For example, running this (by clicking run or pressing Shift+Enter) will list all files under the input directory\n",
    "\n",
    "import os\n",
    "for dirname, _, filenames in os.walk('/kaggle/input'):\n",
    "    for filename in filenames:\n",
    "        print(os.path.join(dirname, filename))\n",
    "\n",
    "# You can write up to 20GB to the current directory (/kaggle/working/) that gets preserved as output when you create a version using \"Save & Run All\" \n",
    "# You can also write temporary files to /kaggle/temp/, but they won't be saved outside of the current session"
   ]
  },
  {
   "cell_type": "code",
   "execution_count": 2,
   "id": "06daba57",
   "metadata": {
    "execution": {
     "iopub.execute_input": "2025-03-09T09:10:42.698691Z",
     "iopub.status.busy": "2025-03-09T09:10:42.698214Z",
     "iopub.status.idle": "2025-03-09T09:10:58.495084Z",
     "shell.execute_reply": "2025-03-09T09:10:58.493891Z"
    },
    "papermill": {
     "duration": 15.805666,
     "end_time": "2025-03-09T09:10:58.497227",
     "exception": false,
     "start_time": "2025-03-09T09:10:42.691561",
     "status": "completed"
    },
    "tags": []
   },
   "outputs": [],
   "source": [
    "from numpy import loadtxt\n",
    "import tensorflow as tf\n",
    "from tensorflow import keras"
   ]
  },
  {
   "cell_type": "code",
   "execution_count": 3,
   "id": "dc29c3bc",
   "metadata": {
    "execution": {
     "iopub.execute_input": "2025-03-09T09:10:58.510984Z",
     "iopub.status.busy": "2025-03-09T09:10:58.510301Z",
     "iopub.status.idle": "2025-03-09T09:10:58.549887Z",
     "shell.execute_reply": "2025-03-09T09:10:58.548668Z"
    },
    "papermill": {
     "duration": 0.048844,
     "end_time": "2025-03-09T09:10:58.551935",
     "exception": false,
     "start_time": "2025-03-09T09:10:58.503091",
     "status": "completed"
    },
    "tags": []
   },
   "outputs": [],
   "source": [
    "df = pd.read_csv('/kaggle/input/movie-collaborative-filtering-recommender/small_movies_X.csv')"
   ]
  },
  {
   "cell_type": "code",
   "execution_count": 4,
   "id": "e8164182",
   "metadata": {
    "execution": {
     "iopub.execute_input": "2025-03-09T09:10:58.564696Z",
     "iopub.status.busy": "2025-03-09T09:10:58.564345Z",
     "iopub.status.idle": "2025-03-09T09:10:58.593916Z",
     "shell.execute_reply": "2025-03-09T09:10:58.592804Z"
    },
    "papermill": {
     "duration": 0.038161,
     "end_time": "2025-03-09T09:10:58.595800",
     "exception": false,
     "start_time": "2025-03-09T09:10:58.557639",
     "status": "completed"
    },
    "tags": []
   },
   "outputs": [
    {
     "data": {
      "text/html": [
       "<div>\n",
       "<style scoped>\n",
       "    .dataframe tbody tr th:only-of-type {\n",
       "        vertical-align: middle;\n",
       "    }\n",
       "\n",
       "    .dataframe tbody tr th {\n",
       "        vertical-align: top;\n",
       "    }\n",
       "\n",
       "    .dataframe thead th {\n",
       "        text-align: right;\n",
       "    }\n",
       "</style>\n",
       "<table border=\"1\" class=\"dataframe\">\n",
       "  <thead>\n",
       "    <tr style=\"text-align: right;\">\n",
       "      <th></th>\n",
       "      <th>-0.033286825</th>\n",
       "      <th>1.1667464</th>\n",
       "      <th>-0.5064895</th>\n",
       "      <th>0.1250965</th>\n",
       "      <th>1.5347596</th>\n",
       "      <th>-0.21013564</th>\n",
       "      <th>0.10417578</th>\n",
       "      <th>-0.349303</th>\n",
       "      <th>0.75385165</th>\n",
       "      <th>-0.20810875</th>\n",
       "    </tr>\n",
       "  </thead>\n",
       "  <tbody>\n",
       "    <tr>\n",
       "      <th>0</th>\n",
       "      <td>0.404058</td>\n",
       "      <td>2.266492</td>\n",
       "      <td>-0.742824</td>\n",
       "      <td>1.374039</td>\n",
       "      <td>1.145788</td>\n",
       "      <td>0.381959</td>\n",
       "      <td>-0.447495</td>\n",
       "      <td>-1.038103</td>\n",
       "      <td>-2.332266</td>\n",
       "      <td>-2.343191</td>\n",
       "    </tr>\n",
       "    <tr>\n",
       "      <th>1</th>\n",
       "      <td>0.023478</td>\n",
       "      <td>0.428102</td>\n",
       "      <td>-0.426381</td>\n",
       "      <td>0.107177</td>\n",
       "      <td>0.484193</td>\n",
       "      <td>-0.969298</td>\n",
       "      <td>-0.748563</td>\n",
       "      <td>-0.293784</td>\n",
       "      <td>0.439730</td>\n",
       "      <td>1.823422</td>\n",
       "    </tr>\n",
       "    <tr>\n",
       "      <th>2</th>\n",
       "      <td>0.511281</td>\n",
       "      <td>1.518797</td>\n",
       "      <td>1.602747</td>\n",
       "      <td>-2.296399</td>\n",
       "      <td>-0.570383</td>\n",
       "      <td>-0.480868</td>\n",
       "      <td>-0.662502</td>\n",
       "      <td>1.965215</td>\n",
       "      <td>0.495176</td>\n",
       "      <td>1.044845</td>\n",
       "    </tr>\n",
       "    <tr>\n",
       "      <th>3</th>\n",
       "      <td>-2.056514</td>\n",
       "      <td>0.458517</td>\n",
       "      <td>0.619371</td>\n",
       "      <td>-0.138456</td>\n",
       "      <td>0.011926</td>\n",
       "      <td>-0.282415</td>\n",
       "      <td>0.027502</td>\n",
       "      <td>-0.535465</td>\n",
       "      <td>0.661082</td>\n",
       "      <td>0.195084</td>\n",
       "    </tr>\n",
       "    <tr>\n",
       "      <th>4</th>\n",
       "      <td>-0.443277</td>\n",
       "      <td>-0.015877</td>\n",
       "      <td>0.239043</td>\n",
       "      <td>-1.300772</td>\n",
       "      <td>0.100523</td>\n",
       "      <td>-1.271912</td>\n",
       "      <td>0.289156</td>\n",
       "      <td>2.173626</td>\n",
       "      <td>0.203151</td>\n",
       "      <td>-0.522043</td>\n",
       "    </tr>\n",
       "  </tbody>\n",
       "</table>\n",
       "</div>"
      ],
      "text/plain": [
       "   -0.033286825  1.1667464  -0.5064895  0.1250965  1.5347596  -0.21013564  \\\n",
       "0      0.404058   2.266492   -0.742824   1.374039   1.145788     0.381959   \n",
       "1      0.023478   0.428102   -0.426381   0.107177   0.484193    -0.969298   \n",
       "2      0.511281   1.518797    1.602747  -2.296399  -0.570383    -0.480868   \n",
       "3     -2.056514   0.458517    0.619371  -0.138456   0.011926    -0.282415   \n",
       "4     -0.443277  -0.015877    0.239043  -1.300772   0.100523    -1.271912   \n",
       "\n",
       "   0.10417578  -0.349303  0.75385165  -0.20810875  \n",
       "0   -0.447495  -1.038103   -2.332266    -2.343191  \n",
       "1   -0.748563  -0.293784    0.439730     1.823422  \n",
       "2   -0.662502   1.965215    0.495176     1.044845  \n",
       "3    0.027502  -0.535465    0.661082     0.195084  \n",
       "4    0.289156   2.173626    0.203151    -0.522043  "
      ]
     },
     "execution_count": 4,
     "metadata": {},
     "output_type": "execute_result"
    }
   ],
   "source": [
    "df.head()"
   ]
  },
  {
   "cell_type": "code",
   "execution_count": 5,
   "id": "7d9e8c77",
   "metadata": {
    "execution": {
     "iopub.execute_input": "2025-03-09T09:10:58.609198Z",
     "iopub.status.busy": "2025-03-09T09:10:58.608825Z",
     "iopub.status.idle": "2025-03-09T09:10:58.614266Z",
     "shell.execute_reply": "2025-03-09T09:10:58.613264Z"
    },
    "papermill": {
     "duration": 0.013878,
     "end_time": "2025-03-09T09:10:58.615736",
     "exception": false,
     "start_time": "2025-03-09T09:10:58.601858",
     "status": "completed"
    },
    "tags": []
   },
   "outputs": [],
   "source": [
    "def load_params():\n",
    "    file = open('/kaggle/input/movie-collaborative-filtering-recommender/small_movies_X.csv', 'rb')\n",
    "    X=loadtxt(file, delimiter = \",\")\n",
    "\n",
    "    file = open('/kaggle/input/movie-collaborative-filtering-recommender/small_movies_W.csv', 'rb')\n",
    "    W=loadtxt(file, delimiter = \",\")\n",
    "\n",
    "    file = open('/kaggle/input/movie-collaborative-filtering-recommender/small_movies_b.csv', 'rb')\n",
    "    b=loadtxt(file, delimiter = \",\")\n",
    "    b.reshape(1,-1)\n",
    "\n",
    "    nm, n = X.shape\n",
    "    nu = W.shape[0]\n",
    "\n",
    "    return (X, W, b, nm, n, nu)"
   ]
  },
  {
   "cell_type": "code",
   "execution_count": 6,
   "id": "3bab3513",
   "metadata": {
    "execution": {
     "iopub.execute_input": "2025-03-09T09:10:58.628668Z",
     "iopub.status.busy": "2025-03-09T09:10:58.628297Z",
     "iopub.status.idle": "2025-03-09T09:10:58.633009Z",
     "shell.execute_reply": "2025-03-09T09:10:58.631917Z"
    },
    "papermill": {
     "duration": 0.012977,
     "end_time": "2025-03-09T09:10:58.634555",
     "exception": false,
     "start_time": "2025-03-09T09:10:58.621578",
     "status": "completed"
    },
    "tags": []
   },
   "outputs": [],
   "source": [
    "\n",
    "def load_ratings():\n",
    "    file = open('/kaggle/input/movie-collaborative-filtering-recommender/small_movies_Y.csv', 'rb')\n",
    "    Y=loadtxt(file, delimiter = \",\")\n",
    "\n",
    "    file = open('/kaggle/input/movie-collaborative-filtering-recommender/small_movies_R.csv', 'rb')\n",
    "    R=loadtxt(file, delimiter = \",\")\n",
    "\n",
    "    return (Y,R) "
   ]
  },
  {
   "cell_type": "code",
   "execution_count": 7,
   "id": "681854c3",
   "metadata": {
    "execution": {
     "iopub.execute_input": "2025-03-09T09:10:58.647353Z",
     "iopub.status.busy": "2025-03-09T09:10:58.647019Z",
     "iopub.status.idle": "2025-03-09T09:10:58.996355Z",
     "shell.execute_reply": "2025-03-09T09:10:58.995146Z"
    },
    "papermill": {
     "duration": 0.357908,
     "end_time": "2025-03-09T09:10:58.998427",
     "exception": false,
     "start_time": "2025-03-09T09:10:58.640519",
     "status": "completed"
    },
    "tags": []
   },
   "outputs": [],
   "source": [
    "X, W, b, nm, n, nu = load_params()\n",
    "Y, R = load_ratings()"
   ]
  },
  {
   "cell_type": "code",
   "execution_count": 8,
   "id": "9828d7be",
   "metadata": {
    "execution": {
     "iopub.execute_input": "2025-03-09T09:10:59.011390Z",
     "iopub.status.busy": "2025-03-09T09:10:59.011053Z",
     "iopub.status.idle": "2025-03-09T09:10:59.019589Z",
     "shell.execute_reply": "2025-03-09T09:10:59.017116Z"
    },
    "papermill": {
     "duration": 0.017106,
     "end_time": "2025-03-09T09:10:59.021578",
     "exception": false,
     "start_time": "2025-03-09T09:10:59.004472",
     "status": "completed"
    },
    "tags": []
   },
   "outputs": [
    {
     "name": "stdout",
     "output_type": "stream",
     "text": [
      "Y (4778, 443) R (4778, 443)\n",
      "X (4778, 10)\n",
      "W (443, 10)\n",
      "b (443,)\n",
      "num_features 10\n",
      "num_movies 4778\n",
      "num_users 443\n"
     ]
    }
   ],
   "source": [
    "print(\"Y\", Y.shape, \"R\", R.shape)\n",
    "print(\"X\", X.shape)\n",
    "print(\"W\", W.shape)\n",
    "print(\"b\", b.shape)\n",
    "print(\"num_features\", n)\n",
    "print(\"num_movies\",   nm)\n",
    "print(\"num_users\",    nu)"
   ]
  },
  {
   "cell_type": "code",
   "execution_count": 9,
   "id": "93124b06",
   "metadata": {
    "execution": {
     "iopub.execute_input": "2025-03-09T09:10:59.034914Z",
     "iopub.status.busy": "2025-03-09T09:10:59.034451Z",
     "iopub.status.idle": "2025-03-09T09:10:59.041079Z",
     "shell.execute_reply": "2025-03-09T09:10:59.040010Z"
    },
    "papermill": {
     "duration": 0.015268,
     "end_time": "2025-03-09T09:10:59.042858",
     "exception": false,
     "start_time": "2025-03-09T09:10:59.027590",
     "status": "completed"
    },
    "tags": []
   },
   "outputs": [],
   "source": [
    "def cost_fun(X, W, b, Y, R, lambda_):\n",
    "    nm, nu = Y.shape\n",
    "    n = X.shape[1]\n",
    "    J = 0\n",
    "    ### START CODE HERE ###  \n",
    "    for j in range(nu):\n",
    "        for i in range(nm):\n",
    "            J+=R[i][j]*(np.square(np.dot(W[j], X[i]) + b[0][j] - Y[i][j]))\n",
    "    \n",
    "    J/=2\n",
    "    \n",
    "    reg=0\n",
    "    \n",
    "    reg += (np.sum(np.square(W)) + np.sum(np.square(X)))\n",
    "    reg *= (lambda_/2)\n",
    "          \n",
    "    J+=reg\n",
    "    return J\n",
    "    "
   ]
  },
  {
   "cell_type": "code",
   "execution_count": 10,
   "id": "55f09b10",
   "metadata": {
    "execution": {
     "iopub.execute_input": "2025-03-09T09:10:59.056119Z",
     "iopub.status.busy": "2025-03-09T09:10:59.055783Z",
     "iopub.status.idle": "2025-03-09T09:10:59.060651Z",
     "shell.execute_reply": "2025-03-09T09:10:59.059435Z"
    },
    "papermill": {
     "duration": 0.013678,
     "end_time": "2025-03-09T09:10:59.062566",
     "exception": false,
     "start_time": "2025-03-09T09:10:59.048888",
     "status": "completed"
    },
    "tags": []
   },
   "outputs": [],
   "source": [
    "def load_movies():\n",
    "    df = pd.read_csv(\"/kaggle/input/movie-collaborative-filtering-recommender/small_movie_list.csv\", header=0, index_col=0, delimiter=\",\", quotechar='\"')\n",
    "    mlist = df[\"title\"].to_list()\n",
    "    return (mlist, df)"
   ]
  },
  {
   "cell_type": "code",
   "execution_count": 11,
   "id": "54691615",
   "metadata": {
    "execution": {
     "iopub.execute_input": "2025-03-09T09:10:59.075465Z",
     "iopub.status.busy": "2025-03-09T09:10:59.075137Z",
     "iopub.status.idle": "2025-03-09T09:10:59.080021Z",
     "shell.execute_reply": "2025-03-09T09:10:59.079055Z"
    },
    "papermill": {
     "duration": 0.013144,
     "end_time": "2025-03-09T09:10:59.081625",
     "exception": false,
     "start_time": "2025-03-09T09:10:59.068481",
     "status": "completed"
    },
    "tags": []
   },
   "outputs": [],
   "source": [
    "def cost_fun(X, W, b, Y, R, lambda_):\n",
    "    j = (tf.linalg.matmul(X, tf.transpose(W)) + b - Y) * R\n",
    "    J = 0.5 * tf.reduce_sum(j**2) + (lambda_/2) * tf.reduce_sum(X**2) + (lambda_/2) * tf.reduce_sum(W**2) \n",
    "    return J"
   ]
  },
  {
   "cell_type": "code",
   "execution_count": 12,
   "id": "8e9c5001",
   "metadata": {
    "execution": {
     "iopub.execute_input": "2025-03-09T09:10:59.094693Z",
     "iopub.status.busy": "2025-03-09T09:10:59.094281Z",
     "iopub.status.idle": "2025-03-09T09:10:59.119240Z",
     "shell.execute_reply": "2025-03-09T09:10:59.118325Z"
    },
    "papermill": {
     "duration": 0.033459,
     "end_time": "2025-03-09T09:10:59.121142",
     "exception": false,
     "start_time": "2025-03-09T09:10:59.087683",
     "status": "completed"
    },
    "tags": []
   },
   "outputs": [],
   "source": [
    "movies, movies_df = load_movies()"
   ]
  },
  {
   "cell_type": "code",
   "execution_count": 13,
   "id": "2af0a478",
   "metadata": {
    "execution": {
     "iopub.execute_input": "2025-03-09T09:10:59.134326Z",
     "iopub.status.busy": "2025-03-09T09:10:59.133953Z",
     "iopub.status.idle": "2025-03-09T09:10:59.144222Z",
     "shell.execute_reply": "2025-03-09T09:10:59.143015Z"
    },
    "papermill": {
     "duration": 0.018574,
     "end_time": "2025-03-09T09:10:59.145789",
     "exception": false,
     "start_time": "2025-03-09T09:10:59.127215",
     "status": "completed"
    },
    "tags": []
   },
   "outputs": [
    {
     "data": {
      "text/html": [
       "<div>\n",
       "<style scoped>\n",
       "    .dataframe tbody tr th:only-of-type {\n",
       "        vertical-align: middle;\n",
       "    }\n",
       "\n",
       "    .dataframe tbody tr th {\n",
       "        vertical-align: top;\n",
       "    }\n",
       "\n",
       "    .dataframe thead th {\n",
       "        text-align: right;\n",
       "    }\n",
       "</style>\n",
       "<table border=\"1\" class=\"dataframe\">\n",
       "  <thead>\n",
       "    <tr style=\"text-align: right;\">\n",
       "      <th></th>\n",
       "      <th>mean rating</th>\n",
       "      <th>number of ratings</th>\n",
       "      <th>title</th>\n",
       "    </tr>\n",
       "  </thead>\n",
       "  <tbody>\n",
       "    <tr>\n",
       "      <th>0</th>\n",
       "      <td>3.400000</td>\n",
       "      <td>5</td>\n",
       "      <td>Yards, The (2000)</td>\n",
       "    </tr>\n",
       "    <tr>\n",
       "      <th>1</th>\n",
       "      <td>3.250000</td>\n",
       "      <td>6</td>\n",
       "      <td>Next Friday (2000)</td>\n",
       "    </tr>\n",
       "    <tr>\n",
       "      <th>2</th>\n",
       "      <td>2.000000</td>\n",
       "      <td>4</td>\n",
       "      <td>Supernova (2000)</td>\n",
       "    </tr>\n",
       "    <tr>\n",
       "      <th>3</th>\n",
       "      <td>2.000000</td>\n",
       "      <td>4</td>\n",
       "      <td>Down to You (2000)</td>\n",
       "    </tr>\n",
       "    <tr>\n",
       "      <th>4</th>\n",
       "      <td>2.672414</td>\n",
       "      <td>29</td>\n",
       "      <td>Scream 3 (2000)</td>\n",
       "    </tr>\n",
       "  </tbody>\n",
       "</table>\n",
       "</div>"
      ],
      "text/plain": [
       "   mean rating  number of ratings               title\n",
       "0     3.400000                  5   Yards, The (2000)\n",
       "1     3.250000                  6  Next Friday (2000)\n",
       "2     2.000000                  4    Supernova (2000)\n",
       "3     2.000000                  4  Down to You (2000)\n",
       "4     2.672414                 29     Scream 3 (2000)"
      ]
     },
     "execution_count": 13,
     "metadata": {},
     "output_type": "execute_result"
    }
   ],
   "source": [
    "movies[:5]\n",
    "movies_df.head()"
   ]
  },
  {
   "cell_type": "code",
   "execution_count": 14,
   "id": "24a66a11",
   "metadata": {
    "execution": {
     "iopub.execute_input": "2025-03-09T09:10:59.158784Z",
     "iopub.status.busy": "2025-03-09T09:10:59.158330Z",
     "iopub.status.idle": "2025-03-09T09:10:59.170062Z",
     "shell.execute_reply": "2025-03-09T09:10:59.169029Z"
    },
    "papermill": {
     "duration": 0.020002,
     "end_time": "2025-03-09T09:10:59.171657",
     "exception": false,
     "start_time": "2025-03-09T09:10:59.151655",
     "status": "completed"
    },
    "tags": []
   },
   "outputs": [
    {
     "name": "stdout",
     "output_type": "stream",
     "text": [
      "New User Ratings: \n",
      "\n",
      "Rated 5.0 for  Gladiator (2000)\n",
      "Rated 4.0 for  Mission: Impossible II (2000)\n",
      "Rated 5.0 for  Harry Potter and the Sorcerer's Stone (a.k.a. Harry Potter and the Philosopher's Stone) (2001)\n",
      "Rated 2.0 for  Amelie (Fabuleux destin d'Amélie Poulain, Le) (2001)\n",
      "Rated 4.5 for  Pirates of the Caribbean: The Curse of the Black Pearl (2003)\n",
      "Rated 3.5 for  Lord of the Rings: The Return of the King, The (2003)\n",
      "Rated 4.5 for  Inception (2010)\n",
      "Rated 1.0 for  Louis Theroux: Law & Disorder (2008)\n"
     ]
    }
   ],
   "source": [
    "my_ratings = np.zeros(nm)\n",
    "\n",
    "my_ratings[51] = 5\n",
    "my_ratings[62] = 4\n",
    "my_ratings[929] = 3.5\n",
    "my_ratings[2716] = 4.5\n",
    "my_ratings[366] = 5\n",
    "my_ratings[2925] = 1\n",
    "my_ratings[793] = 4.5\n",
    "my_ratings[382] = 2\n",
    "\n",
    "rated = [i for i in range(nm) if my_ratings[i]>0]\n",
    "\n",
    "print(\"New User Ratings: \\n\")\n",
    "for i in range(nm):\n",
    "    if my_ratings[i] > 0 :\n",
    "        print(f'Rated {my_ratings[i]} for  {movies[i]}');\n"
   ]
  },
  {
   "cell_type": "code",
   "execution_count": 15,
   "id": "94dc2a5d",
   "metadata": {
    "execution": {
     "iopub.execute_input": "2025-03-09T09:10:59.185505Z",
     "iopub.status.busy": "2025-03-09T09:10:59.185137Z",
     "iopub.status.idle": "2025-03-09T09:10:59.191072Z",
     "shell.execute_reply": "2025-03-09T09:10:59.189982Z"
    },
    "papermill": {
     "duration": 0.014963,
     "end_time": "2025-03-09T09:10:59.192835",
     "exception": false,
     "start_time": "2025-03-09T09:10:59.177872",
     "status": "completed"
    },
    "tags": []
   },
   "outputs": [
    {
     "data": {
      "text/plain": [
       "(4778, 443)"
      ]
     },
     "execution_count": 15,
     "metadata": {},
     "output_type": "execute_result"
    }
   ],
   "source": [
    "Y.shape\n"
   ]
  },
  {
   "cell_type": "code",
   "execution_count": 16,
   "id": "460c24ee",
   "metadata": {
    "execution": {
     "iopub.execute_input": "2025-03-09T09:10:59.206383Z",
     "iopub.status.busy": "2025-03-09T09:10:59.205995Z",
     "iopub.status.idle": "2025-03-09T09:10:59.222407Z",
     "shell.execute_reply": "2025-03-09T09:10:59.221193Z"
    },
    "papermill": {
     "duration": 0.025182,
     "end_time": "2025-03-09T09:10:59.224261",
     "exception": false,
     "start_time": "2025-03-09T09:10:59.199079",
     "status": "completed"
    },
    "tags": []
   },
   "outputs": [
    {
     "data": {
      "text/plain": [
       "(4778, 444)"
      ]
     },
     "execution_count": 16,
     "metadata": {},
     "output_type": "execute_result"
    }
   ],
   "source": [
    "Y = np.c_[my_ratings, Y]\n",
    "Y.shape"
   ]
  },
  {
   "cell_type": "code",
   "execution_count": 17,
   "id": "a093d131",
   "metadata": {
    "execution": {
     "iopub.execute_input": "2025-03-09T09:10:59.238852Z",
     "iopub.status.busy": "2025-03-09T09:10:59.238346Z",
     "iopub.status.idle": "2025-03-09T09:10:59.257011Z",
     "shell.execute_reply": "2025-03-09T09:10:59.255882Z"
    },
    "papermill": {
     "duration": 0.02809,
     "end_time": "2025-03-09T09:10:59.258993",
     "exception": false,
     "start_time": "2025-03-09T09:10:59.230903",
     "status": "completed"
    },
    "tags": []
   },
   "outputs": [
    {
     "data": {
      "text/plain": [
       "(4778, 444)"
      ]
     },
     "execution_count": 17,
     "metadata": {},
     "output_type": "execute_result"
    }
   ],
   "source": [
    "R = np.c_[(my_ratings!=0).astype(int), R]\n",
    "R.shape"
   ]
  },
  {
   "cell_type": "code",
   "execution_count": 18,
   "id": "d682f970",
   "metadata": {
    "execution": {
     "iopub.execute_input": "2025-03-09T09:10:59.273294Z",
     "iopub.status.busy": "2025-03-09T09:10:59.272937Z",
     "iopub.status.idle": "2025-03-09T09:10:59.277994Z",
     "shell.execute_reply": "2025-03-09T09:10:59.276989Z"
    },
    "papermill": {
     "duration": 0.014265,
     "end_time": "2025-03-09T09:10:59.279802",
     "exception": false,
     "start_time": "2025-03-09T09:10:59.265537",
     "status": "completed"
    },
    "tags": []
   },
   "outputs": [],
   "source": [
    "def normalize_ratings(Y, R):\n",
    "    Y_mean =(np.sum(Y * R, axis=1)/(np.sum(R, axis=1) +1e-12)).reshape(-1,1)\n",
    "    Y_norm = Y - np.multiply(Y_mean, R)\n",
    "    return Y_norm, Y_mean"
   ]
  },
  {
   "cell_type": "code",
   "execution_count": 19,
   "id": "a386a2b9",
   "metadata": {
    "execution": {
     "iopub.execute_input": "2025-03-09T09:10:59.293968Z",
     "iopub.status.busy": "2025-03-09T09:10:59.293564Z",
     "iopub.status.idle": "2025-03-09T09:10:59.335937Z",
     "shell.execute_reply": "2025-03-09T09:10:59.334852Z"
    },
    "papermill": {
     "duration": 0.051498,
     "end_time": "2025-03-09T09:10:59.337655",
     "exception": false,
     "start_time": "2025-03-09T09:10:59.286157",
     "status": "completed"
    },
    "tags": []
   },
   "outputs": [
    {
     "data": {
      "text/plain": [
       "(4778, 444)"
      ]
     },
     "execution_count": 19,
     "metadata": {},
     "output_type": "execute_result"
    }
   ],
   "source": [
    "Y_norm, Y_mean = normalize_ratings(Y, R)\n",
    "Y_norm.shape"
   ]
  },
  {
   "cell_type": "code",
   "execution_count": 20,
   "id": "c58c4cdd",
   "metadata": {
    "execution": {
     "iopub.execute_input": "2025-03-09T09:10:59.351888Z",
     "iopub.status.busy": "2025-03-09T09:10:59.351440Z",
     "iopub.status.idle": "2025-03-09T09:10:59.358045Z",
     "shell.execute_reply": "2025-03-09T09:10:59.357092Z"
    },
    "papermill": {
     "duration": 0.015354,
     "end_time": "2025-03-09T09:10:59.359653",
     "exception": false,
     "start_time": "2025-03-09T09:10:59.344299",
     "status": "completed"
    },
    "tags": []
   },
   "outputs": [
    {
     "data": {
      "text/plain": [
       "array([[ 0.47935075,  0.4766997 ,  0.48794055, -0.11980432, -0.32864022,\n",
       "         0.4232462 , -0.3951074 , -0.2383076 , -0.36121953, -0.18090296],\n",
       "       [ 0.03604829, -0.38190877,  0.2958575 , -0.25823373,  0.28605568,\n",
       "        -0.1814661 ,  0.29349202,  0.4640792 ,  0.45832908, -0.23635024],\n",
       "       [ 0.05561632, -0.05899394, -0.2452817 ,  0.10987079,  0.3970989 ,\n",
       "         0.3636213 ,  0.14597559,  0.36375767,  0.01846844,  0.17488128],\n",
       "       [ 0.4550811 ,  0.15987432, -0.4527412 ,  0.23575765,  0.2386728 ,\n",
       "        -0.27724636,  0.3670869 , -0.32793385,  0.28871763,  0.37041497],\n",
       "       [-0.0171572 , -0.43986136, -0.33766657,  0.18368888, -0.45843637,\n",
       "         0.171238  , -0.36026502,  0.11101794,  0.04873836, -0.43986273]])"
      ]
     },
     "execution_count": 20,
     "metadata": {},
     "output_type": "execute_result"
    }
   ],
   "source": [
    "W[:5]"
   ]
  },
  {
   "cell_type": "code",
   "execution_count": 21,
   "id": "f8b82c54",
   "metadata": {
    "execution": {
     "iopub.execute_input": "2025-03-09T09:10:59.373780Z",
     "iopub.status.busy": "2025-03-09T09:10:59.373412Z",
     "iopub.status.idle": "2025-03-09T09:10:59.521862Z",
     "shell.execute_reply": "2025-03-09T09:10:59.520697Z"
    },
    "papermill": {
     "duration": 0.157936,
     "end_time": "2025-03-09T09:10:59.524024",
     "exception": false,
     "start_time": "2025-03-09T09:10:59.366088",
     "status": "completed"
    },
    "tags": []
   },
   "outputs": [],
   "source": [
    "tf.random.set_seed(1234)\n",
    "n=100\n",
    "\n",
    "W = tf.Variable(tf.random.normal((nu+1, n), dtype=tf.float64), name='W')\n",
    "X = tf.Variable(tf.random.normal((nm, n), dtype=tf.float64), name='X')\n",
    "b = tf.Variable(tf.random.normal((1, nu+1), dtype=tf.float64), name='b')\n",
    "\n",
    "optimizer = keras.optimizers.Adam(learning_rate = 1e-1)"
   ]
  },
  {
   "cell_type": "code",
   "execution_count": 22,
   "id": "ece3b5b7",
   "metadata": {
    "execution": {
     "iopub.execute_input": "2025-03-09T09:10:59.538354Z",
     "iopub.status.busy": "2025-03-09T09:10:59.538013Z",
     "iopub.status.idle": "2025-03-09T09:12:01.759150Z",
     "shell.execute_reply": "2025-03-09T09:12:01.758086Z"
    },
    "papermill": {
     "duration": 62.230735,
     "end_time": "2025-03-09T09:12:01.761236",
     "exception": false,
     "start_time": "2025-03-09T09:10:59.530501",
     "status": "completed"
    },
    "tags": []
   },
   "outputs": [
    {
     "name": "stdout",
     "output_type": "stream",
     "text": [
      "Training loss at iteration 0 : 2061976.3\n",
      "Training loss at iteration 20 : 28631.0\n",
      "Training loss at iteration 40 : 6005.7\n",
      "Training loss at iteration 60 : 3360.1\n",
      "Training loss at iteration 80 : 2766.3\n",
      "Training loss at iteration 100 : 2509.7\n",
      "Training loss at iteration 120 : 2334.7\n",
      "Training loss at iteration 140 : 2192.2\n",
      "Training loss at iteration 160 : 2068.5\n",
      "Training loss at iteration 180 : 1957.7\n"
     ]
    }
   ],
   "source": [
    "iters = 200\n",
    "lambda_ = 1e-2\n",
    "for i in range(iters):\n",
    "    with tf.GradientTape() as tape:\n",
    "        cost_value = cost_fun(X, W, b, Y_norm, R, lambda_)\n",
    "\n",
    "    grads = tape.gradient(cost_value, [X,W,b])\n",
    "    optimizer.apply_gradients(zip(grads, [X,W,b]))\n",
    "\n",
    "    if i%20 == 0:\n",
    "        print(f\"Training loss at iteration {i} : {cost_value:0.1f}\")"
   ]
  },
  {
   "cell_type": "code",
   "execution_count": 23,
   "id": "c7dc9b74",
   "metadata": {
    "execution": {
     "iopub.execute_input": "2025-03-09T09:12:01.778111Z",
     "iopub.status.busy": "2025-03-09T09:12:01.777692Z",
     "iopub.status.idle": "2025-03-09T09:12:01.891862Z",
     "shell.execute_reply": "2025-03-09T09:12:01.890447Z"
    },
    "papermill": {
     "duration": 0.12508,
     "end_time": "2025-03-09T09:12:01.893582",
     "exception": false,
     "start_time": "2025-03-09T09:12:01.768502",
     "status": "completed"
    },
    "tags": []
   },
   "outputs": [
    {
     "name": "stdout",
     "output_type": "stream",
     "text": [
      "Predicted 34.62 for Jumanji: Welcome to the Jungle (2017)\n",
      "Predicted 32.41 for Trainwreck (2015)\n",
      "Predicted 32.07 for Wonderland (2003)\n",
      "Predicted 29.12 for Margin Call (2011)\n",
      "Predicted 28.88 for SpongeBob SquarePants Movie, The (2004)\n",
      "Predicted 28.46 for Shot Caller (2017)\n",
      "Predicted 28.42 for Empire (2002)\n",
      "Predicted 28.16 for Mother! (2017)\n",
      "Predicted 27.87 for Fuck You, Goethe (Fack Ju Göhte) (2013)\n",
      "Predicted 27.86 for Flushed Away (2006)\n",
      "Predicted 27.66 for Genius (2016)\n",
      "Predicted 27.51 for Aeon Flux (2005)\n",
      "Predicted 27.22 for Thor: Ragnarok (2017)\n",
      "Predicted 26.94 for Gran Torino (2008)\n",
      "Predicted 26.58 for The Raid: Redemption (2011)\n",
      "Predicted 26.17 for Battle Royale (Batoru rowaiaru) (2000)\n",
      "Predicted 26.06 for Miracle (2004)\n",
      "Predicted 25.51 for 3000 Miles to Graceland (2001)\n",
      "Predicted 25.40 for Kids Are All Right, The (2010)\n",
      "Predicted 25.22 for Divine Secrets of the Ya-Ya Sisterhood (2002)\n",
      "Predicted 25.10 for Brave One, The (2007)\n",
      "Predicted 24.86 for Flight (2012)\n",
      "Predicted 24.71 for Asterix: The Land of the Gods (Astérix: Le domaine des dieux) (2014)\n",
      "Predicted 24.60 for Grizzly Man (2005)\n",
      "Predicted 24.58 for The Survivalist (2015)\n",
      "Predicted 24.53 for Samsara (2011)\n",
      "Predicted 24.47 for Project X (2012)\n",
      "Predicted 23.89 for Bandits (2001)\n",
      "Predicted 23.65 for Louis C.K.: Live at the Beacon Theater (2011)\n",
      "Predicted 23.60 for It Might Get Loud (2008)\n",
      "\n",
      "\n",
      "Original vs Predicted Ratings:\n",
      "Original 5.0, Predicted 5.00 for Gladiator (2000)\n",
      "Original 4.0, Predicted 4.00 for Mission: Impossible II (2000)\n",
      "Original 5.0, Predicted 5.00 for Harry Potter and the Sorcerer's Stone (a.k.a. Harry Potter and the Philosopher's Stone) (2001)\n",
      "Original 2.0, Predicted 2.00 for Amelie (Fabuleux destin d'Amélie Poulain, Le) (2001)\n",
      "Original 4.5, Predicted 4.50 for Pirates of the Caribbean: The Curse of the Black Pearl (2003)\n",
      "Original 3.5, Predicted 3.49 for Lord of the Rings: The Return of the King, The (2003)\n",
      "Original 4.5, Predicted 4.50 for Inception (2010)\n",
      "Original 1.0, Predicted 1.00 for Louis Theroux: Law & Disorder (2008)\n"
     ]
    }
   ],
   "source": [
    "p = np.matmul(X, np.transpose(W)) + b\n",
    "pm = p + Y_mean\n",
    "pm_clipped = np.clip(pm, 0, 5)\n",
    "my_preds = pm[:,0]\n",
    "\n",
    "ix = tf.argsort(my_preds, direction='DESCENDING')\n",
    "\n",
    "for i in range(30):\n",
    "    j = ix[i]\n",
    "    if j not in rated:\n",
    "        print(f'Predicted {my_preds[j]:0.2f} for {movies[j]}')\n",
    "\n",
    "print('\\n\\nOriginal vs Predicted Ratings:')\n",
    "for i in range(nm):\n",
    "    if my_ratings[i]>0:\n",
    "        print(f'Original {my_ratings[i]}, Predicted {my_preds[i]:0.2f} for {movies[i]}')"
   ]
  },
  {
   "cell_type": "code",
   "execution_count": 24,
   "id": "381e9c6b",
   "metadata": {
    "execution": {
     "iopub.execute_input": "2025-03-09T09:12:01.909561Z",
     "iopub.status.busy": "2025-03-09T09:12:01.909234Z",
     "iopub.status.idle": "2025-03-09T09:12:01.930999Z",
     "shell.execute_reply": "2025-03-09T09:12:01.929865Z"
    },
    "papermill": {
     "duration": 0.031548,
     "end_time": "2025-03-09T09:12:01.932678",
     "exception": false,
     "start_time": "2025-03-09T09:12:01.901130",
     "status": "completed"
    },
    "tags": []
   },
   "outputs": [
    {
     "data": {
      "text/html": [
       "<div>\n",
       "<style scoped>\n",
       "    .dataframe tbody tr th:only-of-type {\n",
       "        vertical-align: middle;\n",
       "    }\n",
       "\n",
       "    .dataframe tbody tr th {\n",
       "        vertical-align: top;\n",
       "    }\n",
       "\n",
       "    .dataframe thead th {\n",
       "        text-align: right;\n",
       "    }\n",
       "</style>\n",
       "<table border=\"1\" class=\"dataframe\">\n",
       "  <thead>\n",
       "    <tr style=\"text-align: right;\">\n",
       "      <th></th>\n",
       "      <th>mean rating</th>\n",
       "      <th>number of ratings</th>\n",
       "      <th>title</th>\n",
       "      <th>pred</th>\n",
       "    </tr>\n",
       "  </thead>\n",
       "  <tbody>\n",
       "    <tr>\n",
       "      <th>1598</th>\n",
       "      <td>4.027778</td>\n",
       "      <td>36</td>\n",
       "      <td>Thank You for Smoking (2006)</td>\n",
       "      <td>17.330260</td>\n",
       "    </tr>\n",
       "    <tr>\n",
       "      <th>2314</th>\n",
       "      <td>3.945652</td>\n",
       "      <td>46</td>\n",
       "      <td>Gran Torino (2008)</td>\n",
       "      <td>26.937542</td>\n",
       "    </tr>\n",
       "    <tr>\n",
       "      <th>2378</th>\n",
       "      <td>3.940000</td>\n",
       "      <td>25</td>\n",
       "      <td>Girl with the Dragon Tattoo, The (Män som hata...</td>\n",
       "      <td>17.582984</td>\n",
       "    </tr>\n",
       "    <tr>\n",
       "      <th>916</th>\n",
       "      <td>3.933333</td>\n",
       "      <td>30</td>\n",
       "      <td>Battle Royale (Batoru rowaiaru) (2000)</td>\n",
       "      <td>26.168726</td>\n",
       "    </tr>\n",
       "    <tr>\n",
       "      <th>3556</th>\n",
       "      <td>3.916667</td>\n",
       "      <td>54</td>\n",
       "      <td>Wolf of Wall Street, The (2013)</td>\n",
       "      <td>21.131404</td>\n",
       "    </tr>\n",
       "    <tr>\n",
       "      <th>2755</th>\n",
       "      <td>3.885965</td>\n",
       "      <td>57</td>\n",
       "      <td>Social Network, The (2010)</td>\n",
       "      <td>22.932559</td>\n",
       "    </tr>\n",
       "    <tr>\n",
       "      <th>1398</th>\n",
       "      <td>3.862069</td>\n",
       "      <td>116</td>\n",
       "      <td>Batman Begins (2005)</td>\n",
       "      <td>15.989983</td>\n",
       "    </tr>\n",
       "    <tr>\n",
       "      <th>1279</th>\n",
       "      <td>3.846154</td>\n",
       "      <td>52</td>\n",
       "      <td>Million Dollar Baby (2004)</td>\n",
       "      <td>17.164430</td>\n",
       "    </tr>\n",
       "    <tr>\n",
       "      <th>1281</th>\n",
       "      <td>3.791667</td>\n",
       "      <td>48</td>\n",
       "      <td>Hotel Rwanda (2004)</td>\n",
       "      <td>19.294500</td>\n",
       "    </tr>\n",
       "    <tr>\n",
       "      <th>3085</th>\n",
       "      <td>3.763158</td>\n",
       "      <td>38</td>\n",
       "      <td>Sherlock Holmes: A Game of Shadows (2011)</td>\n",
       "      <td>16.082120</td>\n",
       "    </tr>\n",
       "    <tr>\n",
       "      <th>2808</th>\n",
       "      <td>3.760870</td>\n",
       "      <td>23</td>\n",
       "      <td>Fighter, The (2010)</td>\n",
       "      <td>15.989281</td>\n",
       "    </tr>\n",
       "    <tr>\n",
       "      <th>754</th>\n",
       "      <td>3.723684</td>\n",
       "      <td>76</td>\n",
       "      <td>X2: X-Men United (2003)</td>\n",
       "      <td>20.783184</td>\n",
       "    </tr>\n",
       "    <tr>\n",
       "      <th>2050</th>\n",
       "      <td>3.716667</td>\n",
       "      <td>30</td>\n",
       "      <td>Sweeney Todd: The Demon Barber of Fleet Street...</td>\n",
       "      <td>22.405457</td>\n",
       "    </tr>\n",
       "    <tr>\n",
       "      <th>2352</th>\n",
       "      <td>3.700000</td>\n",
       "      <td>35</td>\n",
       "      <td>Coraline (2009)</td>\n",
       "      <td>17.793815</td>\n",
       "    </tr>\n",
       "    <tr>\n",
       "      <th>28</th>\n",
       "      <td>3.666667</td>\n",
       "      <td>75</td>\n",
       "      <td>High Fidelity (2000)</td>\n",
       "      <td>19.187371</td>\n",
       "    </tr>\n",
       "    <tr>\n",
       "      <th>3089</th>\n",
       "      <td>3.659091</td>\n",
       "      <td>22</td>\n",
       "      <td>Mission: Impossible - Ghost Protocol (2011)</td>\n",
       "      <td>17.043928</td>\n",
       "    </tr>\n",
       "    <tr>\n",
       "      <th>1011</th>\n",
       "      <td>3.628571</td>\n",
       "      <td>35</td>\n",
       "      <td>Man on Fire (2004)</td>\n",
       "      <td>16.830721</td>\n",
       "    </tr>\n",
       "    <tr>\n",
       "      <th>1276</th>\n",
       "      <td>3.613636</td>\n",
       "      <td>22</td>\n",
       "      <td>Scanner Darkly, A (2006)</td>\n",
       "      <td>18.539261</td>\n",
       "    </tr>\n",
       "    <tr>\n",
       "      <th>622</th>\n",
       "      <td>3.598039</td>\n",
       "      <td>102</td>\n",
       "      <td>Harry Potter and the Chamber of Secrets (2002)</td>\n",
       "      <td>15.604205</td>\n",
       "    </tr>\n",
       "    <tr>\n",
       "      <th>1069</th>\n",
       "      <td>3.565789</td>\n",
       "      <td>38</td>\n",
       "      <td>Notebook, The (2004)</td>\n",
       "      <td>16.078839</td>\n",
       "    </tr>\n",
       "    <tr>\n",
       "      <th>3416</th>\n",
       "      <td>3.562500</td>\n",
       "      <td>32</td>\n",
       "      <td>Iron Man 3 (2013)</td>\n",
       "      <td>16.919144</td>\n",
       "    </tr>\n",
       "    <tr>\n",
       "      <th>2200</th>\n",
       "      <td>3.553571</td>\n",
       "      <td>28</td>\n",
       "      <td>Step Brothers (2008)</td>\n",
       "      <td>15.434793</td>\n",
       "    </tr>\n",
       "    <tr>\n",
       "      <th>13</th>\n",
       "      <td>3.523810</td>\n",
       "      <td>42</td>\n",
       "      <td>Whole Nine Yards, The (2000)</td>\n",
       "      <td>17.497679</td>\n",
       "    </tr>\n",
       "    <tr>\n",
       "      <th>335</th>\n",
       "      <td>3.509259</td>\n",
       "      <td>54</td>\n",
       "      <td>Zoolander (2001)</td>\n",
       "      <td>21.842184</td>\n",
       "    </tr>\n",
       "    <tr>\n",
       "      <th>1079</th>\n",
       "      <td>3.486486</td>\n",
       "      <td>37</td>\n",
       "      <td>Fahrenheit 9/11 (2004)</td>\n",
       "      <td>15.489349</td>\n",
       "    </tr>\n",
       "    <tr>\n",
       "      <th>1432</th>\n",
       "      <td>3.476190</td>\n",
       "      <td>21</td>\n",
       "      <td>Broken Flowers (2005)</td>\n",
       "      <td>18.519252</td>\n",
       "    </tr>\n",
       "    <tr>\n",
       "      <th>1381</th>\n",
       "      <td>3.429487</td>\n",
       "      <td>78</td>\n",
       "      <td>Star Wars: Episode III - Revenge of the Sith (...</td>\n",
       "      <td>17.393756</td>\n",
       "    </tr>\n",
       "    <tr>\n",
       "      <th>262</th>\n",
       "      <td>3.339286</td>\n",
       "      <td>56</td>\n",
       "      <td>A.I. Artificial Intelligence (2001)</td>\n",
       "      <td>21.381111</td>\n",
       "    </tr>\n",
       "    <tr>\n",
       "      <th>1010</th>\n",
       "      <td>3.190476</td>\n",
       "      <td>21</td>\n",
       "      <td>13 Going on 30 (2004)</td>\n",
       "      <td>23.359685</td>\n",
       "    </tr>\n",
       "    <tr>\n",
       "      <th>1227</th>\n",
       "      <td>3.160000</td>\n",
       "      <td>25</td>\n",
       "      <td>Lemony Snicket's A Series of Unfortunate Event...</td>\n",
       "      <td>23.007978</td>\n",
       "    </tr>\n",
       "    <tr>\n",
       "      <th>1897</th>\n",
       "      <td>3.023810</td>\n",
       "      <td>21</td>\n",
       "      <td>Shrek the Third (2007)</td>\n",
       "      <td>15.762539</td>\n",
       "    </tr>\n",
       "    <tr>\n",
       "      <th>2156</th>\n",
       "      <td>2.833333</td>\n",
       "      <td>39</td>\n",
       "      <td>Indiana Jones and the Kingdom of the Crystal S...</td>\n",
       "      <td>15.365631</td>\n",
       "    </tr>\n",
       "    <tr>\n",
       "      <th>1465</th>\n",
       "      <td>2.761905</td>\n",
       "      <td>21</td>\n",
       "      <td>Aeon Flux (2005)</td>\n",
       "      <td>27.509569</td>\n",
       "    </tr>\n",
       "  </tbody>\n",
       "</table>\n",
       "</div>"
      ],
      "text/plain": [
       "      mean rating  number of ratings  \\\n",
       "1598     4.027778                 36   \n",
       "2314     3.945652                 46   \n",
       "2378     3.940000                 25   \n",
       "916      3.933333                 30   \n",
       "3556     3.916667                 54   \n",
       "2755     3.885965                 57   \n",
       "1398     3.862069                116   \n",
       "1279     3.846154                 52   \n",
       "1281     3.791667                 48   \n",
       "3085     3.763158                 38   \n",
       "2808     3.760870                 23   \n",
       "754      3.723684                 76   \n",
       "2050     3.716667                 30   \n",
       "2352     3.700000                 35   \n",
       "28       3.666667                 75   \n",
       "3089     3.659091                 22   \n",
       "1011     3.628571                 35   \n",
       "1276     3.613636                 22   \n",
       "622      3.598039                102   \n",
       "1069     3.565789                 38   \n",
       "3416     3.562500                 32   \n",
       "2200     3.553571                 28   \n",
       "13       3.523810                 42   \n",
       "335      3.509259                 54   \n",
       "1079     3.486486                 37   \n",
       "1432     3.476190                 21   \n",
       "1381     3.429487                 78   \n",
       "262      3.339286                 56   \n",
       "1010     3.190476                 21   \n",
       "1227     3.160000                 25   \n",
       "1897     3.023810                 21   \n",
       "2156     2.833333                 39   \n",
       "1465     2.761905                 21   \n",
       "\n",
       "                                                  title       pred  \n",
       "1598                       Thank You for Smoking (2006)  17.330260  \n",
       "2314                                 Gran Torino (2008)  26.937542  \n",
       "2378  Girl with the Dragon Tattoo, The (Män som hata...  17.582984  \n",
       "916              Battle Royale (Batoru rowaiaru) (2000)  26.168726  \n",
       "3556                    Wolf of Wall Street, The (2013)  21.131404  \n",
       "2755                         Social Network, The (2010)  22.932559  \n",
       "1398                               Batman Begins (2005)  15.989983  \n",
       "1279                         Million Dollar Baby (2004)  17.164430  \n",
       "1281                                Hotel Rwanda (2004)  19.294500  \n",
       "3085          Sherlock Holmes: A Game of Shadows (2011)  16.082120  \n",
       "2808                                Fighter, The (2010)  15.989281  \n",
       "754                             X2: X-Men United (2003)  20.783184  \n",
       "2050  Sweeney Todd: The Demon Barber of Fleet Street...  22.405457  \n",
       "2352                                    Coraline (2009)  17.793815  \n",
       "28                                 High Fidelity (2000)  19.187371  \n",
       "3089        Mission: Impossible - Ghost Protocol (2011)  17.043928  \n",
       "1011                                 Man on Fire (2004)  16.830721  \n",
       "1276                           Scanner Darkly, A (2006)  18.539261  \n",
       "622      Harry Potter and the Chamber of Secrets (2002)  15.604205  \n",
       "1069                               Notebook, The (2004)  16.078839  \n",
       "3416                                  Iron Man 3 (2013)  16.919144  \n",
       "2200                               Step Brothers (2008)  15.434793  \n",
       "13                         Whole Nine Yards, The (2000)  17.497679  \n",
       "335                                    Zoolander (2001)  21.842184  \n",
       "1079                             Fahrenheit 9/11 (2004)  15.489349  \n",
       "1432                              Broken Flowers (2005)  18.519252  \n",
       "1381  Star Wars: Episode III - Revenge of the Sith (...  17.393756  \n",
       "262                 A.I. Artificial Intelligence (2001)  21.381111  \n",
       "1010                              13 Going on 30 (2004)  23.359685  \n",
       "1227  Lemony Snicket's A Series of Unfortunate Event...  23.007978  \n",
       "1897                             Shrek the Third (2007)  15.762539  \n",
       "2156  Indiana Jones and the Kingdom of the Crystal S...  15.365631  \n",
       "1465                                   Aeon Flux (2005)  27.509569  "
      ]
     },
     "execution_count": 24,
     "metadata": {},
     "output_type": "execute_result"
    }
   ],
   "source": [
    "filter = movies_df[\"number of ratings\"]>20\n",
    "movies_df[\"pred\"] = my_preds\n",
    "movies_df.loc[ix[:300]].loc[filter].sort_values(\"mean rating\", ascending=False)"
   ]
  },
  {
   "cell_type": "code",
   "execution_count": 25,
   "id": "7b900172",
   "metadata": {
    "execution": {
     "iopub.execute_input": "2025-03-09T09:12:01.948947Z",
     "iopub.status.busy": "2025-03-09T09:12:01.948523Z",
     "iopub.status.idle": "2025-03-09T09:12:02.109012Z",
     "shell.execute_reply": "2025-03-09T09:12:02.108002Z"
    },
    "papermill": {
     "duration": 0.170221,
     "end_time": "2025-03-09T09:12:02.110609",
     "exception": false,
     "start_time": "2025-03-09T09:12:01.940388",
     "status": "completed"
    },
    "tags": []
   },
   "outputs": [
    {
     "data": {
      "text/plain": [
       "(array([0.00000000e+00, 1.44628179e-06, 4.98788615e-06, ...,\n",
       "        4.99999707e+00, 4.99999927e+00, 5.00000000e+00]),\n",
       " array([555036,      1,      1, ...,      1,      1, 755715]))"
      ]
     },
     "execution_count": 25,
     "metadata": {},
     "output_type": "execute_result"
    }
   ],
   "source": [
    "np.unique(pm_clipped, return_counts=True)"
   ]
  },
  {
   "cell_type": "code",
   "execution_count": null,
   "id": "6a538c55",
   "metadata": {
    "papermill": {
     "duration": 0.007235,
     "end_time": "2025-03-09T09:12:02.125521",
     "exception": false,
     "start_time": "2025-03-09T09:12:02.118286",
     "status": "completed"
    },
    "tags": []
   },
   "outputs": [],
   "source": []
  }
 ],
 "metadata": {
  "kaggle": {
   "accelerator": "none",
   "dataSources": [
    {
     "datasetId": 6778730,
     "sourceId": 10906044,
     "sourceType": "datasetVersion"
    }
   ],
   "dockerImageVersionId": 30918,
   "isGpuEnabled": false,
   "isInternetEnabled": false,
   "language": "python",
   "sourceType": "notebook"
  },
  "kernelspec": {
   "display_name": "Python 3",
   "language": "python",
   "name": "python3"
  },
  "language_info": {
   "codemirror_mode": {
    "name": "ipython",
    "version": 3
   },
   "file_extension": ".py",
   "mimetype": "text/x-python",
   "name": "python",
   "nbconvert_exporter": "python",
   "pygments_lexer": "ipython3",
   "version": "3.10.12"
  },
  "papermill": {
   "default_parameters": {},
   "duration": 85.698933,
   "end_time": "2025-03-09T09:12:04.563871",
   "environment_variables": {},
   "exception": null,
   "input_path": "__notebook__.ipynb",
   "output_path": "__notebook__.ipynb",
   "parameters": {},
   "start_time": "2025-03-09T09:10:38.864938",
   "version": "2.6.0"
  }
 },
 "nbformat": 4,
 "nbformat_minor": 5
}
