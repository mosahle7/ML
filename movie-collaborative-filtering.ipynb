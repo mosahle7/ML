{
 "cells": [
  {
   "cell_type": "code",
   "execution_count": 1,
   "id": "55894bb7",
   "metadata": {
    "_cell_guid": "b1076dfc-b9ad-4769-8c92-a6c4dae69d19",
    "_uuid": "8f2839f25d086af736a60e9eeb907d3b93b6e0e5",
    "execution": {
     "iopub.execute_input": "2025-03-11T12:23:09.219610Z",
     "iopub.status.busy": "2025-03-11T12:23:09.218980Z",
     "iopub.status.idle": "2025-03-11T12:23:10.243063Z",
     "shell.execute_reply": "2025-03-11T12:23:10.241944Z"
    },
    "papermill": {
     "duration": 1.033856,
     "end_time": "2025-03-11T12:23:10.245018",
     "exception": false,
     "start_time": "2025-03-11T12:23:09.211162",
     "status": "completed"
    },
    "tags": []
   },
   "outputs": [
    {
     "name": "stdout",
     "output_type": "stream",
     "text": [
      "/kaggle/input/movie-collaborative-filtering-recommender/small_movies_X.csv\n",
      "/kaggle/input/movie-collaborative-filtering-recommender/small_movies_b.csv\n",
      "/kaggle/input/movie-collaborative-filtering-recommender/small_movies_Y.csv\n",
      "/kaggle/input/movie-collaborative-filtering-recommender/small_movie_list.csv\n",
      "/kaggle/input/movie-collaborative-filtering-recommender/small_movies_W.csv\n",
      "/kaggle/input/movie-collaborative-filtering-recommender/small_movies_R.csv\n"
     ]
    }
   ],
   "source": [
    "# This Python 3 environment comes with many helpful analytics libraries installed\n",
    "# It is defined by the kaggle/python Docker image: https://github.com/kaggle/docker-python\n",
    "# For example, here's several helpful packages to load\n",
    "\n",
    "import numpy as np # linear algebra\n",
    "import pandas as pd # data processing, CSV file I/O (e.g. pd.read_csv)\n",
    "\n",
    "# Input data files are available in the read-only \"../input/\" directory\n",
    "# For example, running this (by clicking run or pressing Shift+Enter) will list all files under the input directory\n",
    "\n",
    "import os\n",
    "for dirname, _, filenames in os.walk('/kaggle/input'):\n",
    "    for filename in filenames:\n",
    "        print(os.path.join(dirname, filename))\n",
    "\n",
    "# You can write up to 20GB to the current directory (/kaggle/working/) that gets preserved as output when you create a version using \"Save & Run All\" \n",
    "# You can also write temporary files to /kaggle/temp/, but they won't be saved outside of the current session"
   ]
  },
  {
   "cell_type": "code",
   "execution_count": 2,
   "id": "de7168e1",
   "metadata": {
    "execution": {
     "iopub.execute_input": "2025-03-11T12:23:10.258109Z",
     "iopub.status.busy": "2025-03-11T12:23:10.257519Z",
     "iopub.status.idle": "2025-03-11T12:23:26.350245Z",
     "shell.execute_reply": "2025-03-11T12:23:26.349135Z"
    },
    "papermill": {
     "duration": 16.10137,
     "end_time": "2025-03-11T12:23:26.352385",
     "exception": false,
     "start_time": "2025-03-11T12:23:10.251015",
     "status": "completed"
    },
    "tags": []
   },
   "outputs": [],
   "source": [
    "from numpy import loadtxt\n",
    "import tensorflow as tf\n",
    "from tensorflow import keras"
   ]
  },
  {
   "cell_type": "code",
   "execution_count": 3,
   "id": "4afb2133",
   "metadata": {
    "execution": {
     "iopub.execute_input": "2025-03-11T12:23:26.365332Z",
     "iopub.status.busy": "2025-03-11T12:23:26.364634Z",
     "iopub.status.idle": "2025-03-11T12:23:26.401243Z",
     "shell.execute_reply": "2025-03-11T12:23:26.399718Z"
    },
    "papermill": {
     "duration": 0.045201,
     "end_time": "2025-03-11T12:23:26.403240",
     "exception": false,
     "start_time": "2025-03-11T12:23:26.358039",
     "status": "completed"
    },
    "tags": []
   },
   "outputs": [],
   "source": [
    "df = pd.read_csv('/kaggle/input/movie-collaborative-filtering-recommender/small_movies_X.csv')"
   ]
  },
  {
   "cell_type": "code",
   "execution_count": 4,
   "id": "e978fd95",
   "metadata": {
    "execution": {
     "iopub.execute_input": "2025-03-11T12:23:26.415948Z",
     "iopub.status.busy": "2025-03-11T12:23:26.415524Z",
     "iopub.status.idle": "2025-03-11T12:23:26.447716Z",
     "shell.execute_reply": "2025-03-11T12:23:26.446590Z"
    },
    "papermill": {
     "duration": 0.040598,
     "end_time": "2025-03-11T12:23:26.449647",
     "exception": false,
     "start_time": "2025-03-11T12:23:26.409049",
     "status": "completed"
    },
    "tags": []
   },
   "outputs": [
    {
     "data": {
      "text/html": [
       "<div>\n",
       "<style scoped>\n",
       "    .dataframe tbody tr th:only-of-type {\n",
       "        vertical-align: middle;\n",
       "    }\n",
       "\n",
       "    .dataframe tbody tr th {\n",
       "        vertical-align: top;\n",
       "    }\n",
       "\n",
       "    .dataframe thead th {\n",
       "        text-align: right;\n",
       "    }\n",
       "</style>\n",
       "<table border=\"1\" class=\"dataframe\">\n",
       "  <thead>\n",
       "    <tr style=\"text-align: right;\">\n",
       "      <th></th>\n",
       "      <th>-0.033286825</th>\n",
       "      <th>1.1667464</th>\n",
       "      <th>-0.5064895</th>\n",
       "      <th>0.1250965</th>\n",
       "      <th>1.5347596</th>\n",
       "      <th>-0.21013564</th>\n",
       "      <th>0.10417578</th>\n",
       "      <th>-0.349303</th>\n",
       "      <th>0.75385165</th>\n",
       "      <th>-0.20810875</th>\n",
       "    </tr>\n",
       "  </thead>\n",
       "  <tbody>\n",
       "    <tr>\n",
       "      <th>0</th>\n",
       "      <td>0.404058</td>\n",
       "      <td>2.266492</td>\n",
       "      <td>-0.742824</td>\n",
       "      <td>1.374039</td>\n",
       "      <td>1.145788</td>\n",
       "      <td>0.381959</td>\n",
       "      <td>-0.447495</td>\n",
       "      <td>-1.038103</td>\n",
       "      <td>-2.332266</td>\n",
       "      <td>-2.343191</td>\n",
       "    </tr>\n",
       "    <tr>\n",
       "      <th>1</th>\n",
       "      <td>0.023478</td>\n",
       "      <td>0.428102</td>\n",
       "      <td>-0.426381</td>\n",
       "      <td>0.107177</td>\n",
       "      <td>0.484193</td>\n",
       "      <td>-0.969298</td>\n",
       "      <td>-0.748563</td>\n",
       "      <td>-0.293784</td>\n",
       "      <td>0.439730</td>\n",
       "      <td>1.823422</td>\n",
       "    </tr>\n",
       "    <tr>\n",
       "      <th>2</th>\n",
       "      <td>0.511281</td>\n",
       "      <td>1.518797</td>\n",
       "      <td>1.602747</td>\n",
       "      <td>-2.296399</td>\n",
       "      <td>-0.570383</td>\n",
       "      <td>-0.480868</td>\n",
       "      <td>-0.662502</td>\n",
       "      <td>1.965215</td>\n",
       "      <td>0.495176</td>\n",
       "      <td>1.044845</td>\n",
       "    </tr>\n",
       "    <tr>\n",
       "      <th>3</th>\n",
       "      <td>-2.056514</td>\n",
       "      <td>0.458517</td>\n",
       "      <td>0.619371</td>\n",
       "      <td>-0.138456</td>\n",
       "      <td>0.011926</td>\n",
       "      <td>-0.282415</td>\n",
       "      <td>0.027502</td>\n",
       "      <td>-0.535465</td>\n",
       "      <td>0.661082</td>\n",
       "      <td>0.195084</td>\n",
       "    </tr>\n",
       "    <tr>\n",
       "      <th>4</th>\n",
       "      <td>-0.443277</td>\n",
       "      <td>-0.015877</td>\n",
       "      <td>0.239043</td>\n",
       "      <td>-1.300772</td>\n",
       "      <td>0.100523</td>\n",
       "      <td>-1.271912</td>\n",
       "      <td>0.289156</td>\n",
       "      <td>2.173626</td>\n",
       "      <td>0.203151</td>\n",
       "      <td>-0.522043</td>\n",
       "    </tr>\n",
       "  </tbody>\n",
       "</table>\n",
       "</div>"
      ],
      "text/plain": [
       "   -0.033286825  1.1667464  -0.5064895  0.1250965  1.5347596  -0.21013564  \\\n",
       "0      0.404058   2.266492   -0.742824   1.374039   1.145788     0.381959   \n",
       "1      0.023478   0.428102   -0.426381   0.107177   0.484193    -0.969298   \n",
       "2      0.511281   1.518797    1.602747  -2.296399  -0.570383    -0.480868   \n",
       "3     -2.056514   0.458517    0.619371  -0.138456   0.011926    -0.282415   \n",
       "4     -0.443277  -0.015877    0.239043  -1.300772   0.100523    -1.271912   \n",
       "\n",
       "   0.10417578  -0.349303  0.75385165  -0.20810875  \n",
       "0   -0.447495  -1.038103   -2.332266    -2.343191  \n",
       "1   -0.748563  -0.293784    0.439730     1.823422  \n",
       "2   -0.662502   1.965215    0.495176     1.044845  \n",
       "3    0.027502  -0.535465    0.661082     0.195084  \n",
       "4    0.289156   2.173626    0.203151    -0.522043  "
      ]
     },
     "execution_count": 4,
     "metadata": {},
     "output_type": "execute_result"
    }
   ],
   "source": [
    "df.head()"
   ]
  },
  {
   "cell_type": "code",
   "execution_count": 5,
   "id": "335c2c91",
   "metadata": {
    "execution": {
     "iopub.execute_input": "2025-03-11T12:23:26.462945Z",
     "iopub.status.busy": "2025-03-11T12:23:26.462506Z",
     "iopub.status.idle": "2025-03-11T12:23:26.468545Z",
     "shell.execute_reply": "2025-03-11T12:23:26.467379Z"
    },
    "papermill": {
     "duration": 0.014717,
     "end_time": "2025-03-11T12:23:26.470488",
     "exception": false,
     "start_time": "2025-03-11T12:23:26.455771",
     "status": "completed"
    },
    "tags": []
   },
   "outputs": [],
   "source": [
    "def load_params():\n",
    "    file = open('/kaggle/input/movie-collaborative-filtering-recommender/small_movies_X.csv', 'rb')\n",
    "    X=loadtxt(file, delimiter = \",\")\n",
    "\n",
    "    file = open('/kaggle/input/movie-collaborative-filtering-recommender/small_movies_W.csv', 'rb')\n",
    "    W=loadtxt(file, delimiter = \",\")\n",
    "\n",
    "    file = open('/kaggle/input/movie-collaborative-filtering-recommender/small_movies_b.csv', 'rb')\n",
    "    b=loadtxt(file, delimiter = \",\")\n",
    "    b.reshape(1,-1)\n",
    "\n",
    "    nm, n = X.shape\n",
    "    nu = W.shape[0]\n",
    "\n",
    "    return (X, W, b, nm, n, nu)"
   ]
  },
  {
   "cell_type": "code",
   "execution_count": 6,
   "id": "bc2e9936",
   "metadata": {
    "execution": {
     "iopub.execute_input": "2025-03-11T12:23:26.484316Z",
     "iopub.status.busy": "2025-03-11T12:23:26.483898Z",
     "iopub.status.idle": "2025-03-11T12:23:26.488969Z",
     "shell.execute_reply": "2025-03-11T12:23:26.487808Z"
    },
    "papermill": {
     "duration": 0.014178,
     "end_time": "2025-03-11T12:23:26.490738",
     "exception": false,
     "start_time": "2025-03-11T12:23:26.476560",
     "status": "completed"
    },
    "tags": []
   },
   "outputs": [],
   "source": [
    "\n",
    "def load_ratings():\n",
    "    file = open('/kaggle/input/movie-collaborative-filtering-recommender/small_movies_Y.csv', 'rb')\n",
    "    Y=loadtxt(file, delimiter = \",\")\n",
    "\n",
    "    file = open('/kaggle/input/movie-collaborative-filtering-recommender/small_movies_R.csv', 'rb')\n",
    "    R=loadtxt(file, delimiter = \",\")\n",
    "\n",
    "    return (Y,R) "
   ]
  },
  {
   "cell_type": "code",
   "execution_count": 7,
   "id": "937531de",
   "metadata": {
    "execution": {
     "iopub.execute_input": "2025-03-11T12:23:26.503978Z",
     "iopub.status.busy": "2025-03-11T12:23:26.503556Z",
     "iopub.status.idle": "2025-03-11T12:23:26.854046Z",
     "shell.execute_reply": "2025-03-11T12:23:26.852659Z"
    },
    "papermill": {
     "duration": 0.359606,
     "end_time": "2025-03-11T12:23:26.856252",
     "exception": false,
     "start_time": "2025-03-11T12:23:26.496646",
     "status": "completed"
    },
    "tags": []
   },
   "outputs": [],
   "source": [
    "X, W, b, nm, n, nu = load_params()\n",
    "Y, R = load_ratings()"
   ]
  },
  {
   "cell_type": "code",
   "execution_count": 8,
   "id": "9ccf0901",
   "metadata": {
    "execution": {
     "iopub.execute_input": "2025-03-11T12:23:26.872862Z",
     "iopub.status.busy": "2025-03-11T12:23:26.872455Z",
     "iopub.status.idle": "2025-03-11T12:23:26.881232Z",
     "shell.execute_reply": "2025-03-11T12:23:26.880137Z"
    },
    "papermill": {
     "duration": 0.018965,
     "end_time": "2025-03-11T12:23:26.883182",
     "exception": false,
     "start_time": "2025-03-11T12:23:26.864217",
     "status": "completed"
    },
    "tags": []
   },
   "outputs": [
    {
     "name": "stdout",
     "output_type": "stream",
     "text": [
      "Y (4778, 443) R (4778, 443)\n",
      "X (4778, 10)\n",
      "W (443, 10)\n",
      "b (443,)\n",
      "num_features 10\n",
      "num_movies 4778\n",
      "num_users 443\n"
     ]
    }
   ],
   "source": [
    "print(\"Y\", Y.shape, \"R\", R.shape)\n",
    "print(\"X\", X.shape)\n",
    "print(\"W\", W.shape)\n",
    "print(\"b\", b.shape)\n",
    "print(\"num_features\", n)\n",
    "print(\"num_movies\",   nm)\n",
    "print(\"num_users\",    nu)"
   ]
  },
  {
   "cell_type": "code",
   "execution_count": 9,
   "id": "c58d8d7e",
   "metadata": {
    "execution": {
     "iopub.execute_input": "2025-03-11T12:23:26.896529Z",
     "iopub.status.busy": "2025-03-11T12:23:26.896177Z",
     "iopub.status.idle": "2025-03-11T12:23:26.902539Z",
     "shell.execute_reply": "2025-03-11T12:23:26.901515Z"
    },
    "papermill": {
     "duration": 0.015531,
     "end_time": "2025-03-11T12:23:26.904731",
     "exception": false,
     "start_time": "2025-03-11T12:23:26.889200",
     "status": "completed"
    },
    "tags": []
   },
   "outputs": [],
   "source": [
    "def cost_fun(X, W, b, Y, R, lambda_):\n",
    "    nm, nu = Y.shape\n",
    "    n = X.shape[1]\n",
    "    J = 0\n",
    "    ### START CODE HERE ###  \n",
    "    for j in range(nu):\n",
    "        for i in range(nm):\n",
    "            J+=R[i][j]*(np.square(np.dot(W[j], X[i]) + b[0][j] - Y[i][j]))\n",
    "    \n",
    "    J/=2\n",
    "    \n",
    "    reg=0\n",
    "    \n",
    "    reg += (np.sum(np.square(W)) + np.sum(np.square(X)))\n",
    "    reg *= (lambda_/2)\n",
    "          \n",
    "    J+=reg\n",
    "    return J\n",
    "    "
   ]
  },
  {
   "cell_type": "code",
   "execution_count": 10,
   "id": "1cf82342",
   "metadata": {
    "execution": {
     "iopub.execute_input": "2025-03-11T12:23:26.918332Z",
     "iopub.status.busy": "2025-03-11T12:23:26.917622Z",
     "iopub.status.idle": "2025-03-11T12:23:26.924356Z",
     "shell.execute_reply": "2025-03-11T12:23:26.922891Z"
    },
    "papermill": {
     "duration": 0.015943,
     "end_time": "2025-03-11T12:23:26.926646",
     "exception": false,
     "start_time": "2025-03-11T12:23:26.910703",
     "status": "completed"
    },
    "tags": []
   },
   "outputs": [],
   "source": [
    "def load_movies():\n",
    "    df = pd.read_csv(\"/kaggle/input/movie-collaborative-filtering-recommender/small_movie_list.csv\", header=0, index_col=0, delimiter=\",\", quotechar='\"')\n",
    "    mlist = df[\"title\"].to_list()\n",
    "    return (mlist, df)"
   ]
  },
  {
   "cell_type": "code",
   "execution_count": 11,
   "id": "e60a0e89",
   "metadata": {
    "execution": {
     "iopub.execute_input": "2025-03-11T12:23:26.940651Z",
     "iopub.status.busy": "2025-03-11T12:23:26.940207Z",
     "iopub.status.idle": "2025-03-11T12:23:26.945302Z",
     "shell.execute_reply": "2025-03-11T12:23:26.944174Z"
    },
    "papermill": {
     "duration": 0.014293,
     "end_time": "2025-03-11T12:23:26.946914",
     "exception": false,
     "start_time": "2025-03-11T12:23:26.932621",
     "status": "completed"
    },
    "tags": []
   },
   "outputs": [],
   "source": [
    "def cost_fun(X, W, b, Y, R, lambda_):\n",
    "    j = (tf.linalg.matmul(X, tf.transpose(W)) + b - Y) * R\n",
    "    J = 0.5 * tf.reduce_sum(j**2) + (lambda_/2) * tf.reduce_sum(X**2) + (lambda_/2) * tf.reduce_sum(W**2) \n",
    "    return J"
   ]
  },
  {
   "cell_type": "code",
   "execution_count": 12,
   "id": "ad6aacc6",
   "metadata": {
    "execution": {
     "iopub.execute_input": "2025-03-11T12:23:26.960031Z",
     "iopub.status.busy": "2025-03-11T12:23:26.959621Z",
     "iopub.status.idle": "2025-03-11T12:23:26.984178Z",
     "shell.execute_reply": "2025-03-11T12:23:26.982895Z"
    },
    "papermill": {
     "duration": 0.033224,
     "end_time": "2025-03-11T12:23:26.986111",
     "exception": false,
     "start_time": "2025-03-11T12:23:26.952887",
     "status": "completed"
    },
    "tags": []
   },
   "outputs": [],
   "source": [
    "movies, movies_df = load_movies()"
   ]
  },
  {
   "cell_type": "code",
   "execution_count": 13,
   "id": "de2f72b4",
   "metadata": {
    "execution": {
     "iopub.execute_input": "2025-03-11T12:23:26.999279Z",
     "iopub.status.busy": "2025-03-11T12:23:26.998891Z",
     "iopub.status.idle": "2025-03-11T12:23:27.009634Z",
     "shell.execute_reply": "2025-03-11T12:23:27.008491Z"
    },
    "papermill": {
     "duration": 0.019929,
     "end_time": "2025-03-11T12:23:27.012013",
     "exception": false,
     "start_time": "2025-03-11T12:23:26.992084",
     "status": "completed"
    },
    "tags": []
   },
   "outputs": [
    {
     "data": {
      "text/html": [
       "<div>\n",
       "<style scoped>\n",
       "    .dataframe tbody tr th:only-of-type {\n",
       "        vertical-align: middle;\n",
       "    }\n",
       "\n",
       "    .dataframe tbody tr th {\n",
       "        vertical-align: top;\n",
       "    }\n",
       "\n",
       "    .dataframe thead th {\n",
       "        text-align: right;\n",
       "    }\n",
       "</style>\n",
       "<table border=\"1\" class=\"dataframe\">\n",
       "  <thead>\n",
       "    <tr style=\"text-align: right;\">\n",
       "      <th></th>\n",
       "      <th>mean rating</th>\n",
       "      <th>number of ratings</th>\n",
       "      <th>title</th>\n",
       "    </tr>\n",
       "  </thead>\n",
       "  <tbody>\n",
       "    <tr>\n",
       "      <th>0</th>\n",
       "      <td>3.400000</td>\n",
       "      <td>5</td>\n",
       "      <td>Yards, The (2000)</td>\n",
       "    </tr>\n",
       "    <tr>\n",
       "      <th>1</th>\n",
       "      <td>3.250000</td>\n",
       "      <td>6</td>\n",
       "      <td>Next Friday (2000)</td>\n",
       "    </tr>\n",
       "    <tr>\n",
       "      <th>2</th>\n",
       "      <td>2.000000</td>\n",
       "      <td>4</td>\n",
       "      <td>Supernova (2000)</td>\n",
       "    </tr>\n",
       "    <tr>\n",
       "      <th>3</th>\n",
       "      <td>2.000000</td>\n",
       "      <td>4</td>\n",
       "      <td>Down to You (2000)</td>\n",
       "    </tr>\n",
       "    <tr>\n",
       "      <th>4</th>\n",
       "      <td>2.672414</td>\n",
       "      <td>29</td>\n",
       "      <td>Scream 3 (2000)</td>\n",
       "    </tr>\n",
       "  </tbody>\n",
       "</table>\n",
       "</div>"
      ],
      "text/plain": [
       "   mean rating  number of ratings               title\n",
       "0     3.400000                  5   Yards, The (2000)\n",
       "1     3.250000                  6  Next Friday (2000)\n",
       "2     2.000000                  4    Supernova (2000)\n",
       "3     2.000000                  4  Down to You (2000)\n",
       "4     2.672414                 29     Scream 3 (2000)"
      ]
     },
     "execution_count": 13,
     "metadata": {},
     "output_type": "execute_result"
    }
   ],
   "source": [
    "movies[:5]\n",
    "movies_df.head()"
   ]
  },
  {
   "cell_type": "code",
   "execution_count": 14,
   "id": "a1acce17",
   "metadata": {
    "execution": {
     "iopub.execute_input": "2025-03-11T12:23:27.025507Z",
     "iopub.status.busy": "2025-03-11T12:23:27.025107Z",
     "iopub.status.idle": "2025-03-11T12:23:27.036497Z",
     "shell.execute_reply": "2025-03-11T12:23:27.035241Z"
    },
    "papermill": {
     "duration": 0.02061,
     "end_time": "2025-03-11T12:23:27.038794",
     "exception": false,
     "start_time": "2025-03-11T12:23:27.018184",
     "status": "completed"
    },
    "tags": []
   },
   "outputs": [
    {
     "name": "stdout",
     "output_type": "stream",
     "text": [
      "New User Ratings: \n",
      "\n",
      "Rated 5.0 for  Gladiator (2000)\n",
      "Rated 4.0 for  Mission: Impossible II (2000)\n",
      "Rated 5.0 for  Harry Potter and the Sorcerer's Stone (a.k.a. Harry Potter and the Philosopher's Stone) (2001)\n",
      "Rated 2.0 for  Amelie (Fabuleux destin d'Amélie Poulain, Le) (2001)\n",
      "Rated 4.5 for  Pirates of the Caribbean: The Curse of the Black Pearl (2003)\n",
      "Rated 3.5 for  Lord of the Rings: The Return of the King, The (2003)\n",
      "Rated 4.5 for  Inception (2010)\n",
      "Rated 1.0 for  Louis Theroux: Law & Disorder (2008)\n"
     ]
    }
   ],
   "source": [
    "my_ratings = np.zeros(nm)\n",
    "\n",
    "my_ratings[51] = 5\n",
    "my_ratings[62] = 4\n",
    "my_ratings[929] = 3.5\n",
    "my_ratings[2716] = 4.5\n",
    "my_ratings[366] = 5\n",
    "my_ratings[2925] = 1\n",
    "my_ratings[793] = 4.5\n",
    "my_ratings[382] = 2\n",
    "\n",
    "rated = [i for i in range(nm) if my_ratings[i]>0]\n",
    "\n",
    "print(\"New User Ratings: \\n\")\n",
    "for i in range(nm):\n",
    "    if my_ratings[i] > 0 :\n",
    "        print(f'Rated {my_ratings[i]} for  {movies[i]}');\n"
   ]
  },
  {
   "cell_type": "code",
   "execution_count": 15,
   "id": "883fad3f",
   "metadata": {
    "execution": {
     "iopub.execute_input": "2025-03-11T12:23:27.052549Z",
     "iopub.status.busy": "2025-03-11T12:23:27.052176Z",
     "iopub.status.idle": "2025-03-11T12:23:27.058246Z",
     "shell.execute_reply": "2025-03-11T12:23:27.057086Z"
    },
    "papermill": {
     "duration": 0.015148,
     "end_time": "2025-03-11T12:23:27.060198",
     "exception": false,
     "start_time": "2025-03-11T12:23:27.045050",
     "status": "completed"
    },
    "tags": []
   },
   "outputs": [
    {
     "data": {
      "text/plain": [
       "(4778, 443)"
      ]
     },
     "execution_count": 15,
     "metadata": {},
     "output_type": "execute_result"
    }
   ],
   "source": [
    "Y.shape\n"
   ]
  },
  {
   "cell_type": "code",
   "execution_count": 16,
   "id": "b575225a",
   "metadata": {
    "execution": {
     "iopub.execute_input": "2025-03-11T12:23:27.075499Z",
     "iopub.status.busy": "2025-03-11T12:23:27.075107Z",
     "iopub.status.idle": "2025-03-11T12:23:27.089547Z",
     "shell.execute_reply": "2025-03-11T12:23:27.088348Z"
    },
    "papermill": {
     "duration": 0.024384,
     "end_time": "2025-03-11T12:23:27.091553",
     "exception": false,
     "start_time": "2025-03-11T12:23:27.067169",
     "status": "completed"
    },
    "tags": []
   },
   "outputs": [
    {
     "data": {
      "text/plain": [
       "(4778, 444)"
      ]
     },
     "execution_count": 16,
     "metadata": {},
     "output_type": "execute_result"
    }
   ],
   "source": [
    "Y = np.c_[my_ratings, Y]\n",
    "Y.shape"
   ]
  },
  {
   "cell_type": "code",
   "execution_count": 17,
   "id": "0fd69dfc",
   "metadata": {
    "execution": {
     "iopub.execute_input": "2025-03-11T12:23:27.106339Z",
     "iopub.status.busy": "2025-03-11T12:23:27.105843Z",
     "iopub.status.idle": "2025-03-11T12:23:27.121540Z",
     "shell.execute_reply": "2025-03-11T12:23:27.120448Z"
    },
    "papermill": {
     "duration": 0.025137,
     "end_time": "2025-03-11T12:23:27.123318",
     "exception": false,
     "start_time": "2025-03-11T12:23:27.098181",
     "status": "completed"
    },
    "tags": []
   },
   "outputs": [
    {
     "data": {
      "text/plain": [
       "(4778, 444)"
      ]
     },
     "execution_count": 17,
     "metadata": {},
     "output_type": "execute_result"
    }
   ],
   "source": [
    "R = np.c_[(my_ratings!=0).astype(int), R]\n",
    "R.shape"
   ]
  },
  {
   "cell_type": "code",
   "execution_count": 18,
   "id": "e1c64572",
   "metadata": {
    "execution": {
     "iopub.execute_input": "2025-03-11T12:23:27.139710Z",
     "iopub.status.busy": "2025-03-11T12:23:27.139325Z",
     "iopub.status.idle": "2025-03-11T12:23:27.144669Z",
     "shell.execute_reply": "2025-03-11T12:23:27.143448Z"
    },
    "papermill": {
     "duration": 0.015653,
     "end_time": "2025-03-11T12:23:27.146548",
     "exception": false,
     "start_time": "2025-03-11T12:23:27.130895",
     "status": "completed"
    },
    "tags": []
   },
   "outputs": [],
   "source": [
    "def normalize_ratings(Y, R):\n",
    "    Y_mean =(np.sum(Y * R, axis=1)/(np.sum(R, axis=1) +1e-12)).reshape(-1,1)\n",
    "    Y_norm = Y - np.multiply(Y_mean, R)\n",
    "    return Y_norm, Y_mean"
   ]
  },
  {
   "cell_type": "code",
   "execution_count": 19,
   "id": "2e7ffb9b",
   "metadata": {
    "execution": {
     "iopub.execute_input": "2025-03-11T12:23:27.161891Z",
     "iopub.status.busy": "2025-03-11T12:23:27.161474Z",
     "iopub.status.idle": "2025-03-11T12:23:27.200148Z",
     "shell.execute_reply": "2025-03-11T12:23:27.199038Z"
    },
    "papermill": {
     "duration": 0.0486,
     "end_time": "2025-03-11T12:23:27.201888",
     "exception": false,
     "start_time": "2025-03-11T12:23:27.153288",
     "status": "completed"
    },
    "tags": []
   },
   "outputs": [
    {
     "data": {
      "text/plain": [
       "(4778, 444)"
      ]
     },
     "execution_count": 19,
     "metadata": {},
     "output_type": "execute_result"
    }
   ],
   "source": [
    "Y_norm, Y_mean = normalize_ratings(Y, R)\n",
    "Y_norm.shape"
   ]
  },
  {
   "cell_type": "code",
   "execution_count": 20,
   "id": "a99fd270",
   "metadata": {
    "execution": {
     "iopub.execute_input": "2025-03-11T12:23:27.216316Z",
     "iopub.status.busy": "2025-03-11T12:23:27.215908Z",
     "iopub.status.idle": "2025-03-11T12:23:27.222690Z",
     "shell.execute_reply": "2025-03-11T12:23:27.221399Z"
    },
    "papermill": {
     "duration": 0.01599,
     "end_time": "2025-03-11T12:23:27.224467",
     "exception": false,
     "start_time": "2025-03-11T12:23:27.208477",
     "status": "completed"
    },
    "tags": []
   },
   "outputs": [
    {
     "data": {
      "text/plain": [
       "array([[ 0.47935075,  0.4766997 ,  0.48794055, -0.11980432, -0.32864022,\n",
       "         0.4232462 , -0.3951074 , -0.2383076 , -0.36121953, -0.18090296],\n",
       "       [ 0.03604829, -0.38190877,  0.2958575 , -0.25823373,  0.28605568,\n",
       "        -0.1814661 ,  0.29349202,  0.4640792 ,  0.45832908, -0.23635024],\n",
       "       [ 0.05561632, -0.05899394, -0.2452817 ,  0.10987079,  0.3970989 ,\n",
       "         0.3636213 ,  0.14597559,  0.36375767,  0.01846844,  0.17488128],\n",
       "       [ 0.4550811 ,  0.15987432, -0.4527412 ,  0.23575765,  0.2386728 ,\n",
       "        -0.27724636,  0.3670869 , -0.32793385,  0.28871763,  0.37041497],\n",
       "       [-0.0171572 , -0.43986136, -0.33766657,  0.18368888, -0.45843637,\n",
       "         0.171238  , -0.36026502,  0.11101794,  0.04873836, -0.43986273]])"
      ]
     },
     "execution_count": 20,
     "metadata": {},
     "output_type": "execute_result"
    }
   ],
   "source": [
    "W[:5]"
   ]
  },
  {
   "cell_type": "code",
   "execution_count": 21,
   "id": "867e62dc",
   "metadata": {
    "execution": {
     "iopub.execute_input": "2025-03-11T12:23:27.239042Z",
     "iopub.status.busy": "2025-03-11T12:23:27.238619Z",
     "iopub.status.idle": "2025-03-11T12:23:27.401820Z",
     "shell.execute_reply": "2025-03-11T12:23:27.400620Z"
    },
    "papermill": {
     "duration": 0.172821,
     "end_time": "2025-03-11T12:23:27.403892",
     "exception": false,
     "start_time": "2025-03-11T12:23:27.231071",
     "status": "completed"
    },
    "tags": []
   },
   "outputs": [],
   "source": [
    "tf.random.set_seed(1234)\n",
    "n=100\n",
    "\n",
    "W = tf.Variable(tf.random.normal((nu+1, n), dtype=tf.float64), name='W')\n",
    "X = tf.Variable(tf.random.normal((nm, n), dtype=tf.float64), name='X')\n",
    "b = tf.Variable(tf.random.normal((1, nu+1), dtype=tf.float64), name='b')\n",
    "\n",
    "optimizer = keras.optimizers.Adam(learning_rate = 1e-1)"
   ]
  },
  {
   "cell_type": "code",
   "execution_count": 22,
   "id": "07dbf124",
   "metadata": {
    "execution": {
     "iopub.execute_input": "2025-03-11T12:23:27.418506Z",
     "iopub.status.busy": "2025-03-11T12:23:27.418123Z",
     "iopub.status.idle": "2025-03-11T12:24:17.889478Z",
     "shell.execute_reply": "2025-03-11T12:24:17.888576Z"
    },
    "papermill": {
     "duration": 50.480756,
     "end_time": "2025-03-11T12:24:17.891353",
     "exception": false,
     "start_time": "2025-03-11T12:23:27.410597",
     "status": "completed"
    },
    "tags": []
   },
   "outputs": [
    {
     "name": "stdout",
     "output_type": "stream",
     "text": [
      "Training loss at iteration 0 : 2321113.2\n",
      "Training loss at iteration 20 : 136156.0\n",
      "Training loss at iteration 40 : 51854.0\n",
      "Training loss at iteration 60 : 24593.7\n",
      "Training loss at iteration 80 : 13627.4\n",
      "Training loss at iteration 100 : 8485.8\n",
      "Training loss at iteration 120 : 5806.5\n",
      "Training loss at iteration 140 : 4310.8\n",
      "Training loss at iteration 160 : 3434.6\n",
      "Training loss at iteration 180 : 2901.5\n"
     ]
    }
   ],
   "source": [
    "iters = 200\n",
    "lambda_ = 1\n",
    "for i in range(iters):\n",
    "    with tf.GradientTape() as tape:\n",
    "        cost_value = cost_fun(X, W, b, Y_norm, R, lambda_)\n",
    "\n",
    "    grads = tape.gradient(cost_value, [X,W,b])\n",
    "    optimizer.apply_gradients(zip(grads, [X,W,b]))\n",
    "\n",
    "    if i%20 == 0:\n",
    "        print(f\"Training loss at iteration {i} : {cost_value:0.1f}\")"
   ]
  },
  {
   "cell_type": "code",
   "execution_count": 23,
   "id": "e816e39b",
   "metadata": {
    "execution": {
     "iopub.execute_input": "2025-03-11T12:24:17.907310Z",
     "iopub.status.busy": "2025-03-11T12:24:17.906939Z",
     "iopub.status.idle": "2025-03-11T12:24:17.991711Z",
     "shell.execute_reply": "2025-03-11T12:24:17.990542Z"
    },
    "papermill": {
     "duration": 0.09486,
     "end_time": "2025-03-11T12:24:17.993719",
     "exception": false,
     "start_time": "2025-03-11T12:24:17.898859",
     "status": "completed"
    },
    "tags": []
   },
   "outputs": [
    {
     "name": "stdout",
     "output_type": "stream",
     "text": [
      "Predicted 4.45 for My Sassy Girl (Yeopgijeogin geunyeo) (2001)\n",
      "Predicted 4.43 for Odd Life of Timothy Green, The (2012)\n",
      "Predicted 4.43 for Battle Royale 2: Requiem (Batoru rowaiaru II: Chinkonka) (2003)\n",
      "Predicted 4.43 for Eichmann (2007)\n",
      "Predicted 4.43 for Into the Abyss (2011)\n",
      "Predicted 4.42 for Particle Fever (2013)\n",
      "Predicted 4.41 for 61* (2001)\n",
      "Predicted 4.41 for Wonder Woman (2009)\n",
      "Predicted 4.41 for Rivers and Tides (2001)\n",
      "Predicted 4.41 for Eva (2011)\n",
      "Predicted 4.41 for Paper Birds (Pájaros de papel) (2010)\n",
      "Predicted 4.41 for Strictly Sexual (2008)\n",
      "Predicted 4.41 for Battle For Sevastopol (2015)\n",
      "Predicted 4.41 for Bitter Lake (2015)\n",
      "Predicted 4.40 for The Girl with All the Gifts (2016)\n",
      "Predicted 4.40 for SORI: Voice from the Heart (2016)\n",
      "Predicted 4.40 for Che: Part Two (2008)\n",
      "Predicted 4.40 for Che: Part One (2008)\n",
      "Predicted 4.40 for Peaceful Warrior (2006)\n",
      "Predicted 4.40 for Tom Segura: Completely Normal (2014)\n",
      "Predicted 4.40 for Tom Segura: Mostly Stories (2016)\n",
      "Predicted 4.40 for The Jinx: The Life and Deaths of Robert Durst (2015)\n",
      "Predicted 4.40 for Justice League: Doom (2012) \n",
      "Predicted 4.40 for Blue Planet II (2017)\n",
      "Predicted 4.40 for Zeitgeist: Moving Forward (2011)\n",
      "Predicted 4.40 for Watermark (2014)\n",
      "\n",
      "\n",
      "Original vs Predicted Ratings:\n",
      "Original 5.0, Predicted 4.90 for Gladiator (2000)\n",
      "Original 4.0, Predicted 3.83 for Mission: Impossible II (2000)\n",
      "Original 5.0, Predicted 4.80 for Harry Potter and the Sorcerer's Stone (a.k.a. Harry Potter and the Philosopher's Stone) (2001)\n",
      "Original 2.0, Predicted 2.12 for Amelie (Fabuleux destin d'Amélie Poulain, Le) (2001)\n",
      "Original 4.5, Predicted 4.41 for Pirates of the Caribbean: The Curse of the Black Pearl (2003)\n",
      "Original 3.5, Predicted 3.46 for Lord of the Rings: The Return of the King, The (2003)\n",
      "Original 4.5, Predicted 4.45 for Inception (2010)\n",
      "Original 1.0, Predicted 1.52 for Louis Theroux: Law & Disorder (2008)\n"
     ]
    }
   ],
   "source": [
    "p = np.matmul(X, np.transpose(W)) + b\n",
    "pm = p + Y_mean\n",
    "pm_clipped = np.clip(pm, 0, 5)\n",
    "my_preds = pm_clipped[:,0]\n",
    "\n",
    "ix = tf.argsort(my_preds, direction='DESCENDING')\n",
    "\n",
    "for i in range(30):\n",
    "    j = ix[i]\n",
    "    if j not in rated:\n",
    "        print(f'Predicted {my_preds[j]:0.2f} for {movies[j]}')\n",
    "\n",
    "print('\\n\\nOriginal vs Predicted Ratings:')\n",
    "for i in range(nm):\n",
    "    if my_ratings[i]>0:\n",
    "        print(f'Original {my_ratings[i]}, Predicted {my_preds[i]:0.2f} for {movies[i]}')"
   ]
  },
  {
   "cell_type": "code",
   "execution_count": 24,
   "id": "a7999db1",
   "metadata": {
    "execution": {
     "iopub.execute_input": "2025-03-11T12:24:18.009651Z",
     "iopub.status.busy": "2025-03-11T12:24:18.009264Z",
     "iopub.status.idle": "2025-03-11T12:24:18.029622Z",
     "shell.execute_reply": "2025-03-11T12:24:18.028426Z"
    },
    "papermill": {
     "duration": 0.030283,
     "end_time": "2025-03-11T12:24:18.031413",
     "exception": false,
     "start_time": "2025-03-11T12:24:18.001130",
     "status": "completed"
    },
    "tags": []
   },
   "outputs": [
    {
     "data": {
      "text/html": [
       "<div>\n",
       "<style scoped>\n",
       "    .dataframe tbody tr th:only-of-type {\n",
       "        vertical-align: middle;\n",
       "    }\n",
       "\n",
       "    .dataframe tbody tr th {\n",
       "        vertical-align: top;\n",
       "    }\n",
       "\n",
       "    .dataframe thead th {\n",
       "        text-align: right;\n",
       "    }\n",
       "</style>\n",
       "<table border=\"1\" class=\"dataframe\">\n",
       "  <thead>\n",
       "    <tr style=\"text-align: right;\">\n",
       "      <th></th>\n",
       "      <th>mean rating</th>\n",
       "      <th>number of ratings</th>\n",
       "      <th>title</th>\n",
       "      <th>pred</th>\n",
       "    </tr>\n",
       "  </thead>\n",
       "  <tbody>\n",
       "    <tr>\n",
       "      <th>2112</th>\n",
       "      <td>4.238255</td>\n",
       "      <td>149</td>\n",
       "      <td>Dark Knight, The (2008)</td>\n",
       "      <td>4.046680</td>\n",
       "    </tr>\n",
       "    <tr>\n",
       "      <th>211</th>\n",
       "      <td>4.122642</td>\n",
       "      <td>159</td>\n",
       "      <td>Memento (2000)</td>\n",
       "      <td>4.237861</td>\n",
       "    </tr>\n",
       "    <tr>\n",
       "      <th>1318</th>\n",
       "      <td>4.075000</td>\n",
       "      <td>40</td>\n",
       "      <td>Howl's Moving Castle (Hauru no ugoku shiro) (2...</td>\n",
       "      <td>4.050690</td>\n",
       "    </tr>\n",
       "    <tr>\n",
       "      <th>2716</th>\n",
       "      <td>4.066434</td>\n",
       "      <td>143</td>\n",
       "      <td>Inception (2010)</td>\n",
       "      <td>4.445232</td>\n",
       "    </tr>\n",
       "    <tr>\n",
       "      <th>51</th>\n",
       "      <td>3.938235</td>\n",
       "      <td>170</td>\n",
       "      <td>Gladiator (2000)</td>\n",
       "      <td>4.901510</td>\n",
       "    </tr>\n",
       "    <tr>\n",
       "      <th>2455</th>\n",
       "      <td>3.887931</td>\n",
       "      <td>58</td>\n",
       "      <td>Harry Potter and the Half-Blood Prince (2009)</td>\n",
       "      <td>3.986637</td>\n",
       "    </tr>\n",
       "    <tr>\n",
       "      <th>3014</th>\n",
       "      <td>3.869565</td>\n",
       "      <td>69</td>\n",
       "      <td>Avengers, The (2012)</td>\n",
       "      <td>4.024506</td>\n",
       "    </tr>\n",
       "    <tr>\n",
       "      <th>793</th>\n",
       "      <td>3.778523</td>\n",
       "      <td>149</td>\n",
       "      <td>Pirates of the Caribbean: The Curse of the Bla...</td>\n",
       "      <td>4.408992</td>\n",
       "    </tr>\n",
       "    <tr>\n",
       "      <th>366</th>\n",
       "      <td>3.761682</td>\n",
       "      <td>107</td>\n",
       "      <td>Harry Potter and the Sorcerer's Stone (a.k.a. ...</td>\n",
       "      <td>4.796919</td>\n",
       "    </tr>\n",
       "    <tr>\n",
       "      <th>79</th>\n",
       "      <td>3.699248</td>\n",
       "      <td>133</td>\n",
       "      <td>X-Men (2000)</td>\n",
       "      <td>4.088463</td>\n",
       "    </tr>\n",
       "  </tbody>\n",
       "</table>\n",
       "</div>"
      ],
      "text/plain": [
       "      mean rating  number of ratings  \\\n",
       "2112     4.238255                149   \n",
       "211      4.122642                159   \n",
       "1318     4.075000                 40   \n",
       "2716     4.066434                143   \n",
       "51       3.938235                170   \n",
       "2455     3.887931                 58   \n",
       "3014     3.869565                 69   \n",
       "793      3.778523                149   \n",
       "366      3.761682                107   \n",
       "79       3.699248                133   \n",
       "\n",
       "                                                  title      pred  \n",
       "2112                            Dark Knight, The (2008)  4.046680  \n",
       "211                                      Memento (2000)  4.237861  \n",
       "1318  Howl's Moving Castle (Hauru no ugoku shiro) (2...  4.050690  \n",
       "2716                                   Inception (2010)  4.445232  \n",
       "51                                     Gladiator (2000)  4.901510  \n",
       "2455      Harry Potter and the Half-Blood Prince (2009)  3.986637  \n",
       "3014                               Avengers, The (2012)  4.024506  \n",
       "793   Pirates of the Caribbean: The Curse of the Bla...  4.408992  \n",
       "366   Harry Potter and the Sorcerer's Stone (a.k.a. ...  4.796919  \n",
       "79                                         X-Men (2000)  4.088463  "
      ]
     },
     "execution_count": 24,
     "metadata": {},
     "output_type": "execute_result"
    }
   ],
   "source": [
    "filter = movies_df[\"number of ratings\"]>20\n",
    "movies_df[\"pred\"] = my_preds\n",
    "movies_df.loc[ix[:300]].loc[filter].sort_values(\"mean rating\", ascending=False)"
   ]
  },
  {
   "cell_type": "code",
   "execution_count": 25,
   "id": "9d541cdc",
   "metadata": {
    "execution": {
     "iopub.execute_input": "2025-03-11T12:24:18.047369Z",
     "iopub.status.busy": "2025-03-11T12:24:18.046979Z",
     "iopub.status.idle": "2025-03-11T12:24:18.301052Z",
     "shell.execute_reply": "2025-03-11T12:24:18.299907Z"
    },
    "papermill": {
     "duration": 0.264095,
     "end_time": "2025-03-11T12:24:18.302930",
     "exception": false,
     "start_time": "2025-03-11T12:24:18.038835",
     "status": "completed"
    },
    "tags": []
   },
   "outputs": [
    {
     "data": {
      "text/plain": [
       "(array([0.00000000e+00, 4.49390900e-05, 7.33990358e-05, ...,\n",
       "        4.99999728e+00, 4.99999947e+00, 5.00000000e+00]),\n",
       " array([ 3665,     1,     1, ...,     1,     1, 72313]))"
      ]
     },
     "execution_count": 25,
     "metadata": {},
     "output_type": "execute_result"
    }
   ],
   "source": [
    "np.unique(pm_clipped, return_counts=True)"
   ]
  },
  {
   "cell_type": "code",
   "execution_count": null,
   "id": "bda8ce8e",
   "metadata": {
    "papermill": {
     "duration": 0.007086,
     "end_time": "2025-03-11T12:24:18.317669",
     "exception": false,
     "start_time": "2025-03-11T12:24:18.310583",
     "status": "completed"
    },
    "tags": []
   },
   "outputs": [],
   "source": []
  }
 ],
 "metadata": {
  "kaggle": {
   "accelerator": "none",
   "dataSources": [
    {
     "datasetId": 6778730,
     "sourceId": 10906044,
     "sourceType": "datasetVersion"
    }
   ],
   "dockerImageVersionId": 30918,
   "isGpuEnabled": false,
   "isInternetEnabled": false,
   "language": "python",
   "sourceType": "notebook"
  },
  "kernelspec": {
   "display_name": "Python 3",
   "language": "python",
   "name": "python3"
  },
  "language_info": {
   "codemirror_mode": {
    "name": "ipython",
    "version": 3
   },
   "file_extension": ".py",
   "mimetype": "text/x-python",
   "name": "python",
   "nbconvert_exporter": "python",
   "pygments_lexer": "ipython3",
   "version": "3.10.12"
  },
  "papermill": {
   "default_parameters": {},
   "duration": 74.094069,
   "end_time": "2025-03-11T12:24:19.848549",
   "environment_variables": {},
   "exception": null,
   "input_path": "__notebook__.ipynb",
   "output_path": "__notebook__.ipynb",
   "parameters": {},
   "start_time": "2025-03-11T12:23:05.754480",
   "version": "2.6.0"
  }
 },
 "nbformat": 4,
 "nbformat_minor": 5
}
