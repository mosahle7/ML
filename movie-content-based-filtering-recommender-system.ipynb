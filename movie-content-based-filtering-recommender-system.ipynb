{
 "cells": [
  {
   "cell_type": "code",
   "execution_count": 1,
   "id": "c012f4f1",
   "metadata": {
    "_cell_guid": "b1076dfc-b9ad-4769-8c92-a6c4dae69d19",
    "_uuid": "8f2839f25d086af736a60e9eeb907d3b93b6e0e5",
    "execution": {
     "iopub.execute_input": "2025-03-15T12:16:08.303838Z",
     "iopub.status.busy": "2025-03-15T12:16:08.303440Z",
     "iopub.status.idle": "2025-03-15T12:16:09.309943Z",
     "shell.execute_reply": "2025-03-15T12:16:09.308768Z"
    },
    "papermill": {
     "duration": 1.018454,
     "end_time": "2025-03-15T12:16:09.311673",
     "exception": false,
     "start_time": "2025-03-15T12:16:08.293219",
     "status": "completed"
    },
    "tags": []
   },
   "outputs": [
    {
     "name": "stdout",
     "output_type": "stream",
     "text": [
      "/kaggle/input/movie-content-based-filtering-recommender/data/content_item_train_header.txt\n",
      "/kaggle/input/movie-content-based-filtering-recommender/data/content_item_vecs.csv\n",
      "/kaggle/input/movie-content-based-filtering-recommender/data/content_movie_list.csv\n",
      "/kaggle/input/movie-content-based-filtering-recommender/data/content_y_train.csv\n",
      "/kaggle/input/movie-content-based-filtering-recommender/data/content_user_train_header.txt\n",
      "/kaggle/input/movie-content-based-filtering-recommender/data/content_top10_df.csv\n",
      "/kaggle/input/movie-content-based-filtering-recommender/data/content_user_to_genre.pickle\n",
      "/kaggle/input/movie-content-based-filtering-recommender/data/content_item_train.csv\n",
      "/kaggle/input/movie-content-based-filtering-recommender/data/content_bygenre_df.csv\n",
      "/kaggle/input/movie-content-based-filtering-recommender/data/content_user_train.csv\n"
     ]
    }
   ],
   "source": [
    "# This Python 3 environment comes with many helpful analytics libraries installed\n",
    "# It is defined by the kaggle/python Docker image: https://github.com/kaggle/docker-python\n",
    "# For example, here's several helpful packages to load\n",
    "\n",
    "import numpy as np # linear algebra\n",
    "import pandas as pd # data processing, CSV file I/O (e.g. pd.read_csv)\n",
    "\n",
    "# Input data files are available in the read-only \"../input/\" directory\n",
    "# For example, running this (by clicking run or pressing Shift+Enter) will list all files under the input directory\n",
    "\n",
    "import os\n",
    "for dirname, _, filenames in os.walk('/kaggle/input'):\n",
    "    for filename in filenames:\n",
    "        print(os.path.join(dirname, filename))\n",
    "\n",
    "# You can write up to 20GB to the current directory (/kaggle/working/) that gets preserved as output when you create a version using \"Save & Run All\" \n",
    "# You can also write temporary files to /kaggle/temp/, but they won't be saved outside of the current session"
   ]
  },
  {
   "cell_type": "code",
   "execution_count": 2,
   "id": "feac6b88",
   "metadata": {
    "execution": {
     "iopub.execute_input": "2025-03-15T12:16:09.323341Z",
     "iopub.status.busy": "2025-03-15T12:16:09.322820Z",
     "iopub.status.idle": "2025-03-15T12:16:25.924685Z",
     "shell.execute_reply": "2025-03-15T12:16:25.923735Z"
    },
    "papermill": {
     "duration": 16.609674,
     "end_time": "2025-03-15T12:16:25.926601",
     "exception": false,
     "start_time": "2025-03-15T12:16:09.316927",
     "status": "completed"
    },
    "tags": []
   },
   "outputs": [],
   "source": [
    "from numpy import genfromtxt\n",
    "import csv\n",
    "from collections import defaultdict\n",
    "import pickle\n",
    "import tabulate\n",
    "from sklearn.preprocessing import StandardScaler, MinMaxScaler\n",
    "from sklearn.model_selection import train_test_split\n",
    "import tensorflow as tf\n",
    "from tensorflow import keras\n",
    "from keras.models import Sequential\n",
    "from keras.layers import Dense"
   ]
  },
  {
   "cell_type": "code",
   "execution_count": 3,
   "id": "ee9a975c",
   "metadata": {
    "execution": {
     "iopub.execute_input": "2025-03-15T12:16:25.937229Z",
     "iopub.status.busy": "2025-03-15T12:16:25.936557Z",
     "iopub.status.idle": "2025-03-15T12:16:25.940887Z",
     "shell.execute_reply": "2025-03-15T12:16:25.940047Z"
    },
    "papermill": {
     "duration": 0.011213,
     "end_time": "2025-03-15T12:16:25.942550",
     "exception": false,
     "start_time": "2025-03-15T12:16:25.931337",
     "status": "completed"
    },
    "tags": []
   },
   "outputs": [],
   "source": [
    "RANDOM_STATE = 1"
   ]
  },
  {
   "cell_type": "code",
   "execution_count": 4,
   "id": "63890e73",
   "metadata": {
    "execution": {
     "iopub.execute_input": "2025-03-15T12:16:25.952435Z",
     "iopub.status.busy": "2025-03-15T12:16:25.952112Z",
     "iopub.status.idle": "2025-03-15T12:16:25.989270Z",
     "shell.execute_reply": "2025-03-15T12:16:25.988185Z"
    },
    "papermill": {
     "duration": 0.044205,
     "end_time": "2025-03-15T12:16:25.991277",
     "exception": false,
     "start_time": "2025-03-15T12:16:25.947072",
     "status": "completed"
    },
    "tags": []
   },
   "outputs": [
    {
     "data": {
      "text/html": [
       "<div>\n",
       "<style scoped>\n",
       "    .dataframe tbody tr th:only-of-type {\n",
       "        vertical-align: middle;\n",
       "    }\n",
       "\n",
       "    .dataframe tbody tr th {\n",
       "        vertical-align: top;\n",
       "    }\n",
       "\n",
       "    .dataframe thead th {\n",
       "        text-align: right;\n",
       "    }\n",
       "</style>\n",
       "<table border=\"1\" class=\"dataframe\">\n",
       "  <thead>\n",
       "    <tr style=\"text-align: right;\">\n",
       "      <th></th>\n",
       "      <th>movie id</th>\n",
       "      <th>num ratings</th>\n",
       "      <th>ave rating</th>\n",
       "      <th>title</th>\n",
       "      <th>genres</th>\n",
       "    </tr>\n",
       "  </thead>\n",
       "  <tbody>\n",
       "    <tr>\n",
       "      <th>0</th>\n",
       "      <td>4993</td>\n",
       "      <td>198</td>\n",
       "      <td>4.106061</td>\n",
       "      <td>Lord of the Rings: The Fellowship of the Ring,...</td>\n",
       "      <td>Adventure|Fantasy</td>\n",
       "    </tr>\n",
       "    <tr>\n",
       "      <th>1</th>\n",
       "      <td>5952</td>\n",
       "      <td>188</td>\n",
       "      <td>4.021277</td>\n",
       "      <td>Lord of the Rings: The Two Towers, The</td>\n",
       "      <td>Adventure|Fantasy</td>\n",
       "    </tr>\n",
       "    <tr>\n",
       "      <th>2</th>\n",
       "      <td>7153</td>\n",
       "      <td>185</td>\n",
       "      <td>4.118919</td>\n",
       "      <td>Lord of the Rings: The Return of the King, The</td>\n",
       "      <td>Action|Adventure|Drama|Fantasy</td>\n",
       "    </tr>\n",
       "    <tr>\n",
       "      <th>3</th>\n",
       "      <td>4306</td>\n",
       "      <td>170</td>\n",
       "      <td>3.867647</td>\n",
       "      <td>Shrek</td>\n",
       "      <td>Adventure|Animation|Children|Comedy|Fantasy|Ro...</td>\n",
       "    </tr>\n",
       "    <tr>\n",
       "      <th>4</th>\n",
       "      <td>58559</td>\n",
       "      <td>149</td>\n",
       "      <td>4.238255</td>\n",
       "      <td>Dark Knight, The</td>\n",
       "      <td>Action|Crime|Drama</td>\n",
       "    </tr>\n",
       "    <tr>\n",
       "      <th>5</th>\n",
       "      <td>6539</td>\n",
       "      <td>149</td>\n",
       "      <td>3.778523</td>\n",
       "      <td>Pirates of the Caribbean: The Curse of the Bla...</td>\n",
       "      <td>Action|Adventure|Comedy|Fantasy</td>\n",
       "    </tr>\n",
       "    <tr>\n",
       "      <th>6</th>\n",
       "      <td>79132</td>\n",
       "      <td>143</td>\n",
       "      <td>4.066434</td>\n",
       "      <td>Inception</td>\n",
       "      <td>Action|Crime|Drama|Mystery|Sci-Fi|Thriller</td>\n",
       "    </tr>\n",
       "    <tr>\n",
       "      <th>7</th>\n",
       "      <td>6377</td>\n",
       "      <td>141</td>\n",
       "      <td>3.960993</td>\n",
       "      <td>Finding Nemo</td>\n",
       "      <td>Adventure|Animation|Children|Comedy</td>\n",
       "    </tr>\n",
       "    <tr>\n",
       "      <th>8</th>\n",
       "      <td>4886</td>\n",
       "      <td>132</td>\n",
       "      <td>3.871212</td>\n",
       "      <td>Monsters, Inc.</td>\n",
       "      <td>Adventure|Animation|Children|Comedy|Fantasy</td>\n",
       "    </tr>\n",
       "    <tr>\n",
       "      <th>9</th>\n",
       "      <td>7361</td>\n",
       "      <td>131</td>\n",
       "      <td>4.160305</td>\n",
       "      <td>Eternal Sunshine of the Spotless Mind</td>\n",
       "      <td>Drama|Romance|Sci-Fi</td>\n",
       "    </tr>\n",
       "  </tbody>\n",
       "</table>\n",
       "</div>"
      ],
      "text/plain": [
       "   movie id  num ratings  ave rating  \\\n",
       "0      4993          198    4.106061   \n",
       "1      5952          188    4.021277   \n",
       "2      7153          185    4.118919   \n",
       "3      4306          170    3.867647   \n",
       "4     58559          149    4.238255   \n",
       "5      6539          149    3.778523   \n",
       "6     79132          143    4.066434   \n",
       "7      6377          141    3.960993   \n",
       "8      4886          132    3.871212   \n",
       "9      7361          131    4.160305   \n",
       "\n",
       "                                               title  \\\n",
       "0  Lord of the Rings: The Fellowship of the Ring,...   \n",
       "1             Lord of the Rings: The Two Towers, The   \n",
       "2     Lord of the Rings: The Return of the King, The   \n",
       "3                                              Shrek   \n",
       "4                                   Dark Knight, The   \n",
       "5  Pirates of the Caribbean: The Curse of the Bla...   \n",
       "6                                          Inception   \n",
       "7                                       Finding Nemo   \n",
       "8                                     Monsters, Inc.   \n",
       "9              Eternal Sunshine of the Spotless Mind   \n",
       "\n",
       "                                              genres  \n",
       "0                                  Adventure|Fantasy  \n",
       "1                                  Adventure|Fantasy  \n",
       "2                     Action|Adventure|Drama|Fantasy  \n",
       "3  Adventure|Animation|Children|Comedy|Fantasy|Ro...  \n",
       "4                                 Action|Crime|Drama  \n",
       "5                    Action|Adventure|Comedy|Fantasy  \n",
       "6         Action|Crime|Drama|Mystery|Sci-Fi|Thriller  \n",
       "7                Adventure|Animation|Children|Comedy  \n",
       "8        Adventure|Animation|Children|Comedy|Fantasy  \n",
       "9                               Drama|Romance|Sci-Fi  "
      ]
     },
     "execution_count": 4,
     "metadata": {},
     "output_type": "execute_result"
    }
   ],
   "source": [
    "top10_df = pd.read_csv(\"/kaggle/input/movie-content-based-filtering-recommender/data/content_top10_df.csv\")\n",
    "top10_df"
   ]
  },
  {
   "cell_type": "code",
   "execution_count": 5,
   "id": "840c37bf",
   "metadata": {
    "execution": {
     "iopub.execute_input": "2025-03-15T12:16:26.002627Z",
     "iopub.status.busy": "2025-03-15T12:16:26.002261Z",
     "iopub.status.idle": "2025-03-15T12:16:26.018801Z",
     "shell.execute_reply": "2025-03-15T12:16:26.017764Z"
    },
    "papermill": {
     "duration": 0.024256,
     "end_time": "2025-03-15T12:16:26.020523",
     "exception": false,
     "start_time": "2025-03-15T12:16:25.996267",
     "status": "completed"
    },
    "tags": []
   },
   "outputs": [
    {
     "data": {
      "text/html": [
       "<div>\n",
       "<style scoped>\n",
       "    .dataframe tbody tr th:only-of-type {\n",
       "        vertical-align: middle;\n",
       "    }\n",
       "\n",
       "    .dataframe tbody tr th {\n",
       "        vertical-align: top;\n",
       "    }\n",
       "\n",
       "    .dataframe thead th {\n",
       "        text-align: right;\n",
       "    }\n",
       "</style>\n",
       "<table border=\"1\" class=\"dataframe\">\n",
       "  <thead>\n",
       "    <tr style=\"text-align: right;\">\n",
       "      <th></th>\n",
       "      <th>genre</th>\n",
       "      <th>num movies</th>\n",
       "      <th>ave rating/genre</th>\n",
       "      <th>ratings per genre</th>\n",
       "    </tr>\n",
       "  </thead>\n",
       "  <tbody>\n",
       "    <tr>\n",
       "      <th>0</th>\n",
       "      <td>Action</td>\n",
       "      <td>321</td>\n",
       "      <td>3.37</td>\n",
       "      <td>10377</td>\n",
       "    </tr>\n",
       "    <tr>\n",
       "      <th>1</th>\n",
       "      <td>Adventure</td>\n",
       "      <td>234</td>\n",
       "      <td>3.42</td>\n",
       "      <td>8785</td>\n",
       "    </tr>\n",
       "    <tr>\n",
       "      <th>2</th>\n",
       "      <td>Animation</td>\n",
       "      <td>76</td>\n",
       "      <td>3.63</td>\n",
       "      <td>2588</td>\n",
       "    </tr>\n",
       "    <tr>\n",
       "      <th>3</th>\n",
       "      <td>Children</td>\n",
       "      <td>69</td>\n",
       "      <td>3.44</td>\n",
       "      <td>2472</td>\n",
       "    </tr>\n",
       "    <tr>\n",
       "      <th>4</th>\n",
       "      <td>Comedy</td>\n",
       "      <td>326</td>\n",
       "      <td>3.36</td>\n",
       "      <td>8911</td>\n",
       "    </tr>\n",
       "    <tr>\n",
       "      <th>5</th>\n",
       "      <td>Crime</td>\n",
       "      <td>139</td>\n",
       "      <td>3.54</td>\n",
       "      <td>4671</td>\n",
       "    </tr>\n",
       "    <tr>\n",
       "      <th>6</th>\n",
       "      <td>Documentary</td>\n",
       "      <td>13</td>\n",
       "      <td>3.81</td>\n",
       "      <td>280</td>\n",
       "    </tr>\n",
       "    <tr>\n",
       "      <th>7</th>\n",
       "      <td>Drama</td>\n",
       "      <td>342</td>\n",
       "      <td>3.61</td>\n",
       "      <td>10201</td>\n",
       "    </tr>\n",
       "    <tr>\n",
       "      <th>8</th>\n",
       "      <td>Fantasy</td>\n",
       "      <td>124</td>\n",
       "      <td>3.37</td>\n",
       "      <td>4468</td>\n",
       "    </tr>\n",
       "    <tr>\n",
       "      <th>9</th>\n",
       "      <td>Horror</td>\n",
       "      <td>56</td>\n",
       "      <td>3.20</td>\n",
       "      <td>1345</td>\n",
       "    </tr>\n",
       "    <tr>\n",
       "      <th>10</th>\n",
       "      <td>Mystery</td>\n",
       "      <td>68</td>\n",
       "      <td>3.59</td>\n",
       "      <td>2497</td>\n",
       "    </tr>\n",
       "    <tr>\n",
       "      <th>11</th>\n",
       "      <td>Romance</td>\n",
       "      <td>151</td>\n",
       "      <td>3.39</td>\n",
       "      <td>4468</td>\n",
       "    </tr>\n",
       "    <tr>\n",
       "      <th>12</th>\n",
       "      <td>Sci-Fi</td>\n",
       "      <td>174</td>\n",
       "      <td>3.42</td>\n",
       "      <td>5894</td>\n",
       "    </tr>\n",
       "    <tr>\n",
       "      <th>13</th>\n",
       "      <td>Thriller</td>\n",
       "      <td>245</td>\n",
       "      <td>3.44</td>\n",
       "      <td>7659</td>\n",
       "    </tr>\n",
       "  </tbody>\n",
       "</table>\n",
       "</div>"
      ],
      "text/plain": [
       "          genre  num movies  ave rating/genre  ratings per genre\n",
       "0        Action         321              3.37              10377\n",
       "1     Adventure         234              3.42               8785\n",
       "2     Animation          76              3.63               2588\n",
       "3      Children          69              3.44               2472\n",
       "4        Comedy         326              3.36               8911\n",
       "5         Crime         139              3.54               4671\n",
       "6   Documentary          13              3.81                280\n",
       "7         Drama         342              3.61              10201\n",
       "8       Fantasy         124              3.37               4468\n",
       "9        Horror          56              3.20               1345\n",
       "10      Mystery          68              3.59               2497\n",
       "11      Romance         151              3.39               4468\n",
       "12       Sci-Fi         174              3.42               5894\n",
       "13     Thriller         245              3.44               7659"
      ]
     },
     "execution_count": 5,
     "metadata": {},
     "output_type": "execute_result"
    }
   ],
   "source": [
    "bygenre_df = pd.read_csv(\"/kaggle/input/movie-content-based-filtering-recommender/data/content_bygenre_df.csv\")\n",
    "bygenre_df"
   ]
  },
  {
   "cell_type": "code",
   "execution_count": 6,
   "id": "cdad3495",
   "metadata": {
    "execution": {
     "iopub.execute_input": "2025-03-15T12:16:26.032064Z",
     "iopub.status.busy": "2025-03-15T12:16:26.031675Z",
     "iopub.status.idle": "2025-03-15T12:16:26.039524Z",
     "shell.execute_reply": "2025-03-15T12:16:26.038377Z"
    },
    "papermill": {
     "duration": 0.015596,
     "end_time": "2025-03-15T12:16:26.041239",
     "exception": false,
     "start_time": "2025-03-15T12:16:26.025643",
     "status": "completed"
    },
    "tags": []
   },
   "outputs": [],
   "source": [
    "def load_data():\n",
    "    item_train = genfromtxt(\"/kaggle/input/movie-content-based-filtering-recommender/data/content_item_train.csv\", delimiter=\",\")\n",
    "    user_train = genfromtxt(\"/kaggle/input/movie-content-based-filtering-recommender/data/content_user_train.csv\", delimiter=\",\")\n",
    "    y_train = genfromtxt(\"/kaggle/input/movie-content-based-filtering-recommender/data/content_y_train.csv\", delimiter=\",\")\n",
    "    with open(\"/kaggle/input/movie-content-based-filtering-recommender/data/content_item_train_header.txt\", newline=\"\") as f:\n",
    "        item_features = list(csv.reader(f))[0]\n",
    "        \n",
    "    with open(\"/kaggle/input/movie-content-based-filtering-recommender/data/content_user_train_header.txt\", newline=\"\") as f:\n",
    "        user_features = list(csv.reader(f))[0]\n",
    "    \n",
    "    item_vecs = genfromtxt(\"/kaggle/input/movie-content-based-filtering-recommender/data/content_item_vecs.csv\", delimiter = \",\")\n",
    "    movie_dict = defaultdict(dict)\n",
    "    count = 0 \n",
    "    with open(\"/kaggle/input/movie-content-based-filtering-recommender/data/content_movie_list.csv\", newline=\"\") as csvfile:\n",
    "        reader = csv.reader(csvfile, delimiter=',', quotechar='\"')\n",
    "        for line in reader:\n",
    "            if count == 0:\n",
    "                count+=1\n",
    "            else:\n",
    "                count+=1\n",
    "                movie_id = int(line[0])\n",
    "                movie_dict[movie_id][\"title\"] = line[1]\n",
    "                movie_dict[movie_id][\"genres\"] = line[2]\n",
    "    \n",
    "    with open(\"/kaggle/input/movie-content-based-filtering-recommender/data/content_user_to_genre.pickle\", 'rb') as f:\n",
    "        user_to_genre = pickle.load(f)\n",
    "    \n",
    "    return item_train, user_train, y_train, item_features, user_features, item_vecs, movie_dict, user_to_genre\n",
    "    \n",
    "# file = \"/kaggle/input/movie-content-based-filtering-recommender/data/content_item_train_header.txt\"\n",
    "# with open(file, 'r') as file:\n",
    "#     content = file.read()\n",
    "# content"
   ]
  },
  {
   "cell_type": "code",
   "execution_count": 7,
   "id": "91c46adb",
   "metadata": {
    "execution": {
     "iopub.execute_input": "2025-03-15T12:16:26.052499Z",
     "iopub.status.busy": "2025-03-15T12:16:26.052147Z",
     "iopub.status.idle": "2025-03-15T12:16:27.417222Z",
     "shell.execute_reply": "2025-03-15T12:16:27.416123Z"
    },
    "papermill": {
     "duration": 1.372576,
     "end_time": "2025-03-15T12:16:27.418940",
     "exception": false,
     "start_time": "2025-03-15T12:16:26.046364",
     "status": "completed"
    },
    "tags": []
   },
   "outputs": [
    {
     "name": "stdout",
     "output_type": "stream",
     "text": [
      "No of training vectors:  50884\n"
     ]
    },
    {
     "data": {
      "text/plain": [
       "array([[6.87400000e+03, 2.00300000e+03, 3.96183206e+00, 1.00000000e+00,\n",
       "        0.00000000e+00, 0.00000000e+00, 0.00000000e+00, 0.00000000e+00,\n",
       "        1.00000000e+00, 0.00000000e+00, 0.00000000e+00, 0.00000000e+00,\n",
       "        0.00000000e+00, 0.00000000e+00, 0.00000000e+00, 0.00000000e+00,\n",
       "        1.00000000e+00],\n",
       "       [8.79800000e+03, 2.00400000e+03, 3.76136364e+00, 1.00000000e+00,\n",
       "        0.00000000e+00, 0.00000000e+00, 0.00000000e+00, 0.00000000e+00,\n",
       "        1.00000000e+00, 0.00000000e+00, 1.00000000e+00, 0.00000000e+00,\n",
       "        0.00000000e+00, 0.00000000e+00, 0.00000000e+00, 0.00000000e+00,\n",
       "        1.00000000e+00]])"
      ]
     },
     "execution_count": 7,
     "metadata": {},
     "output_type": "execute_result"
    }
   ],
   "source": [
    "item_train, user_train, y_train, item_features, user_features, item_vecs, movie_dict, user_to_genre = load_data()\n",
    "\n",
    "num_user_features = user_train.shape[1] - 3   # remove userid, rating count and ave rating during training\n",
    "num_item_features = item_train.shape[1] - 1   # remove movie id at train time\n",
    "uvs = 3  # user genre vector start\n",
    "ivs = 3  # item genre vector start\n",
    "u_s = 3  # start of columns to use in training, user\n",
    "i_s = 1  # start of columns to use in training, items\n",
    "\n",
    "print(\"No of training vectors: \",len(item_train))\n",
    "item_train[:2]"
   ]
  },
  {
   "cell_type": "code",
   "execution_count": 8,
   "id": "5c7d2983",
   "metadata": {
    "execution": {
     "iopub.execute_input": "2025-03-15T12:16:27.430915Z",
     "iopub.status.busy": "2025-03-15T12:16:27.430559Z",
     "iopub.status.idle": "2025-03-15T12:16:27.438643Z",
     "shell.execute_reply": "2025-03-15T12:16:27.437502Z"
    },
    "papermill": {
     "duration": 0.015981,
     "end_time": "2025-03-15T12:16:27.440239",
     "exception": false,
     "start_time": "2025-03-15T12:16:27.424258",
     "status": "completed"
    },
    "tags": []
   },
   "outputs": [],
   "source": [
    "def print_train(X_train, features, vs, u_s, maxcount=5, user=True):\n",
    "    if user:\n",
    "        flist = [\".0f\", \".0f\", \".1f\",\n",
    "                 \".1f\", \".1f\", \".1f\", \".1f\", \".1f\", \".1f\", \".1f\", \".1f\", \".1f\", \".1f\", \".1f\", \".1f\", \".1f\", \".1f\"]\n",
    "    else:\n",
    "        flist = [\".0f\", \".0f\", \".1f\", \n",
    "                 \".0f\", \".0f\", \".0f\", \".0f\", \".0f\", \".0f\", \".0f\", \".0f\", \".0f\", \".0f\", \".0f\", \".0f\", \".0f\", \".0f\"]\n",
    "\n",
    "    head = features[:vs]\n",
    "    if vs<u_s:\n",
    "        print(f\"Error, vector start {vs} should be greater than user start {u_s}\")\n",
    "\n",
    "    for i in range(u_s):\n",
    "        head[i] = \"[\" + head[i] + \"]\"\n",
    "        \n",
    "    genres = features[vs:]\n",
    "    hdr = head + genres\n",
    "    disp = [split_str(hdr, 5)]\n",
    "    count = 0\n",
    "    \n",
    "    for i in range(0, X_train.shape[0]):\n",
    "        if count == maxcount: break\n",
    "        count += 1\n",
    "        disp.append([X_train[i, 0].astype(int),\n",
    "                     X_train[i, 1].astype(int),\n",
    "                     X_train[i, 2].astype(float),\n",
    "                     *X_train[i, 3:].astype(float)\n",
    "                    ])\n",
    "    table = tabulate.tabulate(disp, tablefmt='html', headers=\"firstrow\", floatfmt=flist, numalign='center')\n",
    "    return table"
   ]
  },
  {
   "cell_type": "code",
   "execution_count": 9,
   "id": "64b03919",
   "metadata": {
    "execution": {
     "iopub.execute_input": "2025-03-15T12:16:27.452100Z",
     "iopub.status.busy": "2025-03-15T12:16:27.451720Z",
     "iopub.status.idle": "2025-03-15T12:16:27.457207Z",
     "shell.execute_reply": "2025-03-15T12:16:27.456251Z"
    },
    "papermill": {
     "duration": 0.013176,
     "end_time": "2025-03-15T12:16:27.458711",
     "exception": false,
     "start_time": "2025-03-15T12:16:27.445535",
     "status": "completed"
    },
    "tags": []
   },
   "outputs": [],
   "source": [
    "def split_str(ifeatures, smax):\n",
    "    ''' split the feature name strings to tables fit '''\n",
    "    ofeatures = []\n",
    "    for s in ifeatures:\n",
    "        if not ' ' in s:  # skip string that already have a space\n",
    "            if len(s) > smax:\n",
    "                mid = int(len(s)/2)\n",
    "                s = s[:mid] + \" \" + s[mid:]\n",
    "        ofeatures.append(s)\n",
    "    return ofeatures\n",
    "    "
   ]
  },
  {
   "cell_type": "code",
   "execution_count": 10,
   "id": "79bcaedc",
   "metadata": {
    "execution": {
     "iopub.execute_input": "2025-03-15T12:16:27.470519Z",
     "iopub.status.busy": "2025-03-15T12:16:27.470175Z",
     "iopub.status.idle": "2025-03-15T12:16:27.479021Z",
     "shell.execute_reply": "2025-03-15T12:16:27.478020Z"
    },
    "papermill": {
     "duration": 0.016444,
     "end_time": "2025-03-15T12:16:27.480611",
     "exception": false,
     "start_time": "2025-03-15T12:16:27.464167",
     "status": "completed"
    },
    "tags": []
   },
   "outputs": [
    {
     "data": {
      "text/html": [
       "<table>\n",
       "<thead>\n",
       "<tr><th style=\"text-align: center;\"> [user id] </th><th style=\"text-align: center;\"> [rating count] </th><th style=\"text-align: center;\"> [rating ave] </th><th style=\"text-align: center;\"> Act ion </th><th style=\"text-align: center;\"> Adve nture </th><th style=\"text-align: center;\"> Anim ation </th><th style=\"text-align: center;\"> Chil dren </th><th style=\"text-align: center;\"> Com edy </th><th style=\"text-align: center;\"> Crime </th><th style=\"text-align: center;\"> Docum entary </th><th style=\"text-align: center;\"> Drama </th><th style=\"text-align: center;\"> Fan tasy </th><th style=\"text-align: center;\"> Hor ror </th><th style=\"text-align: center;\"> Mys tery </th><th style=\"text-align: center;\"> Rom ance </th><th style=\"text-align: center;\"> Sci -Fi </th><th style=\"text-align: center;\"> Thri ller </th></tr>\n",
       "</thead>\n",
       "<tbody>\n",
       "<tr><td style=\"text-align: center;\">     2     </td><td style=\"text-align: center;\">       22       </td><td style=\"text-align: center;\">     4.0      </td><td style=\"text-align: center;\">   4.0   </td><td style=\"text-align: center;\">    4.2     </td><td style=\"text-align: center;\">    0.0     </td><td style=\"text-align: center;\">    0.0    </td><td style=\"text-align: center;\">   4.0   </td><td style=\"text-align: center;\">  4.1  </td><td style=\"text-align: center;\">     4.0      </td><td style=\"text-align: center;\">  4.0  </td><td style=\"text-align: center;\">   0.0    </td><td style=\"text-align: center;\">   3.0   </td><td style=\"text-align: center;\">   4.0    </td><td style=\"text-align: center;\">   0.0    </td><td style=\"text-align: center;\">   3.9   </td><td style=\"text-align: center;\">    3.9    </td></tr>\n",
       "<tr><td style=\"text-align: center;\">     2     </td><td style=\"text-align: center;\">       22       </td><td style=\"text-align: center;\">     4.0      </td><td style=\"text-align: center;\">   4.0   </td><td style=\"text-align: center;\">    4.2     </td><td style=\"text-align: center;\">    0.0     </td><td style=\"text-align: center;\">    0.0    </td><td style=\"text-align: center;\">   4.0   </td><td style=\"text-align: center;\">  4.1  </td><td style=\"text-align: center;\">     4.0      </td><td style=\"text-align: center;\">  4.0  </td><td style=\"text-align: center;\">   0.0    </td><td style=\"text-align: center;\">   3.0   </td><td style=\"text-align: center;\">   4.0    </td><td style=\"text-align: center;\">   0.0    </td><td style=\"text-align: center;\">   3.9   </td><td style=\"text-align: center;\">    3.9    </td></tr>\n",
       "<tr><td style=\"text-align: center;\">     2     </td><td style=\"text-align: center;\">       22       </td><td style=\"text-align: center;\">     4.0      </td><td style=\"text-align: center;\">   4.0   </td><td style=\"text-align: center;\">    4.2     </td><td style=\"text-align: center;\">    0.0     </td><td style=\"text-align: center;\">    0.0    </td><td style=\"text-align: center;\">   4.0   </td><td style=\"text-align: center;\">  4.1  </td><td style=\"text-align: center;\">     4.0      </td><td style=\"text-align: center;\">  4.0  </td><td style=\"text-align: center;\">   0.0    </td><td style=\"text-align: center;\">   3.0   </td><td style=\"text-align: center;\">   4.0    </td><td style=\"text-align: center;\">   0.0    </td><td style=\"text-align: center;\">   3.9   </td><td style=\"text-align: center;\">    3.9    </td></tr>\n",
       "<tr><td style=\"text-align: center;\">     2     </td><td style=\"text-align: center;\">       22       </td><td style=\"text-align: center;\">     4.0      </td><td style=\"text-align: center;\">   4.0   </td><td style=\"text-align: center;\">    4.2     </td><td style=\"text-align: center;\">    0.0     </td><td style=\"text-align: center;\">    0.0    </td><td style=\"text-align: center;\">   4.0   </td><td style=\"text-align: center;\">  4.1  </td><td style=\"text-align: center;\">     4.0      </td><td style=\"text-align: center;\">  4.0  </td><td style=\"text-align: center;\">   0.0    </td><td style=\"text-align: center;\">   3.0   </td><td style=\"text-align: center;\">   4.0    </td><td style=\"text-align: center;\">   0.0    </td><td style=\"text-align: center;\">   3.9   </td><td style=\"text-align: center;\">    3.9    </td></tr>\n",
       "<tr><td style=\"text-align: center;\">     2     </td><td style=\"text-align: center;\">       22       </td><td style=\"text-align: center;\">     4.0      </td><td style=\"text-align: center;\">   4.0   </td><td style=\"text-align: center;\">    4.2     </td><td style=\"text-align: center;\">    0.0     </td><td style=\"text-align: center;\">    0.0    </td><td style=\"text-align: center;\">   4.0   </td><td style=\"text-align: center;\">  4.1  </td><td style=\"text-align: center;\">     4.0      </td><td style=\"text-align: center;\">  4.0  </td><td style=\"text-align: center;\">   0.0    </td><td style=\"text-align: center;\">   3.0   </td><td style=\"text-align: center;\">   4.0    </td><td style=\"text-align: center;\">   0.0    </td><td style=\"text-align: center;\">   3.9   </td><td style=\"text-align: center;\">    3.9    </td></tr>\n",
       "</tbody>\n",
       "</table>"
      ],
      "text/plain": [
       "'<table>\\n<thead>\\n<tr><th style=\"text-align: center;\"> [user id] </th><th style=\"text-align: center;\"> [rating count] </th><th style=\"text-align: center;\"> [rating ave] </th><th style=\"text-align: center;\"> Act ion </th><th style=\"text-align: center;\"> Adve nture </th><th style=\"text-align: center;\"> Anim ation </th><th style=\"text-align: center;\"> Chil dren </th><th style=\"text-align: center;\"> Com edy </th><th style=\"text-align: center;\"> Crime </th><th style=\"text-align: center;\"> Docum entary </th><th style=\"text-align: center;\"> Drama </th><th style=\"text-align: center;\"> Fan tasy </th><th style=\"text-align: center;\"> Hor ror </th><th style=\"text-align: center;\"> Mys tery </th><th style=\"text-align: center;\"> Rom ance </th><th style=\"text-align: center;\"> Sci -Fi </th><th style=\"text-align: center;\"> Thri ller </th></tr>\\n</thead>\\n<tbody>\\n<tr><td style=\"text-align: center;\">     2     </td><td style=\"text-align: center;\">       22       </td><td style=\"text-align: center;\">     4.0      </td><td style=\"text-align: center;\">   4.0   </td><td style=\"text-align: center;\">    4.2     </td><td style=\"text-align: center;\">    0.0     </td><td style=\"text-align: center;\">    0.0    </td><td style=\"text-align: center;\">   4.0   </td><td style=\"text-align: center;\">  4.1  </td><td style=\"text-align: center;\">     4.0      </td><td style=\"text-align: center;\">  4.0  </td><td style=\"text-align: center;\">   0.0    </td><td style=\"text-align: center;\">   3.0   </td><td style=\"text-align: center;\">   4.0    </td><td style=\"text-align: center;\">   0.0    </td><td style=\"text-align: center;\">   3.9   </td><td style=\"text-align: center;\">    3.9    </td></tr>\\n<tr><td style=\"text-align: center;\">     2     </td><td style=\"text-align: center;\">       22       </td><td style=\"text-align: center;\">     4.0      </td><td style=\"text-align: center;\">   4.0   </td><td style=\"text-align: center;\">    4.2     </td><td style=\"text-align: center;\">    0.0     </td><td style=\"text-align: center;\">    0.0    </td><td style=\"text-align: center;\">   4.0   </td><td style=\"text-align: center;\">  4.1  </td><td style=\"text-align: center;\">     4.0      </td><td style=\"text-align: center;\">  4.0  </td><td style=\"text-align: center;\">   0.0    </td><td style=\"text-align: center;\">   3.0   </td><td style=\"text-align: center;\">   4.0    </td><td style=\"text-align: center;\">   0.0    </td><td style=\"text-align: center;\">   3.9   </td><td style=\"text-align: center;\">    3.9    </td></tr>\\n<tr><td style=\"text-align: center;\">     2     </td><td style=\"text-align: center;\">       22       </td><td style=\"text-align: center;\">     4.0      </td><td style=\"text-align: center;\">   4.0   </td><td style=\"text-align: center;\">    4.2     </td><td style=\"text-align: center;\">    0.0     </td><td style=\"text-align: center;\">    0.0    </td><td style=\"text-align: center;\">   4.0   </td><td style=\"text-align: center;\">  4.1  </td><td style=\"text-align: center;\">     4.0      </td><td style=\"text-align: center;\">  4.0  </td><td style=\"text-align: center;\">   0.0    </td><td style=\"text-align: center;\">   3.0   </td><td style=\"text-align: center;\">   4.0    </td><td style=\"text-align: center;\">   0.0    </td><td style=\"text-align: center;\">   3.9   </td><td style=\"text-align: center;\">    3.9    </td></tr>\\n<tr><td style=\"text-align: center;\">     2     </td><td style=\"text-align: center;\">       22       </td><td style=\"text-align: center;\">     4.0      </td><td style=\"text-align: center;\">   4.0   </td><td style=\"text-align: center;\">    4.2     </td><td style=\"text-align: center;\">    0.0     </td><td style=\"text-align: center;\">    0.0    </td><td style=\"text-align: center;\">   4.0   </td><td style=\"text-align: center;\">  4.1  </td><td style=\"text-align: center;\">     4.0      </td><td style=\"text-align: center;\">  4.0  </td><td style=\"text-align: center;\">   0.0    </td><td style=\"text-align: center;\">   3.0   </td><td style=\"text-align: center;\">   4.0    </td><td style=\"text-align: center;\">   0.0    </td><td style=\"text-align: center;\">   3.9   </td><td style=\"text-align: center;\">    3.9    </td></tr>\\n<tr><td style=\"text-align: center;\">     2     </td><td style=\"text-align: center;\">       22       </td><td style=\"text-align: center;\">     4.0      </td><td style=\"text-align: center;\">   4.0   </td><td style=\"text-align: center;\">    4.2     </td><td style=\"text-align: center;\">    0.0     </td><td style=\"text-align: center;\">    0.0    </td><td style=\"text-align: center;\">   4.0   </td><td style=\"text-align: center;\">  4.1  </td><td style=\"text-align: center;\">     4.0      </td><td style=\"text-align: center;\">  4.0  </td><td style=\"text-align: center;\">   0.0    </td><td style=\"text-align: center;\">   3.0   </td><td style=\"text-align: center;\">   4.0    </td><td style=\"text-align: center;\">   0.0    </td><td style=\"text-align: center;\">   3.9   </td><td style=\"text-align: center;\">    3.9    </td></tr>\\n</tbody>\\n</table>'"
      ]
     },
     "execution_count": 10,
     "metadata": {},
     "output_type": "execute_result"
    }
   ],
   "source": [
    "print_train(user_train, user_features, uvs, u_s, maxcount=5)"
   ]
  },
  {
   "cell_type": "code",
   "execution_count": 11,
   "id": "261ecbd7",
   "metadata": {
    "execution": {
     "iopub.execute_input": "2025-03-15T12:16:27.492876Z",
     "iopub.status.busy": "2025-03-15T12:16:27.492472Z",
     "iopub.status.idle": "2025-03-15T12:16:27.500295Z",
     "shell.execute_reply": "2025-03-15T12:16:27.499260Z"
    },
    "papermill": {
     "duration": 0.015978,
     "end_time": "2025-03-15T12:16:27.501958",
     "exception": false,
     "start_time": "2025-03-15T12:16:27.485980",
     "status": "completed"
    },
    "tags": []
   },
   "outputs": [
    {
     "data": {
      "text/html": [
       "<table>\n",
       "<thead>\n",
       "<tr><th style=\"text-align: center;\"> [movie id] </th><th style=\"text-align: center;\"> year </th><th style=\"text-align: center;\"> ave rating </th><th style=\"text-align: center;\"> Act ion </th><th style=\"text-align: center;\"> Adve nture </th><th style=\"text-align: center;\"> Anim ation </th><th style=\"text-align: center;\"> Chil dren </th><th style=\"text-align: center;\"> Com edy </th><th style=\"text-align: center;\"> Crime </th><th style=\"text-align: center;\"> Docum entary </th><th style=\"text-align: center;\"> Drama </th><th style=\"text-align: center;\"> Fan tasy </th><th style=\"text-align: center;\"> Hor ror </th><th style=\"text-align: center;\"> Mys tery </th><th style=\"text-align: center;\"> Rom ance </th><th style=\"text-align: center;\"> Sci -Fi </th><th style=\"text-align: center;\"> Thri ller </th></tr>\n",
       "</thead>\n",
       "<tbody>\n",
       "<tr><td style=\"text-align: center;\">    6874    </td><td style=\"text-align: center;\"> 2003 </td><td style=\"text-align: center;\">    4.0     </td><td style=\"text-align: center;\">    1    </td><td style=\"text-align: center;\">     0      </td><td style=\"text-align: center;\">     0      </td><td style=\"text-align: center;\">     0     </td><td style=\"text-align: center;\">    0    </td><td style=\"text-align: center;\">   1   </td><td style=\"text-align: center;\">      0       </td><td style=\"text-align: center;\">   0   </td><td style=\"text-align: center;\">    0     </td><td style=\"text-align: center;\">    0    </td><td style=\"text-align: center;\">    0     </td><td style=\"text-align: center;\">    0     </td><td style=\"text-align: center;\">    0    </td><td style=\"text-align: center;\">     1     </td></tr>\n",
       "<tr><td style=\"text-align: center;\">    8798    </td><td style=\"text-align: center;\"> 2004 </td><td style=\"text-align: center;\">    3.8     </td><td style=\"text-align: center;\">    1    </td><td style=\"text-align: center;\">     0      </td><td style=\"text-align: center;\">     0      </td><td style=\"text-align: center;\">     0     </td><td style=\"text-align: center;\">    0    </td><td style=\"text-align: center;\">   1   </td><td style=\"text-align: center;\">      0       </td><td style=\"text-align: center;\">   1   </td><td style=\"text-align: center;\">    0     </td><td style=\"text-align: center;\">    0    </td><td style=\"text-align: center;\">    0     </td><td style=\"text-align: center;\">    0     </td><td style=\"text-align: center;\">    0    </td><td style=\"text-align: center;\">     1     </td></tr>\n",
       "<tr><td style=\"text-align: center;\">   46970    </td><td style=\"text-align: center;\"> 2006 </td><td style=\"text-align: center;\">    3.2     </td><td style=\"text-align: center;\">    1    </td><td style=\"text-align: center;\">     0      </td><td style=\"text-align: center;\">     0      </td><td style=\"text-align: center;\">     0     </td><td style=\"text-align: center;\">    1    </td><td style=\"text-align: center;\">   0   </td><td style=\"text-align: center;\">      0       </td><td style=\"text-align: center;\">   0   </td><td style=\"text-align: center;\">    0     </td><td style=\"text-align: center;\">    0    </td><td style=\"text-align: center;\">    0     </td><td style=\"text-align: center;\">    0     </td><td style=\"text-align: center;\">    0    </td><td style=\"text-align: center;\">     0     </td></tr>\n",
       "<tr><td style=\"text-align: center;\">   48516    </td><td style=\"text-align: center;\"> 2006 </td><td style=\"text-align: center;\">    4.3     </td><td style=\"text-align: center;\">    0    </td><td style=\"text-align: center;\">     0      </td><td style=\"text-align: center;\">     0      </td><td style=\"text-align: center;\">     0     </td><td style=\"text-align: center;\">    0    </td><td style=\"text-align: center;\">   1   </td><td style=\"text-align: center;\">      0       </td><td style=\"text-align: center;\">   1   </td><td style=\"text-align: center;\">    0     </td><td style=\"text-align: center;\">    0    </td><td style=\"text-align: center;\">    0     </td><td style=\"text-align: center;\">    0     </td><td style=\"text-align: center;\">    0    </td><td style=\"text-align: center;\">     1     </td></tr>\n",
       "<tr><td style=\"text-align: center;\">   58559    </td><td style=\"text-align: center;\"> 2008 </td><td style=\"text-align: center;\">    4.2     </td><td style=\"text-align: center;\">    1    </td><td style=\"text-align: center;\">     0      </td><td style=\"text-align: center;\">     0      </td><td style=\"text-align: center;\">     0     </td><td style=\"text-align: center;\">    0    </td><td style=\"text-align: center;\">   1   </td><td style=\"text-align: center;\">      0       </td><td style=\"text-align: center;\">   1   </td><td style=\"text-align: center;\">    0     </td><td style=\"text-align: center;\">    0    </td><td style=\"text-align: center;\">    0     </td><td style=\"text-align: center;\">    0     </td><td style=\"text-align: center;\">    0    </td><td style=\"text-align: center;\">     0     </td></tr>\n",
       "</tbody>\n",
       "</table>"
      ],
      "text/plain": [
       "'<table>\\n<thead>\\n<tr><th style=\"text-align: center;\"> [movie id] </th><th style=\"text-align: center;\"> year </th><th style=\"text-align: center;\"> ave rating </th><th style=\"text-align: center;\"> Act ion </th><th style=\"text-align: center;\"> Adve nture </th><th style=\"text-align: center;\"> Anim ation </th><th style=\"text-align: center;\"> Chil dren </th><th style=\"text-align: center;\"> Com edy </th><th style=\"text-align: center;\"> Crime </th><th style=\"text-align: center;\"> Docum entary </th><th style=\"text-align: center;\"> Drama </th><th style=\"text-align: center;\"> Fan tasy </th><th style=\"text-align: center;\"> Hor ror </th><th style=\"text-align: center;\"> Mys tery </th><th style=\"text-align: center;\"> Rom ance </th><th style=\"text-align: center;\"> Sci -Fi </th><th style=\"text-align: center;\"> Thri ller </th></tr>\\n</thead>\\n<tbody>\\n<tr><td style=\"text-align: center;\">    6874    </td><td style=\"text-align: center;\"> 2003 </td><td style=\"text-align: center;\">    4.0     </td><td style=\"text-align: center;\">    1    </td><td style=\"text-align: center;\">     0      </td><td style=\"text-align: center;\">     0      </td><td style=\"text-align: center;\">     0     </td><td style=\"text-align: center;\">    0    </td><td style=\"text-align: center;\">   1   </td><td style=\"text-align: center;\">      0       </td><td style=\"text-align: center;\">   0   </td><td style=\"text-align: center;\">    0     </td><td style=\"text-align: center;\">    0    </td><td style=\"text-align: center;\">    0     </td><td style=\"text-align: center;\">    0     </td><td style=\"text-align: center;\">    0    </td><td style=\"text-align: center;\">     1     </td></tr>\\n<tr><td style=\"text-align: center;\">    8798    </td><td style=\"text-align: center;\"> 2004 </td><td style=\"text-align: center;\">    3.8     </td><td style=\"text-align: center;\">    1    </td><td style=\"text-align: center;\">     0      </td><td style=\"text-align: center;\">     0      </td><td style=\"text-align: center;\">     0     </td><td style=\"text-align: center;\">    0    </td><td style=\"text-align: center;\">   1   </td><td style=\"text-align: center;\">      0       </td><td style=\"text-align: center;\">   1   </td><td style=\"text-align: center;\">    0     </td><td style=\"text-align: center;\">    0    </td><td style=\"text-align: center;\">    0     </td><td style=\"text-align: center;\">    0     </td><td style=\"text-align: center;\">    0    </td><td style=\"text-align: center;\">     1     </td></tr>\\n<tr><td style=\"text-align: center;\">   46970    </td><td style=\"text-align: center;\"> 2006 </td><td style=\"text-align: center;\">    3.2     </td><td style=\"text-align: center;\">    1    </td><td style=\"text-align: center;\">     0      </td><td style=\"text-align: center;\">     0      </td><td style=\"text-align: center;\">     0     </td><td style=\"text-align: center;\">    1    </td><td style=\"text-align: center;\">   0   </td><td style=\"text-align: center;\">      0       </td><td style=\"text-align: center;\">   0   </td><td style=\"text-align: center;\">    0     </td><td style=\"text-align: center;\">    0    </td><td style=\"text-align: center;\">    0     </td><td style=\"text-align: center;\">    0     </td><td style=\"text-align: center;\">    0    </td><td style=\"text-align: center;\">     0     </td></tr>\\n<tr><td style=\"text-align: center;\">   48516    </td><td style=\"text-align: center;\"> 2006 </td><td style=\"text-align: center;\">    4.3     </td><td style=\"text-align: center;\">    0    </td><td style=\"text-align: center;\">     0      </td><td style=\"text-align: center;\">     0      </td><td style=\"text-align: center;\">     0     </td><td style=\"text-align: center;\">    0    </td><td style=\"text-align: center;\">   1   </td><td style=\"text-align: center;\">      0       </td><td style=\"text-align: center;\">   1   </td><td style=\"text-align: center;\">    0     </td><td style=\"text-align: center;\">    0    </td><td style=\"text-align: center;\">    0     </td><td style=\"text-align: center;\">    0     </td><td style=\"text-align: center;\">    0    </td><td style=\"text-align: center;\">     1     </td></tr>\\n<tr><td style=\"text-align: center;\">   58559    </td><td style=\"text-align: center;\"> 2008 </td><td style=\"text-align: center;\">    4.2     </td><td style=\"text-align: center;\">    1    </td><td style=\"text-align: center;\">     0      </td><td style=\"text-align: center;\">     0      </td><td style=\"text-align: center;\">     0     </td><td style=\"text-align: center;\">    0    </td><td style=\"text-align: center;\">   1   </td><td style=\"text-align: center;\">      0       </td><td style=\"text-align: center;\">   1   </td><td style=\"text-align: center;\">    0     </td><td style=\"text-align: center;\">    0    </td><td style=\"text-align: center;\">    0     </td><td style=\"text-align: center;\">    0     </td><td style=\"text-align: center;\">    0    </td><td style=\"text-align: center;\">     0     </td></tr>\\n</tbody>\\n</table>'"
      ]
     },
     "execution_count": 11,
     "metadata": {},
     "output_type": "execute_result"
    }
   ],
   "source": [
    "print_train(item_train, item_features, ivs, i_s, maxcount=5, user=False)"
   ]
  },
  {
   "cell_type": "code",
   "execution_count": 12,
   "id": "741d64c7",
   "metadata": {
    "execution": {
     "iopub.execute_input": "2025-03-15T12:16:27.514554Z",
     "iopub.status.busy": "2025-03-15T12:16:27.514201Z",
     "iopub.status.idle": "2025-03-15T12:16:27.519671Z",
     "shell.execute_reply": "2025-03-15T12:16:27.518813Z"
    },
    "papermill": {
     "duration": 0.01342,
     "end_time": "2025-03-15T12:16:27.521083",
     "exception": false,
     "start_time": "2025-03-15T12:16:27.507663",
     "status": "completed"
    },
    "tags": []
   },
   "outputs": [
    {
     "data": {
      "text/plain": [
       "(50884,)"
      ]
     },
     "execution_count": 12,
     "metadata": {},
     "output_type": "execute_result"
    }
   ],
   "source": [
    "y_train.shape"
   ]
  },
  {
   "cell_type": "code",
   "execution_count": 13,
   "id": "e4dbb4ab",
   "metadata": {
    "execution": {
     "iopub.execute_input": "2025-03-15T12:16:27.533396Z",
     "iopub.status.busy": "2025-03-15T12:16:27.533050Z",
     "iopub.status.idle": "2025-03-15T12:16:27.538900Z",
     "shell.execute_reply": "2025-03-15T12:16:27.538065Z"
    },
    "papermill": {
     "duration": 0.013687,
     "end_time": "2025-03-15T12:16:27.540468",
     "exception": false,
     "start_time": "2025-03-15T12:16:27.526781",
     "status": "completed"
    },
    "tags": []
   },
   "outputs": [
    {
     "data": {
      "text/plain": [
       "array([[  2.  ,  22.  ,   4.  , ...,   0.  ,   3.88,   3.89],\n",
       "       [  2.  ,  22.  ,   4.  , ...,   0.  ,   3.88,   3.89],\n",
       "       [  2.  ,  22.  ,   4.  , ...,   0.  ,   3.88,   3.89],\n",
       "       ...,\n",
       "       [610.  , 514.  ,   3.69, ...,   3.67,   3.61,   3.6 ],\n",
       "       [610.  , 514.  ,   3.69, ...,   3.67,   3.61,   3.6 ],\n",
       "       [610.  , 514.  ,   3.69, ...,   3.67,   3.61,   3.6 ]])"
      ]
     },
     "execution_count": 13,
     "metadata": {},
     "output_type": "execute_result"
    }
   ],
   "source": [
    "user_train"
   ]
  },
  {
   "cell_type": "code",
   "execution_count": 14,
   "id": "94b2c209",
   "metadata": {
    "execution": {
     "iopub.execute_input": "2025-03-15T12:16:27.553248Z",
     "iopub.status.busy": "2025-03-15T12:16:27.552867Z",
     "iopub.status.idle": "2025-03-15T12:16:27.708525Z",
     "shell.execute_reply": "2025-03-15T12:16:27.707133Z"
    },
    "papermill": {
     "duration": 0.164012,
     "end_time": "2025-03-15T12:16:27.710468",
     "exception": false,
     "start_time": "2025-03-15T12:16:27.546456",
     "status": "completed"
    },
    "tags": []
   },
   "outputs": [
    {
     "name": "stdout",
     "output_type": "stream",
     "text": [
      "True\n",
      "True\n"
     ]
    }
   ],
   "source": [
    "item_train_unscaled = item_train\n",
    "user_train_unscaled = user_train\n",
    "y_train_unscaled    = y_train\n",
    "\n",
    "scalerItem = StandardScaler()\n",
    "scalerItem.fit(item_train)\n",
    "item_train = scalerItem.transform(item_train)\n",
    "\n",
    "scalerUser = StandardScaler()\n",
    "scalerUser.fit(user_train)\n",
    "user_train = scalerUser.transform(user_train)\n",
    "\n",
    "scalerTarget = MinMaxScaler((-1,1))\n",
    "scalerTarget.fit(y_train.reshape(-1,1))\n",
    "y_train = scalerTarget.transform(y_train.reshape(-1,1))\n",
    "\n",
    "print(np.allclose(item_train_unscaled, scalerItem.inverse_transform(item_train)))\n",
    "print(np.allclose(user_train_unscaled, scalerUser.inverse_transform(user_train)))"
   ]
  },
  {
   "cell_type": "code",
   "execution_count": 15,
   "id": "1caf008e",
   "metadata": {
    "execution": {
     "iopub.execute_input": "2025-03-15T12:16:27.724727Z",
     "iopub.status.busy": "2025-03-15T12:16:27.724384Z",
     "iopub.status.idle": "2025-03-15T12:16:27.732969Z",
     "shell.execute_reply": "2025-03-15T12:16:27.731882Z"
    },
    "papermill": {
     "duration": 0.017152,
     "end_time": "2025-03-15T12:16:27.734672",
     "exception": false,
     "start_time": "2025-03-15T12:16:27.717520",
     "status": "completed"
    },
    "tags": []
   },
   "outputs": [
    {
     "data": {
      "text/html": [
       "<table>\n",
       "<thead>\n",
       "<tr><th style=\"text-align: center;\"> [user id] </th><th style=\"text-align: center;\"> [rating count] </th><th style=\"text-align: center;\"> [rating ave] </th><th style=\"text-align: center;\"> Act ion </th><th style=\"text-align: center;\"> Adve nture </th><th style=\"text-align: center;\"> Anim ation </th><th style=\"text-align: center;\"> Chil dren </th><th style=\"text-align: center;\"> Com edy </th><th style=\"text-align: center;\"> Crime </th><th style=\"text-align: center;\"> Docum entary </th><th style=\"text-align: center;\"> Drama </th><th style=\"text-align: center;\"> Fan tasy </th><th style=\"text-align: center;\"> Hor ror </th><th style=\"text-align: center;\"> Mys tery </th><th style=\"text-align: center;\"> Rom ance </th><th style=\"text-align: center;\"> Sci -Fi </th><th style=\"text-align: center;\"> Thri ller </th></tr>\n",
       "</thead>\n",
       "<tbody>\n",
       "<tr><td style=\"text-align: center;\">    -1     </td><td style=\"text-align: center;\">       -1       </td><td style=\"text-align: center;\">     0.9      </td><td style=\"text-align: center;\">   0.8   </td><td style=\"text-align: center;\">    1.2     </td><td style=\"text-align: center;\">    -3.8    </td><td style=\"text-align: center;\">   -3.5    </td><td style=\"text-align: center;\">   0.8   </td><td style=\"text-align: center;\">  0.7  </td><td style=\"text-align: center;\">     0.9      </td><td style=\"text-align: center;\">  0.7  </td><td style=\"text-align: center;\">   -5.0   </td><td style=\"text-align: center;\">   0.1   </td><td style=\"text-align: center;\">   0.5    </td><td style=\"text-align: center;\">   -4.9   </td><td style=\"text-align: center;\">   0.6   </td><td style=\"text-align: center;\">    0.6    </td></tr>\n",
       "<tr><td style=\"text-align: center;\">    -1     </td><td style=\"text-align: center;\">       -1       </td><td style=\"text-align: center;\">     0.9      </td><td style=\"text-align: center;\">   0.8   </td><td style=\"text-align: center;\">    1.2     </td><td style=\"text-align: center;\">    -3.8    </td><td style=\"text-align: center;\">   -3.5    </td><td style=\"text-align: center;\">   0.8   </td><td style=\"text-align: center;\">  0.7  </td><td style=\"text-align: center;\">     0.9      </td><td style=\"text-align: center;\">  0.7  </td><td style=\"text-align: center;\">   -5.0   </td><td style=\"text-align: center;\">   0.1   </td><td style=\"text-align: center;\">   0.5    </td><td style=\"text-align: center;\">   -4.9   </td><td style=\"text-align: center;\">   0.6   </td><td style=\"text-align: center;\">    0.6    </td></tr>\n",
       "<tr><td style=\"text-align: center;\">    -1     </td><td style=\"text-align: center;\">       -1       </td><td style=\"text-align: center;\">     0.9      </td><td style=\"text-align: center;\">   0.8   </td><td style=\"text-align: center;\">    1.2     </td><td style=\"text-align: center;\">    -3.8    </td><td style=\"text-align: center;\">   -3.5    </td><td style=\"text-align: center;\">   0.8   </td><td style=\"text-align: center;\">  0.7  </td><td style=\"text-align: center;\">     0.9      </td><td style=\"text-align: center;\">  0.7  </td><td style=\"text-align: center;\">   -5.0   </td><td style=\"text-align: center;\">   0.1   </td><td style=\"text-align: center;\">   0.5    </td><td style=\"text-align: center;\">   -4.9   </td><td style=\"text-align: center;\">   0.6   </td><td style=\"text-align: center;\">    0.6    </td></tr>\n",
       "<tr><td style=\"text-align: center;\">    -1     </td><td style=\"text-align: center;\">       -1       </td><td style=\"text-align: center;\">     0.9      </td><td style=\"text-align: center;\">   0.8   </td><td style=\"text-align: center;\">    1.2     </td><td style=\"text-align: center;\">    -3.8    </td><td style=\"text-align: center;\">   -3.5    </td><td style=\"text-align: center;\">   0.8   </td><td style=\"text-align: center;\">  0.7  </td><td style=\"text-align: center;\">     0.9      </td><td style=\"text-align: center;\">  0.7  </td><td style=\"text-align: center;\">   -5.0   </td><td style=\"text-align: center;\">   0.1   </td><td style=\"text-align: center;\">   0.5    </td><td style=\"text-align: center;\">   -4.9   </td><td style=\"text-align: center;\">   0.6   </td><td style=\"text-align: center;\">    0.6    </td></tr>\n",
       "<tr><td style=\"text-align: center;\">    -1     </td><td style=\"text-align: center;\">       -1       </td><td style=\"text-align: center;\">     0.9      </td><td style=\"text-align: center;\">   0.8   </td><td style=\"text-align: center;\">    1.2     </td><td style=\"text-align: center;\">    -3.8    </td><td style=\"text-align: center;\">   -3.5    </td><td style=\"text-align: center;\">   0.8   </td><td style=\"text-align: center;\">  0.7  </td><td style=\"text-align: center;\">     0.9      </td><td style=\"text-align: center;\">  0.7  </td><td style=\"text-align: center;\">   -5.0   </td><td style=\"text-align: center;\">   0.1   </td><td style=\"text-align: center;\">   0.5    </td><td style=\"text-align: center;\">   -4.9   </td><td style=\"text-align: center;\">   0.6   </td><td style=\"text-align: center;\">    0.6    </td></tr>\n",
       "</tbody>\n",
       "</table>"
      ],
      "text/plain": [
       "'<table>\\n<thead>\\n<tr><th style=\"text-align: center;\"> [user id] </th><th style=\"text-align: center;\"> [rating count] </th><th style=\"text-align: center;\"> [rating ave] </th><th style=\"text-align: center;\"> Act ion </th><th style=\"text-align: center;\"> Adve nture </th><th style=\"text-align: center;\"> Anim ation </th><th style=\"text-align: center;\"> Chil dren </th><th style=\"text-align: center;\"> Com edy </th><th style=\"text-align: center;\"> Crime </th><th style=\"text-align: center;\"> Docum entary </th><th style=\"text-align: center;\"> Drama </th><th style=\"text-align: center;\"> Fan tasy </th><th style=\"text-align: center;\"> Hor ror </th><th style=\"text-align: center;\"> Mys tery </th><th style=\"text-align: center;\"> Rom ance </th><th style=\"text-align: center;\"> Sci -Fi </th><th style=\"text-align: center;\"> Thri ller </th></tr>\\n</thead>\\n<tbody>\\n<tr><td style=\"text-align: center;\">    -1     </td><td style=\"text-align: center;\">       -1       </td><td style=\"text-align: center;\">     0.9      </td><td style=\"text-align: center;\">   0.8   </td><td style=\"text-align: center;\">    1.2     </td><td style=\"text-align: center;\">    -3.8    </td><td style=\"text-align: center;\">   -3.5    </td><td style=\"text-align: center;\">   0.8   </td><td style=\"text-align: center;\">  0.7  </td><td style=\"text-align: center;\">     0.9      </td><td style=\"text-align: center;\">  0.7  </td><td style=\"text-align: center;\">   -5.0   </td><td style=\"text-align: center;\">   0.1   </td><td style=\"text-align: center;\">   0.5    </td><td style=\"text-align: center;\">   -4.9   </td><td style=\"text-align: center;\">   0.6   </td><td style=\"text-align: center;\">    0.6    </td></tr>\\n<tr><td style=\"text-align: center;\">    -1     </td><td style=\"text-align: center;\">       -1       </td><td style=\"text-align: center;\">     0.9      </td><td style=\"text-align: center;\">   0.8   </td><td style=\"text-align: center;\">    1.2     </td><td style=\"text-align: center;\">    -3.8    </td><td style=\"text-align: center;\">   -3.5    </td><td style=\"text-align: center;\">   0.8   </td><td style=\"text-align: center;\">  0.7  </td><td style=\"text-align: center;\">     0.9      </td><td style=\"text-align: center;\">  0.7  </td><td style=\"text-align: center;\">   -5.0   </td><td style=\"text-align: center;\">   0.1   </td><td style=\"text-align: center;\">   0.5    </td><td style=\"text-align: center;\">   -4.9   </td><td style=\"text-align: center;\">   0.6   </td><td style=\"text-align: center;\">    0.6    </td></tr>\\n<tr><td style=\"text-align: center;\">    -1     </td><td style=\"text-align: center;\">       -1       </td><td style=\"text-align: center;\">     0.9      </td><td style=\"text-align: center;\">   0.8   </td><td style=\"text-align: center;\">    1.2     </td><td style=\"text-align: center;\">    -3.8    </td><td style=\"text-align: center;\">   -3.5    </td><td style=\"text-align: center;\">   0.8   </td><td style=\"text-align: center;\">  0.7  </td><td style=\"text-align: center;\">     0.9      </td><td style=\"text-align: center;\">  0.7  </td><td style=\"text-align: center;\">   -5.0   </td><td style=\"text-align: center;\">   0.1   </td><td style=\"text-align: center;\">   0.5    </td><td style=\"text-align: center;\">   -4.9   </td><td style=\"text-align: center;\">   0.6   </td><td style=\"text-align: center;\">    0.6    </td></tr>\\n<tr><td style=\"text-align: center;\">    -1     </td><td style=\"text-align: center;\">       -1       </td><td style=\"text-align: center;\">     0.9      </td><td style=\"text-align: center;\">   0.8   </td><td style=\"text-align: center;\">    1.2     </td><td style=\"text-align: center;\">    -3.8    </td><td style=\"text-align: center;\">   -3.5    </td><td style=\"text-align: center;\">   0.8   </td><td style=\"text-align: center;\">  0.7  </td><td style=\"text-align: center;\">     0.9      </td><td style=\"text-align: center;\">  0.7  </td><td style=\"text-align: center;\">   -5.0   </td><td style=\"text-align: center;\">   0.1   </td><td style=\"text-align: center;\">   0.5    </td><td style=\"text-align: center;\">   -4.9   </td><td style=\"text-align: center;\">   0.6   </td><td style=\"text-align: center;\">    0.6    </td></tr>\\n<tr><td style=\"text-align: center;\">    -1     </td><td style=\"text-align: center;\">       -1       </td><td style=\"text-align: center;\">     0.9      </td><td style=\"text-align: center;\">   0.8   </td><td style=\"text-align: center;\">    1.2     </td><td style=\"text-align: center;\">    -3.8    </td><td style=\"text-align: center;\">   -3.5    </td><td style=\"text-align: center;\">   0.8   </td><td style=\"text-align: center;\">  0.7  </td><td style=\"text-align: center;\">     0.9      </td><td style=\"text-align: center;\">  0.7  </td><td style=\"text-align: center;\">   -5.0   </td><td style=\"text-align: center;\">   0.1   </td><td style=\"text-align: center;\">   0.5    </td><td style=\"text-align: center;\">   -4.9   </td><td style=\"text-align: center;\">   0.6   </td><td style=\"text-align: center;\">    0.6    </td></tr>\\n</tbody>\\n</table>'"
      ]
     },
     "execution_count": 15,
     "metadata": {},
     "output_type": "execute_result"
    }
   ],
   "source": [
    "print_train(user_train, user_features, uvs, u_s, maxcount=5)"
   ]
  },
  {
   "cell_type": "code",
   "execution_count": 16,
   "id": "bf815f84",
   "metadata": {
    "execution": {
     "iopub.execute_input": "2025-03-15T12:16:27.748432Z",
     "iopub.status.busy": "2025-03-15T12:16:27.748066Z",
     "iopub.status.idle": "2025-03-15T12:16:27.768491Z",
     "shell.execute_reply": "2025-03-15T12:16:27.767535Z"
    },
    "papermill": {
     "duration": 0.029641,
     "end_time": "2025-03-15T12:16:27.770433",
     "exception": false,
     "start_time": "2025-03-15T12:16:27.740792",
     "status": "completed"
    },
    "tags": []
   },
   "outputs": [],
   "source": [
    "item_train, item_test = train_test_split(item_train, train_size=0.8, shuffle=True, random_state=RANDOM_STATE)\n",
    "user_train, user_test = train_test_split(user_train, train_size=0.8, shuffle=True, random_state=RANDOM_STATE)\n",
    "y_train, y_test       = train_test_split(y_train, train_size=0.8, shuffle=True, random_state=RANDOM_STATE)"
   ]
  },
  {
   "cell_type": "code",
   "execution_count": 17,
   "id": "6e596c13",
   "metadata": {
    "execution": {
     "iopub.execute_input": "2025-03-15T12:16:27.783693Z",
     "iopub.status.busy": "2025-03-15T12:16:27.783350Z",
     "iopub.status.idle": "2025-03-15T12:16:27.789445Z",
     "shell.execute_reply": "2025-03-15T12:16:27.788479Z"
    },
    "papermill": {
     "duration": 0.014465,
     "end_time": "2025-03-15T12:16:27.791035",
     "exception": false,
     "start_time": "2025-03-15T12:16:27.776570",
     "status": "completed"
    },
    "tags": []
   },
   "outputs": [
    {
     "name": "stdout",
     "output_type": "stream",
     "text": [
      "User Training: (40707, 17)\n",
      "User Test: (10177, 17)\n",
      "Item Training: (40707, 17)\n",
      "Item Test: (10177, 17)\n"
     ]
    }
   ],
   "source": [
    "print(\"User Training:\", user_train.shape)\n",
    "print(\"User Test:\", user_test.shape)\n",
    "\n",
    "print(\"Item Training:\", item_train.shape)\n",
    "print(\"Item Test:\", item_test.shape)"
   ]
  },
  {
   "cell_type": "code",
   "execution_count": 18,
   "id": "fc5c6adc",
   "metadata": {
    "execution": {
     "iopub.execute_input": "2025-03-15T12:16:27.804537Z",
     "iopub.status.busy": "2025-03-15T12:16:27.804181Z",
     "iopub.status.idle": "2025-03-15T12:16:27.813598Z",
     "shell.execute_reply": "2025-03-15T12:16:27.812544Z"
    },
    "papermill": {
     "duration": 0.018011,
     "end_time": "2025-03-15T12:16:27.815246",
     "exception": false,
     "start_time": "2025-03-15T12:16:27.797235",
     "status": "completed"
    },
    "tags": []
   },
   "outputs": [],
   "source": [
    "num_outputs = 32\n",
    "tf.random.set_seed(RANDOM_STATE)\n",
    "user_NN = Sequential([\n",
    "    Dense(units = 256, activation = 'relu'),\n",
    "    Dense(units = 128, activation = 'relu'),\n",
    "    Dense(units = 32, activation = 'linear'),\n",
    "])"
   ]
  },
  {
   "cell_type": "code",
   "execution_count": 19,
   "id": "227429cb",
   "metadata": {
    "execution": {
     "iopub.execute_input": "2025-03-15T12:16:27.829722Z",
     "iopub.status.busy": "2025-03-15T12:16:27.829259Z",
     "iopub.status.idle": "2025-03-15T12:16:27.845685Z",
     "shell.execute_reply": "2025-03-15T12:16:27.844672Z"
    },
    "papermill": {
     "duration": 0.025289,
     "end_time": "2025-03-15T12:16:27.847158",
     "exception": false,
     "start_time": "2025-03-15T12:16:27.821869",
     "status": "completed"
    },
    "tags": []
   },
   "outputs": [
    {
     "data": {
      "text/html": [
       "<pre style=\"white-space:pre;overflow-x:auto;line-height:normal;font-family:Menlo,'DejaVu Sans Mono',consolas,'Courier New',monospace\"><span style=\"font-weight: bold\">Model: \"sequential\"</span>\n",
       "</pre>\n"
      ],
      "text/plain": [
       "\u001b[1mModel: \"sequential\"\u001b[0m\n"
      ]
     },
     "metadata": {},
     "output_type": "display_data"
    },
    {
     "data": {
      "text/html": [
       "<pre style=\"white-space:pre;overflow-x:auto;line-height:normal;font-family:Menlo,'DejaVu Sans Mono',consolas,'Courier New',monospace\">┏━━━━━━━━━━━━━━━━━━━━━━━━━━━━━━━━━━━━━━┳━━━━━━━━━━━━━━━━━━━━━━━━━━━━━┳━━━━━━━━━━━━━━━━━┓\n",
       "┃<span style=\"font-weight: bold\"> Layer (type)                         </span>┃<span style=\"font-weight: bold\"> Output Shape                </span>┃<span style=\"font-weight: bold\">         Param # </span>┃\n",
       "┡━━━━━━━━━━━━━━━━━━━━━━━━━━━━━━━━━━━━━━╇━━━━━━━━━━━━━━━━━━━━━━━━━━━━━╇━━━━━━━━━━━━━━━━━┩\n",
       "│ dense (<span style=\"color: #0087ff; text-decoration-color: #0087ff\">Dense</span>)                        │ ?                           │     <span style=\"color: #00af00; text-decoration-color: #00af00\">0</span> (unbuilt) │\n",
       "├──────────────────────────────────────┼─────────────────────────────┼─────────────────┤\n",
       "│ dense_1 (<span style=\"color: #0087ff; text-decoration-color: #0087ff\">Dense</span>)                      │ ?                           │     <span style=\"color: #00af00; text-decoration-color: #00af00\">0</span> (unbuilt) │\n",
       "├──────────────────────────────────────┼─────────────────────────────┼─────────────────┤\n",
       "│ dense_2 (<span style=\"color: #0087ff; text-decoration-color: #0087ff\">Dense</span>)                      │ ?                           │     <span style=\"color: #00af00; text-decoration-color: #00af00\">0</span> (unbuilt) │\n",
       "└──────────────────────────────────────┴─────────────────────────────┴─────────────────┘\n",
       "</pre>\n"
      ],
      "text/plain": [
       "┏━━━━━━━━━━━━━━━━━━━━━━━━━━━━━━━━━━━━━━┳━━━━━━━━━━━━━━━━━━━━━━━━━━━━━┳━━━━━━━━━━━━━━━━━┓\n",
       "┃\u001b[1m \u001b[0m\u001b[1mLayer (type)                        \u001b[0m\u001b[1m \u001b[0m┃\u001b[1m \u001b[0m\u001b[1mOutput Shape               \u001b[0m\u001b[1m \u001b[0m┃\u001b[1m \u001b[0m\u001b[1m        Param #\u001b[0m\u001b[1m \u001b[0m┃\n",
       "┡━━━━━━━━━━━━━━━━━━━━━━━━━━━━━━━━━━━━━━╇━━━━━━━━━━━━━━━━━━━━━━━━━━━━━╇━━━━━━━━━━━━━━━━━┩\n",
       "│ dense (\u001b[38;5;33mDense\u001b[0m)                        │ ?                           │     \u001b[38;5;34m0\u001b[0m (unbuilt) │\n",
       "├──────────────────────────────────────┼─────────────────────────────┼─────────────────┤\n",
       "│ dense_1 (\u001b[38;5;33mDense\u001b[0m)                      │ ?                           │     \u001b[38;5;34m0\u001b[0m (unbuilt) │\n",
       "├──────────────────────────────────────┼─────────────────────────────┼─────────────────┤\n",
       "│ dense_2 (\u001b[38;5;33mDense\u001b[0m)                      │ ?                           │     \u001b[38;5;34m0\u001b[0m (unbuilt) │\n",
       "└──────────────────────────────────────┴─────────────────────────────┴─────────────────┘\n"
      ]
     },
     "metadata": {},
     "output_type": "display_data"
    },
    {
     "data": {
      "text/html": [
       "<pre style=\"white-space:pre;overflow-x:auto;line-height:normal;font-family:Menlo,'DejaVu Sans Mono',consolas,'Courier New',monospace\"><span style=\"font-weight: bold\"> Total params: </span><span style=\"color: #00af00; text-decoration-color: #00af00\">0</span> (0.00 B)\n",
       "</pre>\n"
      ],
      "text/plain": [
       "\u001b[1m Total params: \u001b[0m\u001b[38;5;34m0\u001b[0m (0.00 B)\n"
      ]
     },
     "metadata": {},
     "output_type": "display_data"
    },
    {
     "data": {
      "text/html": [
       "<pre style=\"white-space:pre;overflow-x:auto;line-height:normal;font-family:Menlo,'DejaVu Sans Mono',consolas,'Courier New',monospace\"><span style=\"font-weight: bold\"> Trainable params: </span><span style=\"color: #00af00; text-decoration-color: #00af00\">0</span> (0.00 B)\n",
       "</pre>\n"
      ],
      "text/plain": [
       "\u001b[1m Trainable params: \u001b[0m\u001b[38;5;34m0\u001b[0m (0.00 B)\n"
      ]
     },
     "metadata": {},
     "output_type": "display_data"
    },
    {
     "data": {
      "text/html": [
       "<pre style=\"white-space:pre;overflow-x:auto;line-height:normal;font-family:Menlo,'DejaVu Sans Mono',consolas,'Courier New',monospace\"><span style=\"font-weight: bold\"> Non-trainable params: </span><span style=\"color: #00af00; text-decoration-color: #00af00\">0</span> (0.00 B)\n",
       "</pre>\n"
      ],
      "text/plain": [
       "\u001b[1m Non-trainable params: \u001b[0m\u001b[38;5;34m0\u001b[0m (0.00 B)\n"
      ]
     },
     "metadata": {},
     "output_type": "display_data"
    }
   ],
   "source": [
    "user_NN.summary()"
   ]
  },
  {
   "cell_type": "code",
   "execution_count": null,
   "id": "4f659826",
   "metadata": {
    "papermill": {
     "duration": 0.00653,
     "end_time": "2025-03-15T12:16:27.860655",
     "exception": false,
     "start_time": "2025-03-15T12:16:27.854125",
     "status": "completed"
    },
    "tags": []
   },
   "outputs": [],
   "source": []
  }
 ],
 "metadata": {
  "kaggle": {
   "accelerator": "none",
   "dataSources": [
    {
     "datasetId": 6843042,
     "sourceId": 10993700,
     "sourceType": "datasetVersion"
    }
   ],
   "dockerImageVersionId": 30918,
   "isGpuEnabled": false,
   "isInternetEnabled": false,
   "language": "python",
   "sourceType": "notebook"
  },
  "kernelspec": {
   "display_name": "Python 3",
   "language": "python",
   "name": "python3"
  },
  "language_info": {
   "codemirror_mode": {
    "name": "ipython",
    "version": 3
   },
   "file_extension": ".py",
   "mimetype": "text/x-python",
   "name": "python",
   "nbconvert_exporter": "python",
   "pygments_lexer": "ipython3",
   "version": "3.10.12"
  },
  "papermill": {
   "default_parameters": {},
   "duration": 23.966812,
   "end_time": "2025-03-15T12:16:29.391313",
   "environment_variables": {},
   "exception": null,
   "input_path": "__notebook__.ipynb",
   "output_path": "__notebook__.ipynb",
   "parameters": {},
   "start_time": "2025-03-15T12:16:05.424501",
   "version": "2.6.0"
  }
 },
 "nbformat": 4,
 "nbformat_minor": 5
}
