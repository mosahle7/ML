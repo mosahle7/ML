{
 "cells": [
  {
   "cell_type": "code",
   "execution_count": 1,
   "id": "6967cbc8",
   "metadata": {
    "_cell_guid": "b1076dfc-b9ad-4769-8c92-a6c4dae69d19",
    "_uuid": "8f2839f25d086af736a60e9eeb907d3b93b6e0e5",
    "execution": {
     "iopub.execute_input": "2025-06-27T17:05:21.766939Z",
     "iopub.status.busy": "2025-06-27T17:05:21.766638Z",
     "iopub.status.idle": "2025-06-27T17:05:23.934299Z",
     "shell.execute_reply": "2025-06-27T17:05:23.933100Z"
    },
    "papermill": {
     "duration": 2.1746,
     "end_time": "2025-06-27T17:05:23.936197",
     "exception": false,
     "start_time": "2025-06-27T17:05:21.761597",
     "status": "completed"
    },
    "tags": []
   },
   "outputs": [
    {
     "name": "stdout",
     "output_type": "stream",
     "text": [
      "/kaggle/input/email-spam/spam_dataset/dataset_dict.json\n",
      "/kaggle/input/email-spam/spam_dataset/val/state.json\n",
      "/kaggle/input/email-spam/spam_dataset/val/dataset_info.json\n",
      "/kaggle/input/email-spam/spam_dataset/val/data-00000-of-00001.arrow\n",
      "/kaggle/input/email-spam/spam_dataset/test/state.json\n",
      "/kaggle/input/email-spam/spam_dataset/test/dataset_info.json\n",
      "/kaggle/input/email-spam/spam_dataset/test/data-00000-of-00001.arrow\n",
      "/kaggle/input/email-spam/spam_dataset/train/state.json\n",
      "/kaggle/input/email-spam/spam_dataset/train/dataset_info.json\n",
      "/kaggle/input/email-spam/spam_dataset/train/data-00000-of-00001.arrow\n"
     ]
    }
   ],
   "source": [
    "# This Python 3 environment comes with many helpful analytics libraries installed\n",
    "# It is defined by the kaggle/python Docker image: https://github.com/kaggle/docker-python\n",
    "# For example, here's several helpful packages to load\n",
    "\n",
    "import numpy as np # linear algebra\n",
    "import pandas as pd # data processing, CSV file I/O (e.g. pd.read_csv)\n",
    "\n",
    "# Input data files are available in the read-only \"../input/\" directory\n",
    "# For example, running this (by clicking run or pressing Shift+Enter) will list all files under the input directory\n",
    "\n",
    "import os\n",
    "for dirname, _, filenames in os.walk('/kaggle/input'):\n",
    "    for filename in filenames:\n",
    "        print(os.path.join(dirname, filename))\n",
    "\n",
    "# You can write up to 20GB to the current directory (/kaggle/working/) that gets preserved as output when you create a version using \"Save & Run All\" \n",
    "# You can also write temporary files to /kaggle/temp/, but they won't be saved outside of the current session"
   ]
  },
  {
   "cell_type": "code",
   "execution_count": 2,
   "id": "6cc880b5",
   "metadata": {
    "execution": {
     "iopub.execute_input": "2025-06-27T17:05:23.944768Z",
     "iopub.status.busy": "2025-06-27T17:05:23.944321Z",
     "iopub.status.idle": "2025-06-27T17:05:25.795451Z",
     "shell.execute_reply": "2025-06-27T17:05:25.794515Z"
    },
    "papermill": {
     "duration": 1.856978,
     "end_time": "2025-06-27T17:05:25.797071",
     "exception": false,
     "start_time": "2025-06-27T17:05:23.940093",
     "status": "completed"
    },
    "tags": []
   },
   "outputs": [],
   "source": [
    "from datasets import load_from_disk\n",
    "\n",
    "dataset = load_from_disk(\"/kaggle/input//email-spam/spam_dataset\")"
   ]
  },
  {
   "cell_type": "code",
   "execution_count": 3,
   "id": "95a06fce",
   "metadata": {
    "execution": {
     "iopub.execute_input": "2025-06-27T17:05:25.806500Z",
     "iopub.status.busy": "2025-06-27T17:05:25.805935Z",
     "iopub.status.idle": "2025-06-27T17:05:25.813608Z",
     "shell.execute_reply": "2025-06-27T17:05:25.812526Z"
    },
    "papermill": {
     "duration": 0.014767,
     "end_time": "2025-06-27T17:05:25.815298",
     "exception": false,
     "start_time": "2025-06-27T17:05:25.800531",
     "status": "completed"
    },
    "tags": []
   },
   "outputs": [
    {
     "data": {
      "text/plain": [
       "DatasetDict({\n",
       "    train: Dataset({\n",
       "        features: ['Text', 'Spam'],\n",
       "        num_rows: 4556\n",
       "    })\n",
       "    val: Dataset({\n",
       "        features: ['Text', 'Spam'],\n",
       "        num_rows: 569\n",
       "    })\n",
       "    test: Dataset({\n",
       "        features: ['Text', 'Spam'],\n",
       "        num_rows: 570\n",
       "    })\n",
       "})"
      ]
     },
     "execution_count": 3,
     "metadata": {},
     "output_type": "execute_result"
    }
   ],
   "source": [
    "dataset"
   ]
  },
  {
   "cell_type": "code",
   "execution_count": 4,
   "id": "f959ce15",
   "metadata": {
    "execution": {
     "iopub.execute_input": "2025-06-27T17:05:25.824136Z",
     "iopub.status.busy": "2025-06-27T17:05:25.823836Z",
     "iopub.status.idle": "2025-06-27T17:05:25.829849Z",
     "shell.execute_reply": "2025-06-27T17:05:25.828338Z"
    },
    "papermill": {
     "duration": 0.012146,
     "end_time": "2025-06-27T17:05:25.831449",
     "exception": false,
     "start_time": "2025-06-27T17:05:25.819303",
     "status": "completed"
    },
    "tags": []
   },
   "outputs": [],
   "source": [
    "train = dataset[\"train\"]\n",
    "test = dataset[\"test\"]\n",
    "val = dataset[\"val\"]"
   ]
  },
  {
   "cell_type": "code",
   "execution_count": 5,
   "id": "f5dfa9f4",
   "metadata": {
    "execution": {
     "iopub.execute_input": "2025-06-27T17:05:25.840224Z",
     "iopub.status.busy": "2025-06-27T17:05:25.839844Z",
     "iopub.status.idle": "2025-06-27T17:05:25.846017Z",
     "shell.execute_reply": "2025-06-27T17:05:25.844972Z"
    },
    "papermill": {
     "duration": 0.012953,
     "end_time": "2025-06-27T17:05:25.847790",
     "exception": false,
     "start_time": "2025-06-27T17:05:25.834837",
     "status": "completed"
    },
    "tags": []
   },
   "outputs": [
    {
     "data": {
      "text/plain": [
       "4556"
      ]
     },
     "execution_count": 5,
     "metadata": {},
     "output_type": "execute_result"
    }
   ],
   "source": [
    "len(train)"
   ]
  },
  {
   "cell_type": "code",
   "execution_count": 6,
   "id": "6a91a61a",
   "metadata": {
    "execution": {
     "iopub.execute_input": "2025-06-27T17:05:25.855972Z",
     "iopub.status.busy": "2025-06-27T17:05:25.855675Z",
     "iopub.status.idle": "2025-06-27T17:05:25.867096Z",
     "shell.execute_reply": "2025-06-27T17:05:25.866039Z"
    },
    "papermill": {
     "duration": 0.017275,
     "end_time": "2025-06-27T17:05:25.868760",
     "exception": false,
     "start_time": "2025-06-27T17:05:25.851485",
     "status": "completed"
    },
    "tags": []
   },
   "outputs": [
    {
     "name": "stdout",
     "output_type": "stream",
     "text": [
      "label=0, sms=Subject: aiesec polska - eurolds 2000  jarek ,  czy enron moze pomoc w organizacji tej imprezy ?  bylaby to dobra okazja nawiazania wielu pozytecznych kontaktow .  wicek  - - - - - - - - - - - - - - - - - - - - - - forwarded by vince j kaminski / hou / ect on 02 / 17 / 2000  08 : 51 am - - - - - - - - - - - - - - - - - - - - - - - - - - -  \" andrzej wodnicki \" on 02 / 16 / 2000 02 : 50 : 05 am  to : vince j kaminski / hou / ect @ ect  cc :  subject : aiesec polska - eurolds 2000  szanowny panie kaminski !  nazywam sie andrzej wodnicki i jestem czlonkiem stowarzysznia studentow  aiesec przy szkole glownej handlowej ( dawnej sgpis ) .  prosze o poswiecenie paru chwil na przeczytanie tego maila .  ( kontakt do pana otrzymalem od kolegi , ktory organizowal prezentacje firmy  enron na sgh , a posrednio od pana jarka astramowicza , przedstawiciela enron  na polske . )  w imieniu aiesec polska chcialbym zwrocic sie do pana z wielka prosba pomocy  przy wydarzeniu , ktore w tym roku organizujemy .  aiesec polska , a w szczegolnosci aiesec przy szkole glownej handlowej ma  zaszczyt organizowac w tym roku european leadership development seminar . jest  to seminarium na temat przywodztwa skierowne do obecnych i przyszlych  czlonkow rad wykonawczych komitetow lokalnych aiesec w calej europie .  po raz pierwszy aiesec polska ma mozliwosc organizacji takiego wydarzenia i  stanowi ono dla nas olbrzymie wyzwanie .  przygotowywalismy sie do niego od kilku lat i obecnie jestesmy juz w koncowej  fazie organizacji eurolds 2000 .  projekt rozpoczyna sie 7 marca 2000 roku oficjalnym otwarciem przez pana  prezydenta aleksandra kwasniewskiego w sali kongresowej . pozniej odbeda sie  dyskusje panelowe ( udzial wielu znakomitych gosci - m . in jan krzysztof  bielecki , jacek saryusz wolski , andrzej olechowski ) oraz wyklady i  prezentacje regionow polski w auli spadochronowej szkoly glownej handlowej , a  nastepnie delegaci udadza sie do hotelu mrongovia na szkolenia , casy i  wyklady na temat przywodztwa . ( szczegolowy program eurolds 2000 przesylam w  zalaczniku . )  jak do tej pory staralismy sie mozliwie najwiecej dokonac wlasnymi silami ,  jednak obecnie na 3 tygodnie przed tym wydarzeniem stoimy przed pewnym  problemem i stad tez pojawil sie pomysl skontaktowania pana , jako osoby ,  ktora moglaby nam wydatnie pomoc .  chcielibysmy poprosic pana o wsparcie finansowe .  wspolpracujemy juz z wieloma firmami i instytucjami ( m . in . deloitte & touche ,  arthur andersen , fundusz phare , fundacja konrada adenauera oraz wieloma  innymi ) , jednak na obecnym etapie organizacji projektu wciaz brakuje nam  12000 $ .  poczatkowo chcielismy nawiazac kontakt z pania eileen price z londynu , jednak  wydaje nam sie , ze pan jako zalozyciel aiesec w polsce powienien po pierwsze  o takim wydarzeniu wiedziec , a po drugie mamy nadzieje , ze moze nam pan pomoc .  bardzo prosze o odpowiedz ,  z powazaniem  andrzej wodnicki  prezydent eurolds 2000  aiesec szkola glowna handlowa  - attl . htm  - eurolds _ prezentacja . ppt\n"
     ]
    }
   ],
   "source": [
    "for entry in train.select(range(1)):\n",
    "    sms = entry[\"Text\"]\n",
    "    label = entry[\"Spam\"]\n",
    "    print(f\"label={label}, sms={sms}\")"
   ]
  },
  {
   "cell_type": "code",
   "execution_count": 7,
   "id": "9d6f7018",
   "metadata": {
    "execution": {
     "iopub.execute_input": "2025-06-27T17:05:25.876988Z",
     "iopub.status.busy": "2025-06-27T17:05:25.876708Z",
     "iopub.status.idle": "2025-06-27T17:05:25.881684Z",
     "shell.execute_reply": "2025-06-27T17:05:25.880558Z"
    },
    "papermill": {
     "duration": 0.011176,
     "end_time": "2025-06-27T17:05:25.883536",
     "exception": false,
     "start_time": "2025-06-27T17:05:25.872360",
     "status": "completed"
    },
    "tags": []
   },
   "outputs": [],
   "source": [
    "id2label = {0: \"NOT SPAM\", 1: \"SPAM\"}\n",
    "label2id = {\"NOT SPAM\": 0, \"SPAM\": 1}"
   ]
  },
  {
   "cell_type": "markdown",
   "id": "a960e9e8",
   "metadata": {
    "papermill": {
     "duration": 0.003563,
     "end_time": "2025-06-27T17:05:25.891108",
     "exception": false,
     "start_time": "2025-06-27T17:05:25.887545",
     "status": "completed"
    },
    "tags": []
   },
   "source": [
    "**Build and Evaluate Classifier**"
   ]
  },
  {
   "cell_type": "code",
   "execution_count": 8,
   "id": "bd83d400",
   "metadata": {
    "execution": {
     "iopub.execute_input": "2025-06-27T17:05:25.899605Z",
     "iopub.status.busy": "2025-06-27T17:05:25.899282Z",
     "iopub.status.idle": "2025-06-27T17:05:25.914447Z",
     "shell.execute_reply": "2025-06-27T17:05:25.913556Z"
    },
    "papermill": {
     "duration": 0.02091,
     "end_time": "2025-06-27T17:05:25.915845",
     "exception": false,
     "start_time": "2025-06-27T17:05:25.894935",
     "status": "completed"
    },
    "tags": []
   },
   "outputs": [],
   "source": [
    "def get_sms_messages_string(dataset, item_nums, include_labels=False):\n",
    "    sms_msgs_string = \"\"\n",
    "    for item_num, entry in zip(item_nums, dataset.select(item_nums)):\n",
    "        sms = entry[\"Text\"]\n",
    "        label_id = entry[\"Spam\"]\n",
    "\n",
    "        if include_labels:\n",
    "            sms_msgs_string +=(\n",
    "                f\"{item_num} (label={id2label[label_id]}) -> {sms}\\n\\n\"\n",
    "            )\n",
    "\n",
    "        else:\n",
    "            sms_msgs_string += f\"{item_num} -> {sms}\\n\\n\"\n",
    "    \n",
    "    print(sms_msgs_string)"
   ]
  },
  {
   "cell_type": "code",
   "execution_count": 9,
   "id": "2ef6ccbf",
   "metadata": {
    "execution": {
     "iopub.execute_input": "2025-06-27T17:05:25.924626Z",
     "iopub.status.busy": "2025-06-27T17:05:25.923872Z",
     "iopub.status.idle": "2025-06-27T17:05:25.932138Z",
     "shell.execute_reply": "2025-06-27T17:05:25.931031Z"
    },
    "papermill": {
     "duration": 0.01428,
     "end_time": "2025-06-27T17:05:25.933715",
     "exception": false,
     "start_time": "2025-06-27T17:05:25.919435",
     "status": "completed"
    },
    "tags": []
   },
   "outputs": [
    {
     "name": "stdout",
     "output_type": "stream",
     "text": [
      "0 (label=NOT SPAM) -> Subject: aiesec polska - eurolds 2000  jarek ,  czy enron moze pomoc w organizacji tej imprezy ?  bylaby to dobra okazja nawiazania wielu pozytecznych kontaktow .  wicek  - - - - - - - - - - - - - - - - - - - - - - forwarded by vince j kaminski / hou / ect on 02 / 17 / 2000  08 : 51 am - - - - - - - - - - - - - - - - - - - - - - - - - - -  \" andrzej wodnicki \" on 02 / 16 / 2000 02 : 50 : 05 am  to : vince j kaminski / hou / ect @ ect  cc :  subject : aiesec polska - eurolds 2000  szanowny panie kaminski !  nazywam sie andrzej wodnicki i jestem czlonkiem stowarzysznia studentow  aiesec przy szkole glownej handlowej ( dawnej sgpis ) .  prosze o poswiecenie paru chwil na przeczytanie tego maila .  ( kontakt do pana otrzymalem od kolegi , ktory organizowal prezentacje firmy  enron na sgh , a posrednio od pana jarka astramowicza , przedstawiciela enron  na polske . )  w imieniu aiesec polska chcialbym zwrocic sie do pana z wielka prosba pomocy  przy wydarzeniu , ktore w tym roku organizujemy .  aiesec polska , a w szczegolnosci aiesec przy szkole glownej handlowej ma  zaszczyt organizowac w tym roku european leadership development seminar . jest  to seminarium na temat przywodztwa skierowne do obecnych i przyszlych  czlonkow rad wykonawczych komitetow lokalnych aiesec w calej europie .  po raz pierwszy aiesec polska ma mozliwosc organizacji takiego wydarzenia i  stanowi ono dla nas olbrzymie wyzwanie .  przygotowywalismy sie do niego od kilku lat i obecnie jestesmy juz w koncowej  fazie organizacji eurolds 2000 .  projekt rozpoczyna sie 7 marca 2000 roku oficjalnym otwarciem przez pana  prezydenta aleksandra kwasniewskiego w sali kongresowej . pozniej odbeda sie  dyskusje panelowe ( udzial wielu znakomitych gosci - m . in jan krzysztof  bielecki , jacek saryusz wolski , andrzej olechowski ) oraz wyklady i  prezentacje regionow polski w auli spadochronowej szkoly glownej handlowej , a  nastepnie delegaci udadza sie do hotelu mrongovia na szkolenia , casy i  wyklady na temat przywodztwa . ( szczegolowy program eurolds 2000 przesylam w  zalaczniku . )  jak do tej pory staralismy sie mozliwie najwiecej dokonac wlasnymi silami ,  jednak obecnie na 3 tygodnie przed tym wydarzeniem stoimy przed pewnym  problemem i stad tez pojawil sie pomysl skontaktowania pana , jako osoby ,  ktora moglaby nam wydatnie pomoc .  chcielibysmy poprosic pana o wsparcie finansowe .  wspolpracujemy juz z wieloma firmami i instytucjami ( m . in . deloitte & touche ,  arthur andersen , fundusz phare , fundacja konrada adenauera oraz wieloma  innymi ) , jednak na obecnym etapie organizacji projektu wciaz brakuje nam  12000 $ .  poczatkowo chcielismy nawiazac kontakt z pania eileen price z londynu , jednak  wydaje nam sie , ze pan jako zalozyciel aiesec w polsce powienien po pierwsze  o takim wydarzeniu wiedziec , a po drugie mamy nadzieje , ze moze nam pan pomoc .  bardzo prosze o odpowiedz ,  z powazaniem  andrzej wodnicki  prezydent eurolds 2000  aiesec szkola glowna handlowa  - attl . htm  - eurolds _ prezentacja . ppt\n",
      "\n",
      "\n"
     ]
    }
   ],
   "source": [
    "get_sms_messages_string(train, range(1), True)\n"
   ]
  },
  {
   "cell_type": "code",
   "execution_count": 10,
   "id": "aec93ad4",
   "metadata": {
    "execution": {
     "iopub.execute_input": "2025-06-27T17:05:25.942233Z",
     "iopub.status.busy": "2025-06-27T17:05:25.941907Z",
     "iopub.status.idle": "2025-06-27T17:05:25.952779Z",
     "shell.execute_reply": "2025-06-27T17:05:25.951569Z"
    },
    "papermill": {
     "duration": 0.017026,
     "end_time": "2025-06-27T17:05:25.954496",
     "exception": false,
     "start_time": "2025-06-27T17:05:25.937470",
     "status": "completed"
    },
    "tags": []
   },
   "outputs": [
    {
     "name": "stdout",
     "output_type": "stream",
     "text": [
      "1 -> Subject: vince and stinson ,  i got this resume from my friend ming sit who has a ph . d . from stanford .  please take a look at his resume to see if we can use him . i classify him as  a structurer , but things may change after all these years .  zimin  - - - - - - - - - - - - - - - - - - - - - - forwarded by zimin lu / hou / ect on 05 / 17 / 2000 04 : 08 pm  - - - - - - - - - - - - - - - - - - - - - - - - - - -  \" sit , ming \" on 05 / 17 / 2000 02 : 41 : 50 pm  to : \" zimin lu ( e - mail ) \"  cc :  subject :  - resume . doc\n",
      "\n",
      "2 -> Subject: re : many  helyette ,  sorry for not getting back to you earlier . i took a few days off before my  family goes back to california .  i have arranged a replacement for you for the houston and new york risk  courses . my colleagues , stinson gibner and steve leppard , gave two  presentations . i shall be speaking in london on thursday only . steve leppard  will make a presentation on friday in my place .  i look forward to meeting you in london . i want to make sure that we can sit  down for a few minutes and talk about the paris presentations .  vince\n",
      "\n",
      "3 -> Subject: re : replacement of stolen chairs  fyi  - - - - - - - - - - - - - - - - - - - - - - forwarded by kevin g moore / hou / ect on 04 / 18 / 2000 01 : 22  pm - - - - - - - - - - - - - - - - - - - - - - - - - - -  reggie wilson  04 / 18 / 2000 12 : 57 pm  to : kevin g moore / hou / ect @ ect  cc : william smith / corp / enron @ enron , shirley crenshaw / hou / ect @ ect , mike a  roberts / hou / ect @ ect  subject : re : replacement of stolen chairs  kevin ,  if you guys had aerons ( mesh ) and / or vecta ( leather ) chairs , my group  typically will not be responsible for the replacement of those chairs as i ' m  not aware of who has taken the chairs or where they may have gone . my group  does not stock these chairs , therefore we order as requested by business  units and charge your co / rc . there will be two chairs delivered to the  locations mentioned below , however , they will not be the vecta or aeron  chairs .  you may want to contact enron security and maybe they can investigate further .  thanks ,  reggie  kevin g moore  04 / 18 / 2000 10 : 54 am  to : reggie wilson / epsc / hou / ect @ ect , william smith / corp / enron @ enron , shirley  crenshaw / hou / ect @ ect , mike a roberts / hou / ect @ ect  cc :  subject : replacement of stolen chairs  hi reggie ,  we spoke regarding the chairs on monday .  please , we need these chairs as soon as possible , without being charged .  we paid for all new chairs each time we moved and it ' s not fair we pay again .  thanks  kevin moore  p . s . these chairs were taken . . . . . . . . .  - - - - - - - - - - - - - - - - - - - - - - forwarded by kevin g moore / hou / ect on 04 / 18 / 2000 10 : 46  am - - - - - - - - - - - - - - - - - - - - - - - - - - -  enron north america corp .  from : william smith @ enron 04 / 18 / 2000 10 : 00 am  to : reggie wilson / epsc / hou / ect @ ect  cc : shirley crenshaw / hou / ect @ ect , kevin g moore / hou / ect @ ect  subject : replacement of stolen chairs  reggie ,  there may already be a request floating around for a standard black office  chair for ebl 972 d . it was stolen over a weekend several weeks ago . in  addition to that one , my own chair at eb 3132 a was stolen this past weekend .  could you come up with a couple of decent ones for us ?  if you need to charge them to us , our numbers are 0011 and 100038 . as  always , call me if you need to at x 58322 .  thanks !  sam smith\n",
      "\n",
      "4 -> Subject: fw : mark boland - cv  vince : tony vasut , another recruiter , is bringing mark boland in for a  series of interviews on 3 / 20 and 3 / 21 , and asked if there was any chance that  you or someone in your group would be able to interview him . his resume is  attached , and i will also send you a list of his deals under separate  cover . shirley has told me that you will be in and out for the next  several weeks , so if you are unavailable would you please suggest someone  else in your group who might be able to interview mark ?  thanks , as always ,  molly  - - - - - original message - - - - -  from : vasut , tony  sent : tuesday , march 13 , 2001 9 : 59 am  to : magee , molly  subject : fw : mark boland - cv  molly :  here is mark ' s resume as discussed . please let me know if anyone in research  ( preferably vince ) is available to meet w / him on either 3 / 20 or 3 / 21 .  thanks ,  tony  - - - - - original message - - - - -  from : port , david  sent : monday , march 12 , 2001 10 : 46 am  to : vasut , tony  subject : fw : mark boland - cv  - - - - - original message - - - - -  from : mark . boland @ seb . se @ enron  sent : monday , march 12 , 2001 8 : 10 am  to : port , david  subject : mark boland - cv  > to summarize my situation : i ' m in charge of structuring equity linked , ir ,  > fx , commodity and other  > linked bonds and investments for one of northern europe s leading banks .  > i ' m 34 years old and married to lisa who is swedish . i have over 7 years  > in the structured derivatives business in capital  > markets , with a solid wall street foundation at bankers trust and overseas  > at a more senior level  > of sales , structuring and managing deals from conception to completion .  >  > >  >  > thanks and regards ,  > mark  >  > mark m . boland  > seb merchant banking  > 10640 stockholm , sweden  >  > telephone + 46 8 5062 3224  > cell + 46 70 772 3224  >  > this e - mail is from seb , skandinaviska enskilda banken . it may contain  > privileged and confidential information and is intended for the named  > recipient ( s ) only . if you are not an intended recipient , please notify us  > immediately by reply e - mail , delete this e - mail from your system and  > destroy any copy hereof .  >  - boland . doc\n",
      "\n",
      "5 -> Subject: re : weekly report  vasant  thanks for your clarification .  i understand how this can happen and i feel better for having heard from you  folks .  rgds  dp  - - - - - original message - - - - -  from : shanbhogue , vasant  sent : thursday , march 08 , 2001 5 : 33 pm  to : port , david  cc : kaminski , vince ; kindall , kevin  subject : weekly report  hi david ,  i understand that you were slightly upset over a comment kevin kindall made  in one of his weekly reports . the wording was unfortunate , but the intention  was never to disparage anybody . it is just that since research gets data  from a large number of sources , we feel obligated to the data donor to ask  any requester for clarification of need . i completely understand that rac  typically has access to much sensitive information and they have a right to  know much information . we just want to make sure there is open flow of  information ( it is in everybody ' s best interests and the company ' s best  interests ) and that everybody is aware of how data is flowing .  best wishes ,  vasant\n",
      "\n",
      "6 -> Subject: digital voice recorders  dear sir / madam  our company is designer and manufacturer of digital voice recorders ( dvr ) edic - mini http : / / www . telesys . ru / english / edic - mini . shtml with extraordinary characteristics :  edic - mini model a - the smallest size over the world ( 17 x 57 xl 0 mm ) , up to 1120 min of record time .  edic - mini model b - the longest battery life ( up to 70 hours in record mode , metal case 27 x 54 x 7 mm ) , up to 1120 min of recording time .  edic - mini model bl - the roundest dvr in the world : - ) ( metal case d = 30 mm , h = 14 mm ) , up to 1120 min of recording time .  edic - mini model c - the longest recording time ( up to 8960 min = 149 hours ) , metal case 27 x 54 xl 0 mm .  coming soon :  edic - mini model s - stereo digital voice recorder .  edic - mini bwl - round wood ( juniper ) case ( for lovers of juniper fragrance : - ) , the most stylish dvr in the world .  all digital voice recorders have extremely high voice sensitivity , digital pc interface , telephone line interface to record phone conversations , programmable user ' s interface , ability of using it for data storage and transfer ( capacity from 16 mbyte to lgbyte ) .  also we produce voice modules ( assembled pcb only ) emm http : / / www . telesys . ru / english / modules . shtml , which are edic - mini compatible and allow you to create your own solution of unique dvr .  we are looking for dealers for selling our product , but pls note , that we don ' t offer cheap product , we offer unique one - it has no competitors in the word market now . we are ready to design and produce any kind of dvr upon your request . low volume order ( 100 + ) is acceptable too .  welcome to our website http : / / www . telesys . ru / english to get more information .  * * * sorry , if this information isn ' t interesting for you . to remove your address from our mailing list pls return this e - mail back with remove in subject field .  thank you .  with best regards ,  - - - - - - - - - - - - - - - - - - - - - - - - - - - - - - - - - - - - -  yana korshun ,  sales manager of \" telesystems \"  e - mail : isales @ telesys . ru  www site in russian : http : / / www . telesys . ru  www site in english : http : / / www . telesys . ru / english  never send spam . it is bad .\n",
      "\n",
      "7 -> Subject: re : publication submission question  martin ,  i don ' t see any problem . the article supportsenron ' s position .  please , go ahead .  vince  - - - - - - - - - - - - - - - - - - - - - - forwarded by vince j kaminski / hou / ect on 04 / 09 / 2001 02 : 02 pm - - - - - - - - - - - - - - - - - - - - - - - - - - -  vince j kaminski  04 / 05 / 2001 01 : 01 pm  to : martin lin / hou / ect @ ect  cc : vince j kaminski / hou / ect @ ect  subject : re : publication submission question  martin ,  let me read it friday . we run our papers by our pr  department to review for any potential conflict with the company line .  i shall fwd it to them .  i think you should submit it as an enron employee with a note  that it was developed when you were at ut .  vince  from : martin lin on 04 / 02 / 2001 11 : 59 am  to : vince j kaminski / hou / ect @ ect  cc :  subject : publication submission question  my supervising professors from ut and i are finishing a paper ( finally ! ) that is based on work done for my phd . all of the research was done while i was a grad student . i have a couple of questions regarding submission of this paper ( to ieee transactions on power systems ) .  1 . should i submit it with my affiliation as the university of texas at austin or as enron ( ena , corp , etc ) ?  2 . what legal or other reviews / clearances would i need ?  a draft of the paper for your review is attached .  thanks ,  martin \n",
      "\n",
      "8 -> Subject: failure notice  hi . this is the qmail - send program at maill 9 b . gl 9 . rapidsite . net .  i ' m afraid i wasn ' t able to deliver your message to the following addresses .  this is a permanent error ; i ' ve given up . sorry it didn ' t work out .  :  64 . 18 . 7 . 10 failed after i sent the message .  remote host said : 571 message refused  - - - below this line is a copy of the message .  return - path :  received : from mxl 1 . stngvaol . us . mxservers . net ( 204 . 202 . 242 . 100 )  by maill 9 b . gl 9 . rapidsite . net ( rs ver 1 . 0 . 95 vs ) with smtp id 1 - 017201846  for ; tue , 19 jul 2005 07 : 00 : 50 - 0400 ( edt )  received : from unknown [ 211 . 168 . 67 . 248 ] ( helo mailwisconsin . com )  by mxl 1 . stngvaol . us . mxservers . net ( mxl _ mta - 1 . 3 . 8 - 10 p 4 ) with smtp id 06 ddcd 24 . 14068 . 061 . mxl 1 . stngvaol . us . mxservers . net ;  tue , 19 jul 2005 07 : 00 : 48 - 0400 ( edt )  received : from 205 . 214 . 42 . 66  ( squirrelmail authenticated user projecthoneypot @ projecthoneypot . org ) ;  by mailwisconsin . com with http id j 87 gzo 30516488 ;  tue , 19 jul 2005 10 : 57 : 46 + 0000  message - id :  date : tue , 19 jul 2005 10 : 57 : 46 + 0000  subject : just to her . . .  from : \" barry castillo \"  to : antonio _ ortiz 33 @ jobops . com  user - agent : squirrelmail / 1 . 4 . 3 a  x - mailer : squirrelmail / 1 . 4 . 3 a  mime - version : 1 . 0  content - type : text / html ; charset = iso - 8859 - 1  content - transfer - encoding : 8 bit  x - priority : 3 ( normal )  importance : normal  x - spam - flag : yes  x - spam : [ f = 1 . 0000000000 ; heur = 0 . 500 ( 1000 ) ; stat = 0 . 997 ; spamtraq - heur = 1 . 000 ( 2005071819 ) ]  x - mail - from :  x - source - ip : [ 211 . 168 . 67 . 248 ]  x - loop - detect : 1  x - distloop - detect : 1  soft viagra at $ 1 . 62 per dose  ready to boost your sex life ? positive ?  time to do it right now !  order soft viagra at incredibly low prices  starting at $ 1 . 99 per dose ! unbeiivabie !\n",
      "\n",
      "9 -> Subject: cplex  stinson ,  enclosed are the details of the cplex purchase . if everyone agrees , i will  assume that ebs is responsible for 1 / 3 of the cost ( with taxes etc . must be  close to $ 15 , 000 ) .  krishna and grant , what do you think ?  - samer  \" kim turley \" on 05 / 25 / 2000 02 : 22 : 30 pm  please respond to  to :  cc :  subject : revised ilog quote 5 - 25 - 00  hi chonawee ,  you are right , i did make a mistake on the calculation , though it isn ' t  exactly 2 / 3 of the previous 3 pak quote . sorry about that and so glad you  caught it . i multiplied by 1 . 5 and i meant to use 1 . 3 . we have discounted  deployment paks which we discount by quantity . our chart starts with a 3  pak so i took that number from our price list and multiplied by 1 . 3 to get  14 , 560 . 00 . for 2 deployments , i take $ 4 , 500 for one , plus 10 % off for the  second license 4 , 050 , then times 1 . 3 = 11 , 115 . 00 . here is the revised  quote . i checked the other numbers again and they are correct . again , i am  sorry for the mistake .  regards ,  * * * * * * * * * * * * * * * * * * * * * * * * * * * *  may 25 , 2000  enron corporation  a single user cplex v 6 . 6 development license with callable library and  mixed integer , 2 cplex floating deployment licenses with mixed integer and  2  opl studios , all with first year ' s maintenance and on win nt on an intel  pc .  once you have a cplex development license with maintenance and update  services , then you can purchase deployment licenses ( run time / license  derivative works )  item 1 description fee  - - - - - - - - - - - - - - - - - - - - - - - - - - - - -  1 1 cplex floating development license ,  callable library , mixed integer $ 15 , 300 . 00  2 maintenance on item 1 2 , 295 . 00  3 2 opl studio 10 , 000 . 00  4 maintenance on item 3 3 , 000 . 00  5 2 cplex floating deployment / mixed integer 11 , 115 . 00  6 maintenance on item 5 1 , 667 . 25  - - - - - - - - - - - -  total $ 43 , 377 . 25  the cost of ( optional ) annual maintenance and update services is  15 % of the license fees .  the customer is responsible for and must add any applicable sales tax ,  value - added ( ad valorem ) tax , duty or other transaction tax associated with  the sale .  this quotation is firm for 30 days and subject to the terms of the ilog  license agreement and the ilog maintenance agreement .  order information  fax a purchase order ( with clear shipping and billing address ) to  match the above items , attention kim turley . as soon as we receive your  purchase order , we will ship the software and simultaneously send you an  invoice by  separate mail for payment .  payment terms are net 30 .  regards ,  kim turley  ilog direct sales  ilog inc . , lake tahoe office  889 alder avenue , suite 200  incline village , nv 89451 , usa  phone : ( 775 ) 832 - 1960 , ext . 130  fax : ( 775 ) 831 - 7755  email : kturley @ ilog . com  have you downloaded your free copy of opl studio ?  if not , please visit : http : / / www . ilog . com / products / oplstudio /  ilog : powering your software  http : / / www . ilog . com http : / / www . cplex . com  ask me about our  - ampl training june 15 - 16  - next opl studio training , june 2000  p . s . from now until june 30 , 2000 , any ilog cplex licensee may  acquire ilog opl studio for just $ 5 , 000 ( 50 % discount ) . ask me  about the details !\n",
      "\n",
      "10 -> Subject: your online sales are low because you don _ t have enough visitors ?  submitting your website in search engines may increase  your online sales dramatically .  lf you invested time and money into your website , you  simply must submit your website  oniine otherwise it wili be invisibie virtualiy , which means efforts spent in vain .  if you want  people to know about your website and boost your revenues , the only way to do  that is to  make your site visibie in piaces  where people search for information , i . e .  submit your  website in muitiple search engines .  submit your website oniine  and watch visitors stream to your e - business .  best regards ,  kenethmckenzie _ _ _ _ _ _ _ _ _ _ _ _ _ _ _ _ _ _ _ _ _ _ _ _ _ _ _ _ _ _ _ _ _ _ _ _ _ _ _ _ _ _ _ _ _ _ _ _ _ _ _ _ _ _ not interested . . . _ _ _ _ _ _ _ _ _ _ _ _ _ _ _ _ _ _ _ _ _ _ _ _ _ _ _ _ _ _ _ _ _ _ _ _ _ _ _ _ _ _ _ _ _ _ _ _ _ _ _ _ _ _\n",
      "\n",
      "11 -> Subject: turn your paypal account into a non - stop cash machine ! ! ( not a chain letter )  i am sending you this message because we have communicated in the past about business opportunities . i hope you will enjoy this one as much as i do .  turn your paypal account into a non - stop cash machine !  re - occurring 100 % commissions paid directly to your paypal account !  4 out of 10 visitors join instantly !  shouldn ' t you be next ?  did i mention that it ' s free for 15 days ?  simply go to : http : / / www . paypal - profits . com / a / turnkeyim /  best wishes ,  tony & donna scurlock  turnkeyim @ hotmail . com  the best home - based business on the planet ! !  we build your downline - - 1000 to 3500 members added per month ! !  free to join ! !  minimum monthly income ! !  get all the details at :  http : / / www . lifelong - income . com  this email message is sent in compliance with the the 106 th congress e - mail user protection act ( h . r . 1910 ) and the unsolicited commercial electronic mail act of 2000 ( h . r . 3113 ) . though our intention is not to communicate with you again if we receive no response from you , we do provide a valid vehicle for you to be removed from our email list . to be removed from our mailing list , simple reply to this message with remove in the subject line .  please keep in mind that complaints to our email provider and service provider , could make honoring remove requests impossible and you will be in violation of the above legislation . \n",
      "\n",
      "12 -> Subject: promotion  vince ,  congrats on your promotion to md .  doug\n",
      "\n",
      "13 -> Subject: re : enron credit model docs for the comparative model study - to be  sent to professor duffie @ stanford  hi ben ,  i think i have read all the papers that are to be used in the comparative model study to be sent to professor duffie at stanford .  these documents are all listed below . please let me know if i have omitted any ( however , don ' t get the impression that i am begging for more papers to read ) .  now i will try to transform my notes into a draft for professor duffie .  thanks ,  iris  list of papers for comparative model study  1 . actively managing corporate credit risk : new methodologies and instruments for non - financial firms  by r . buy , v . kaminski , k . pinnamaneni & v . shanbhogue  chapter in a risk book entitled credit derivatives : application for risk management , investment and portfolio optimisation  2 . neural network placement model  by george albanis , enroncredit ( 12 / 22 / 00 )  3 . pricing parent companies and their subsidiaries : model description and data requirements  by ben parsons and tomas valnek , research group  4 . a survey of contingent - claims approaches to risky debt valuation  by j . bohn  www . kmv . com / products / privatefirm . html  5 . the kmv edf credit measure and probabilities of default  by m . sellers , o . vasicek & a . levinson  www . kmv . com / products / privatefirm . html  6 . riskcalc for private companies : moody ' s default model  moody ' s investor service : global credit research  7 . discussion document : asset swap model  by ben parsons , research group ( 4 / 20 / 01 )  8 . asset swap calculator : detailed functional implementation specification ( version 1 . 0 )  by ben parsons , research group  9 . discussion document : live libor bootstrapping model  by ben parsons , research group ( 4 / 20 / 01 )  10 . the modelling behind the fair market curves : including country and industry offsets  by nigel m . price , enron credit trading group  11 . pricing portfolios of default swaps : synthetic cbos - moody ' s versus the full monte ( carlo )  by nigel m . price , enron credit trading group  12 . placement model vl . 0 : discussion document  by ben parsons , research group , 2000  13 . credit pricing methodology - enroncredit . com  by ben parsons , research group  14 . correlation : critical measure for calculating profit and loss on synthetic credit portfolios  by katherine siig , enron credit group  15 . discussion document : var model for enron credit  by ben parsons , research group , ( 1 / 3 / 01 )  16 . methodology to implement approximate var model for the credit trading portfolio  by kirstee hewitt , research group\n",
      "\n",
      "14 -> Subject: i want to mentor you  this week i showed 62 people how to get over  30 sign / ups each week .  how much would that be worth to you ?  let me mentor you . i mentor at no charge .  i will show you how to get 100 ' s of paid / for  sign / ups eas . ily and without spending a cent  on normal mark . eting campaigns .  i can mentor you personally on a powerful  \" one to one \" basis and supply you with  contact details of thousands of pre - qualified  people who will join your business ( subject  to individual terms ) .  i will make your bus / iness earn up to 500  times more than it currently is and that ' s  a guarantee .  i can help all types of bus / iness . opps ,  m / l . m , net / work mark . eting programs and  any other type of web site on the ' net  like mainstream or niche retail or mem . ber  sites .  if you are interested just ask .  for example :  i will show you how to drive sign / ups to  your business almost handsfree . the only  thing you have to do , is start the snowball  rolling the and rest is fully automated .  i will mentor you , to show you how to  promote using e . mail mark / eting to get  huge results while spending almost nothing  using cheap pre - qualified targeted contact  lists .  i will show you how to get into the top 10  search results for 5 keywords on the best  20 search engines to include google , msn ,  yahoo etc .  i can help anyone with any type of business .  there is no restriction to the type of  business you want me to help you build  providing its legal .  to find out if i can mentor you please send  me an email to :  mentor 888 @ isp - q . com with \" mentor me \" in the  subject and your business name , url and own  name in the message .  asking for more information .  = = = = = = = = = = = = = = = = = = = = = = = = = = = = = =  i reserve the right to refuse my service to  anyone without breaching my code of conduct  or advertising standards . in such instances  i am not obliged to give a reason for  refusal of my mentoring service . to find out  if i can mentor you please send me an email  to : mentor 888 @ isp - q . com with \" mentor me \" in the  subject and your business name and url and  own name in the message .  note ;  if i have upset you in any way by sending  you this email please forgive me and send  an email to : mentor 888 @ isp - q . com with the  word \" off \" in the subject and i will  never bother you again .\n",
      "\n",
      "\n",
      "\n",
      "None\n",
      "---\n",
      "Classify the messages above as SPAM or NOT SPAM. Respond in JSON format.\n",
      "Use the following format: {\"0\": \"NOT SPAM\", \"1\": \"SPAM\"}\n",
      "\n",
      "\n"
     ]
    }
   ],
   "source": [
    "sms_msgs_string = get_sms_messages_string(train, range(1,15))\n",
    "\n",
    "query = f\"\"\"\n",
    "{sms_msgs_string}\n",
    "---\n",
    "Classify the messages above as SPAM or NOT SPAM. Respond in JSON format.\n",
    "Use the following format: {{\"0\": \"NOT SPAM\", \"1\": \"SPAM\"}}\n",
    "\n",
    "\"\"\"\n",
    "\n",
    "print(query)"
   ]
  },
  {
   "cell_type": "code",
   "execution_count": 11,
   "id": "43aa791c",
   "metadata": {
    "execution": {
     "iopub.execute_input": "2025-06-27T17:05:25.963742Z",
     "iopub.status.busy": "2025-06-27T17:05:25.963460Z",
     "iopub.status.idle": "2025-06-27T17:05:25.968868Z",
     "shell.execute_reply": "2025-06-27T17:05:25.967924Z"
    },
    "papermill": {
     "duration": 0.011823,
     "end_time": "2025-06-27T17:05:25.970469",
     "exception": false,
     "start_time": "2025-06-27T17:05:25.958646",
     "status": "completed"
    },
    "tags": []
   },
   "outputs": [],
   "source": [
    "response = {\n",
    "  \"1\": \"NOT SPAM\",\n",
    "  \"2\": \"NOT SPAM\",\n",
    "  \"3\": \"NOT SPAM\",\n",
    "  \"4\": \"NOT SPAM\",\n",
    "  \"5\": \"NOT SPAM\",\n",
    "  \"6\": \"SPAM\",\n",
    "  \"7\": \"NOT SPAM\",\n",
    "  \"8\": \"SPAM\",\n",
    "  \"9\": \"NOT SPAM\",\n",
    "  \"10\": \"SPAM\",\n",
    "  \"11\": \"SPAM\",\n",
    "  \"12\": \"NOT SPAM\",\n",
    "  \"13\": \"NOT SPAM\",\n",
    "  \"14\": \"SPAM\"\n",
    "}"
   ]
  },
  {
   "cell_type": "code",
   "execution_count": 12,
   "id": "1d3cf962",
   "metadata": {
    "execution": {
     "iopub.execute_input": "2025-06-27T17:05:25.979863Z",
     "iopub.status.busy": "2025-06-27T17:05:25.979582Z",
     "iopub.status.idle": "2025-06-27T17:05:25.985402Z",
     "shell.execute_reply": "2025-06-27T17:05:25.984366Z"
    },
    "papermill": {
     "duration": 0.012949,
     "end_time": "2025-06-27T17:05:25.987572",
     "exception": false,
     "start_time": "2025-06-27T17:05:25.974623",
     "status": "completed"
    },
    "tags": []
   },
   "outputs": [],
   "source": [
    "def get_accuracy(response, dataset, og_ind):\n",
    "    crct = 0\n",
    "    total = 0\n",
    "\n",
    "    for entry_num, pred in response.items():\n",
    "        if int(entry_num) not in og_ind:\n",
    "            continue\n",
    "\n",
    "        label_id = dataset[int(entry_num)][\"Spam\"]\n",
    "        label = id2label[label_id]\n",
    "\n",
    "        if pred.lower() == label.lower():\n",
    "            crct+=1\n",
    "\n",
    "        total+=1\n",
    "\n",
    "    accu = crct/total\n",
    "    return accu"
   ]
  },
  {
   "cell_type": "code",
   "execution_count": 13,
   "id": "8de5405d",
   "metadata": {
    "execution": {
     "iopub.execute_input": "2025-06-27T17:05:25.997092Z",
     "iopub.status.busy": "2025-06-27T17:05:25.996751Z",
     "iopub.status.idle": "2025-06-27T17:05:26.004736Z",
     "shell.execute_reply": "2025-06-27T17:05:26.003819Z"
    },
    "papermill": {
     "duration": 0.014348,
     "end_time": "2025-06-27T17:05:26.006118",
     "exception": false,
     "start_time": "2025-06-27T17:05:25.991770",
     "status": "completed"
    },
    "tags": []
   },
   "outputs": [
    {
     "data": {
      "text/plain": [
       "1.0"
      ]
     },
     "execution_count": 13,
     "metadata": {},
     "output_type": "execute_result"
    }
   ],
   "source": [
    "accuracy = get_accuracy(response, train, range(1,15))\n",
    "accuracy"
   ]
  },
  {
   "cell_type": "code",
   "execution_count": null,
   "id": "daeb05c6",
   "metadata": {
    "papermill": {
     "duration": 0.003985,
     "end_time": "2025-06-27T17:05:26.014728",
     "exception": false,
     "start_time": "2025-06-27T17:05:26.010743",
     "status": "completed"
    },
    "tags": []
   },
   "outputs": [],
   "source": []
  }
 ],
 "metadata": {
  "kaggle": {
   "accelerator": "none",
   "dataSources": [
    {
     "datasetId": 7753810,
     "sourceId": 12301751,
     "sourceType": "datasetVersion"
    }
   ],
   "dockerImageVersionId": 31040,
   "isGpuEnabled": false,
   "isInternetEnabled": false,
   "language": "python",
   "sourceType": "notebook"
  },
  "kernelspec": {
   "display_name": "Python 3",
   "language": "python",
   "name": "python3"
  },
  "language_info": {
   "codemirror_mode": {
    "name": "ipython",
    "version": 3
   },
   "file_extension": ".py",
   "mimetype": "text/x-python",
   "name": "python",
   "nbconvert_exporter": "python",
   "pygments_lexer": "ipython3",
   "version": "3.11.11"
  },
  "papermill": {
   "default_parameters": {},
   "duration": 10.244743,
   "end_time": "2025-06-27T17:05:26.740409",
   "environment_variables": {},
   "exception": null,
   "input_path": "__notebook__.ipynb",
   "output_path": "__notebook__.ipynb",
   "parameters": {},
   "start_time": "2025-06-27T17:05:16.495666",
   "version": "2.6.0"
  }
 },
 "nbformat": 4,
 "nbformat_minor": 5
}
